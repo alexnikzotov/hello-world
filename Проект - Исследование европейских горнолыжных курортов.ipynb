{
 "cells": [
  {
   "cell_type": "markdown",
   "metadata": {},
   "source": [
    "<h1><center> Исследование европейских горнолыжных курортов </center></h1>\n",
    "\n",
    "---\n",
    "\n",
    "В нашем распоряжении - датасет с информацией о горнолыжных курортах Италии, Австрии, Франции, Болгарии, Андорры и Финляндии.\n",
    "\n",
    "Заказчик работы - архитектурное бюро, планирующее создать отель в одной из указанных стран. **На основе выводов исследования компания примет решение - какие изменения стоит внести в находящийся на стадии обсуждения проект отеля, а также какую страну выбрать**. Для этого нас просят составить описание \"типичного\" европейского отеля на основе имеющихся данных. Помимо этого, заказчик хочет узнать об инсайтах и особенностях, если они найдутся.\n",
    "\n",
    "Цель исследования - **определить параметры среднего горнолыжного отеля**.\n",
    "\n",
    "Мы подготовим и исследуем данные - и создадим общий портрет среднего отеля и также по портрету отелей трёх классов в зависимости от стоимости для каждой страны.\n",
    "\n",
    "Так начнём же."
   ]
  },
  {
   "cell_type": "markdown",
   "metadata": {},
   "source": [
    "---\n",
    "### <center> Содержание </center>\n",
    "\n",
    "- 1. [Предобработка данных](#data_prep)\n",
    "    - 1.1 [Первичное ознакомление с данными](#firstlook)\n",
    "    - 1.2 [Переименование столбцов](#сolrenaming)\n",
    "    - 1.3.[Обработка пропусков](#goodbyenans)\n",
    "    - 1.4 [Замена типов данных](#typeconversion)\n",
    "    - 1.5 [Обработка дубликатов](#dropduplicates)\n",
    "    - [Выводы](#data_prep_conclusion)\n",
    "\n",
    "\n",
    "- 2. [Исследовательский анализ данных](#eda)\n",
    "    - 2.1 [country](#eda_country)\n",
    "    - 2.2 [resort](#eda_resort)\n",
    "    - 2.3 [price_per_week](#eda_price_per_week)\n",
    "    - 2.4 [meters_from_lift](#eda_meters_from_lift)\n",
    "    - 2.5 [altitude_m](#eda_altitude_m)\n",
    "    - 2.6 [total_piste_km](#eda_total_piste_km)\n",
    "    - 2.7 [total_lifts](#eda_total_lifts)\n",
    "    - 2.8 [столбцы с типами подъёмников](#eda_gondolas)\n",
    "    - 2.9 [столбцы с типами трасс](#eda_blues)\n",
    "    - 2.10 [sleeps](#eda_sleeps)\n",
    "    - 2.11 [столбцы с количеством осадков](#eda_snow)\n",
    "    - 2.12 [построение матрицы корреляций](#eda_corr)\n",
    "    - [Выводы](#eda_conclusion)\n",
    "    \n",
    "        \n",
    "- 3. [Составление портретов отелей](#portraits)\n",
    "    - 3.1 [Параметры среднего горнолыжного отеля](#port_mean_hotel)\n",
    "    - 3.2 [Параметры отелей бюджетного, среднего и премиум классов без разделения по странам](#port_mean_diff_classes)\n",
    "    - 3.3 [Параметры бюджетных отелей в разных странах](#port_countries_cheap)\n",
    "    - 3.4 [Параметры отелей среднего класса в разных странах](#port_countries_medium)\n",
    "    - 3.5 [Параметры отелей премиум класса в разных странах](#port_countries_premium)\n",
    "    - 3.6 [Сравнение \"среднего отеля\" и \"отеля среднего класса\"](#port_mean_medium_comparison)\n",
    "    - [Выводы](#port_conclusion)\n",
    "    \n",
    "\n",
    "- 4. [Проверка гипотез](#hypothesis)\n",
    "\n",
    "\n",
    "- [Выводы исследования](#conclusion)"
   ]
  },
  {
   "cell_type": "markdown",
   "metadata": {},
   "source": [
    "---\n",
    "### <center> Описание данных </center>\n",
    "\n",
    "Датасет содержит информацию о европейских горнолыжных курортах и отелях, которые на них расположены. Имеется такая информация, как недельная стоимость проживания в отеле, количество подъёмников на курорте, общее число трасс и количество осадков на каждом курорте за 2020 год.\n",
    "\n",
    "Среди прочих, в таблице находятся следующие столбцы:\n",
    "- Unnamed: 0: индексы, без пропущенных значений от 0 до 406, со средним 203 и стд.отклонением 117.63;\n",
    "- country: страна, в которой расположен отель. Значения в этом столбце не имеют пропусков, и включают шесть уникальных стран: austria, italy, france, andorra, finland, bulgaria. Австрия - наиболее частая страна со 169 отелями, в то время как Болгария - наименее частая, с указанием лишь 11 отелей.\n",
    "- resort: курорт, на кором расположен отель. Значения в этом столбце не имеют пропусков, и включают 92 уникальных курорта. Zell-am-See и Obergurgl - наиболее частые курорты с 15 отелями в каждом, а Les Arcs 2000 и Ellmau - наиболее редкие, каждый с одним отелем.\n",
    "- hotel: название отеля. Значения в этом столбце не имеют пропусков, и содержат 396 уникальных отеля.\n",
    "- price (£): цена за неделю проживания в отеле в фунтах стерлингов.\n",
    "- distance_from_lift_(m): расстояние от отеля до ближайшего подъёмника, в метрах.\n",
    "- altitude (m): высота отеля над уровнем моря, в метрах."
   ]
  },
  {
   "cell_type": "markdown",
   "metadata": {},
   "source": [
    "<a id='data_prep'> </a>\n",
    "\n",
    "<hr style='border: 2px solid #eeeeee'>\n",
    "\n",
    "## <center> 1. Предобработка данных </center>\n",
    "\n",
    "Импортируем необходимые библиотеки и загрузим датасет:"
   ]
  },
  {
   "cell_type": "code",
   "execution_count": 1,
   "metadata": {},
   "outputs": [],
   "source": [
    "import pandas as pd\n",
    "import numpy as np\n",
    "import seaborn as sns\n",
    "import matplotlib.pyplot as plt\n",
    "import math\n",
    "import warnings\n",
    "from scipy import stats as st\n",
    "from IPython.display import display_html\n",
    "pd.set_option('max_colwidth', 130)\n",
    "pd.set_option('display.max_columns', None)\n",
    "warnings.simplefilter(\"ignore\")"
   ]
  },
  {
   "cell_type": "code",
   "execution_count": 2,
   "metadata": {},
   "outputs": [],
   "source": [
    "df = pd.read_csv('C:\\\\Users\\\\Саша\\\\Practicum\\\\Q\\\\Датасеты\\\\ski_hotels.csv', engine='python')"
   ]
  },
  {
   "cell_type": "markdown",
   "metadata": {},
   "source": [
    "<a id='firstlook'> </a>\n",
    "\n",
    "---\n",
    "> ### 1.1 Первичное ознакомление с данными\n",
    "\n",
    "Посмотрим на информацию о датасете, на числовое описание данных, а также на некоторые значения:"
   ]
  },
  {
   "cell_type": "code",
   "execution_count": 3,
   "metadata": {},
   "outputs": [
    {
     "name": "stdout",
     "output_type": "stream",
     "text": [
      "\u001b[1mКоличество явных дубликатов: 0 \u001b[0m\n"
     ]
    }
   ],
   "source": [
    "#print('\\033[1m' 'Типы данных:' '\\033[0m')\n",
    "#df.info()\n",
    "\n",
    "#for i in df:\n",
    " #   print('\\033[1m' 'Столбец', i, '\\033[0m')\n",
    "  #  print(df[i].unique())\n",
    "   # print('')\n",
    "    \n",
    "#display(round(df.describe(), 2))\n",
    "\n",
    "#print('\\033[1m' 'Количество пропусков в столбцах:' '\\033[0m')\n",
    "#print(df.isna().sum())\n",
    "\n",
    "print('\\033[1m' 'Количество явных дубликатов:', df.duplicated().sum(), '\\033[0m')\n",
    "\n",
    "#df.head()\n",
    "#df.tail()"
   ]
  },
  {
   "cell_type": "markdown",
   "metadata": {},
   "source": [
    "---\n",
    "**Выводы ознакомления с данными** таковы:\n",
    "- Датасет содержит **407 строк, 24 столбца**;\n",
    "- Типы данных - int, float и object;\n",
    "- **Пропуски** есть в столбцах altitude, distance_from_lift_(m), sleeps и в столбцах с осадками; \n",
    "- **Явные дубликаты отсутствуют**;\n",
    "- Некоторые столбцы стоит переименовать, а некоторые не понадобятся для исследования."
   ]
  },
  {
   "cell_type": "markdown",
   "metadata": {},
   "source": [
    "<a id='сolrenaming'> </a>\n",
    "\n",
    "---\n",
    "> ### 1.2 Переименование столбцов\n",
    "\n",
    "Начнём предобработку именно с этого этапа, чтобы нам было удобнее работать с данными. Взглянем на названия:"
   ]
  },
  {
   "cell_type": "code",
   "execution_count": 4,
   "metadata": {},
   "outputs": [
    {
     "name": "stdout",
     "output_type": "stream",
     "text": [
      "Unnamed: 0\n",
      "country\n",
      "resort\n",
      "hotel\n",
      "price (ВЈ)\n",
      "distance_from_lift_(m)\n",
      "altitude (m)\n",
      "totalPiste (km)\n",
      "totalLifts\n",
      "gondolas\n",
      "chairlifts\n",
      "draglifts\n",
      "blues\n",
      "reds\n",
      "blacks\n",
      "totalRuns\n",
      "link\n",
      "sleeps\n",
      "decSnowLow2020(cm)\n",
      "decSnowHigh2020(cm)\n",
      "janSnowLow2020(cm)\n",
      "janSnowHigh2020(cm)\n",
      "febSnowLow2020(cm)\n",
      "febSnowHigh2020(cm)\n"
     ]
    }
   ],
   "source": [
    "print('\\n'.join(df.columns))"
   ]
  },
  {
   "cell_type": "markdown",
   "metadata": {},
   "source": [
    "Столбец **Unnamed: 0** указан в описании данных как индекс, поэтому он нам не пригодится, так же как и столбец **link**.\n",
    "Название **price** заменим на price_per_week, впишем величины m, cm и km в названия соответствующих столбцов, изменим \"верблюжий\" **регистр** на \"змеиный\" где потребуется, и уберём год в названиях столбцов с показаниями выпадения снега в последних 6 столбцах:"
   ]
  },
  {
   "cell_type": "code",
   "execution_count": 5,
   "metadata": {},
   "outputs": [],
   "source": [
    "df.drop(['Unnamed: 0', 'link'], axis=1, inplace=True)\n",
    "df = df.rename(columns={'price (ВЈ)':'price_per_week', 'distance_from_lift_(m)':'meters_from_lift','altitude (m)':'altitude_m', \\\n",
    "                        'totalPiste (km)':'total_piste_km', 'totalLifts':'total_lifts', 'totalRuns':'total_runs', \\\n",
    "                        'decSnowLow2020(cm)':'dec_snow_low_cm', 'decSnowHigh2020(cm)':'dec_snow_high_cm', \\\n",
    "                        'janSnowLow2020(cm)':'jan_snow_low_cm', 'janSnowHigh2020(cm)':'jan_snow_high_cm', \\\n",
    "                        'febSnowLow2020(cm)':'feb_snow_low_cm', 'febSnowHigh2020(cm)':'feb_snow_high_cm'} )"
   ]
  },
  {
   "cell_type": "markdown",
   "metadata": {},
   "source": [
    "<a id='goodbyenans'> </a>\n",
    "\n",
    "---\n",
    "> ### 1.3 Обработка пропусков\n",
    "\n",
    "Ознакомление с данными показало **наличие пропусков в столбце altitude** - их всего три, они могли быть вызваны человеческим фактором (их забыли указать), но причиной мог быть и технический сбой. Взглянем на них:"
   ]
  },
  {
   "cell_type": "code",
   "execution_count": 6,
   "metadata": {},
   "outputs": [
    {
     "data": {
      "text/html": [
       "<div>\n",
       "<style scoped>\n",
       "    .dataframe tbody tr th:only-of-type {\n",
       "        vertical-align: middle;\n",
       "    }\n",
       "\n",
       "    .dataframe tbody tr th {\n",
       "        vertical-align: top;\n",
       "    }\n",
       "\n",
       "    .dataframe thead th {\n",
       "        text-align: right;\n",
       "    }\n",
       "</style>\n",
       "<table border=\"1\" class=\"dataframe\">\n",
       "  <thead>\n",
       "    <tr style=\"text-align: right;\">\n",
       "      <th></th>\n",
       "      <th>country</th>\n",
       "      <th>resort</th>\n",
       "      <th>hotel</th>\n",
       "      <th>price_per_week</th>\n",
       "      <th>meters_from_lift</th>\n",
       "      <th>altitude_m</th>\n",
       "      <th>total_piste_km</th>\n",
       "      <th>total_lifts</th>\n",
       "      <th>gondolas</th>\n",
       "      <th>chairlifts</th>\n",
       "      <th>draglifts</th>\n",
       "      <th>blues</th>\n",
       "      <th>reds</th>\n",
       "      <th>blacks</th>\n",
       "      <th>total_runs</th>\n",
       "      <th>sleeps</th>\n",
       "      <th>dec_snow_low_cm</th>\n",
       "      <th>dec_snow_high_cm</th>\n",
       "      <th>jan_snow_low_cm</th>\n",
       "      <th>jan_snow_high_cm</th>\n",
       "      <th>feb_snow_low_cm</th>\n",
       "      <th>feb_snow_high_cm</th>\n",
       "    </tr>\n",
       "  </thead>\n",
       "  <tbody>\n",
       "    <tr>\n",
       "      <th>19</th>\n",
       "      <td>italy</td>\n",
       "      <td>sauze-d-oulx</td>\n",
       "      <td>hotel-clotes</td>\n",
       "      <td>692</td>\n",
       "      <td>100</td>\n",
       "      <td>NaN</td>\n",
       "      <td>400</td>\n",
       "      <td>89</td>\n",
       "      <td>0</td>\n",
       "      <td>35</td>\n",
       "      <td>54</td>\n",
       "      <td>31.0</td>\n",
       "      <td>97.0</td>\n",
       "      <td>32.0</td>\n",
       "      <td>160.0</td>\n",
       "      <td>unknown</td>\n",
       "      <td>150</td>\n",
       "      <td>220</td>\n",
       "      <td>35</td>\n",
       "      <td>300</td>\n",
       "      <td>96</td>\n",
       "      <td>280</td>\n",
       "    </tr>\n",
       "    <tr>\n",
       "      <th>25</th>\n",
       "      <td>andorra</td>\n",
       "      <td>pas-de-la-casa</td>\n",
       "      <td>hotel-grand-pas</td>\n",
       "      <td>701</td>\n",
       "      <td>unknown</td>\n",
       "      <td>NaN</td>\n",
       "      <td>193</td>\n",
       "      <td>63</td>\n",
       "      <td>4</td>\n",
       "      <td>28</td>\n",
       "      <td>26</td>\n",
       "      <td>40.0</td>\n",
       "      <td>37.0</td>\n",
       "      <td>23.0</td>\n",
       "      <td>100.0</td>\n",
       "      <td>unknown</td>\n",
       "      <td>15</td>\n",
       "      <td>40</td>\n",
       "      <td>80</td>\n",
       "      <td>165</td>\n",
       "      <td>52</td>\n",
       "      <td>140</td>\n",
       "    </tr>\n",
       "    <tr>\n",
       "      <th>29</th>\n",
       "      <td>italy</td>\n",
       "      <td>bardonecchia</td>\n",
       "      <td>hotel-ca-fiore</td>\n",
       "      <td>712</td>\n",
       "      <td>unknown</td>\n",
       "      <td>NaN</td>\n",
       "      <td>140</td>\n",
       "      <td>23</td>\n",
       "      <td>0</td>\n",
       "      <td>9</td>\n",
       "      <td>14</td>\n",
       "      <td>17.0</td>\n",
       "      <td>24.0</td>\n",
       "      <td>1.0</td>\n",
       "      <td>42.0</td>\n",
       "      <td>74</td>\n",
       "      <td>70</td>\n",
       "      <td>170</td>\n",
       "      <td>60</td>\n",
       "      <td>200</td>\n",
       "      <td>47</td>\n",
       "      <td>177</td>\n",
       "    </tr>\n",
       "  </tbody>\n",
       "</table>\n",
       "</div>"
      ],
      "text/plain": [
       "    country          resort            hotel  price_per_week meters_from_lift  \\\n",
       "19    italy    sauze-d-oulx     hotel-clotes             692              100   \n",
       "25  andorra  pas-de-la-casa  hotel-grand-pas             701          unknown   \n",
       "29    italy    bardonecchia   hotel-ca-fiore             712          unknown   \n",
       "\n",
       "    altitude_m  total_piste_km  total_lifts  gondolas  chairlifts  draglifts  \\\n",
       "19         NaN             400           89         0          35         54   \n",
       "25         NaN             193           63         4          28         26   \n",
       "29         NaN             140           23         0           9         14   \n",
       "\n",
       "    blues  reds  blacks  total_runs   sleeps dec_snow_low_cm dec_snow_high_cm  \\\n",
       "19   31.0  97.0    32.0       160.0  unknown             150              220   \n",
       "25   40.0  37.0    23.0       100.0  unknown              15               40   \n",
       "29   17.0  24.0     1.0        42.0       74              70              170   \n",
       "\n",
       "   jan_snow_low_cm jan_snow_high_cm feb_snow_low_cm feb_snow_high_cm  \n",
       "19              35              300              96              280  \n",
       "25              80              165              52              140  \n",
       "29              60              200              47              177  "
      ]
     },
     "execution_count": 6,
     "metadata": {},
     "output_type": "execute_result"
    }
   ],
   "source": [
    "df[df.isna().any(1)]"
   ]
  },
  {
   "cell_type": "markdown",
   "metadata": {},
   "source": [
    "Выглядит логичным заполнить их медианами для курортов, на которых они находятся:"
   ]
  },
  {
   "cell_type": "code",
   "execution_count": 7,
   "metadata": {},
   "outputs": [
    {
     "data": {
      "text/plain": [
       "0"
      ]
     },
     "execution_count": 7,
     "metadata": {},
     "output_type": "execute_result"
    }
   ],
   "source": [
    "df['altitude_m'] = df['altitude_m'].fillna( df.groupby('resort')['altitude_m'].transform('median') )\n",
    "df['altitude_m'].isna().sum()"
   ]
  },
  {
   "cell_type": "markdown",
   "metadata": {},
   "source": [
    "Также мы видели пропуски и в **meters_from_lift** и **sleeps** - там указано как \"Unknown\", причем в обоих столбцах довольно важная для исследования информация (расстояние до подъёмников и количество спальных мест в отеле). Проверим, сколько их:"
   ]
  },
  {
   "cell_type": "code",
   "execution_count": 8,
   "metadata": {},
   "outputs": [
    {
     "name": "stdout",
     "output_type": "stream",
     "text": [
      "Количество пропусков в meters_from_lift: 192\n",
      "Доля пропусков от общего числа значений: 47.17%\n",
      "\n",
      "Количество пропусков в sleeps: 96\n",
      "Доля пропусков от общего числа значений: 23.59%\n"
     ]
    }
   ],
   "source": [
    "meters_from_lift_percent = len( df[df['meters_from_lift'] == 'unknown'] ) / len(df)\n",
    "print('Количество пропусков в meters_from_lift:', len( df[df['meters_from_lift'] == 'unknown'] ))\n",
    "print(f'Доля пропусков от общего числа значений: {meters_from_lift_percent:.2%}')\n",
    "\n",
    "print('')\n",
    "\n",
    "sleeps_percent = len( df[df['sleeps'] == 'unknown'] ) / len(df)\n",
    "print('Количество пропусков в sleeps:', len( df[df['sleeps'] == 'unknown'] ))\n",
    "print(f'Доля пропусков от общего числа значений: {sleeps_percent:.2%}')"
   ]
  },
  {
   "cell_type": "markdown",
   "metadata": {},
   "source": [
    "В обоих случаях **количество пропусков велико**, хотя в meters_from_lift их вдвое больше, чем в sleeps. Учитывая, что сейчас эти столбцы - в формате object - мы **заменим unknown на нули**, а затем сменим тип, и нули заменим медианами с группировкой по странам:"
   ]
  },
  {
   "cell_type": "code",
   "execution_count": 9,
   "metadata": {},
   "outputs": [],
   "source": [
    "df.loc[df['meters_from_lift'] == 'unknown', 'meters_from_lift'] = 0\n",
    "df.loc[df['sleeps'] == 'unknown', 'sleeps'] = 0"
   ]
  },
  {
   "cell_type": "markdown",
   "metadata": {},
   "source": [
    "Заменим тип object на int - и **заменим нули медианами стран**:"
   ]
  },
  {
   "cell_type": "code",
   "execution_count": 10,
   "metadata": {},
   "outputs": [],
   "source": [
    "df['meters_from_lift'] = df['meters_from_lift'].astype('int64')\n",
    "df.loc[df['meters_from_lift'] == 0, 'meters_from_lift'] = df.groupby('country')['meters_from_lift'].transform('median')\n",
    "\n",
    "df['sleeps'] = df['sleeps'].astype('int64')\n",
    "df.loc[df['sleeps'] == 0, 'sleeps'] = df.groupby('country')['sleeps'].transform('median')"
   ]
  },
  {
   "cell_type": "markdown",
   "metadata": {},
   "source": [
    "Посмотрим как прошла замена:"
   ]
  },
  {
   "cell_type": "code",
   "execution_count": 11,
   "metadata": {
    "scrolled": false
   },
   "outputs": [
    {
     "name": "stdout",
     "output_type": "stream",
     "text": [
      "Количество пропусков в столбце meters_from_lift: 158\n",
      "Количество пропусков в столбце sleeps: 0\n"
     ]
    }
   ],
   "source": [
    "print('Количество пропусков в столбце meters_from_lift:', len(df[df['meters_from_lift'] == 0]))\n",
    "print('Количество пропусков в столбце sleeps:', len(df[df['sleeps'] == 0]))"
   ]
  },
  {
   "cell_type": "markdown",
   "metadata": {},
   "source": [
    "В meters_from_lift осталось 158 пропусков - скорее всего причина в том, что пропусков так много, что медиана для некоторых стран равна нулю. Тогда **оставшиеся пропуски в meters_from_lift заменим средними для стран**:"
   ]
  },
  {
   "cell_type": "code",
   "execution_count": 12,
   "metadata": {},
   "outputs": [],
   "source": [
    "df.loc[df['meters_from_lift'] == 0, 'meters_from_lift'] = df.groupby('country')['meters_from_lift'].transform('mean')"
   ]
  },
  {
   "cell_type": "code",
   "execution_count": 13,
   "metadata": {},
   "outputs": [
    {
     "name": "stdout",
     "output_type": "stream",
     "text": [
      "Количество пропусков в столбце meters_from_lift: 0\n",
      "Количество пропусков в столбце sleeps: 0\n"
     ]
    }
   ],
   "source": [
    "print('Количество пропусков в столбце meters_from_lift:', len(df[df['meters_from_lift'] == 0]))\n",
    "print('Количество пропусков в столбце sleeps:', len(df[df['sleeps'] == 0]))"
   ]
  },
  {
   "cell_type": "markdown",
   "metadata": {},
   "source": [
    "Порядок! Теперь проделаем такую же работу для столбцов с осадками:"
   ]
  },
  {
   "cell_type": "code",
   "execution_count": 14,
   "metadata": {},
   "outputs": [
    {
     "name": "stdout",
     "output_type": "stream",
     "text": [
      "Количество пропусков в столбце dec_snow_low_cm - 56\n",
      "Количество пропусков в столбце dec_snow_high_cm - 56\n",
      "Количество пропусков в столбце jan_snow_low_cm - 56\n",
      "Количество пропусков в столбце jan_snow_high_cm - 56\n",
      "Количество пропусков в столбце feb_snow_low_cm - 56\n",
      "Количество пропусков в столбце feb_snow_high_cm - 56\n"
     ]
    }
   ],
   "source": [
    "df_last_six = ['dec_snow_low_cm', 'dec_snow_high_cm', 'jan_snow_low_cm', \\\n",
    "               'jan_snow_high_cm', 'feb_snow_low_cm', 'feb_snow_high_cm']\n",
    "\n",
    "for i in df_last_six:\n",
    "    print('Количество пропусков в столбце', i, '-', len( df[df[i] == 'unknown'] ))"
   ]
  },
  {
   "cell_type": "markdown",
   "metadata": {},
   "source": [
    "Интересно - **количество пропусков совпадает во всех столбцах**. Доля пропусков не так значительна, как в столбцах meters_from_lift и sleeps. Столбцов много, поэтому определим функцию, которая будет подставлять столбец в переназначение \"unknown\" на нули, а затем циклу передадим назначенный на прошлом шаге список столбцов:"
   ]
  },
  {
   "cell_type": "code",
   "execution_count": 15,
   "metadata": {},
   "outputs": [],
   "source": [
    "def hello_nan(stolbets):\n",
    "    df.loc[df[stolbets] == 'unknown', stolbets] = 0\n",
    "\n",
    "for i in df_last_six:\n",
    "    hello_nan(i)"
   ]
  },
  {
   "cell_type": "markdown",
   "metadata": {},
   "source": [
    "Так же, циклом, **заменим тип значений** в столбцах:"
   ]
  },
  {
   "cell_type": "code",
   "execution_count": 16,
   "metadata": {},
   "outputs": [],
   "source": [
    "for i in df_last_six:\n",
    "    df[i] = df[i].astype('float64')"
   ]
  },
  {
   "cell_type": "markdown",
   "metadata": {},
   "source": [
    "И заменим нули средними показателями стран:"
   ]
  },
  {
   "cell_type": "code",
   "execution_count": 17,
   "metadata": {},
   "outputs": [],
   "source": [
    "for i in df_last_six:\n",
    "    df.loc[df[i] == 0, i] = df.groupby('country')[i].transform('mean')"
   ]
  },
  {
   "cell_type": "markdown",
   "metadata": {},
   "source": [
    "Посмотрим, как всё прошло:"
   ]
  },
  {
   "cell_type": "code",
   "execution_count": 18,
   "metadata": {},
   "outputs": [
    {
     "name": "stdout",
     "output_type": "stream",
     "text": [
      "Количество пропусков в столбце dec_snow_low_cm - 11\n",
      "Количество пропусков в столбце dec_snow_high_cm - 0\n",
      "Количество пропусков в столбце jan_snow_low_cm - 0\n",
      "Количество пропусков в столбце jan_snow_high_cm - 0\n",
      "Количество пропусков в столбце feb_snow_low_cm - 0\n",
      "Количество пропусков в столбце feb_snow_high_cm - 0\n"
     ]
    }
   ],
   "source": [
    "for i in df_last_six:\n",
    "    print('Количество пропусков в столбце', i, '-', len( df[df[i] == 0] ))"
   ]
  },
  {
   "cell_type": "markdown",
   "metadata": {},
   "source": [
    "В столбце dec_snow_low_cm осталось 11 нулей - возможно там не выпадает снег в декабре, проверим:"
   ]
  },
  {
   "cell_type": "code",
   "execution_count": 19,
   "metadata": {},
   "outputs": [
    {
     "name": "stdout",
     "output_type": "stream",
     "text": [
      "bulgaria\n"
     ]
    }
   ],
   "source": [
    "print(''.join(df[df['dec_snow_low_cm'] == 0]['country'].unique()))"
   ]
  },
  {
   "cell_type": "markdown",
   "metadata": {},
   "source": [
    "Действительно, **в Болгарии в декабре без осадков**. Продолжим работу."
   ]
  },
  {
   "cell_type": "markdown",
   "metadata": {},
   "source": [
    "<a id='typeconversion'> </a>\n",
    "\n",
    "---\n",
    "> ### 1.4 Замена типов данных и отрицательных значений\n",
    "\n",
    "Ознакомление с данными показало необходимость заменить типы в некоторых столбцах, например, в столбце **altitude_m** ни к чему float, схожая ситуация и в столбцах **blues, reds, blacks, и total_runs** - исправим:"
   ]
  },
  {
   "cell_type": "code",
   "execution_count": 20,
   "metadata": {},
   "outputs": [],
   "source": [
    "df[['altitude_m', 'blues', 'reds', 'blacks', 'total_runs']] = \\\n",
    "df[['altitude_m', 'blues', 'reds', 'blacks', 'total_runs']].astype('int64')"
   ]
  },
  {
   "cell_type": "markdown",
   "metadata": {},
   "source": [
    "Взглянем на результат:"
   ]
  },
  {
   "cell_type": "code",
   "execution_count": 21,
   "metadata": {
    "scrolled": false
   },
   "outputs": [
    {
     "data": {
      "text/plain": [
       "country              object\n",
       "resort               object\n",
       "hotel                object\n",
       "price_per_week        int64\n",
       "meters_from_lift    float64\n",
       "altitude_m            int64\n",
       "total_piste_km        int64\n",
       "total_lifts           int64\n",
       "gondolas              int64\n",
       "chairlifts            int64\n",
       "draglifts             int64\n",
       "blues                 int64\n",
       "reds                  int64\n",
       "blacks                int64\n",
       "total_runs            int64\n",
       "sleeps                int64\n",
       "dec_snow_low_cm     float64\n",
       "dec_snow_high_cm    float64\n",
       "jan_snow_low_cm     float64\n",
       "jan_snow_high_cm    float64\n",
       "feb_snow_low_cm     float64\n",
       "feb_snow_high_cm    float64\n",
       "dtype: object"
      ]
     },
     "execution_count": 21,
     "metadata": {},
     "output_type": "execute_result"
    }
   ],
   "source": [
    "df.dtypes"
   ]
  },
  {
   "cell_type": "markdown",
   "metadata": {},
   "source": [
    "<a id='dropduplicates'> </a>\n",
    "\n",
    "---\n",
    "> ### 1.5 Обработка дубликатов\n",
    "\n",
    "Мы уже видели, что явные дубликаты отсутствуют, но могут быть и неявные. Для их проверки **приведём все значения столбцов country, resort и hotel к нижнему регистру**, и ещё раз вызовем duplicated() :"
   ]
  },
  {
   "cell_type": "code",
   "execution_count": 22,
   "metadata": {},
   "outputs": [],
   "source": [
    "str_lower = ['country', 'resort', 'hotel']\n",
    "\n",
    "for i in str_lower:\n",
    "    df[i] = df[i].str.lower()"
   ]
  },
  {
   "cell_type": "code",
   "execution_count": 23,
   "metadata": {},
   "outputs": [
    {
     "data": {
      "text/plain": [
       "0"
      ]
     },
     "execution_count": 23,
     "metadata": {},
     "output_type": "execute_result"
    }
   ],
   "source": [
    "df.duplicated().sum()"
   ]
  },
  {
   "cell_type": "markdown",
   "metadata": {},
   "source": [
    "Хорошо. Теперь **попробуем поочерёдно убрать столбцы с категориальными данными** - и проверить наличие дубликатов снова. Для этого передадим список столбцов, уже сохранённый в переменной str_lower:"
   ]
  },
  {
   "cell_type": "code",
   "execution_count": 24,
   "metadata": {},
   "outputs": [
    {
     "name": "stdout",
     "output_type": "stream",
     "text": [
      "Количество дубликатов при отсутствии столбца country - 0\n",
      "Количество дубликатов при отсутствии столбца resort - 0\n",
      "Количество дубликатов при отсутствии столбца hotel - 1\n"
     ]
    }
   ],
   "source": [
    "for i in str_lower:\n",
    "    df_one_x = df.drop(i, axis=1, inplace=False)\n",
    "    print('Количество дубликатов при отсутствии столбца', i, '-', df_one_x.duplicated().sum())"
   ]
  },
  {
   "cell_type": "markdown",
   "metadata": {},
   "source": [
    "Вот и **один неявный дубликат**, посмотрим на него:"
   ]
  },
  {
   "cell_type": "code",
   "execution_count": 25,
   "metadata": {
    "scrolled": true
   },
   "outputs": [
    {
     "data": {
      "text/html": [
       "<div>\n",
       "<style scoped>\n",
       "    .dataframe tbody tr th:only-of-type {\n",
       "        vertical-align: middle;\n",
       "    }\n",
       "\n",
       "    .dataframe tbody tr th {\n",
       "        vertical-align: top;\n",
       "    }\n",
       "\n",
       "    .dataframe thead th {\n",
       "        text-align: right;\n",
       "    }\n",
       "</style>\n",
       "<table border=\"1\" class=\"dataframe\">\n",
       "  <thead>\n",
       "    <tr style=\"text-align: right;\">\n",
       "      <th></th>\n",
       "      <th>country</th>\n",
       "      <th>resort</th>\n",
       "      <th>price_per_week</th>\n",
       "      <th>meters_from_lift</th>\n",
       "      <th>altitude_m</th>\n",
       "      <th>total_piste_km</th>\n",
       "      <th>total_lifts</th>\n",
       "      <th>gondolas</th>\n",
       "      <th>chairlifts</th>\n",
       "      <th>draglifts</th>\n",
       "      <th>blues</th>\n",
       "      <th>reds</th>\n",
       "      <th>blacks</th>\n",
       "      <th>total_runs</th>\n",
       "      <th>sleeps</th>\n",
       "      <th>dec_snow_low_cm</th>\n",
       "      <th>dec_snow_high_cm</th>\n",
       "      <th>jan_snow_low_cm</th>\n",
       "      <th>jan_snow_high_cm</th>\n",
       "      <th>feb_snow_low_cm</th>\n",
       "      <th>feb_snow_high_cm</th>\n",
       "    </tr>\n",
       "  </thead>\n",
       "  <tbody>\n",
       "    <tr>\n",
       "      <th>194</th>\n",
       "      <td>italy</td>\n",
       "      <td>cortina</td>\n",
       "      <td>1007</td>\n",
       "      <td>174.904762</td>\n",
       "      <td>1224</td>\n",
       "      <td>140</td>\n",
       "      <td>47</td>\n",
       "      <td>5</td>\n",
       "      <td>29</td>\n",
       "      <td>13</td>\n",
       "      <td>52</td>\n",
       "      <td>18</td>\n",
       "      <td>8</td>\n",
       "      <td>78</td>\n",
       "      <td>70</td>\n",
       "      <td>30.0</td>\n",
       "      <td>130.0</td>\n",
       "      <td>30.0</td>\n",
       "      <td>130.0</td>\n",
       "      <td>30.0</td>\n",
       "      <td>130.0</td>\n",
       "    </tr>\n",
       "  </tbody>\n",
       "</table>\n",
       "</div>"
      ],
      "text/plain": [
       "    country   resort  price_per_week  meters_from_lift  altitude_m  \\\n",
       "194   italy  cortina            1007        174.904762        1224   \n",
       "\n",
       "     total_piste_km  total_lifts  gondolas  chairlifts  draglifts  blues  \\\n",
       "194             140           47         5          29         13     52   \n",
       "\n",
       "     reds  blacks  total_runs  sleeps  dec_snow_low_cm  dec_snow_high_cm  \\\n",
       "194    18       8          78      70             30.0             130.0   \n",
       "\n",
       "     jan_snow_low_cm  jan_snow_high_cm  feb_snow_low_cm  feb_snow_high_cm  \n",
       "194             30.0             130.0             30.0             130.0  "
      ]
     },
     "execution_count": 25,
     "metadata": {},
     "output_type": "execute_result"
    }
   ],
   "source": [
    "df_one_x[ df_one_x.duplicated() ]"
   ]
  },
  {
   "cell_type": "code",
   "execution_count": 26,
   "metadata": {},
   "outputs": [
    {
     "data": {
      "text/html": [
       "<div>\n",
       "<style scoped>\n",
       "    .dataframe tbody tr th:only-of-type {\n",
       "        vertical-align: middle;\n",
       "    }\n",
       "\n",
       "    .dataframe tbody tr th {\n",
       "        vertical-align: top;\n",
       "    }\n",
       "\n",
       "    .dataframe thead th {\n",
       "        text-align: right;\n",
       "    }\n",
       "</style>\n",
       "<table border=\"1\" class=\"dataframe\">\n",
       "  <thead>\n",
       "    <tr style=\"text-align: right;\">\n",
       "      <th></th>\n",
       "      <th>country</th>\n",
       "      <th>resort</th>\n",
       "      <th>hotel</th>\n",
       "      <th>price_per_week</th>\n",
       "      <th>meters_from_lift</th>\n",
       "      <th>altitude_m</th>\n",
       "      <th>total_piste_km</th>\n",
       "      <th>total_lifts</th>\n",
       "      <th>gondolas</th>\n",
       "      <th>chairlifts</th>\n",
       "      <th>draglifts</th>\n",
       "      <th>blues</th>\n",
       "      <th>reds</th>\n",
       "      <th>blacks</th>\n",
       "      <th>total_runs</th>\n",
       "      <th>sleeps</th>\n",
       "      <th>dec_snow_low_cm</th>\n",
       "      <th>dec_snow_high_cm</th>\n",
       "      <th>jan_snow_low_cm</th>\n",
       "      <th>jan_snow_high_cm</th>\n",
       "      <th>feb_snow_low_cm</th>\n",
       "      <th>feb_snow_high_cm</th>\n",
       "    </tr>\n",
       "  </thead>\n",
       "  <tbody>\n",
       "    <tr>\n",
       "      <th>191</th>\n",
       "      <td>italy</td>\n",
       "      <td>cortina</td>\n",
       "      <td>hotel-serena</td>\n",
       "      <td>1007</td>\n",
       "      <td>174.904762</td>\n",
       "      <td>1224</td>\n",
       "      <td>140</td>\n",
       "      <td>47</td>\n",
       "      <td>5</td>\n",
       "      <td>29</td>\n",
       "      <td>13</td>\n",
       "      <td>52</td>\n",
       "      <td>18</td>\n",
       "      <td>8</td>\n",
       "      <td>78</td>\n",
       "      <td>70</td>\n",
       "      <td>30.0</td>\n",
       "      <td>130.0</td>\n",
       "      <td>30.0</td>\n",
       "      <td>130.0</td>\n",
       "      <td>30.0</td>\n",
       "      <td>130.0</td>\n",
       "    </tr>\n",
       "    <tr>\n",
       "      <th>194</th>\n",
       "      <td>italy</td>\n",
       "      <td>cortina</td>\n",
       "      <td>panda-hotel</td>\n",
       "      <td>1007</td>\n",
       "      <td>174.904762</td>\n",
       "      <td>1224</td>\n",
       "      <td>140</td>\n",
       "      <td>47</td>\n",
       "      <td>5</td>\n",
       "      <td>29</td>\n",
       "      <td>13</td>\n",
       "      <td>52</td>\n",
       "      <td>18</td>\n",
       "      <td>8</td>\n",
       "      <td>78</td>\n",
       "      <td>70</td>\n",
       "      <td>30.0</td>\n",
       "      <td>130.0</td>\n",
       "      <td>30.0</td>\n",
       "      <td>130.0</td>\n",
       "      <td>30.0</td>\n",
       "      <td>130.0</td>\n",
       "    </tr>\n",
       "  </tbody>\n",
       "</table>\n",
       "</div>"
      ],
      "text/plain": [
       "    country   resort         hotel  price_per_week  meters_from_lift  \\\n",
       "191   italy  cortina  hotel-serena            1007        174.904762   \n",
       "194   italy  cortina   panda-hotel            1007        174.904762   \n",
       "\n",
       "     altitude_m  total_piste_km  total_lifts  gondolas  chairlifts  draglifts  \\\n",
       "191        1224             140           47         5          29         13   \n",
       "194        1224             140           47         5          29         13   \n",
       "\n",
       "     blues  reds  blacks  total_runs  sleeps  dec_snow_low_cm  \\\n",
       "191     52    18       8          78      70             30.0   \n",
       "194     52    18       8          78      70             30.0   \n",
       "\n",
       "     dec_snow_high_cm  jan_snow_low_cm  jan_snow_high_cm  feb_snow_low_cm  \\\n",
       "191             130.0             30.0             130.0             30.0   \n",
       "194             130.0             30.0             130.0             30.0   \n",
       "\n",
       "     feb_snow_high_cm  \n",
       "191             130.0  \n",
       "194             130.0  "
      ]
     },
     "execution_count": 26,
     "metadata": {},
     "output_type": "execute_result"
    }
   ],
   "source": [
    "df[df['resort'] == 'cortina']"
   ]
  },
  {
   "cell_type": "markdown",
   "metadata": {},
   "source": [
    "Можно было бы предположить, что это просто два отеля, стоящих рядом, но у них **в точности совпадает даже цена** - выглядит маловероятно. Продолжим без panda (у нас уже есть pandas) :"
   ]
  },
  {
   "cell_type": "code",
   "execution_count": 27,
   "metadata": {
    "scrolled": true
   },
   "outputs": [],
   "source": [
    "df.drop( [194], axis=0, inplace=True )\n",
    "df = df.reset_index(drop=True)"
   ]
  },
  {
   "cell_type": "markdown",
   "metadata": {},
   "source": [
    "<a id='data_prep_conclusion'> </a>\n",
    "\n",
    "---\n",
    "> **Выводы этапа предобработки данных**\n",
    "\n",
    "Мы ознакомились с данными, а также исправили некоторые моменты, а именно:\n",
    "- переименовали столбцы;\n",
    "- обработали **пропуски**;\n",
    "- изменили **тип данных** в некоторых столбцах;\n",
    "- убрали один **неявный дубликат**.\n",
    "\n",
    "Перейдём к следующему этапу работы."
   ]
  },
  {
   "cell_type": "markdown",
   "metadata": {},
   "source": [
    "<a id='eda'> </a>\n",
    "\n",
    "<hr style='border: 2px solid #eeeeee'>\n",
    "\n",
    "## <center> 2. Исследовательский анализ данных </center>\n",
    "\n",
    "Нам предстоит детально изучить имеющиеся данные, для этого  мы ознакомимся с содержимым столбцов, посмотрим на графики, числовые описания данных."
   ]
  },
  {
   "cell_type": "markdown",
   "metadata": {},
   "source": [
    "<a id='eda_country'> </a>\n",
    "\n",
    "---\n",
    "> ### 2.1 country\n",
    "\n",
    "Посмотрим, в какой стране больше всего курортов:"
   ]
  },
  {
   "cell_type": "code",
   "execution_count": 28,
   "metadata": {},
   "outputs": [
    {
     "data": {
      "text/html": [
       "<style  type=\"text/css\" >\n",
       "</style>  \n",
       "<table id=\"T_97d22488_7975_11ed_8b1d_ec55f9ceb9c8\" > \n",
       "<thead>    <tr> \n",
       "        <th class=\"col_heading level0 col0\" >country</th> \n",
       "        <th class=\"col_heading level0 col1\" >hotel</th> \n",
       "        <th class=\"col_heading level0 col2\" >ratio</th> \n",
       "    </tr></thead> \n",
       "<tbody>    <tr> \n",
       "        <td id=\"T_97d22488_7975_11ed_8b1d_ec55f9ceb9c8row0_col0\" class=\"data row0 col0\" >austria</td> \n",
       "        <td id=\"T_97d22488_7975_11ed_8b1d_ec55f9ceb9c8row0_col1\" class=\"data row0 col1\" >169</td> \n",
       "        <td id=\"T_97d22488_7975_11ed_8b1d_ec55f9ceb9c8row0_col2\" class=\"data row0 col2\" >41.63%</td> \n",
       "    </tr>    <tr> \n",
       "        <td id=\"T_97d22488_7975_11ed_8b1d_ec55f9ceb9c8row1_col0\" class=\"data row1 col0\" >italy</td> \n",
       "        <td id=\"T_97d22488_7975_11ed_8b1d_ec55f9ceb9c8row1_col1\" class=\"data row1 col1\" >104</td> \n",
       "        <td id=\"T_97d22488_7975_11ed_8b1d_ec55f9ceb9c8row1_col2\" class=\"data row1 col2\" >25.62%</td> \n",
       "    </tr>    <tr> \n",
       "        <td id=\"T_97d22488_7975_11ed_8b1d_ec55f9ceb9c8row2_col0\" class=\"data row2 col0\" >france</td> \n",
       "        <td id=\"T_97d22488_7975_11ed_8b1d_ec55f9ceb9c8row2_col1\" class=\"data row2 col1\" >77</td> \n",
       "        <td id=\"T_97d22488_7975_11ed_8b1d_ec55f9ceb9c8row2_col2\" class=\"data row2 col2\" >18.97%</td> \n",
       "    </tr>    <tr> \n",
       "        <td id=\"T_97d22488_7975_11ed_8b1d_ec55f9ceb9c8row3_col0\" class=\"data row3 col0\" >andorra</td> \n",
       "        <td id=\"T_97d22488_7975_11ed_8b1d_ec55f9ceb9c8row3_col1\" class=\"data row3 col1\" >29</td> \n",
       "        <td id=\"T_97d22488_7975_11ed_8b1d_ec55f9ceb9c8row3_col2\" class=\"data row3 col2\" >7.14%</td> \n",
       "    </tr>    <tr> \n",
       "        <td id=\"T_97d22488_7975_11ed_8b1d_ec55f9ceb9c8row4_col0\" class=\"data row4 col0\" >finland</td> \n",
       "        <td id=\"T_97d22488_7975_11ed_8b1d_ec55f9ceb9c8row4_col1\" class=\"data row4 col1\" >16</td> \n",
       "        <td id=\"T_97d22488_7975_11ed_8b1d_ec55f9ceb9c8row4_col2\" class=\"data row4 col2\" >3.94%</td> \n",
       "    </tr>    <tr> \n",
       "        <td id=\"T_97d22488_7975_11ed_8b1d_ec55f9ceb9c8row5_col0\" class=\"data row5 col0\" >bulgaria</td> \n",
       "        <td id=\"T_97d22488_7975_11ed_8b1d_ec55f9ceb9c8row5_col1\" class=\"data row5 col1\" >11</td> \n",
       "        <td id=\"T_97d22488_7975_11ed_8b1d_ec55f9ceb9c8row5_col2\" class=\"data row5 col2\" >2.71%</td> \n",
       "    </tr></tbody> \n",
       "</table> "
      ],
      "text/plain": [
       "<pandas.io.formats.style.Styler at 0xa62e8d0>"
      ]
     },
     "execution_count": 28,
     "metadata": {},
     "output_type": "execute_result"
    }
   ],
   "source": [
    "ctrs = df.groupby('country').agg({'hotel':'count'}).sort_values(by='hotel', ascending=False).reset_index()\n",
    "ctrs['ratio'] = ctrs['hotel'] / ctrs['hotel'].sum()\n",
    "ctrs.style.format('{0:.2%}', subset='ratio').hide_index()"
   ]
  },
  {
   "cell_type": "markdown",
   "metadata": {},
   "source": [
    "Весьма простой и понятный вывод. Но разве он сравнится с наглядным графиком?"
   ]
  },
  {
   "cell_type": "code",
   "execution_count": 29,
   "metadata": {},
   "outputs": [
    {
     "data": {
      "image/png": "[encoded data removed]",
      "text/plain": [
       "<Figure size 1080x432 with 1 Axes>"
      ]
     },
     "metadata": {
      "needs_background": "light"
     },
     "output_type": "display_data"
    }
   ],
   "source": [
    "plt.figure(figsize=(15,6))\n",
    "sns.barplot(data=ctrs, x='country', y='hotel', edgecolor='#bbbbbb', color='#f6f6ff')\n",
    "for a, b in enumerate(ctrs['hotel'].values):\n",
    "    plt.text(a, b, int(b), horizontalalignment='center', verticalalignment='bottom', fontdict={'size':12})\n",
    "plt.title('Количество отелей в странах', fontsize=20, pad=15)\n",
    "plt.xlabel('Страна', fontsize=15, color='#888888')\n",
    "plt.ylabel('Количество отелей', fontsize=15, color='#888888')\n",
    "plt.tick_params(axis='both', labelsize=12);"
   ]
  },
  {
   "cell_type": "markdown",
   "metadata": {},
   "source": [
    "В Австрии в 10 раз больше отелей, чем, например, в Финляндии. А в Италии - в три раза больше, чем в Андорре. При таких различиях несколько неправильно составлять именно **общий \"портрет\" отеля - тем не менее, запрос заказчика именно такой**. Но дополнительно на нужном этапе мы составим свою картину отеля для каждой страны."
   ]
  },
  {
   "cell_type": "markdown",
   "metadata": {},
   "source": [
    "<a id='eda_resort'> </a>\n",
    "\n",
    "---\n",
    "> ### 2.2 resort\n",
    "\n",
    "Теперь ознакомимся с курортами и посмотрим, на каких расположено **больше всего отелей**:"
   ]
  },
  {
   "cell_type": "code",
   "execution_count": 30,
   "metadata": {},
   "outputs": [
    {
     "data": {
      "text/html": [
       "<div>\n",
       "<style scoped>\n",
       "    .dataframe tbody tr th:only-of-type {\n",
       "        vertical-align: middle;\n",
       "    }\n",
       "\n",
       "    .dataframe tbody tr th {\n",
       "        vertical-align: top;\n",
       "    }\n",
       "\n",
       "    .dataframe thead th {\n",
       "        text-align: right;\n",
       "    }\n",
       "</style>\n",
       "<table border=\"1\" class=\"dataframe\">\n",
       "  <thead>\n",
       "    <tr style=\"text-align: right;\">\n",
       "      <th></th>\n",
       "      <th>resort</th>\n",
       "      <th>country</th>\n",
       "      <th>hotel</th>\n",
       "    </tr>\n",
       "  </thead>\n",
       "  <tbody>\n",
       "    <tr>\n",
       "      <th>0</th>\n",
       "      <td>zell-am-see</td>\n",
       "      <td>austria</td>\n",
       "      <td>15</td>\n",
       "    </tr>\n",
       "    <tr>\n",
       "      <th>1</th>\n",
       "      <td>obergurgl</td>\n",
       "      <td>austria</td>\n",
       "      <td>15</td>\n",
       "    </tr>\n",
       "    <tr>\n",
       "      <th>2</th>\n",
       "      <td>mayrhofen</td>\n",
       "      <td>austria</td>\n",
       "      <td>13</td>\n",
       "    </tr>\n",
       "    <tr>\n",
       "      <th>3</th>\n",
       "      <td>selva-val-gardena</td>\n",
       "      <td>italy</td>\n",
       "      <td>12</td>\n",
       "    </tr>\n",
       "    <tr>\n",
       "      <th>4</th>\n",
       "      <td>st-anton</td>\n",
       "      <td>austria</td>\n",
       "      <td>12</td>\n",
       "    </tr>\n",
       "    <tr>\n",
       "      <th>5</th>\n",
       "      <td>passo-tonale</td>\n",
       "      <td>italy</td>\n",
       "      <td>11</td>\n",
       "    </tr>\n",
       "    <tr>\n",
       "      <th>6</th>\n",
       "      <td>soldeu</td>\n",
       "      <td>andorra</td>\n",
       "      <td>11</td>\n",
       "    </tr>\n",
       "    <tr>\n",
       "      <th>7</th>\n",
       "      <td>ischgl</td>\n",
       "      <td>austria</td>\n",
       "      <td>11</td>\n",
       "    </tr>\n",
       "    <tr>\n",
       "      <th>8</th>\n",
       "      <td>pas-de-la-casa</td>\n",
       "      <td>andorra</td>\n",
       "      <td>11</td>\n",
       "    </tr>\n",
       "    <tr>\n",
       "      <th>9</th>\n",
       "      <td>saalbach</td>\n",
       "      <td>austria</td>\n",
       "      <td>10</td>\n",
       "    </tr>\n",
       "    <tr>\n",
       "      <th>10</th>\n",
       "      <td>bad-hofgastein</td>\n",
       "      <td>austria</td>\n",
       "      <td>10</td>\n",
       "    </tr>\n",
       "    <tr>\n",
       "      <th>11</th>\n",
       "      <td>sauze-d-oulx</td>\n",
       "      <td>italy</td>\n",
       "      <td>10</td>\n",
       "    </tr>\n",
       "    <tr>\n",
       "      <th>12</th>\n",
       "      <td>val-d-isere</td>\n",
       "      <td>france</td>\n",
       "      <td>9</td>\n",
       "    </tr>\n",
       "    <tr>\n",
       "      <th>13</th>\n",
       "      <td>soll</td>\n",
       "      <td>austria</td>\n",
       "      <td>9</td>\n",
       "    </tr>\n",
       "    <tr>\n",
       "      <th>14</th>\n",
       "      <td>cervinia</td>\n",
       "      <td>italy</td>\n",
       "      <td>8</td>\n",
       "    </tr>\n",
       "    <tr>\n",
       "      <th>15</th>\n",
       "      <td>alpe-d-huez</td>\n",
       "      <td>france</td>\n",
       "      <td>8</td>\n",
       "    </tr>\n",
       "    <tr>\n",
       "      <th>16</th>\n",
       "      <td>val-thorens</td>\n",
       "      <td>france</td>\n",
       "      <td>8</td>\n",
       "    </tr>\n",
       "    <tr>\n",
       "      <th>17</th>\n",
       "      <td>les-deux-alpes</td>\n",
       "      <td>france</td>\n",
       "      <td>7</td>\n",
       "    </tr>\n",
       "    <tr>\n",
       "      <th>18</th>\n",
       "      <td>kaprun</td>\n",
       "      <td>austria</td>\n",
       "      <td>7</td>\n",
       "    </tr>\n",
       "    <tr>\n",
       "      <th>19</th>\n",
       "      <td>arinsal</td>\n",
       "      <td>andorra</td>\n",
       "      <td>7</td>\n",
       "    </tr>\n",
       "  </tbody>\n",
       "</table>\n",
       "</div>"
      ],
      "text/plain": [
       "               resort  country  hotel\n",
       "0         zell-am-see  austria     15\n",
       "1           obergurgl  austria     15\n",
       "2           mayrhofen  austria     13\n",
       "3   selva-val-gardena    italy     12\n",
       "4            st-anton  austria     12\n",
       "5        passo-tonale    italy     11\n",
       "6              soldeu  andorra     11\n",
       "7              ischgl  austria     11\n",
       "8      pas-de-la-casa  andorra     11\n",
       "9            saalbach  austria     10\n",
       "10     bad-hofgastein  austria     10\n",
       "11       sauze-d-oulx    italy     10\n",
       "12        val-d-isere   france      9\n",
       "13               soll  austria      9\n",
       "14           cervinia    italy      8\n",
       "15        alpe-d-huez   france      8\n",
       "16        val-thorens   france      8\n",
       "17     les-deux-alpes   france      7\n",
       "18             kaprun  austria      7\n",
       "19            arinsal  andorra      7"
      ]
     },
     "execution_count": 30,
     "metadata": {},
     "output_type": "execute_result"
    }
   ],
   "source": [
    "resorts = df.groupby(['resort', 'country']).agg({'hotel':'count'}).sort_values(by='hotel', ascending=False).reset_index()\n",
    "resorts.head(20)"
   ]
  },
  {
   "cell_type": "markdown",
   "metadata": {},
   "source": [
    "Сразу заметна тенденция - на Австрийских курортах часто много отелей. Сгруппируем данные по стране и взглянем на медиану и среднее для каждой страны - **количество отелей на курорт** - это будет первой заметкой для описания стран:"
   ]
  },
  {
   "cell_type": "code",
   "execution_count": 31,
   "metadata": {},
   "outputs": [
    {
     "data": {
      "text/html": [
       "<div>\n",
       "<style scoped>\n",
       "    .dataframe tbody tr th:only-of-type {\n",
       "        vertical-align: middle;\n",
       "    }\n",
       "\n",
       "    .dataframe tbody tr th {\n",
       "        vertical-align: top;\n",
       "    }\n",
       "\n",
       "    .dataframe thead tr th {\n",
       "        text-align: left;\n",
       "    }\n",
       "\n",
       "    .dataframe thead tr:last-of-type th {\n",
       "        text-align: right;\n",
       "    }\n",
       "</style>\n",
       "<table border=\"1\" class=\"dataframe\">\n",
       "  <thead>\n",
       "    <tr>\n",
       "      <th></th>\n",
       "      <th colspan=\"2\" halign=\"left\">hotel</th>\n",
       "    </tr>\n",
       "    <tr>\n",
       "      <th></th>\n",
       "      <th>median</th>\n",
       "      <th>mean</th>\n",
       "    </tr>\n",
       "    <tr>\n",
       "      <th>country</th>\n",
       "      <th></th>\n",
       "      <th></th>\n",
       "    </tr>\n",
       "  </thead>\n",
       "  <tbody>\n",
       "    <tr>\n",
       "      <th>andorra</th>\n",
       "      <td>11.0</td>\n",
       "      <td>9.67</td>\n",
       "    </tr>\n",
       "    <tr>\n",
       "      <th>italy</th>\n",
       "      <td>5.0</td>\n",
       "      <td>4.95</td>\n",
       "    </tr>\n",
       "    <tr>\n",
       "      <th>austria</th>\n",
       "      <td>4.5</td>\n",
       "      <td>5.63</td>\n",
       "    </tr>\n",
       "    <tr>\n",
       "      <th>bulgaria</th>\n",
       "      <td>3.0</td>\n",
       "      <td>3.67</td>\n",
       "    </tr>\n",
       "    <tr>\n",
       "      <th>finland</th>\n",
       "      <td>3.0</td>\n",
       "      <td>3.20</td>\n",
       "    </tr>\n",
       "    <tr>\n",
       "      <th>france</th>\n",
       "      <td>2.0</td>\n",
       "      <td>2.57</td>\n",
       "    </tr>\n",
       "  </tbody>\n",
       "</table>\n",
       "</div>"
      ],
      "text/plain": [
       "          hotel      \n",
       "         median  mean\n",
       "country              \n",
       "andorra    11.0  9.67\n",
       "italy       5.0  4.95\n",
       "austria     4.5  5.63\n",
       "bulgaria    3.0  3.67\n",
       "finland     3.0  3.20\n",
       "france      2.0  2.57"
      ]
     },
     "execution_count": 31,
     "metadata": {},
     "output_type": "execute_result"
    }
   ],
   "source": [
    "round(resorts.groupby('country').agg({'hotel':{'median', 'mean'}}), 2).sort_values([('hotel', 'median')], ascending=False)"
   ]
  },
  {
   "cell_type": "markdown",
   "metadata": {},
   "source": [
    "Здесь разница между странами не так велика, но и схожей картину не назовёшь, выбивается лишь Андорра - около 10 отелей на курорт. С другой стороны - **во Франции всего 2 отеля на курорт** - значит, вероятно, ниже конкуренция, и это **хорошее место для строительства отеля**."
   ]
  },
  {
   "cell_type": "markdown",
   "metadata": {},
   "source": [
    "<a id='eda_price_per_week'> </a>\n",
    "\n",
    "---\n",
    "> ### 2.3 price_per_week\n",
    "\n",
    "Посмотрим числовые описания, а затем сгруппируем по странам и курортам, чтобы посмотреть на **распределение цен**. Метод describe мы будем использовать часто, поэтому напишем для него функцию, которая сократит количество кода, и заодно округлит значения:"
   ]
  },
  {
   "cell_type": "code",
   "execution_count": 32,
   "metadata": {},
   "outputs": [],
   "source": [
    "def d(d_data):\n",
    "    display(round(d_data.describe(), 2))"
   ]
  },
  {
   "cell_type": "code",
   "execution_count": 33,
   "metadata": {},
   "outputs": [
    {
     "data": {
      "text/plain": [
       "count     406.00\n",
       "mean     1095.24\n",
       "std       343.24\n",
       "min       550.00\n",
       "25%       839.00\n",
       "50%      1021.50\n",
       "75%      1270.75\n",
       "max      2517.00\n",
       "Name: price_per_week, dtype: float64"
      ]
     },
     "metadata": {},
     "output_type": "display_data"
    }
   ],
   "source": [
    "d(df.price_per_week)"
   ]
  },
  {
   "cell_type": "markdown",
   "metadata": {},
   "source": [
    "**И среднее и медиана больше 1000 фунтов стерлингов** за неделю проживания. Взглянем на распределение: для этого создадим функцию для вывода гистограммы:"
   ]
  },
  {
   "cell_type": "code",
   "execution_count": 34,
   "metadata": {},
   "outputs": [],
   "source": [
    "def perfect_hist(hist_column, hist_bins, hist_color, hist_title, hist_x, hist_y):\n",
    "    plt.figure(figsize=(15,6))\n",
    "    hist_column.hist(bins=hist_bins, color=hist_color, edgecolor='#bbbbbb', grid=False)\n",
    "    plt.title(hist_title, fontsize=20, pad=15)\n",
    "    plt.xlabel(hist_x, fontsize=15, color='#999999')\n",
    "    plt.ylabel(hist_y, fontsize=15, color='#999999')\n",
    "    plt.tick_params(axis='both', labelsize=12);"
   ]
  },
  {
   "cell_type": "markdown",
   "metadata": {},
   "source": [
    "Передадим функции аргументы и оценим график:"
   ]
  },
  {
   "cell_type": "code",
   "execution_count": 35,
   "metadata": {},
   "outputs": [
    {
     "data": {
      "image/png": "[encoded data removed]",
      "text/plain": [
       "<Figure size 1080x432 with 1 Axes>"
      ]
     },
     "metadata": {
      "needs_background": "light"
     },
     "output_type": "display_data"
    }
   ],
   "source": [
    "perfect_hist(df['price_per_week'], 50, '#f6f6ff', 'Распределение значений в столбце price_per_week', \\\n",
    "            'Цена за неделю проживания в отеле, фунтов стерлингов', 'Частота встречаемости цены')"
   ]
  },
  {
   "cell_type": "markdown",
   "metadata": {},
   "source": [
    "Большинство цен - в диапазоне примерно от 750 до 1400 фунтов стерлингов, но мы уже проверили describe. Взглянем с помощью боксплота на выбросы (для него тоже определим функцию): "
   ]
  },
  {
   "cell_type": "code",
   "execution_count": 36,
   "metadata": {},
   "outputs": [],
   "source": [
    "def amazing_boxplot(box_data, box_title, box_color, x_box):\n",
    "    plt.figure(figsize=(15, 5))\n",
    "    sns.boxplot(box_data, color=box_color)\n",
    "    plt.title(box_title, fontsize=20, pad=15)\n",
    "    plt.xlabel(x_box, fontsize=15, color='#999999');"
   ]
  },
  {
   "cell_type": "code",
   "execution_count": 37,
   "metadata": {},
   "outputs": [
    {
     "data": {
      "image/png": "[encoded data removed]",
      "text/plain": [
       "<Figure size 1080x360 with 1 Axes>"
      ]
     },
     "metadata": {
      "needs_background": "light"
     },
     "output_type": "display_data"
    }
   ],
   "source": [
    "amazing_boxplot(df['price_per_week'], 'Распределение значений в столбце price_per_week', \\\n",
    "                '#f6f6ff', 'Цена за неделю проживания в отеле, фунтов стерлингов')"
   ]
  },
  {
   "cell_type": "markdown",
   "metadata": {},
   "source": [
    "Убирать выбросы, связанные с ценами всегда непросто - очень дорогие курорты имеют право на существование. Но выбросы отрицательно влияют на статистические показатели, поэтому **продолжим без них**:"
   ]
  },
  {
   "cell_type": "code",
   "execution_count": 38,
   "metadata": {},
   "outputs": [],
   "source": [
    "df = df[df['price_per_week'] < 1900].reset_index(drop=True)"
   ]
  },
  {
   "cell_type": "markdown",
   "metadata": {},
   "source": [
    "Посмотрим **средние цены по курортам** - сгруппируем данные для определения максимальных и минимальных средних цен:"
   ]
  },
  {
   "cell_type": "code",
   "execution_count": 39,
   "metadata": {},
   "outputs": [],
   "source": [
    "resort_prices_high = round(df.groupby(['resort', 'country']).agg({'price_per_week':'mean'}).\\\n",
    "sort_values(by='price_per_week', ascending=False).reset_index(), 0).head(20)\n",
    "\n",
    "resort_prices_low = round(df.groupby(['resort', 'country']).agg({'price_per_week':'mean'}).\\\n",
    "sort_values(by='price_per_week', ascending=True).reset_index(), 0).head(20)"
   ]
  },
  {
   "cell_type": "markdown",
   "metadata": {},
   "source": [
    "Для вывода двух датасетов рядом определим функцию - она нам ещё пригодится:"
   ]
  },
  {
   "cell_type": "code",
   "execution_count": 40,
   "metadata": {},
   "outputs": [],
   "source": [
    "def two_sets_beside(df_one, df_two, name_one, name_two):\n",
    "    high_styler = df_one.style.set_table_attributes(\"style='display:inline'\").set_caption(name_one)\n",
    "    low_styler = df_two.style.set_table_attributes(\"style='display:inline'\").set_caption(name_two)\n",
    "    display_html(high_styler._repr_html_() + '\\xa0'*6 + low_styler._repr_html_(), raw=True)"
   ]
  },
  {
   "cell_type": "markdown",
   "metadata": {},
   "source": [
    "Передадим агрументы функции и ознакомимся с результатом:"
   ]
  },
  {
   "cell_type": "code",
   "execution_count": 41,
   "metadata": {},
   "outputs": [
    {
     "data": {
      "text/html": [
       "<style  type=\"text/css\" >\n",
       "</style>  \n",
       "<table id=\"T_989e475e_7975_11ed_8d88_ec55f9ceb9c8\" style='display:inline'><caption>Самые дорогие курорты</caption> \n",
       "\n",
       "<thead>    <tr> \n",
       "        <th class=\"blank level0\" ></th> \n",
       "        <th class=\"col_heading level0 col0\" >resort</th> \n",
       "        <th class=\"col_heading level0 col1\" >country</th> \n",
       "        <th class=\"col_heading level0 col2\" >price_per_week</th> \n",
       "    </tr></thead> \n",
       "<tbody>    <tr> \n",
       "        <th id=\"T_989e475e_7975_11ed_8d88_ec55f9ceb9c8level0_row0\" class=\"row_heading level0 row0\" >0</th> \n",
       "        <td id=\"T_989e475e_7975_11ed_8d88_ec55f9ceb9c8row0_col0\" class=\"data row0 col0\" >courchevel-1650</td> \n",
       "        <td id=\"T_989e475e_7975_11ed_8d88_ec55f9ceb9c8row0_col1\" class=\"data row0 col1\" >france</td> \n",
       "        <td id=\"T_989e475e_7975_11ed_8d88_ec55f9ceb9c8row0_col2\" class=\"data row0 col2\" >1775</td> \n",
       "    </tr>    <tr> \n",
       "        <th id=\"T_989e475e_7975_11ed_8d88_ec55f9ceb9c8level0_row1\" class=\"row_heading level0 row1\" >1</th> \n",
       "        <td id=\"T_989e475e_7975_11ed_8d88_ec55f9ceb9c8row1_col0\" class=\"data row1 col0\" >hochgurgl</td> \n",
       "        <td id=\"T_989e475e_7975_11ed_8d88_ec55f9ceb9c8row1_col1\" class=\"data row1 col1\" >austria</td> \n",
       "        <td id=\"T_989e475e_7975_11ed_8d88_ec55f9ceb9c8row1_col2\" class=\"data row1 col2\" >1755</td> \n",
       "    </tr>    <tr> \n",
       "        <th id=\"T_989e475e_7975_11ed_8d88_ec55f9ceb9c8level0_row2\" class=\"row_heading level0 row2\" >2</th> \n",
       "        <td id=\"T_989e475e_7975_11ed_8d88_ec55f9ceb9c8row2_col0\" class=\"data row2 col0\" >les-menuires</td> \n",
       "        <td id=\"T_989e475e_7975_11ed_8d88_ec55f9ceb9c8row2_col1\" class=\"data row2 col1\" >france</td> \n",
       "        <td id=\"T_989e475e_7975_11ed_8d88_ec55f9ceb9c8row2_col2\" class=\"data row2 col2\" >1636</td> \n",
       "    </tr>    <tr> \n",
       "        <th id=\"T_989e475e_7975_11ed_8d88_ec55f9ceb9c8level0_row3\" class=\"row_heading level0 row3\" >3</th> \n",
       "        <td id=\"T_989e475e_7975_11ed_8d88_ec55f9ceb9c8row3_col0\" class=\"data row3 col0\" >st-christoph</td> \n",
       "        <td id=\"T_989e475e_7975_11ed_8d88_ec55f9ceb9c8row3_col1\" class=\"data row3 col1\" >austria</td> \n",
       "        <td id=\"T_989e475e_7975_11ed_8d88_ec55f9ceb9c8row3_col2\" class=\"data row3 col2\" >1604</td> \n",
       "    </tr>    <tr> \n",
       "        <th id=\"T_989e475e_7975_11ed_8d88_ec55f9ceb9c8level0_row4\" class=\"row_heading level0 row4\" >4</th> \n",
       "        <td id=\"T_989e475e_7975_11ed_8d88_ec55f9ceb9c8row4_col0\" class=\"data row4 col0\" >obertauern</td> \n",
       "        <td id=\"T_989e475e_7975_11ed_8d88_ec55f9ceb9c8row4_col1\" class=\"data row4 col1\" >austria</td> \n",
       "        <td id=\"T_989e475e_7975_11ed_8d88_ec55f9ceb9c8row4_col2\" class=\"data row4 col2\" >1576</td> \n",
       "    </tr>    <tr> \n",
       "        <th id=\"T_989e475e_7975_11ed_8d88_ec55f9ceb9c8level0_row5\" class=\"row_heading level0 row5\" >5</th> \n",
       "        <td id=\"T_989e475e_7975_11ed_8d88_ec55f9ceb9c8row5_col0\" class=\"data row5 col0\" >meribel</td> \n",
       "        <td id=\"T_989e475e_7975_11ed_8d88_ec55f9ceb9c8row5_col1\" class=\"data row5 col1\" >france</td> \n",
       "        <td id=\"T_989e475e_7975_11ed_8d88_ec55f9ceb9c8row5_col2\" class=\"data row5 col2\" >1507</td> \n",
       "    </tr>    <tr> \n",
       "        <th id=\"T_989e475e_7975_11ed_8d88_ec55f9ceb9c8level0_row6\" class=\"row_heading level0 row6\" >6</th> \n",
       "        <td id=\"T_989e475e_7975_11ed_8d88_ec55f9ceb9c8row6_col0\" class=\"data row6 col0\" >zurs-am-arlberg</td> \n",
       "        <td id=\"T_989e475e_7975_11ed_8d88_ec55f9ceb9c8row6_col1\" class=\"data row6 col1\" >austria</td> \n",
       "        <td id=\"T_989e475e_7975_11ed_8d88_ec55f9ceb9c8row6_col2\" class=\"data row6 col2\" >1498</td> \n",
       "    </tr>    <tr> \n",
       "        <th id=\"T_989e475e_7975_11ed_8d88_ec55f9ceb9c8level0_row7\" class=\"row_heading level0 row7\" >7</th> \n",
       "        <td id=\"T_989e475e_7975_11ed_8d88_ec55f9ceb9c8row7_col0\" class=\"data row7 col0\" >lech</td> \n",
       "        <td id=\"T_989e475e_7975_11ed_8d88_ec55f9ceb9c8row7_col1\" class=\"data row7 col1\" >austria</td> \n",
       "        <td id=\"T_989e475e_7975_11ed_8d88_ec55f9ceb9c8row7_col2\" class=\"data row7 col2\" >1486</td> \n",
       "    </tr>    <tr> \n",
       "        <th id=\"T_989e475e_7975_11ed_8d88_ec55f9ceb9c8level0_row8\" class=\"row_heading level0 row8\" >8</th> \n",
       "        <td id=\"T_989e475e_7975_11ed_8d88_ec55f9ceb9c8row8_col0\" class=\"data row8 col0\" >courchevel-1850</td> \n",
       "        <td id=\"T_989e475e_7975_11ed_8d88_ec55f9ceb9c8row8_col1\" class=\"data row8 col1\" >france</td> \n",
       "        <td id=\"T_989e475e_7975_11ed_8d88_ec55f9ceb9c8row8_col2\" class=\"data row8 col2\" >1471</td> \n",
       "    </tr>    <tr> \n",
       "        <th id=\"T_989e475e_7975_11ed_8d88_ec55f9ceb9c8level0_row9\" class=\"row_heading level0 row9\" >9</th> \n",
       "        <td id=\"T_989e475e_7975_11ed_8d88_ec55f9ceb9c8row9_col0\" class=\"data row9 col0\" >obergurgl</td> \n",
       "        <td id=\"T_989e475e_7975_11ed_8d88_ec55f9ceb9c8row9_col1\" class=\"data row9 col1\" >austria</td> \n",
       "        <td id=\"T_989e475e_7975_11ed_8d88_ec55f9ceb9c8row9_col2\" class=\"data row9 col2\" >1420</td> \n",
       "    </tr>    <tr> \n",
       "        <th id=\"T_989e475e_7975_11ed_8d88_ec55f9ceb9c8level0_row10\" class=\"row_heading level0 row10\" >10</th> \n",
       "        <td id=\"T_989e475e_7975_11ed_8d88_ec55f9ceb9c8row10_col0\" class=\"data row10 col0\" >la-rosiere</td> \n",
       "        <td id=\"T_989e475e_7975_11ed_8d88_ec55f9ceb9c8row10_col1\" class=\"data row10 col1\" >france</td> \n",
       "        <td id=\"T_989e475e_7975_11ed_8d88_ec55f9ceb9c8row10_col2\" class=\"data row10 col2\" >1419</td> \n",
       "    </tr>    <tr> \n",
       "        <th id=\"T_989e475e_7975_11ed_8d88_ec55f9ceb9c8level0_row11\" class=\"row_heading level0 row11\" >11</th> \n",
       "        <td id=\"T_989e475e_7975_11ed_8d88_ec55f9ceb9c8row11_col0\" class=\"data row11 col0\" >plagne-centre</td> \n",
       "        <td id=\"T_989e475e_7975_11ed_8d88_ec55f9ceb9c8row11_col1\" class=\"data row11 col1\" >france</td> \n",
       "        <td id=\"T_989e475e_7975_11ed_8d88_ec55f9ceb9c8row11_col2\" class=\"data row11 col2\" >1396</td> \n",
       "    </tr>    <tr> \n",
       "        <th id=\"T_989e475e_7975_11ed_8d88_ec55f9ceb9c8level0_row12\" class=\"row_heading level0 row12\" >12</th> \n",
       "        <td id=\"T_989e475e_7975_11ed_8d88_ec55f9ceb9c8row12_col0\" class=\"data row12 col0\" >hochsolden</td> \n",
       "        <td id=\"T_989e475e_7975_11ed_8d88_ec55f9ceb9c8row12_col1\" class=\"data row12 col1\" >austria</td> \n",
       "        <td id=\"T_989e475e_7975_11ed_8d88_ec55f9ceb9c8row12_col2\" class=\"data row12 col2\" >1388</td> \n",
       "    </tr>    <tr> \n",
       "        <th id=\"T_989e475e_7975_11ed_8d88_ec55f9ceb9c8level0_row13\" class=\"row_heading level0 row13\" >13</th> \n",
       "        <td id=\"T_989e475e_7975_11ed_8d88_ec55f9ceb9c8row13_col0\" class=\"data row13 col0\" >tignes-le-lac</td> \n",
       "        <td id=\"T_989e475e_7975_11ed_8d88_ec55f9ceb9c8row13_col1\" class=\"data row13 col1\" >france</td> \n",
       "        <td id=\"T_989e475e_7975_11ed_8d88_ec55f9ceb9c8row13_col2\" class=\"data row13 col2\" >1384</td> \n",
       "    </tr>    <tr> \n",
       "        <th id=\"T_989e475e_7975_11ed_8d88_ec55f9ceb9c8level0_row14\" class=\"row_heading level0 row14\" >14</th> \n",
       "        <td id=\"T_989e475e_7975_11ed_8d88_ec55f9ceb9c8row14_col0\" class=\"data row14 col0\" >tignes-val-claret</td> \n",
       "        <td id=\"T_989e475e_7975_11ed_8d88_ec55f9ceb9c8row14_col1\" class=\"data row14 col1\" >france</td> \n",
       "        <td id=\"T_989e475e_7975_11ed_8d88_ec55f9ceb9c8row14_col2\" class=\"data row14 col2\" >1368</td> \n",
       "    </tr>    <tr> \n",
       "        <th id=\"T_989e475e_7975_11ed_8d88_ec55f9ceb9c8level0_row15\" class=\"row_heading level0 row15\" >15</th> \n",
       "        <td id=\"T_989e475e_7975_11ed_8d88_ec55f9ceb9c8row15_col0\" class=\"data row15 col0\" >saalbach</td> \n",
       "        <td id=\"T_989e475e_7975_11ed_8d88_ec55f9ceb9c8row15_col1\" class=\"data row15 col1\" >austria</td> \n",
       "        <td id=\"T_989e475e_7975_11ed_8d88_ec55f9ceb9c8row15_col2\" class=\"data row15 col2\" >1366</td> \n",
       "    </tr>    <tr> \n",
       "        <th id=\"T_989e475e_7975_11ed_8d88_ec55f9ceb9c8level0_row16\" class=\"row_heading level0 row16\" >16</th> \n",
       "        <td id=\"T_989e475e_7975_11ed_8d88_ec55f9ceb9c8row16_col0\" class=\"data row16 col0\" >st-anton</td> \n",
       "        <td id=\"T_989e475e_7975_11ed_8d88_ec55f9ceb9c8row16_col1\" class=\"data row16 col1\" >austria</td> \n",
       "        <td id=\"T_989e475e_7975_11ed_8d88_ec55f9ceb9c8row16_col2\" class=\"data row16 col2\" >1364</td> \n",
       "    </tr>    <tr> \n",
       "        <th id=\"T_989e475e_7975_11ed_8d88_ec55f9ceb9c8level0_row17\" class=\"row_heading level0 row17\" >17</th> \n",
       "        <td id=\"T_989e475e_7975_11ed_8d88_ec55f9ceb9c8row17_col0\" class=\"data row17 col0\" >solden</td> \n",
       "        <td id=\"T_989e475e_7975_11ed_8d88_ec55f9ceb9c8row17_col1\" class=\"data row17 col1\" >austria</td> \n",
       "        <td id=\"T_989e475e_7975_11ed_8d88_ec55f9ceb9c8row17_col2\" class=\"data row17 col2\" >1342</td> \n",
       "    </tr>    <tr> \n",
       "        <th id=\"T_989e475e_7975_11ed_8d88_ec55f9ceb9c8level0_row18\" class=\"row_heading level0 row18\" >18</th> \n",
       "        <td id=\"T_989e475e_7975_11ed_8d88_ec55f9ceb9c8row18_col0\" class=\"data row18 col0\" >les-arcs-1600</td> \n",
       "        <td id=\"T_989e475e_7975_11ed_8d88_ec55f9ceb9c8row18_col1\" class=\"data row18 col1\" >france</td> \n",
       "        <td id=\"T_989e475e_7975_11ed_8d88_ec55f9ceb9c8row18_col2\" class=\"data row18 col2\" >1332</td> \n",
       "    </tr>    <tr> \n",
       "        <th id=\"T_989e475e_7975_11ed_8d88_ec55f9ceb9c8level0_row19\" class=\"row_heading level0 row19\" >19</th> \n",
       "        <td id=\"T_989e475e_7975_11ed_8d88_ec55f9ceb9c8row19_col0\" class=\"data row19 col0\" >kitzbuhel</td> \n",
       "        <td id=\"T_989e475e_7975_11ed_8d88_ec55f9ceb9c8row19_col1\" class=\"data row19 col1\" >austria</td> \n",
       "        <td id=\"T_989e475e_7975_11ed_8d88_ec55f9ceb9c8row19_col2\" class=\"data row19 col2\" >1330</td> \n",
       "    </tr></tbody> \n",
       "\n",
       "</table>       <style  type=\"text/css\" >\n",
       "</style>  \n",
       "<table id=\"T_989fce06_7975_11ed_a703_ec55f9ceb9c8\" style='display:inline'><caption>Самые доступные курорты</caption> \n",
       "\n",
       "<thead>    <tr> \n",
       "        <th class=\"blank level0\" ></th> \n",
       "        <th class=\"col_heading level0 col0\" >resort</th> \n",
       "        <th class=\"col_heading level0 col1\" >country</th> \n",
       "        <th class=\"col_heading level0 col2\" >price_per_week</th> \n",
       "    </tr></thead> \n",
       "<tbody>    <tr> \n",
       "        <th id=\"T_989fce06_7975_11ed_a703_ec55f9ceb9c8level0_row0\" class=\"row_heading level0 row0\" >0</th> \n",
       "        <td id=\"T_989fce06_7975_11ed_a703_ec55f9ceb9c8row0_col0\" class=\"data row0 col0\" >bansko</td> \n",
       "        <td id=\"T_989fce06_7975_11ed_a703_ec55f9ceb9c8row0_col1\" class=\"data row0 col1\" >bulgaria</td> \n",
       "        <td id=\"T_989fce06_7975_11ed_a703_ec55f9ceb9c8row0_col2\" class=\"data row0 col2\" >662</td> \n",
       "    </tr>    <tr> \n",
       "        <th id=\"T_989fce06_7975_11ed_a703_ec55f9ceb9c8level0_row1\" class=\"row_heading level0 row1\" >1</th> \n",
       "        <td id=\"T_989fce06_7975_11ed_a703_ec55f9ceb9c8row1_col0\" class=\"data row1 col0\" >bardonecchia</td> \n",
       "        <td id=\"T_989fce06_7975_11ed_a703_ec55f9ceb9c8row1_col1\" class=\"data row1 col1\" >italy</td> \n",
       "        <td id=\"T_989fce06_7975_11ed_a703_ec55f9ceb9c8row1_col2\" class=\"data row1 col2\" >664</td> \n",
       "    </tr>    <tr> \n",
       "        <th id=\"T_989fce06_7975_11ed_a703_ec55f9ceb9c8level0_row2\" class=\"row_heading level0 row2\" >2</th> \n",
       "        <td id=\"T_989fce06_7975_11ed_a703_ec55f9ceb9c8row2_col0\" class=\"data row2 col0\" >borovets</td> \n",
       "        <td id=\"T_989fce06_7975_11ed_a703_ec55f9ceb9c8row2_col1\" class=\"data row2 col1\" >bulgaria</td> \n",
       "        <td id=\"T_989fce06_7975_11ed_a703_ec55f9ceb9c8row2_col2\" class=\"data row2 col2\" >682</td> \n",
       "    </tr>    <tr> \n",
       "        <th id=\"T_989fce06_7975_11ed_a703_ec55f9ceb9c8level0_row3\" class=\"row_heading level0 row3\" >3</th> \n",
       "        <td id=\"T_989fce06_7975_11ed_a703_ec55f9ceb9c8row3_col0\" class=\"data row3 col0\" >arinsal</td> \n",
       "        <td id=\"T_989fce06_7975_11ed_a703_ec55f9ceb9c8row3_col1\" class=\"data row3 col1\" >andorra</td> \n",
       "        <td id=\"T_989fce06_7975_11ed_a703_ec55f9ceb9c8row3_col2\" class=\"data row3 col2\" >715</td> \n",
       "    </tr>    <tr> \n",
       "        <th id=\"T_989fce06_7975_11ed_a703_ec55f9ceb9c8level0_row4\" class=\"row_heading level0 row4\" >4</th> \n",
       "        <td id=\"T_989fce06_7975_11ed_a703_ec55f9ceb9c8row4_col0\" class=\"data row4 col0\" >pyha</td> \n",
       "        <td id=\"T_989fce06_7975_11ed_a703_ec55f9ceb9c8row4_col1\" class=\"data row4 col1\" >finland</td> \n",
       "        <td id=\"T_989fce06_7975_11ed_a703_ec55f9ceb9c8row4_col2\" class=\"data row4 col2\" >737</td> \n",
       "    </tr>    <tr> \n",
       "        <th id=\"T_989fce06_7975_11ed_a703_ec55f9ceb9c8level0_row5\" class=\"row_heading level0 row5\" >5</th> \n",
       "        <td id=\"T_989fce06_7975_11ed_a703_ec55f9ceb9c8row5_col0\" class=\"data row5 col0\" >pamporovo</td> \n",
       "        <td id=\"T_989fce06_7975_11ed_a703_ec55f9ceb9c8row5_col1\" class=\"data row5 col1\" >bulgaria</td> \n",
       "        <td id=\"T_989fce06_7975_11ed_a703_ec55f9ceb9c8row5_col2\" class=\"data row5 col2\" >765</td> \n",
       "    </tr>    <tr> \n",
       "        <th id=\"T_989fce06_7975_11ed_a703_ec55f9ceb9c8level0_row6\" class=\"row_heading level0 row6\" >6</th> \n",
       "        <td id=\"T_989fce06_7975_11ed_a703_ec55f9ceb9c8row6_col0\" class=\"data row6 col0\" >ruka</td> \n",
       "        <td id=\"T_989fce06_7975_11ed_a703_ec55f9ceb9c8row6_col1\" class=\"data row6 col1\" >finland</td> \n",
       "        <td id=\"T_989fce06_7975_11ed_a703_ec55f9ceb9c8row6_col2\" class=\"data row6 col2\" >771</td> \n",
       "    </tr>    <tr> \n",
       "        <th id=\"T_989fce06_7975_11ed_a703_ec55f9ceb9c8level0_row7\" class=\"row_heading level0 row7\" >7</th> \n",
       "        <td id=\"T_989fce06_7975_11ed_a703_ec55f9ceb9c8row7_col0\" class=\"data row7 col0\" >sauze-d-oulx</td> \n",
       "        <td id=\"T_989fce06_7975_11ed_a703_ec55f9ceb9c8row7_col1\" class=\"data row7 col1\" >italy</td> \n",
       "        <td id=\"T_989fce06_7975_11ed_a703_ec55f9ceb9c8row7_col2\" class=\"data row7 col2\" >780</td> \n",
       "    </tr>    <tr> \n",
       "        <th id=\"T_989fce06_7975_11ed_a703_ec55f9ceb9c8level0_row8\" class=\"row_heading level0 row8\" >8</th> \n",
       "        <td id=\"T_989fce06_7975_11ed_a703_ec55f9ceb9c8row8_col0\" class=\"data row8 col0\" >la-thuile</td> \n",
       "        <td id=\"T_989fce06_7975_11ed_a703_ec55f9ceb9c8row8_col1\" class=\"data row8 col1\" >italy</td> \n",
       "        <td id=\"T_989fce06_7975_11ed_a703_ec55f9ceb9c8row8_col2\" class=\"data row8 col2\" >786</td> \n",
       "    </tr>    <tr> \n",
       "        <th id=\"T_989fce06_7975_11ed_a703_ec55f9ceb9c8level0_row9\" class=\"row_heading level0 row9\" >9</th> \n",
       "        <td id=\"T_989fce06_7975_11ed_a703_ec55f9ceb9c8row9_col0\" class=\"data row9 col0\" >alpbach</td> \n",
       "        <td id=\"T_989fce06_7975_11ed_a703_ec55f9ceb9c8row9_col1\" class=\"data row9 col1\" >austria</td> \n",
       "        <td id=\"T_989fce06_7975_11ed_a703_ec55f9ceb9c8row9_col2\" class=\"data row9 col2\" >790</td> \n",
       "    </tr>    <tr> \n",
       "        <th id=\"T_989fce06_7975_11ed_a703_ec55f9ceb9c8level0_row10\" class=\"row_heading level0 row10\" >10</th> \n",
       "        <td id=\"T_989fce06_7975_11ed_a703_ec55f9ceb9c8row10_col0\" class=\"data row10 col0\" >niederau-oberau</td> \n",
       "        <td id=\"T_989fce06_7975_11ed_a703_ec55f9ceb9c8row10_col1\" class=\"data row10 col1\" >austria</td> \n",
       "        <td id=\"T_989fce06_7975_11ed_a703_ec55f9ceb9c8row10_col2\" class=\"data row10 col2\" >790</td> \n",
       "    </tr>    <tr> \n",
       "        <th id=\"T_989fce06_7975_11ed_a703_ec55f9ceb9c8level0_row11\" class=\"row_heading level0 row11\" >11</th> \n",
       "        <td id=\"T_989fce06_7975_11ed_a703_ec55f9ceb9c8row11_col0\" class=\"data row11 col0\" >pila</td> \n",
       "        <td id=\"T_989fce06_7975_11ed_a703_ec55f9ceb9c8row11_col1\" class=\"data row11 col1\" >italy</td> \n",
       "        <td id=\"T_989fce06_7975_11ed_a703_ec55f9ceb9c8row11_col2\" class=\"data row11 col2\" >793</td> \n",
       "    </tr>    <tr> \n",
       "        <th id=\"T_989fce06_7975_11ed_a703_ec55f9ceb9c8level0_row12\" class=\"row_heading level0 row12\" >12</th> \n",
       "        <td id=\"T_989fce06_7975_11ed_a703_ec55f9ceb9c8row12_col0\" class=\"data row12 col0\" >pas-de-la-casa</td> \n",
       "        <td id=\"T_989fce06_7975_11ed_a703_ec55f9ceb9c8row12_col1\" class=\"data row12 col1\" >andorra</td> \n",
       "        <td id=\"T_989fce06_7975_11ed_a703_ec55f9ceb9c8row12_col2\" class=\"data row12 col2\" >794</td> \n",
       "    </tr>    <tr> \n",
       "        <th id=\"T_989fce06_7975_11ed_a703_ec55f9ceb9c8level0_row13\" class=\"row_heading level0 row13\" >13</th> \n",
       "        <td id=\"T_989fce06_7975_11ed_a703_ec55f9ceb9c8row13_col0\" class=\"data row13 col0\" >canazei</td> \n",
       "        <td id=\"T_989fce06_7975_11ed_a703_ec55f9ceb9c8row13_col1\" class=\"data row13 col1\" >italy</td> \n",
       "        <td id=\"T_989fce06_7975_11ed_a703_ec55f9ceb9c8row13_col2\" class=\"data row13 col2\" >798</td> \n",
       "    </tr>    <tr> \n",
       "        <th id=\"T_989fce06_7975_11ed_a703_ec55f9ceb9c8level0_row14\" class=\"row_heading level0 row14\" >14</th> \n",
       "        <td id=\"T_989fce06_7975_11ed_a703_ec55f9ceb9c8row14_col0\" class=\"data row14 col0\" >yllas</td> \n",
       "        <td id=\"T_989fce06_7975_11ed_a703_ec55f9ceb9c8row14_col1\" class=\"data row14 col1\" >finland</td> \n",
       "        <td id=\"T_989fce06_7975_11ed_a703_ec55f9ceb9c8row14_col2\" class=\"data row14 col2\" >807</td> \n",
       "    </tr>    <tr> \n",
       "        <th id=\"T_989fce06_7975_11ed_a703_ec55f9ceb9c8level0_row15\" class=\"row_heading level0 row15\" >15</th> \n",
       "        <td id=\"T_989fce06_7975_11ed_a703_ec55f9ceb9c8row15_col0\" class=\"data row15 col0\" >passo-tonale</td> \n",
       "        <td id=\"T_989fce06_7975_11ed_a703_ec55f9ceb9c8row15_col1\" class=\"data row15 col1\" >italy</td> \n",
       "        <td id=\"T_989fce06_7975_11ed_a703_ec55f9ceb9c8row15_col2\" class=\"data row15 col2\" >809</td> \n",
       "    </tr>    <tr> \n",
       "        <th id=\"T_989fce06_7975_11ed_a703_ec55f9ceb9c8level0_row16\" class=\"row_heading level0 row16\" >16</th> \n",
       "        <td id=\"T_989fce06_7975_11ed_a703_ec55f9ceb9c8row16_col0\" class=\"data row16 col0\" >brides-les-bains</td> \n",
       "        <td id=\"T_989fce06_7975_11ed_a703_ec55f9ceb9c8row16_col1\" class=\"data row16 col1\" >france</td> \n",
       "        <td id=\"T_989fce06_7975_11ed_a703_ec55f9ceb9c8row16_col2\" class=\"data row16 col2\" >812</td> \n",
       "    </tr>    <tr> \n",
       "        <th id=\"T_989fce06_7975_11ed_a703_ec55f9ceb9c8level0_row17\" class=\"row_heading level0 row17\" >17</th> \n",
       "        <td id=\"T_989fce06_7975_11ed_a703_ec55f9ceb9c8row17_col0\" class=\"data row17 col0\" >folgarida</td> \n",
       "        <td id=\"T_989fce06_7975_11ed_a703_ec55f9ceb9c8row17_col1\" class=\"data row17 col1\" >italy</td> \n",
       "        <td id=\"T_989fce06_7975_11ed_a703_ec55f9ceb9c8row17_col2\" class=\"data row17 col2\" >840</td> \n",
       "    </tr>    <tr> \n",
       "        <th id=\"T_989fce06_7975_11ed_a703_ec55f9ceb9c8level0_row18\" class=\"row_heading level0 row18\" >18</th> \n",
       "        <td id=\"T_989fce06_7975_11ed_a703_ec55f9ceb9c8row18_col0\" class=\"data row18 col0\" >igls</td> \n",
       "        <td id=\"T_989fce06_7975_11ed_a703_ec55f9ceb9c8row18_col1\" class=\"data row18 col1\" >austria</td> \n",
       "        <td id=\"T_989fce06_7975_11ed_a703_ec55f9ceb9c8row18_col2\" class=\"data row18 col2\" >856</td> \n",
       "    </tr>    <tr> \n",
       "        <th id=\"T_989fce06_7975_11ed_a703_ec55f9ceb9c8level0_row19\" class=\"row_heading level0 row19\" >19</th> \n",
       "        <td id=\"T_989fce06_7975_11ed_a703_ec55f9ceb9c8row19_col0\" class=\"data row19 col0\" >courmayeur</td> \n",
       "        <td id=\"T_989fce06_7975_11ed_a703_ec55f9ceb9c8row19_col1\" class=\"data row19 col1\" >italy</td> \n",
       "        <td id=\"T_989fce06_7975_11ed_a703_ec55f9ceb9c8row19_col2\" class=\"data row19 col2\" >869</td> \n",
       "    </tr></tbody> \n",
       "</table> "
      ]
     },
     "metadata": {},
     "output_type": "display_data"
    }
   ],
   "source": [
    "two_sets_beside(resort_prices_high, resort_prices_low, 'Самые дорогие курорты', 'Самые доступные курорты')"
   ]
  },
  {
   "cell_type": "markdown",
   "metadata": {},
   "source": [
    "Интересно - среди стран с самыми дорогими курортами исключительно Франция и Австрия. Посмотрим **средние и медианные цены по странам**:"
   ]
  },
  {
   "cell_type": "code",
   "execution_count": 42,
   "metadata": {},
   "outputs": [
    {
     "data": {
      "text/html": [
       "<style  type=\"text/css\" >\n",
       "</style>  \n",
       "<table id=\"T_98a65dcc_7975_11ed_87f8_ec55f9ceb9c8\" style='display:inline'><caption>Средние цены по странам</caption> \n",
       "\n",
       "<thead>    <tr> \n",
       "        <th class=\"blank level0\" ></th> \n",
       "        <th class=\"col_heading level0 col0\" >country</th> \n",
       "        <th class=\"col_heading level0 col1\" >price_per_week</th> \n",
       "    </tr></thead> \n",
       "<tbody>    <tr> \n",
       "        <th id=\"T_98a65dcc_7975_11ed_87f8_ec55f9ceb9c8level0_row0\" class=\"row_heading level0 row0\" >0</th> \n",
       "        <td id=\"T_98a65dcc_7975_11ed_87f8_ec55f9ceb9c8row0_col0\" class=\"data row0 col0\" >france</td> \n",
       "        <td id=\"T_98a65dcc_7975_11ed_87f8_ec55f9ceb9c8row0_col1\" class=\"data row0 col1\" >1182.41</td> \n",
       "    </tr>    <tr> \n",
       "        <th id=\"T_98a65dcc_7975_11ed_87f8_ec55f9ceb9c8level0_row1\" class=\"row_heading level0 row1\" >1</th> \n",
       "        <td id=\"T_98a65dcc_7975_11ed_87f8_ec55f9ceb9c8row1_col0\" class=\"data row1 col0\" >austria</td> \n",
       "        <td id=\"T_98a65dcc_7975_11ed_87f8_ec55f9ceb9c8row1_col1\" class=\"data row1 col1\" >1168.41</td> \n",
       "    </tr>    <tr> \n",
       "        <th id=\"T_98a65dcc_7975_11ed_87f8_ec55f9ceb9c8level0_row2\" class=\"row_heading level0 row2\" >2</th> \n",
       "        <td id=\"T_98a65dcc_7975_11ed_87f8_ec55f9ceb9c8row2_col0\" class=\"data row2 col0\" >italy</td> \n",
       "        <td id=\"T_98a65dcc_7975_11ed_87f8_ec55f9ceb9c8row2_col1\" class=\"data row2 col1\" >925.75</td> \n",
       "    </tr>    <tr> \n",
       "        <th id=\"T_98a65dcc_7975_11ed_87f8_ec55f9ceb9c8level0_row3\" class=\"row_heading level0 row3\" >3</th> \n",
       "        <td id=\"T_98a65dcc_7975_11ed_87f8_ec55f9ceb9c8row3_col0\" class=\"data row3 col0\" >finland</td> \n",
       "        <td id=\"T_98a65dcc_7975_11ed_87f8_ec55f9ceb9c8row3_col1\" class=\"data row3 col1\" >885.71</td> \n",
       "    </tr>    <tr> \n",
       "        <th id=\"T_98a65dcc_7975_11ed_87f8_ec55f9ceb9c8level0_row4\" class=\"row_heading level0 row4\" >4</th> \n",
       "        <td id=\"T_98a65dcc_7975_11ed_87f8_ec55f9ceb9c8row4_col0\" class=\"data row4 col0\" >andorra</td> \n",
       "        <td id=\"T_98a65dcc_7975_11ed_87f8_ec55f9ceb9c8row4_col1\" class=\"data row4 col1\" >856.14</td> \n",
       "    </tr>    <tr> \n",
       "        <th id=\"T_98a65dcc_7975_11ed_87f8_ec55f9ceb9c8level0_row5\" class=\"row_heading level0 row5\" >5</th> \n",
       "        <td id=\"T_98a65dcc_7975_11ed_87f8_ec55f9ceb9c8row5_col0\" class=\"data row5 col0\" >bulgaria</td> \n",
       "        <td id=\"T_98a65dcc_7975_11ed_87f8_ec55f9ceb9c8row5_col1\" class=\"data row5 col1\" >685.91</td> \n",
       "    </tr></tbody> \n",
       "\n",
       "</table>       <style  type=\"text/css\" >\n",
       "</style>  \n",
       "<table id=\"T_98a6d300_7975_11ed_a0b0_ec55f9ceb9c8\" style='display:inline'><caption>Медианные цены по странам</caption> \n",
       "\n",
       "<thead>    <tr> \n",
       "        <th class=\"blank level0\" ></th> \n",
       "        <th class=\"col_heading level0 col0\" >country</th> \n",
       "        <th class=\"col_heading level0 col1\" >price_per_week</th> \n",
       "    </tr></thead> \n",
       "<tbody>    <tr> \n",
       "        <th id=\"T_98a6d300_7975_11ed_a0b0_ec55f9ceb9c8level0_row0\" class=\"row_heading level0 row0\" >0</th> \n",
       "        <td id=\"T_98a6d300_7975_11ed_a0b0_ec55f9ceb9c8row0_col0\" class=\"data row0 col0\" >france</td> \n",
       "        <td id=\"T_98a6d300_7975_11ed_a0b0_ec55f9ceb9c8row0_col1\" class=\"data row0 col1\" >1182</td> \n",
       "    </tr>    <tr> \n",
       "        <th id=\"T_98a6d300_7975_11ed_a0b0_ec55f9ceb9c8level0_row1\" class=\"row_heading level0 row1\" >1</th> \n",
       "        <td id=\"T_98a6d300_7975_11ed_a0b0_ec55f9ceb9c8row1_col0\" class=\"data row1 col0\" >austria</td> \n",
       "        <td id=\"T_98a6d300_7975_11ed_a0b0_ec55f9ceb9c8row1_col1\" class=\"data row1 col1\" >1170.5</td> \n",
       "    </tr>    <tr> \n",
       "        <th id=\"T_98a6d300_7975_11ed_a0b0_ec55f9ceb9c8level0_row2\" class=\"row_heading level0 row2\" >2</th> \n",
       "        <td id=\"T_98a6d300_7975_11ed_a0b0_ec55f9ceb9c8row2_col0\" class=\"data row2 col0\" >finland</td> \n",
       "        <td id=\"T_98a6d300_7975_11ed_a0b0_ec55f9ceb9c8row2_col1\" class=\"data row2 col1\" >890</td> \n",
       "    </tr>    <tr> \n",
       "        <th id=\"T_98a6d300_7975_11ed_a0b0_ec55f9ceb9c8level0_row3\" class=\"row_heading level0 row3\" >3</th> \n",
       "        <td id=\"T_98a6d300_7975_11ed_a0b0_ec55f9ceb9c8row3_col0\" class=\"data row3 col0\" >italy</td> \n",
       "        <td id=\"T_98a6d300_7975_11ed_a0b0_ec55f9ceb9c8row3_col1\" class=\"data row3 col1\" >873.5</td> \n",
       "    </tr>    <tr> \n",
       "        <th id=\"T_98a6d300_7975_11ed_a0b0_ec55f9ceb9c8level0_row4\" class=\"row_heading level0 row4\" >4</th> \n",
       "        <td id=\"T_98a6d300_7975_11ed_a0b0_ec55f9ceb9c8row4_col0\" class=\"data row4 col0\" >andorra</td> \n",
       "        <td id=\"T_98a6d300_7975_11ed_a0b0_ec55f9ceb9c8row4_col1\" class=\"data row4 col1\" >814</td> \n",
       "    </tr>    <tr> \n",
       "        <th id=\"T_98a6d300_7975_11ed_a0b0_ec55f9ceb9c8level0_row5\" class=\"row_heading level0 row5\" >5</th> \n",
       "        <td id=\"T_98a6d300_7975_11ed_a0b0_ec55f9ceb9c8row5_col0\" class=\"data row5 col0\" >bulgaria</td> \n",
       "        <td id=\"T_98a6d300_7975_11ed_a0b0_ec55f9ceb9c8row5_col1\" class=\"data row5 col1\" >677</td> \n",
       "    </tr></tbody> \n",
       "</table> "
      ]
     },
     "metadata": {},
     "output_type": "display_data"
    }
   ],
   "source": [
    "country_mean_price = round(df.groupby('country').agg({'price_per_week':'mean'}).\\\n",
    "                           sort_values(by='price_per_week', ascending=False).reset_index(), 2)\n",
    "\n",
    "country_median_price = round(df.groupby('country').agg({'price_per_week':'median'}).\\\n",
    "                             sort_values(by='price_per_week', ascending=False).reset_index(), 2)\n",
    "\n",
    "two_sets_beside(country_mean_price, country_median_price, 'Средние цены по странам', 'Медианные цены по странам')"
   ]
  },
  {
   "cell_type": "markdown",
   "metadata": {},
   "source": [
    "Вполне ожидаемо. Эти **цифры важны для общего портрета**, \"средними\" мы можем здесь считать Финляндию, Италию и Андорру. В любом случае, мы далее составим портреты для каждой страны, потому что уже сейчас видно, что некоторые показатели очень разнятся."
   ]
  },
  {
   "cell_type": "markdown",
   "metadata": {},
   "source": [
    "<a id='eda_meters_from_lift'> </a>\n",
    "\n",
    "---\n",
    "> ### 2.4 meters_from_lift\n",
    "\n",
    "В этом столбце было почти 50% пропусков. Сгруппируем данные и передадим их функции two_sets_beside для отображения двух датасетов рядом:"
   ]
  },
  {
   "cell_type": "code",
   "execution_count": 43,
   "metadata": {},
   "outputs": [],
   "source": [
    "max_meters_from_lift = round(df.groupby(['resort', 'country']).agg({'meters_from_lift':'mean'}).\\\n",
    "                             sort_values(by='meters_from_lift', ascending=False).reset_index(), 2).head(20)\n",
    "\n",
    "min_meters_from_lift = round(df.groupby(['resort', 'country']).agg({'meters_from_lift':'mean'}).\\\n",
    "                             sort_values(by='meters_from_lift', ascending=True).reset_index(), 2).head(20)"
   ]
  },
  {
   "cell_type": "code",
   "execution_count": 44,
   "metadata": {},
   "outputs": [
    {
     "data": {
      "text/html": [
       "<style  type=\"text/css\" >\n",
       "</style>  \n",
       "\n",
       "<table id=\"T_98adb0e8_7975_11ed_af15_ec55f9ceb9c8\" style='display:inline'><caption>Курорты с максимальным средним расстоянием до подъёмников</caption> \n",
       "\n",
       "<thead>    <tr> \n",
       "        <th class=\"blank level0\" ></th> \n",
       "        <th class=\"col_heading level0 col0\" >resort</th> \n",
       "        <th class=\"col_heading level0 col1\" >country</th> \n",
       "        <th class=\"col_heading level0 col2\" >meters_from_lift</th> \n",
       "    </tr></thead> \n",
       "<tbody>    <tr> \n",
       "        <th id=\"T_98adb0e8_7975_11ed_af15_ec55f9ceb9c8level0_row0\" class=\"row_heading level0 row0\" >0</th> \n",
       "        <td id=\"T_98adb0e8_7975_11ed_af15_ec55f9ceb9c8row0_col0\" class=\"data row0 col0\" >pamporovo</td> \n",
       "        <td id=\"T_98adb0e8_7975_11ed_af15_ec55f9ceb9c8row0_col1\" class=\"data row0 col1\" >bulgaria</td> \n",
       "        <td id=\"T_98adb0e8_7975_11ed_af15_ec55f9ceb9c8row0_col2\" class=\"data row0 col2\" >1800</td> \n",
       "    </tr>    <tr> \n",
       "        <th id=\"T_98adb0e8_7975_11ed_af15_ec55f9ceb9c8level0_row1\" class=\"row_heading level0 row1\" >1</th> \n",
       "        <td id=\"T_98adb0e8_7975_11ed_af15_ec55f9ceb9c8row1_col0\" class=\"data row1 col0\" >bansko</td> \n",
       "        <td id=\"T_98adb0e8_7975_11ed_af15_ec55f9ceb9c8row1_col1\" class=\"data row1 col1\" >bulgaria</td> \n",
       "        <td id=\"T_98adb0e8_7975_11ed_af15_ec55f9ceb9c8row1_col2\" class=\"data row1 col2\" >716.67</td> \n",
       "    </tr>    <tr> \n",
       "        <th id=\"T_98adb0e8_7975_11ed_af15_ec55f9ceb9c8level0_row2\" class=\"row_heading level0 row2\" >2</th> \n",
       "        <td id=\"T_98adb0e8_7975_11ed_af15_ec55f9ceb9c8row2_col0\" class=\"data row2 col0\" >galtur</td> \n",
       "        <td id=\"T_98adb0e8_7975_11ed_af15_ec55f9ceb9c8row2_col1\" class=\"data row2 col1\" >austria</td> \n",
       "        <td id=\"T_98adb0e8_7975_11ed_af15_ec55f9ceb9c8row2_col2\" class=\"data row2 col2\" >640.18</td> \n",
       "    </tr>    <tr> \n",
       "        <th id=\"T_98adb0e8_7975_11ed_af15_ec55f9ceb9c8level0_row3\" class=\"row_heading level0 row3\" >3</th> \n",
       "        <td id=\"T_98adb0e8_7975_11ed_af15_ec55f9ceb9c8row3_col0\" class=\"data row3 col0\" >canazei</td> \n",
       "        <td id=\"T_98adb0e8_7975_11ed_af15_ec55f9ceb9c8row3_col1\" class=\"data row3 col1\" >italy</td> \n",
       "        <td id=\"T_98adb0e8_7975_11ed_af15_ec55f9ceb9c8row3_col2\" class=\"data row3 col2\" >572.48</td> \n",
       "    </tr>    <tr> \n",
       "        <th id=\"T_98adb0e8_7975_11ed_af15_ec55f9ceb9c8level0_row4\" class=\"row_heading level0 row4\" >4</th> \n",
       "        <td id=\"T_98adb0e8_7975_11ed_af15_ec55f9ceb9c8row4_col0\" class=\"data row4 col0\" >kitzbuhel</td> \n",
       "        <td id=\"T_98adb0e8_7975_11ed_af15_ec55f9ceb9c8row4_col1\" class=\"data row4 col1\" >austria</td> \n",
       "        <td id=\"T_98adb0e8_7975_11ed_af15_ec55f9ceb9c8row4_col2\" class=\"data row4 col2\" >569.34</td> \n",
       "    </tr>    <tr> \n",
       "        <th id=\"T_98adb0e8_7975_11ed_af15_ec55f9ceb9c8level0_row5\" class=\"row_heading level0 row5\" >5</th> \n",
       "        <td id=\"T_98adb0e8_7975_11ed_af15_ec55f9ceb9c8row5_col0\" class=\"data row5 col0\" >san-candido</td> \n",
       "        <td id=\"T_98adb0e8_7975_11ed_af15_ec55f9ceb9c8row5_col1\" class=\"data row5 col1\" >italy</td> \n",
       "        <td id=\"T_98adb0e8_7975_11ed_af15_ec55f9ceb9c8row5_col2\" class=\"data row5 col2\" >524</td> \n",
       "    </tr>    <tr> \n",
       "        <th id=\"T_98adb0e8_7975_11ed_af15_ec55f9ceb9c8level0_row6\" class=\"row_heading level0 row6\" >6</th> \n",
       "        <td id=\"T_98adb0e8_7975_11ed_af15_ec55f9ceb9c8row6_col0\" class=\"data row6 col0\" >schladming</td> \n",
       "        <td id=\"T_98adb0e8_7975_11ed_af15_ec55f9ceb9c8row6_col1\" class=\"data row6 col1\" >austria</td> \n",
       "        <td id=\"T_98adb0e8_7975_11ed_af15_ec55f9ceb9c8row6_col2\" class=\"data row6 col2\" >521.07</td> \n",
       "    </tr>    <tr> \n",
       "        <th id=\"T_98adb0e8_7975_11ed_af15_ec55f9ceb9c8level0_row7\" class=\"row_heading level0 row7\" >7</th> \n",
       "        <td id=\"T_98adb0e8_7975_11ed_af15_ec55f9ceb9c8row7_col0\" class=\"data row7 col0\" >ellmau</td> \n",
       "        <td id=\"T_98adb0e8_7975_11ed_af15_ec55f9ceb9c8row7_col1\" class=\"data row7 col1\" >austria</td> \n",
       "        <td id=\"T_98adb0e8_7975_11ed_af15_ec55f9ceb9c8row7_col2\" class=\"data row7 col2\" >500</td> \n",
       "    </tr>    <tr> \n",
       "        <th id=\"T_98adb0e8_7975_11ed_af15_ec55f9ceb9c8level0_row8\" class=\"row_heading level0 row8\" >8</th> \n",
       "        <td id=\"T_98adb0e8_7975_11ed_af15_ec55f9ceb9c8row8_col0\" class=\"data row8 col0\" >seefeld</td> \n",
       "        <td id=\"T_98adb0e8_7975_11ed_af15_ec55f9ceb9c8row8_col1\" class=\"data row8 col1\" >austria</td> \n",
       "        <td id=\"T_98adb0e8_7975_11ed_af15_ec55f9ceb9c8row8_col2\" class=\"data row8 col2\" >488.84</td> \n",
       "    </tr>    <tr> \n",
       "        <th id=\"T_98adb0e8_7975_11ed_af15_ec55f9ceb9c8level0_row9\" class=\"row_heading level0 row9\" >9</th> \n",
       "        <td id=\"T_98adb0e8_7975_11ed_af15_ec55f9ceb9c8row9_col0\" class=\"data row9 col0\" >mayrhofen</td> \n",
       "        <td id=\"T_98adb0e8_7975_11ed_af15_ec55f9ceb9c8row9_col1\" class=\"data row9 col1\" >austria</td> \n",
       "        <td id=\"T_98adb0e8_7975_11ed_af15_ec55f9ceb9c8row9_col2\" class=\"data row9 col2\" >480.41</td> \n",
       "    </tr>    <tr> \n",
       "        <th id=\"T_98adb0e8_7975_11ed_af15_ec55f9ceb9c8level0_row10\" class=\"row_heading level0 row10\" >10</th> \n",
       "        <td id=\"T_98adb0e8_7975_11ed_af15_ec55f9ceb9c8row10_col0\" class=\"data row10 col0\" >st-johann-in-tirol</td> \n",
       "        <td id=\"T_98adb0e8_7975_11ed_af15_ec55f9ceb9c8row10_col1\" class=\"data row10 col1\" >austria</td> \n",
       "        <td id=\"T_98adb0e8_7975_11ed_af15_ec55f9ceb9c8row10_col2\" class=\"data row10 col2\" >452.28</td> \n",
       "    </tr>    <tr> \n",
       "        <th id=\"T_98adb0e8_7975_11ed_af15_ec55f9ceb9c8level0_row11\" class=\"row_heading level0 row11\" >11</th> \n",
       "        <td id=\"T_98adb0e8_7975_11ed_af15_ec55f9ceb9c8row11_col0\" class=\"data row11 col0\" >val-di-fassa</td> \n",
       "        <td id=\"T_98adb0e8_7975_11ed_af15_ec55f9ceb9c8row11_col1\" class=\"data row11 col1\" >italy</td> \n",
       "        <td id=\"T_98adb0e8_7975_11ed_af15_ec55f9ceb9c8row11_col2\" class=\"data row11 col2\" >445.96</td> \n",
       "    </tr>    <tr> \n",
       "        <th id=\"T_98adb0e8_7975_11ed_af15_ec55f9ceb9c8level0_row12\" class=\"row_heading level0 row12\" >12</th> \n",
       "        <td id=\"T_98adb0e8_7975_11ed_af15_ec55f9ceb9c8row12_col0\" class=\"data row12 col0\" >borovets</td> \n",
       "        <td id=\"T_98adb0e8_7975_11ed_af15_ec55f9ceb9c8row12_col1\" class=\"data row12 col1\" >bulgaria</td> \n",
       "        <td id=\"T_98adb0e8_7975_11ed_af15_ec55f9ceb9c8row12_col2\" class=\"data row12 col2\" >433.33</td> \n",
       "    </tr>    <tr> \n",
       "        <th id=\"T_98adb0e8_7975_11ed_af15_ec55f9ceb9c8level0_row13\" class=\"row_heading level0 row13\" >13</th> \n",
       "        <td id=\"T_98adb0e8_7975_11ed_af15_ec55f9ceb9c8row13_col0\" class=\"data row13 col0\" >tignes-les-brevieres</td> \n",
       "        <td id=\"T_98adb0e8_7975_11ed_af15_ec55f9ceb9c8row13_col1\" class=\"data row13 col1\" >france</td> \n",
       "        <td id=\"T_98adb0e8_7975_11ed_af15_ec55f9ceb9c8row13_col2\" class=\"data row13 col2\" >400</td> \n",
       "    </tr>    <tr> \n",
       "        <th id=\"T_98adb0e8_7975_11ed_af15_ec55f9ceb9c8level0_row14\" class=\"row_heading level0 row14\" >14</th> \n",
       "        <td id=\"T_98adb0e8_7975_11ed_af15_ec55f9ceb9c8row14_col0\" class=\"data row14 col0\" >santa-cristina</td> \n",
       "        <td id=\"T_98adb0e8_7975_11ed_af15_ec55f9ceb9c8row14_col1\" class=\"data row14 col1\" >italy</td> \n",
       "        <td id=\"T_98adb0e8_7975_11ed_af15_ec55f9ceb9c8row14_col2\" class=\"data row14 col2\" >391.63</td> \n",
       "    </tr>    <tr> \n",
       "        <th id=\"T_98adb0e8_7975_11ed_af15_ec55f9ceb9c8level0_row15\" class=\"row_heading level0 row15\" >15</th> \n",
       "        <td id=\"T_98adb0e8_7975_11ed_af15_ec55f9ceb9c8row15_col0\" class=\"data row15 col0\" >la-thuile</td> \n",
       "        <td id=\"T_98adb0e8_7975_11ed_af15_ec55f9ceb9c8row15_col1\" class=\"data row15 col1\" >italy</td> \n",
       "        <td id=\"T_98adb0e8_7975_11ed_af15_ec55f9ceb9c8row15_col2\" class=\"data row15 col2\" >377.5</td> \n",
       "    </tr>    <tr> \n",
       "        <th id=\"T_98adb0e8_7975_11ed_af15_ec55f9ceb9c8level0_row16\" class=\"row_heading level0 row16\" >16</th> \n",
       "        <td id=\"T_98adb0e8_7975_11ed_af15_ec55f9ceb9c8row16_col0\" class=\"data row16 col0\" >sestriere</td> \n",
       "        <td id=\"T_98adb0e8_7975_11ed_af15_ec55f9ceb9c8row16_col1\" class=\"data row16 col1\" >italy</td> \n",
       "        <td id=\"T_98adb0e8_7975_11ed_af15_ec55f9ceb9c8row16_col2\" class=\"data row16 col2\" >369.96</td> \n",
       "    </tr>    <tr> \n",
       "        <th id=\"T_98adb0e8_7975_11ed_af15_ec55f9ceb9c8level0_row17\" class=\"row_heading level0 row17\" >17</th> \n",
       "        <td id=\"T_98adb0e8_7975_11ed_af15_ec55f9ceb9c8row17_col0\" class=\"data row17 col0\" >bad-gastein</td> \n",
       "        <td id=\"T_98adb0e8_7975_11ed_af15_ec55f9ceb9c8row17_col1\" class=\"data row17 col1\" >austria</td> \n",
       "        <td id=\"T_98adb0e8_7975_11ed_af15_ec55f9ceb9c8row17_col2\" class=\"data row17 col2\" >368.45</td> \n",
       "    </tr>    <tr> \n",
       "        <th id=\"T_98adb0e8_7975_11ed_af15_ec55f9ceb9c8level0_row18\" class=\"row_heading level0 row18\" >18</th> \n",
       "        <td id=\"T_98adb0e8_7975_11ed_af15_ec55f9ceb9c8row18_col0\" class=\"data row18 col0\" >st-anton</td> \n",
       "        <td id=\"T_98adb0e8_7975_11ed_af15_ec55f9ceb9c8row18_col1\" class=\"data row18 col1\" >austria</td> \n",
       "        <td id=\"T_98adb0e8_7975_11ed_af15_ec55f9ceb9c8row18_col2\" class=\"data row18 col2\" >364.29</td> \n",
       "    </tr>    <tr> \n",
       "        <th id=\"T_98adb0e8_7975_11ed_af15_ec55f9ceb9c8level0_row19\" class=\"row_heading level0 row19\" >19</th> \n",
       "        <td id=\"T_98adb0e8_7975_11ed_af15_ec55f9ceb9c8row19_col0\" class=\"data row19 col0\" >solden</td> \n",
       "        <td id=\"T_98adb0e8_7975_11ed_af15_ec55f9ceb9c8row19_col1\" class=\"data row19 col1\" >austria</td> \n",
       "        <td id=\"T_98adb0e8_7975_11ed_af15_ec55f9ceb9c8row19_col2\" class=\"data row19 col2\" >364.28</td> \n",
       "    </tr></tbody> \n",
       "</table>       <style  type=\"text/css\" >\n",
       "</style>  \n",
       "<table id=\"T_98af5e9e_7975_11ed_b019_ec55f9ceb9c8\" style='display:inline'><caption>Курорты с минимальным средним расстоянием до подъёмников</caption> \n",
       "<thead>    <tr> \n",
       "        <th class=\"blank level0\" ></th> \n",
       "        <th class=\"col_heading level0 col0\" >resort</th> \n",
       "        <th class=\"col_heading level0 col1\" >country</th> \n",
       "        <th class=\"col_heading level0 col2\" >meters_from_lift</th> \n",
       "    </tr></thead> \n",
       "<tbody>    <tr> \n",
       "        <th id=\"T_98af5e9e_7975_11ed_b019_ec55f9ceb9c8level0_row0\" class=\"row_heading level0 row0\" >0</th> \n",
       "        <td id=\"T_98af5e9e_7975_11ed_b019_ec55f9ceb9c8row0_col0\" class=\"data row0 col0\" >meribel</td> \n",
       "        <td id=\"T_98af5e9e_7975_11ed_b019_ec55f9ceb9c8row0_col1\" class=\"data row0 col1\" >france</td> \n",
       "        <td id=\"T_98af5e9e_7975_11ed_b019_ec55f9ceb9c8row0_col2\" class=\"data row0 col2\" >50</td> \n",
       "    </tr>    <tr> \n",
       "        <th id=\"T_98af5e9e_7975_11ed_b019_ec55f9ceb9c8level0_row1\" class=\"row_heading level0 row1\" >1</th> \n",
       "        <td id=\"T_98af5e9e_7975_11ed_b019_ec55f9ceb9c8row1_col0\" class=\"data row1 col0\" >hochgurgl</td> \n",
       "        <td id=\"T_98af5e9e_7975_11ed_b019_ec55f9ceb9c8row1_col1\" class=\"data row1 col1\" >austria</td> \n",
       "        <td id=\"T_98af5e9e_7975_11ed_b019_ec55f9ceb9c8row1_col2\" class=\"data row1 col2\" >50</td> \n",
       "    </tr>    <tr> \n",
       "        <th id=\"T_98af5e9e_7975_11ed_b019_ec55f9ceb9c8level0_row2\" class=\"row_heading level0 row2\" >2</th> \n",
       "        <td id=\"T_98af5e9e_7975_11ed_b019_ec55f9ceb9c8row2_col0\" class=\"data row2 col0\" >pyha</td> \n",
       "        <td id=\"T_98af5e9e_7975_11ed_b019_ec55f9ceb9c8row2_col1\" class=\"data row2 col1\" >finland</td> \n",
       "        <td id=\"T_98af5e9e_7975_11ed_b019_ec55f9ceb9c8row2_col2\" class=\"data row2 col2\" >50</td> \n",
       "    </tr>    <tr> \n",
       "        <th id=\"T_98af5e9e_7975_11ed_b019_ec55f9ceb9c8level0_row3\" class=\"row_heading level0 row3\" >3</th> \n",
       "        <td id=\"T_98af5e9e_7975_11ed_b019_ec55f9ceb9c8row3_col0\" class=\"data row3 col0\" >ruka</td> \n",
       "        <td id=\"T_98af5e9e_7975_11ed_b019_ec55f9ceb9c8row3_col1\" class=\"data row3 col1\" >finland</td> \n",
       "        <td id=\"T_98af5e9e_7975_11ed_b019_ec55f9ceb9c8row3_col2\" class=\"data row3 col2\" >50</td> \n",
       "    </tr>    <tr> \n",
       "        <th id=\"T_98af5e9e_7975_11ed_b019_ec55f9ceb9c8level0_row4\" class=\"row_heading level0 row4\" >4</th> \n",
       "        <td id=\"T_98af5e9e_7975_11ed_b019_ec55f9ceb9c8row4_col0\" class=\"data row4 col0\" >courchevel-1650</td> \n",
       "        <td id=\"T_98af5e9e_7975_11ed_b019_ec55f9ceb9c8row4_col1\" class=\"data row4 col1\" >france</td> \n",
       "        <td id=\"T_98af5e9e_7975_11ed_b019_ec55f9ceb9c8row4_col2\" class=\"data row4 col2\" >50</td> \n",
       "    </tr>    <tr> \n",
       "        <th id=\"T_98af5e9e_7975_11ed_b019_ec55f9ceb9c8level0_row5\" class=\"row_heading level0 row5\" >5</th> \n",
       "        <td id=\"T_98af5e9e_7975_11ed_b019_ec55f9ceb9c8row5_col0\" class=\"data row5 col0\" >yllas</td> \n",
       "        <td id=\"T_98af5e9e_7975_11ed_b019_ec55f9ceb9c8row5_col1\" class=\"data row5 col1\" >finland</td> \n",
       "        <td id=\"T_98af5e9e_7975_11ed_b019_ec55f9ceb9c8row5_col2\" class=\"data row5 col2\" >50</td> \n",
       "    </tr>    <tr> \n",
       "        <th id=\"T_98af5e9e_7975_11ed_b019_ec55f9ceb9c8level0_row6\" class=\"row_heading level0 row6\" >6</th> \n",
       "        <td id=\"T_98af5e9e_7975_11ed_b019_ec55f9ceb9c8row6_col0\" class=\"data row6 col0\" >montgenevre</td> \n",
       "        <td id=\"T_98af5e9e_7975_11ed_b019_ec55f9ceb9c8row6_col1\" class=\"data row6 col1\" >france</td> \n",
       "        <td id=\"T_98af5e9e_7975_11ed_b019_ec55f9ceb9c8row6_col2\" class=\"data row6 col2\" >55</td> \n",
       "    </tr>    <tr> \n",
       "        <th id=\"T_98af5e9e_7975_11ed_b019_ec55f9ceb9c8level0_row7\" class=\"row_heading level0 row7\" >7</th> \n",
       "        <td id=\"T_98af5e9e_7975_11ed_b019_ec55f9ceb9c8row7_col0\" class=\"data row7 col0\" >tignes-le-lac</td> \n",
       "        <td id=\"T_98af5e9e_7975_11ed_b019_ec55f9ceb9c8row7_col1\" class=\"data row7 col1\" >france</td> \n",
       "        <td id=\"T_98af5e9e_7975_11ed_b019_ec55f9ceb9c8row7_col2\" class=\"data row7 col2\" >75</td> \n",
       "    </tr>    <tr> \n",
       "        <th id=\"T_98af5e9e_7975_11ed_b019_ec55f9ceb9c8level0_row8\" class=\"row_heading level0 row8\" >8</th> \n",
       "        <td id=\"T_98af5e9e_7975_11ed_b019_ec55f9ceb9c8row8_col0\" class=\"data row8 col0\" >tignes-val-claret</td> \n",
       "        <td id=\"T_98af5e9e_7975_11ed_b019_ec55f9ceb9c8row8_col1\" class=\"data row8 col1\" >france</td> \n",
       "        <td id=\"T_98af5e9e_7975_11ed_b019_ec55f9ceb9c8row8_col2\" class=\"data row8 col2\" >75</td> \n",
       "    </tr>    <tr> \n",
       "        <th id=\"T_98af5e9e_7975_11ed_b019_ec55f9ceb9c8level0_row9\" class=\"row_heading level0 row9\" >9</th> \n",
       "        <td id=\"T_98af5e9e_7975_11ed_b019_ec55f9ceb9c8row9_col0\" class=\"data row9 col0\" >les-arcs-1800</td> \n",
       "        <td id=\"T_98af5e9e_7975_11ed_b019_ec55f9ceb9c8row9_col1\" class=\"data row9 col1\" >france</td> \n",
       "        <td id=\"T_98af5e9e_7975_11ed_b019_ec55f9ceb9c8row9_col2\" class=\"data row9 col2\" >75</td> \n",
       "    </tr>    <tr> \n",
       "        <th id=\"T_98af5e9e_7975_11ed_b019_ec55f9ceb9c8level0_row10\" class=\"row_heading level0 row10\" >10</th> \n",
       "        <td id=\"T_98af5e9e_7975_11ed_b019_ec55f9ceb9c8row10_col0\" class=\"data row10 col0\" >la-tania</td> \n",
       "        <td id=\"T_98af5e9e_7975_11ed_b019_ec55f9ceb9c8row10_col1\" class=\"data row10 col1\" >france</td> \n",
       "        <td id=\"T_98af5e9e_7975_11ed_b019_ec55f9ceb9c8row10_col2\" class=\"data row10 col2\" >75</td> \n",
       "    </tr>    <tr> \n",
       "        <th id=\"T_98af5e9e_7975_11ed_b019_ec55f9ceb9c8level0_row11\" class=\"row_heading level0 row11\" >11</th> \n",
       "        <td id=\"T_98af5e9e_7975_11ed_b019_ec55f9ceb9c8row11_col0\" class=\"data row11 col0\" >hinterglemm</td> \n",
       "        <td id=\"T_98af5e9e_7975_11ed_b019_ec55f9ceb9c8row11_col1\" class=\"data row11 col1\" >austria</td> \n",
       "        <td id=\"T_98af5e9e_7975_11ed_b019_ec55f9ceb9c8row11_col2\" class=\"data row11 col2\" >78.84</td> \n",
       "    </tr>    <tr> \n",
       "        <th id=\"T_98af5e9e_7975_11ed_b019_ec55f9ceb9c8level0_row12\" class=\"row_heading level0 row12\" >12</th> \n",
       "        <td id=\"T_98af5e9e_7975_11ed_b019_ec55f9ceb9c8row12_col0\" class=\"data row12 col0\" >st-christoph</td> \n",
       "        <td id=\"T_98af5e9e_7975_11ed_b019_ec55f9ceb9c8row12_col1\" class=\"data row12 col1\" >austria</td> \n",
       "        <td id=\"T_98af5e9e_7975_11ed_b019_ec55f9ceb9c8row12_col2\" class=\"data row12 col2\" >85</td> \n",
       "    </tr>    <tr> \n",
       "        <th id=\"T_98af5e9e_7975_11ed_b019_ec55f9ceb9c8level0_row13\" class=\"row_heading level0 row13\" >13</th> \n",
       "        <td id=\"T_98af5e9e_7975_11ed_b019_ec55f9ceb9c8row13_col0\" class=\"data row13 col0\" >plagne-centre</td> \n",
       "        <td id=\"T_98af5e9e_7975_11ed_b019_ec55f9ceb9c8row13_col1\" class=\"data row13 col1\" >france</td> \n",
       "        <td id=\"T_98af5e9e_7975_11ed_b019_ec55f9ceb9c8row13_col2\" class=\"data row13 col2\" >100</td> \n",
       "    </tr>    <tr> \n",
       "        <th id=\"T_98af5e9e_7975_11ed_b019_ec55f9ceb9c8level0_row14\" class=\"row_heading level0 row14\" >14</th> \n",
       "        <td id=\"T_98af5e9e_7975_11ed_b019_ec55f9ceb9c8row14_col0\" class=\"data row14 col0\" >morzine</td> \n",
       "        <td id=\"T_98af5e9e_7975_11ed_b019_ec55f9ceb9c8row14_col1\" class=\"data row14 col1\" >france</td> \n",
       "        <td id=\"T_98af5e9e_7975_11ed_b019_ec55f9ceb9c8row14_col2\" class=\"data row14 col2\" >100</td> \n",
       "    </tr>    <tr> \n",
       "        <th id=\"T_98af5e9e_7975_11ed_b019_ec55f9ceb9c8level0_row15\" class=\"row_heading level0 row15\" >15</th> \n",
       "        <td id=\"T_98af5e9e_7975_11ed_b019_ec55f9ceb9c8row15_col0\" class=\"data row15 col0\" >courchevel-1850</td> \n",
       "        <td id=\"T_98af5e9e_7975_11ed_b019_ec55f9ceb9c8row15_col1\" class=\"data row15 col1\" >france</td> \n",
       "        <td id=\"T_98af5e9e_7975_11ed_b019_ec55f9ceb9c8row15_col2\" class=\"data row15 col2\" >100</td> \n",
       "    </tr>    <tr> \n",
       "        <th id=\"T_98af5e9e_7975_11ed_b019_ec55f9ceb9c8level0_row16\" class=\"row_heading level0 row16\" >16</th> \n",
       "        <td id=\"T_98af5e9e_7975_11ed_b019_ec55f9ceb9c8row16_col0\" class=\"data row16 col0\" >les-menuires</td> \n",
       "        <td id=\"T_98af5e9e_7975_11ed_b019_ec55f9ceb9c8row16_col1\" class=\"data row16 col1\" >france</td> \n",
       "        <td id=\"T_98af5e9e_7975_11ed_b019_ec55f9ceb9c8row16_col2\" class=\"data row16 col2\" >100</td> \n",
       "    </tr>    <tr> \n",
       "        <th id=\"T_98af5e9e_7975_11ed_b019_ec55f9ceb9c8level0_row17\" class=\"row_heading level0 row17\" >17</th> \n",
       "        <td id=\"T_98af5e9e_7975_11ed_b019_ec55f9ceb9c8row17_col0\" class=\"data row17 col0\" >les-arcs-2000</td> \n",
       "        <td id=\"T_98af5e9e_7975_11ed_b019_ec55f9ceb9c8row17_col1\" class=\"data row17 col1\" >france</td> \n",
       "        <td id=\"T_98af5e9e_7975_11ed_b019_ec55f9ceb9c8row17_col2\" class=\"data row17 col2\" >100</td> \n",
       "    </tr>    <tr> \n",
       "        <th id=\"T_98af5e9e_7975_11ed_b019_ec55f9ceb9c8level0_row18\" class=\"row_heading level0 row18\" >18</th> \n",
       "        <td id=\"T_98af5e9e_7975_11ed_b019_ec55f9ceb9c8row18_col0\" class=\"data row18 col0\" >les-arcs-1600</td> \n",
       "        <td id=\"T_98af5e9e_7975_11ed_b019_ec55f9ceb9c8row18_col1\" class=\"data row18 col1\" >france</td> \n",
       "        <td id=\"T_98af5e9e_7975_11ed_b019_ec55f9ceb9c8row18_col2\" class=\"data row18 col2\" >100</td> \n",
       "    </tr>    <tr> \n",
       "        <th id=\"T_98af5e9e_7975_11ed_b019_ec55f9ceb9c8level0_row19\" class=\"row_heading level0 row19\" >19</th> \n",
       "        <td id=\"T_98af5e9e_7975_11ed_b019_ec55f9ceb9c8row19_col0\" class=\"data row19 col0\" >flaine</td> \n",
       "        <td id=\"T_98af5e9e_7975_11ed_b019_ec55f9ceb9c8row19_col1\" class=\"data row19 col1\" >france</td> \n",
       "        <td id=\"T_98af5e9e_7975_11ed_b019_ec55f9ceb9c8row19_col2\" class=\"data row19 col2\" >100</td> \n",
       "    </tr></tbody> \n",
       "</table> "
      ]
     },
     "metadata": {},
     "output_type": "display_data"
    }
   ],
   "source": [
    "two_sets_beside(max_meters_from_lift, min_meters_from_lift, 'Курорты с максимальным средним расстоянием до подъёмников', \\\n",
    "               'Курорты с минимальным средним расстоянием до подъёмников')"
   ]
  },
  {
   "cell_type": "markdown",
   "metadata": {},
   "source": [
    "Взглянем на общее числовое описание столбца:"
   ]
  },
  {
   "cell_type": "code",
   "execution_count": 45,
   "metadata": {},
   "outputs": [
    {
     "data": {
      "text/plain": [
       "count     393.00\n",
       "mean      277.22\n",
       "std       303.67\n",
       "min         5.00\n",
       "25%       140.00\n",
       "50%       200.00\n",
       "75%       300.00\n",
       "max      3000.00\n",
       "Name: meters_from_lift, dtype: float64"
      ]
     },
     "metadata": {},
     "output_type": "display_data"
    }
   ],
   "source": [
    "d(df.meters_from_lift)"
   ]
  },
  {
   "cell_type": "markdown",
   "metadata": {},
   "source": [
    "**В среднем - 277 метров, а медиана - 200 метров**. Расстояния не очень далёкие - для \"среднего отеля\" этот пункт стоит учесть. За неимением данных о популярности отелей и курортов, нам сложно сделать какие-либо выводы - логично, что чем ближе - тем лучше, но, вполне возможно, что большое расстояние означает лучшие трассы для катания, лучшие виды и так далее. Ознакомимся с гистограммой:"
   ]
  },
  {
   "cell_type": "code",
   "execution_count": 46,
   "metadata": {},
   "outputs": [
    {
     "data": {
      "image/png": "[encoded data removed]",
      "text/plain": [
       "<Figure size 1080x432 with 1 Axes>"
      ]
     },
     "metadata": {
      "needs_background": "light"
     },
     "output_type": "display_data"
    }
   ],
   "source": [
    "perfect_hist(df['meters_from_lift'], 50, '#f0f9ff', \\\n",
    "             'Распределение значений в столбце meters_from_lift', \\\n",
    "             'Расстояние от отелей до подъёмников, метры', 'Частота встречаемости расстояния')"
   ]
  },
  {
   "cell_type": "markdown",
   "metadata": {},
   "source": [
    "На графике мы видим, что в большинстве случаев расстояния небольшие."
   ]
  },
  {
   "cell_type": "code",
   "execution_count": 47,
   "metadata": {},
   "outputs": [
    {
     "data": {
      "image/png": "[encoded data removed]",
      "text/plain": [
       "<Figure size 1080x360 with 1 Axes>"
      ]
     },
     "metadata": {
      "needs_background": "light"
     },
     "output_type": "display_data"
    }
   ],
   "source": [
    "amazing_boxplot(df['meters_from_lift'], 'Распределение значений в столбце meters_from_lift', \\\n",
    "                '#f0f9ff', 'Расстояние от отелей до подъёмников, метры')"
   ]
  },
  {
   "cell_type": "markdown",
   "metadata": {},
   "source": [
    "Несколько неожиданно. Посмотрим, сколько значений больше 500 метров:"
   ]
  },
  {
   "cell_type": "code",
   "execution_count": 48,
   "metadata": {},
   "outputs": [
    {
     "data": {
      "text/plain": [
       "41"
      ]
     },
     "execution_count": 48,
     "metadata": {},
     "output_type": "execute_result"
    }
   ],
   "source": [
    "len(df[df['meters_from_lift'] > 500])"
   ]
  },
  {
   "cell_type": "markdown",
   "metadata": {},
   "source": [
    "**Почти 10% данных** - это много. Тем более, отели вполне могут быть расположены в таких местах, где до подъёмников далеко - уберём только значения больше 1000 метров. Заодно округлим столбец до целых чисел, нам ни к чему избыточная точность здесь:"
   ]
  },
  {
   "cell_type": "code",
   "execution_count": 49,
   "metadata": {},
   "outputs": [],
   "source": [
    "df['meters_from_lift'] = df['meters_from_lift'].astype('int64')\n",
    "df = df[df['meters_from_lift'] < 1001].reset_index(drop=True)"
   ]
  },
  {
   "cell_type": "markdown",
   "metadata": {},
   "source": [
    "<a id='eda_altitude_m'> </a>\n",
    "\n",
    "---\n",
    "> ### 2.5 altitude_m\n",
    "\n",
    "Сравним высоты, на которых находятся курорты. В группировке укажем расстояние до подъёмников - ведь **курорт может располагаться у подножья горы, а трасса - на расстоянии**. Также выведем данные по общей длине трасс:"
   ]
  },
  {
   "cell_type": "code",
   "execution_count": 50,
   "metadata": {},
   "outputs": [
    {
     "data": {
      "text/html": [
       "<style  type=\"text/css\" >\n",
       "</style>  \n",
       "<table id=\"T_992d78be_7975_11ed_abd5_ec55f9ceb9c8\" style='display:inline'><caption>Курорты с максимальной высотой</caption> \n",
       "<thead>    <tr> \n",
       "        <th class=\"blank level0\" ></th> \n",
       "        <th class=\"col_heading level0 col0\" >resort</th> \n",
       "        <th class=\"col_heading level0 col1\" >country</th> \n",
       "        <th class=\"col_heading level0 col2\" >altitude_m</th> \n",
       "        <th class=\"col_heading level0 col3\" >meters_from_lift</th> \n",
       "        <th class=\"col_heading level0 col4\" >total_piste_km</th> \n",
       "    </tr></thead> \n",
       "<tbody>    <tr> \n",
       "        <th id=\"T_992d78be_7975_11ed_abd5_ec55f9ceb9c8level0_row0\" class=\"row_heading level0 row0\" >0</th> \n",
       "        <td id=\"T_992d78be_7975_11ed_abd5_ec55f9ceb9c8row0_col0\" class=\"data row0 col0\" >val-thorens</td> \n",
       "        <td id=\"T_992d78be_7975_11ed_abd5_ec55f9ceb9c8row0_col1\" class=\"data row0 col1\" >france</td> \n",
       "        <td id=\"T_992d78be_7975_11ed_abd5_ec55f9ceb9c8row0_col2\" class=\"data row0 col2\" >2300</td> \n",
       "        <td id=\"T_992d78be_7975_11ed_abd5_ec55f9ceb9c8row0_col3\" class=\"data row0 col3\" >158.33</td> \n",
       "        <td id=\"T_992d78be_7975_11ed_abd5_ec55f9ceb9c8row0_col4\" class=\"data row0 col4\" >600</td> \n",
       "    </tr>    <tr> \n",
       "        <th id=\"T_992d78be_7975_11ed_abd5_ec55f9ceb9c8level0_row1\" class=\"row_heading level0 row1\" >1</th> \n",
       "        <td id=\"T_992d78be_7975_11ed_abd5_ec55f9ceb9c8row1_col0\" class=\"data row1 col0\" >hochgurgl</td> \n",
       "        <td id=\"T_992d78be_7975_11ed_abd5_ec55f9ceb9c8row1_col1\" class=\"data row1 col1\" >austria</td> \n",
       "        <td id=\"T_992d78be_7975_11ed_abd5_ec55f9ceb9c8row1_col2\" class=\"data row1 col2\" >2150</td> \n",
       "        <td id=\"T_992d78be_7975_11ed_abd5_ec55f9ceb9c8row1_col3\" class=\"data row1 col3\" >50</td> \n",
       "        <td id=\"T_992d78be_7975_11ed_abd5_ec55f9ceb9c8row1_col4\" class=\"data row1 col4\" >0</td> \n",
       "    </tr>    <tr> \n",
       "        <th id=\"T_992d78be_7975_11ed_abd5_ec55f9ceb9c8level0_row2\" class=\"row_heading level0 row2\" >2</th> \n",
       "        <td id=\"T_992d78be_7975_11ed_abd5_ec55f9ceb9c8row2_col0\" class=\"data row2 col0\" >aime-la-plagne</td> \n",
       "        <td id=\"T_992d78be_7975_11ed_abd5_ec55f9ceb9c8row2_col1\" class=\"data row2 col1\" >france</td> \n",
       "        <td id=\"T_992d78be_7975_11ed_abd5_ec55f9ceb9c8row2_col2\" class=\"data row2 col2\" >2100</td> \n",
       "        <td id=\"T_992d78be_7975_11ed_abd5_ec55f9ceb9c8row2_col3\" class=\"data row2 col3\" >100</td> \n",
       "        <td id=\"T_992d78be_7975_11ed_abd5_ec55f9ceb9c8row2_col4\" class=\"data row2 col4\" >225</td> \n",
       "    </tr>    <tr> \n",
       "        <th id=\"T_992d78be_7975_11ed_abd5_ec55f9ceb9c8level0_row3\" class=\"row_heading level0 row3\" >3</th> \n",
       "        <td id=\"T_992d78be_7975_11ed_abd5_ec55f9ceb9c8row3_col0\" class=\"data row3 col0\" >plagne-soleil</td> \n",
       "        <td id=\"T_992d78be_7975_11ed_abd5_ec55f9ceb9c8row3_col1\" class=\"data row3 col1\" >france</td> \n",
       "        <td id=\"T_992d78be_7975_11ed_abd5_ec55f9ceb9c8row3_col2\" class=\"data row3 col2\" >2100</td> \n",
       "        <td id=\"T_992d78be_7975_11ed_abd5_ec55f9ceb9c8row3_col3\" class=\"data row3 col3\" >200</td> \n",
       "        <td id=\"T_992d78be_7975_11ed_abd5_ec55f9ceb9c8row3_col4\" class=\"data row3 col4\" >225</td> \n",
       "    </tr>    <tr> \n",
       "        <th id=\"T_992d78be_7975_11ed_abd5_ec55f9ceb9c8level0_row4\" class=\"row_heading level0 row4\" >4</th> \n",
       "        <td id=\"T_992d78be_7975_11ed_abd5_ec55f9ceb9c8row4_col0\" class=\"data row4 col0\" >plagne-centre</td> \n",
       "        <td id=\"T_992d78be_7975_11ed_abd5_ec55f9ceb9c8row4_col1\" class=\"data row4 col1\" >france</td> \n",
       "        <td id=\"T_992d78be_7975_11ed_abd5_ec55f9ceb9c8row4_col2\" class=\"data row4 col2\" >2100</td> \n",
       "        <td id=\"T_992d78be_7975_11ed_abd5_ec55f9ceb9c8row4_col3\" class=\"data row4 col3\" >100</td> \n",
       "        <td id=\"T_992d78be_7975_11ed_abd5_ec55f9ceb9c8row4_col4\" class=\"data row4 col4\" >225</td> \n",
       "    </tr>    <tr> \n",
       "        <th id=\"T_992d78be_7975_11ed_abd5_ec55f9ceb9c8level0_row5\" class=\"row_heading level0 row5\" >5</th> \n",
       "        <td id=\"T_992d78be_7975_11ed_abd5_ec55f9ceb9c8row5_col0\" class=\"data row5 col0\" >tignes-val-claret</td> \n",
       "        <td id=\"T_992d78be_7975_11ed_abd5_ec55f9ceb9c8row5_col1\" class=\"data row5 col1\" >france</td> \n",
       "        <td id=\"T_992d78be_7975_11ed_abd5_ec55f9ceb9c8row5_col2\" class=\"data row5 col2\" >2100</td> \n",
       "        <td id=\"T_992d78be_7975_11ed_abd5_ec55f9ceb9c8row5_col3\" class=\"data row5 col3\" >75</td> \n",
       "        <td id=\"T_992d78be_7975_11ed_abd5_ec55f9ceb9c8row5_col4\" class=\"data row5 col4\" >300</td> \n",
       "    </tr>    <tr> \n",
       "        <th id=\"T_992d78be_7975_11ed_abd5_ec55f9ceb9c8level0_row6\" class=\"row_heading level0 row6\" >6</th> \n",
       "        <td id=\"T_992d78be_7975_11ed_abd5_ec55f9ceb9c8row6_col0\" class=\"data row6 col0\" >tignes-le-lac</td> \n",
       "        <td id=\"T_992d78be_7975_11ed_abd5_ec55f9ceb9c8row6_col1\" class=\"data row6 col1\" >france</td> \n",
       "        <td id=\"T_992d78be_7975_11ed_abd5_ec55f9ceb9c8row6_col2\" class=\"data row6 col2\" >2100</td> \n",
       "        <td id=\"T_992d78be_7975_11ed_abd5_ec55f9ceb9c8row6_col3\" class=\"data row6 col3\" >75</td> \n",
       "        <td id=\"T_992d78be_7975_11ed_abd5_ec55f9ceb9c8row6_col4\" class=\"data row6 col4\" >300</td> \n",
       "    </tr>    <tr> \n",
       "        <th id=\"T_992d78be_7975_11ed_abd5_ec55f9ceb9c8level0_row7\" class=\"row_heading level0 row7\" >7</th> \n",
       "        <td id=\"T_992d78be_7975_11ed_abd5_ec55f9ceb9c8row7_col0\" class=\"data row7 col0\" >tignes</td> \n",
       "        <td id=\"T_992d78be_7975_11ed_abd5_ec55f9ceb9c8row7_col1\" class=\"data row7 col1\" >france</td> \n",
       "        <td id=\"T_992d78be_7975_11ed_abd5_ec55f9ceb9c8row7_col2\" class=\"data row7 col2\" >2100</td> \n",
       "        <td id=\"T_992d78be_7975_11ed_abd5_ec55f9ceb9c8row7_col3\" class=\"data row7 col3\" >210</td> \n",
       "        <td id=\"T_992d78be_7975_11ed_abd5_ec55f9ceb9c8row7_col4\" class=\"data row7 col4\" >300</td> \n",
       "    </tr>    <tr> \n",
       "        <th id=\"T_992d78be_7975_11ed_abd5_ec55f9ceb9c8level0_row8\" class=\"row_heading level0 row8\" >8</th> \n",
       "        <td id=\"T_992d78be_7975_11ed_abd5_ec55f9ceb9c8row8_col0\" class=\"data row8 col0\" >hochsolden</td> \n",
       "        <td id=\"T_992d78be_7975_11ed_abd5_ec55f9ceb9c8row8_col1\" class=\"data row8 col1\" >austria</td> \n",
       "        <td id=\"T_992d78be_7975_11ed_abd5_ec55f9ceb9c8row8_col2\" class=\"data row8 col2\" >2090</td> \n",
       "        <td id=\"T_992d78be_7975_11ed_abd5_ec55f9ceb9c8row8_col3\" class=\"data row8 col3\" >205</td> \n",
       "        <td id=\"T_992d78be_7975_11ed_abd5_ec55f9ceb9c8row8_col4\" class=\"data row8 col4\" >146</td> \n",
       "    </tr>    <tr> \n",
       "        <th id=\"T_992d78be_7975_11ed_abd5_ec55f9ceb9c8level0_row9\" class=\"row_heading level0 row9\" >9</th> \n",
       "        <td id=\"T_992d78be_7975_11ed_abd5_ec55f9ceb9c8row9_col0\" class=\"data row9 col0\" >pas-de-la-casa</td> \n",
       "        <td id=\"T_992d78be_7975_11ed_abd5_ec55f9ceb9c8row9_col1\" class=\"data row9 col1\" >andorra</td> \n",
       "        <td id=\"T_992d78be_7975_11ed_abd5_ec55f9ceb9c8row9_col2\" class=\"data row9 col2\" >2050</td> \n",
       "        <td id=\"T_992d78be_7975_11ed_abd5_ec55f9ceb9c8row9_col3\" class=\"data row9 col3\" >181.36</td> \n",
       "        <td id=\"T_992d78be_7975_11ed_abd5_ec55f9ceb9c8row9_col4\" class=\"data row9 col4\" >193</td> \n",
       "    </tr>    <tr> \n",
       "        <th id=\"T_992d78be_7975_11ed_abd5_ec55f9ceb9c8level0_row10\" class=\"row_heading level0 row10\" >10</th> \n",
       "        <td id=\"T_992d78be_7975_11ed_abd5_ec55f9ceb9c8row10_col0\" class=\"data row10 col0\" >cervinia</td> \n",
       "        <td id=\"T_992d78be_7975_11ed_abd5_ec55f9ceb9c8row10_col1\" class=\"data row10 col1\" >italy</td> \n",
       "        <td id=\"T_992d78be_7975_11ed_abd5_ec55f9ceb9c8row10_col2\" class=\"data row10 col2\" >2050</td> \n",
       "        <td id=\"T_992d78be_7975_11ed_abd5_ec55f9ceb9c8row10_col3\" class=\"data row10 col3\" >205.5</td> \n",
       "        <td id=\"T_992d78be_7975_11ed_abd5_ec55f9ceb9c8row10_col4\" class=\"data row10 col4\" >350</td> \n",
       "    </tr>    <tr> \n",
       "        <th id=\"T_992d78be_7975_11ed_abd5_ec55f9ceb9c8level0_row11\" class=\"row_heading level0 row11\" >11</th> \n",
       "        <td id=\"T_992d78be_7975_11ed_abd5_ec55f9ceb9c8row11_col0\" class=\"data row11 col0\" >belle-plagne</td> \n",
       "        <td id=\"T_992d78be_7975_11ed_abd5_ec55f9ceb9c8row11_col1\" class=\"data row11 col1\" >france</td> \n",
       "        <td id=\"T_992d78be_7975_11ed_abd5_ec55f9ceb9c8row11_col2\" class=\"data row11 col2\" >2050</td> \n",
       "        <td id=\"T_992d78be_7975_11ed_abd5_ec55f9ceb9c8row11_col3\" class=\"data row11 col3\" >150</td> \n",
       "        <td id=\"T_992d78be_7975_11ed_abd5_ec55f9ceb9c8row11_col4\" class=\"data row11 col4\" >425</td> \n",
       "    </tr>    <tr> \n",
       "        <th id=\"T_992d78be_7975_11ed_abd5_ec55f9ceb9c8level0_row12\" class=\"row_heading level0 row12\" >12</th> \n",
       "        <td id=\"T_992d78be_7975_11ed_abd5_ec55f9ceb9c8row12_col0\" class=\"data row12 col0\" >sestriere</td> \n",
       "        <td id=\"T_992d78be_7975_11ed_abd5_ec55f9ceb9c8row12_col1\" class=\"data row12 col1\" >italy</td> \n",
       "        <td id=\"T_992d78be_7975_11ed_abd5_ec55f9ceb9c8row12_col2\" class=\"data row12 col2\" >2035</td> \n",
       "        <td id=\"T_992d78be_7975_11ed_abd5_ec55f9ceb9c8row12_col3\" class=\"data row12 col3\" >369.6</td> \n",
       "        <td id=\"T_992d78be_7975_11ed_abd5_ec55f9ceb9c8row12_col4\" class=\"data row12 col4\" >400</td> \n",
       "    </tr>    <tr> \n",
       "        <th id=\"T_992d78be_7975_11ed_abd5_ec55f9ceb9c8level0_row13\" class=\"row_heading level0 row13\" >13</th> \n",
       "        <td id=\"T_992d78be_7975_11ed_abd5_ec55f9ceb9c8row13_col0\" class=\"data row13 col0\" >les-arcs-2000</td> \n",
       "        <td id=\"T_992d78be_7975_11ed_abd5_ec55f9ceb9c8row13_col1\" class=\"data row13 col1\" >france</td> \n",
       "        <td id=\"T_992d78be_7975_11ed_abd5_ec55f9ceb9c8row13_col2\" class=\"data row13 col2\" >2000</td> \n",
       "        <td id=\"T_992d78be_7975_11ed_abd5_ec55f9ceb9c8row13_col3\" class=\"data row13 col3\" >100</td> \n",
       "        <td id=\"T_992d78be_7975_11ed_abd5_ec55f9ceb9c8row13_col4\" class=\"data row13 col4\" >200</td> \n",
       "    </tr>    <tr> \n",
       "        <th id=\"T_992d78be_7975_11ed_abd5_ec55f9ceb9c8level0_row14\" class=\"row_heading level0 row14\" >14</th> \n",
       "        <td id=\"T_992d78be_7975_11ed_abd5_ec55f9ceb9c8row14_col0\" class=\"data row14 col0\" >obergurgl</td> \n",
       "        <td id=\"T_992d78be_7975_11ed_abd5_ec55f9ceb9c8row14_col1\" class=\"data row14 col1\" >austria</td> \n",
       "        <td id=\"T_992d78be_7975_11ed_abd5_ec55f9ceb9c8row14_col2\" class=\"data row14 col2\" >1930</td> \n",
       "        <td id=\"T_992d78be_7975_11ed_abd5_ec55f9ceb9c8row14_col3\" class=\"data row14 col3\" >178.57</td> \n",
       "        <td id=\"T_992d78be_7975_11ed_abd5_ec55f9ceb9c8row14_col4\" class=\"data row14 col4\" >110</td> \n",
       "    </tr>    <tr> \n",
       "        <th id=\"T_992d78be_7975_11ed_abd5_ec55f9ceb9c8level0_row15\" class=\"row_heading level0 row15\" >15</th> \n",
       "        <td id=\"T_992d78be_7975_11ed_abd5_ec55f9ceb9c8row15_col0\" class=\"data row15 col0\" >passo-tonale</td> \n",
       "        <td id=\"T_992d78be_7975_11ed_abd5_ec55f9ceb9c8row15_col1\" class=\"data row15 col1\" >italy</td> \n",
       "        <td id=\"T_992d78be_7975_11ed_abd5_ec55f9ceb9c8row15_col2\" class=\"data row15 col2\" >1883</td> \n",
       "        <td id=\"T_992d78be_7975_11ed_abd5_ec55f9ceb9c8row15_col3\" class=\"data row15 col3\" >221.82</td> \n",
       "        <td id=\"T_992d78be_7975_11ed_abd5_ec55f9ceb9c8row15_col4\" class=\"data row15 col4\" >100</td> \n",
       "    </tr>    <tr> \n",
       "        <th id=\"T_992d78be_7975_11ed_abd5_ec55f9ceb9c8level0_row16\" class=\"row_heading level0 row16\" >16</th> \n",
       "        <td id=\"T_992d78be_7975_11ed_abd5_ec55f9ceb9c8row16_col0\" class=\"data row16 col0\" >la-rosiere</td> \n",
       "        <td id=\"T_992d78be_7975_11ed_abd5_ec55f9ceb9c8row16_col1\" class=\"data row16 col1\" >france</td> \n",
       "        <td id=\"T_992d78be_7975_11ed_abd5_ec55f9ceb9c8row16_col2\" class=\"data row16 col2\" >1850</td> \n",
       "        <td id=\"T_992d78be_7975_11ed_abd5_ec55f9ceb9c8row16_col3\" class=\"data row16 col3\" >300</td> \n",
       "        <td id=\"T_992d78be_7975_11ed_abd5_ec55f9ceb9c8row16_col4\" class=\"data row16 col4\" >160</td> \n",
       "    </tr>    <tr> \n",
       "        <th id=\"T_992d78be_7975_11ed_abd5_ec55f9ceb9c8level0_row17\" class=\"row_heading level0 row17\" >17</th> \n",
       "        <td id=\"T_992d78be_7975_11ed_abd5_ec55f9ceb9c8row17_col0\" class=\"data row17 col0\" >val-d-isere</td> \n",
       "        <td id=\"T_992d78be_7975_11ed_abd5_ec55f9ceb9c8row17_col1\" class=\"data row17 col1\" >france</td> \n",
       "        <td id=\"T_992d78be_7975_11ed_abd5_ec55f9ceb9c8row17_col2\" class=\"data row17 col2\" >1850</td> \n",
       "        <td id=\"T_992d78be_7975_11ed_abd5_ec55f9ceb9c8row17_col3\" class=\"data row17 col3\" >308.33</td> \n",
       "        <td id=\"T_992d78be_7975_11ed_abd5_ec55f9ceb9c8row17_col4\" class=\"data row17 col4\" >300</td> \n",
       "    </tr>    <tr> \n",
       "        <th id=\"T_992d78be_7975_11ed_abd5_ec55f9ceb9c8level0_row18\" class=\"row_heading level0 row18\" >18</th> \n",
       "        <td id=\"T_992d78be_7975_11ed_abd5_ec55f9ceb9c8row18_col0\" class=\"data row18 col0\" >alpe-d-huez</td> \n",
       "        <td id=\"T_992d78be_7975_11ed_abd5_ec55f9ceb9c8row18_col1\" class=\"data row18 col1\" >france</td> \n",
       "        <td id=\"T_992d78be_7975_11ed_abd5_ec55f9ceb9c8row18_col2\" class=\"data row18 col2\" >1850</td> \n",
       "        <td id=\"T_992d78be_7975_11ed_abd5_ec55f9ceb9c8row18_col3\" class=\"data row18 col3\" >122.5</td> \n",
       "        <td id=\"T_992d78be_7975_11ed_abd5_ec55f9ceb9c8row18_col4\" class=\"data row18 col4\" >249</td> \n",
       "    </tr>    <tr> \n",
       "        <th id=\"T_992d78be_7975_11ed_abd5_ec55f9ceb9c8level0_row19\" class=\"row_heading level0 row19\" >19</th> \n",
       "        <td id=\"T_992d78be_7975_11ed_abd5_ec55f9ceb9c8row19_col0\" class=\"data row19 col0\" >montgenevre</td> \n",
       "        <td id=\"T_992d78be_7975_11ed_abd5_ec55f9ceb9c8row19_col1\" class=\"data row19 col1\" >france</td> \n",
       "        <td id=\"T_992d78be_7975_11ed_abd5_ec55f9ceb9c8row19_col2\" class=\"data row19 col2\" >1850</td> \n",
       "        <td id=\"T_992d78be_7975_11ed_abd5_ec55f9ceb9c8row19_col3\" class=\"data row19 col3\" >55</td> \n",
       "        <td id=\"T_992d78be_7975_11ed_abd5_ec55f9ceb9c8row19_col4\" class=\"data row19 col4\" >400</td> \n",
       "    </tr></tbody> \n",
       "</table>       <style  type=\"text/css\" >\n",
       "</style>  \n",
       "<table id=\"T_992eff64_7975_11ed_b33a_ec55f9ceb9c8\" style='display:inline'><caption>Курорты с минимальной высотой</caption> \n",
       "<thead>    <tr> \n",
       "        <th class=\"blank level0\" ></th> \n",
       "        <th class=\"col_heading level0 col0\" >resort</th> \n",
       "        <th class=\"col_heading level0 col1\" >country</th> \n",
       "        <th class=\"col_heading level0 col2\" >altitude_m</th> \n",
       "        <th class=\"col_heading level0 col3\" >meters_from_lift</th> \n",
       "        <th class=\"col_heading level0 col4\" >total_piste_km</th> \n",
       "    </tr></thead> \n",
       "<tbody>    <tr> \n",
       "        <th id=\"T_992eff64_7975_11ed_b33a_ec55f9ceb9c8level0_row0\" class=\"row_heading level0 row0\" >0</th> \n",
       "        <td id=\"T_992eff64_7975_11ed_b33a_ec55f9ceb9c8row0_col0\" class=\"data row0 col0\" >saariselka</td> \n",
       "        <td id=\"T_992eff64_7975_11ed_b33a_ec55f9ceb9c8row0_col1\" class=\"data row0 col1\" >finland</td> \n",
       "        <td id=\"T_992eff64_7975_11ed_b33a_ec55f9ceb9c8row0_col2\" class=\"data row0 col2\" >180</td> \n",
       "        <td id=\"T_992eff64_7975_11ed_b33a_ec55f9ceb9c8row0_col3\" class=\"data row0 col3\" >162.5</td> \n",
       "        <td id=\"T_992eff64_7975_11ed_b33a_ec55f9ceb9c8row0_col4\" class=\"data row0 col4\" >20</td> \n",
       "    </tr>    <tr> \n",
       "        <th id=\"T_992eff64_7975_11ed_b33a_ec55f9ceb9c8level0_row1\" class=\"row_heading level0 row1\" >1</th> \n",
       "        <td id=\"T_992eff64_7975_11ed_b33a_ec55f9ceb9c8row1_col0\" class=\"data row1 col0\" >levi</td> \n",
       "        <td id=\"T_992eff64_7975_11ed_b33a_ec55f9ceb9c8row1_col1\" class=\"data row1 col1\" >finland</td> \n",
       "        <td id=\"T_992eff64_7975_11ed_b33a_ec55f9ceb9c8row1_col2\" class=\"data row1 col2\" >200</td> \n",
       "        <td id=\"T_992eff64_7975_11ed_b33a_ec55f9ceb9c8row1_col3\" class=\"data row1 col3\" >100</td> \n",
       "        <td id=\"T_992eff64_7975_11ed_b33a_ec55f9ceb9c8row1_col4\" class=\"data row1 col4\" >44</td> \n",
       "    </tr>    <tr> \n",
       "        <th id=\"T_992eff64_7975_11ed_b33a_ec55f9ceb9c8level0_row2\" class=\"row_heading level0 row2\" >2</th> \n",
       "        <td id=\"T_992eff64_7975_11ed_b33a_ec55f9ceb9c8row2_col0\" class=\"data row2 col0\" >pyha</td> \n",
       "        <td id=\"T_992eff64_7975_11ed_b33a_ec55f9ceb9c8row2_col1\" class=\"data row2 col1\" >finland</td> \n",
       "        <td id=\"T_992eff64_7975_11ed_b33a_ec55f9ceb9c8row2_col2\" class=\"data row2 col2\" >280</td> \n",
       "        <td id=\"T_992eff64_7975_11ed_b33a_ec55f9ceb9c8row2_col3\" class=\"data row2 col3\" >50</td> \n",
       "        <td id=\"T_992eff64_7975_11ed_b33a_ec55f9ceb9c8row2_col4\" class=\"data row2 col4\" >80</td> \n",
       "    </tr>    <tr> \n",
       "        <th id=\"T_992eff64_7975_11ed_b33a_ec55f9ceb9c8level0_row3\" class=\"row_heading level0 row3\" >3</th> \n",
       "        <td id=\"T_992eff64_7975_11ed_b33a_ec55f9ceb9c8row3_col0\" class=\"data row3 col0\" >ruka</td> \n",
       "        <td id=\"T_992eff64_7975_11ed_b33a_ec55f9ceb9c8row3_col1\" class=\"data row3 col1\" >finland</td> \n",
       "        <td id=\"T_992eff64_7975_11ed_b33a_ec55f9ceb9c8row3_col2\" class=\"data row3 col2\" >291</td> \n",
       "        <td id=\"T_992eff64_7975_11ed_b33a_ec55f9ceb9c8row3_col3\" class=\"data row3 col3\" >50</td> \n",
       "        <td id=\"T_992eff64_7975_11ed_b33a_ec55f9ceb9c8row3_col4\" class=\"data row3 col4\" >24</td> \n",
       "    </tr>    <tr> \n",
       "        <th id=\"T_992eff64_7975_11ed_b33a_ec55f9ceb9c8level0_row4\" class=\"row_heading level0 row4\" >4</th> \n",
       "        <td id=\"T_992eff64_7975_11ed_b33a_ec55f9ceb9c8row4_col0\" class=\"data row4 col0\" >brides-les-bains</td> \n",
       "        <td id=\"T_992eff64_7975_11ed_b33a_ec55f9ceb9c8row4_col1\" class=\"data row4 col1\" >france</td> \n",
       "        <td id=\"T_992eff64_7975_11ed_b33a_ec55f9ceb9c8row4_col2\" class=\"data row4 col2\" >600</td> \n",
       "        <td id=\"T_992eff64_7975_11ed_b33a_ec55f9ceb9c8row4_col3\" class=\"data row4 col3\" >100</td> \n",
       "        <td id=\"T_992eff64_7975_11ed_b33a_ec55f9ceb9c8row4_col4\" class=\"data row4 col4\" >600</td> \n",
       "    </tr>    <tr> \n",
       "        <th id=\"T_992eff64_7975_11ed_b33a_ec55f9ceb9c8level0_row5\" class=\"row_heading level0 row5\" >5</th> \n",
       "        <td id=\"T_992eff64_7975_11ed_b33a_ec55f9ceb9c8row5_col0\" class=\"data row5 col0\" >nassfeld</td> \n",
       "        <td id=\"T_992eff64_7975_11ed_b33a_ec55f9ceb9c8row5_col1\" class=\"data row5 col1\" >austria</td> \n",
       "        <td id=\"T_992eff64_7975_11ed_b33a_ec55f9ceb9c8row5_col2\" class=\"data row5 col2\" >610</td> \n",
       "        <td id=\"T_992eff64_7975_11ed_b33a_ec55f9ceb9c8row5_col3\" class=\"data row5 col3\" >101.67</td> \n",
       "        <td id=\"T_992eff64_7975_11ed_b33a_ec55f9ceb9c8row5_col4\" class=\"data row5 col4\" >110</td> \n",
       "    </tr>    <tr> \n",
       "        <th id=\"T_992eff64_7975_11ed_b33a_ec55f9ceb9c8level0_row6\" class=\"row_heading level0 row6\" >6</th> \n",
       "        <td id=\"T_992eff64_7975_11ed_b33a_ec55f9ceb9c8row6_col0\" class=\"data row6 col0\" >mayrhofen</td> \n",
       "        <td id=\"T_992eff64_7975_11ed_b33a_ec55f9ceb9c8row6_col1\" class=\"data row6 col1\" >austria</td> \n",
       "        <td id=\"T_992eff64_7975_11ed_b33a_ec55f9ceb9c8row6_col2\" class=\"data row6 col2\" >630</td> \n",
       "        <td id=\"T_992eff64_7975_11ed_b33a_ec55f9ceb9c8row6_col3\" class=\"data row6 col3\" >480.38</td> \n",
       "        <td id=\"T_992eff64_7975_11ed_b33a_ec55f9ceb9c8row6_col4\" class=\"data row6 col4\" >600</td> \n",
       "    </tr>    <tr> \n",
       "        <th id=\"T_992eff64_7975_11ed_b33a_ec55f9ceb9c8level0_row7\" class=\"row_heading level0 row7\" >7</th> \n",
       "        <td id=\"T_992eff64_7975_11ed_b33a_ec55f9ceb9c8row7_col0\" class=\"data row7 col0\" >st-johann-in-tirol</td> \n",
       "        <td id=\"T_992eff64_7975_11ed_b33a_ec55f9ceb9c8row7_col1\" class=\"data row7 col1\" >austria</td> \n",
       "        <td id=\"T_992eff64_7975_11ed_b33a_ec55f9ceb9c8row7_col2\" class=\"data row7 col2\" >700</td> \n",
       "        <td id=\"T_992eff64_7975_11ed_b33a_ec55f9ceb9c8row7_col3\" class=\"data row7 col3\" >205</td> \n",
       "        <td id=\"T_992eff64_7975_11ed_b33a_ec55f9ceb9c8row7_col4\" class=\"data row7 col4\" >60</td> \n",
       "    </tr>    <tr> \n",
       "        <th id=\"T_992eff64_7975_11ed_b33a_ec55f9ceb9c8level0_row8\" class=\"row_heading level0 row8\" >8</th> \n",
       "        <td id=\"T_992eff64_7975_11ed_b33a_ec55f9ceb9c8row8_col0\" class=\"data row8 col0\" >soll</td> \n",
       "        <td id=\"T_992eff64_7975_11ed_b33a_ec55f9ceb9c8row8_col1\" class=\"data row8 col1\" >austria</td> \n",
       "        <td id=\"T_992eff64_7975_11ed_b33a_ec55f9ceb9c8row8_col2\" class=\"data row8 col2\" >703</td> \n",
       "        <td id=\"T_992eff64_7975_11ed_b33a_ec55f9ceb9c8row8_col3\" class=\"data row8 col3\" >359.44</td> \n",
       "        <td id=\"T_992eff64_7975_11ed_b33a_ec55f9ceb9c8row8_col4\" class=\"data row8 col4\" >250</td> \n",
       "    </tr>    <tr> \n",
       "        <th id=\"T_992eff64_7975_11ed_b33a_ec55f9ceb9c8level0_row9\" class=\"row_heading level0 row9\" >9</th> \n",
       "        <td id=\"T_992eff64_7975_11ed_b33a_ec55f9ceb9c8row9_col0\" class=\"data row9 col0\" >yllas</td> \n",
       "        <td id=\"T_992eff64_7975_11ed_b33a_ec55f9ceb9c8row9_col1\" class=\"data row9 col1\" >finland</td> \n",
       "        <td id=\"T_992eff64_7975_11ed_b33a_ec55f9ceb9c8row9_col2\" class=\"data row9 col2\" >719</td> \n",
       "        <td id=\"T_992eff64_7975_11ed_b33a_ec55f9ceb9c8row9_col3\" class=\"data row9 col3\" >50</td> \n",
       "        <td id=\"T_992eff64_7975_11ed_b33a_ec55f9ceb9c8row9_col4\" class=\"data row9 col4\" >0</td> \n",
       "    </tr>    <tr> \n",
       "        <th id=\"T_992eff64_7975_11ed_b33a_ec55f9ceb9c8level0_row10\" class=\"row_heading level0 row10\" >10</th> \n",
       "        <td id=\"T_992eff64_7975_11ed_b33a_ec55f9ceb9c8row10_col0\" class=\"data row10 col0\" >schladming</td> \n",
       "        <td id=\"T_992eff64_7975_11ed_b33a_ec55f9ceb9c8row10_col1\" class=\"data row10 col1\" >austria</td> \n",
       "        <td id=\"T_992eff64_7975_11ed_b33a_ec55f9ceb9c8row10_col2\" class=\"data row10 col2\" >745</td> \n",
       "        <td id=\"T_992eff64_7975_11ed_b33a_ec55f9ceb9c8row10_col3\" class=\"data row10 col3\" >276.25</td> \n",
       "        <td id=\"T_992eff64_7975_11ed_b33a_ec55f9ceb9c8row10_col4\" class=\"data row10 col4\" >175</td> \n",
       "    </tr>    <tr> \n",
       "        <th id=\"T_992eff64_7975_11ed_b33a_ec55f9ceb9c8level0_row11\" class=\"row_heading level0 row11\" >11</th> \n",
       "        <td id=\"T_992eff64_7975_11ed_b33a_ec55f9ceb9c8row11_col0\" class=\"data row11 col0\" >zell-am-see</td> \n",
       "        <td id=\"T_992eff64_7975_11ed_b33a_ec55f9ceb9c8row11_col1\" class=\"data row11 col1\" >austria</td> \n",
       "        <td id=\"T_992eff64_7975_11ed_b33a_ec55f9ceb9c8row11_col2\" class=\"data row11 col2\" >758</td> \n",
       "        <td id=\"T_992eff64_7975_11ed_b33a_ec55f9ceb9c8row11_col3\" class=\"data row11 col3\" >244.67</td> \n",
       "        <td id=\"T_992eff64_7975_11ed_b33a_ec55f9ceb9c8row11_col4\" class=\"data row11 col4\" >136</td> \n",
       "    </tr>    <tr> \n",
       "        <th id=\"T_992eff64_7975_11ed_b33a_ec55f9ceb9c8level0_row12\" class=\"row_heading level0 row12\" >12</th> \n",
       "        <td id=\"T_992eff64_7975_11ed_b33a_ec55f9ceb9c8row12_col0\" class=\"data row12 col0\" >kitzbuhel</td> \n",
       "        <td id=\"T_992eff64_7975_11ed_b33a_ec55f9ceb9c8row12_col1\" class=\"data row12 col1\" >austria</td> \n",
       "        <td id=\"T_992eff64_7975_11ed_b33a_ec55f9ceb9c8row12_col2\" class=\"data row12 col2\" >760</td> \n",
       "        <td id=\"T_992eff64_7975_11ed_b33a_ec55f9ceb9c8row12_col3\" class=\"data row12 col3\" >283</td> \n",
       "        <td id=\"T_992eff64_7975_11ed_b33a_ec55f9ceb9c8row12_col4\" class=\"data row12 col4\" >185</td> \n",
       "    </tr>    <tr> \n",
       "        <th id=\"T_992eff64_7975_11ed_b33a_ec55f9ceb9c8level0_row13\" class=\"row_heading level0 row13\" >13</th> \n",
       "        <td id=\"T_992eff64_7975_11ed_b33a_ec55f9ceb9c8row13_col0\" class=\"data row13 col0\" >kaprun</td> \n",
       "        <td id=\"T_992eff64_7975_11ed_b33a_ec55f9ceb9c8row13_col1\" class=\"data row13 col1\" >austria</td> \n",
       "        <td id=\"T_992eff64_7975_11ed_b33a_ec55f9ceb9c8row13_col2\" class=\"data row13 col2\" >775</td> \n",
       "        <td id=\"T_992eff64_7975_11ed_b33a_ec55f9ceb9c8row13_col3\" class=\"data row13 col3\" >290</td> \n",
       "        <td id=\"T_992eff64_7975_11ed_b33a_ec55f9ceb9c8row13_col4\" class=\"data row13 col4\" >132</td> \n",
       "    </tr>    <tr> \n",
       "        <th id=\"T_992eff64_7975_11ed_b33a_ec55f9ceb9c8level0_row14\" class=\"row_heading level0 row14\" >14</th> \n",
       "        <td id=\"T_992eff64_7975_11ed_b33a_ec55f9ceb9c8row14_col0\" class=\"data row14 col0\" >westendorf</td> \n",
       "        <td id=\"T_992eff64_7975_11ed_b33a_ec55f9ceb9c8row14_col1\" class=\"data row14 col1\" >austria</td> \n",
       "        <td id=\"T_992eff64_7975_11ed_b33a_ec55f9ceb9c8row14_col2\" class=\"data row14 col2\" >801</td> \n",
       "        <td id=\"T_992eff64_7975_11ed_b33a_ec55f9ceb9c8row14_col3\" class=\"data row14 col3\" >250</td> \n",
       "        <td id=\"T_992eff64_7975_11ed_b33a_ec55f9ceb9c8row14_col4\" class=\"data row14 col4\" >284</td> \n",
       "    </tr>    <tr> \n",
       "        <th id=\"T_992eff64_7975_11ed_b33a_ec55f9ceb9c8level0_row15\" class=\"row_heading level0 row15\" >15</th> \n",
       "        <td id=\"T_992eff64_7975_11ed_b33a_ec55f9ceb9c8row15_col0\" class=\"data row15 col0\" >ellmau</td> \n",
       "        <td id=\"T_992eff64_7975_11ed_b33a_ec55f9ceb9c8row15_col1\" class=\"data row15 col1\" >austria</td> \n",
       "        <td id=\"T_992eff64_7975_11ed_b33a_ec55f9ceb9c8row15_col2\" class=\"data row15 col2\" >820</td> \n",
       "        <td id=\"T_992eff64_7975_11ed_b33a_ec55f9ceb9c8row15_col3\" class=\"data row15 col3\" >500</td> \n",
       "        <td id=\"T_992eff64_7975_11ed_b33a_ec55f9ceb9c8row15_col4\" class=\"data row15 col4\" >280</td> \n",
       "    </tr>    <tr> \n",
       "        <th id=\"T_992eff64_7975_11ed_b33a_ec55f9ceb9c8level0_row16\" class=\"row_heading level0 row16\" >16</th> \n",
       "        <td id=\"T_992eff64_7975_11ed_b33a_ec55f9ceb9c8row16_col0\" class=\"data row16 col0\" >niederau-oberau</td> \n",
       "        <td id=\"T_992eff64_7975_11ed_b33a_ec55f9ceb9c8row16_col1\" class=\"data row16 col1\" >austria</td> \n",
       "        <td id=\"T_992eff64_7975_11ed_b33a_ec55f9ceb9c8row16_col2\" class=\"data row16 col2\" >826</td> \n",
       "        <td id=\"T_992eff64_7975_11ed_b33a_ec55f9ceb9c8row16_col3\" class=\"data row16 col3\" >344.17</td> \n",
       "        <td id=\"T_992eff64_7975_11ed_b33a_ec55f9ceb9c8row16_col4\" class=\"data row16 col4\" >48</td> \n",
       "    </tr>    <tr> \n",
       "        <th id=\"T_992eff64_7975_11ed_b33a_ec55f9ceb9c8level0_row17\" class=\"row_heading level0 row17\" >17</th> \n",
       "        <td id=\"T_992eff64_7975_11ed_b33a_ec55f9ceb9c8row17_col0\" class=\"data row17 col0\" >igls</td> \n",
       "        <td id=\"T_992eff64_7975_11ed_b33a_ec55f9ceb9c8row17_col1\" class=\"data row17 col1\" >austria</td> \n",
       "        <td id=\"T_992eff64_7975_11ed_b33a_ec55f9ceb9c8row17_col2\" class=\"data row17 col2\" >870</td> \n",
       "        <td id=\"T_992eff64_7975_11ed_b33a_ec55f9ceb9c8row17_col3\" class=\"data row17 col3\" >205</td> \n",
       "        <td id=\"T_992eff64_7975_11ed_b33a_ec55f9ceb9c8row17_col4\" class=\"data row17 col4\" >12</td> \n",
       "    </tr>    <tr> \n",
       "        <th id=\"T_992eff64_7975_11ed_b33a_ec55f9ceb9c8level0_row18\" class=\"row_heading level0 row18\" >18</th> \n",
       "        <td id=\"T_992eff64_7975_11ed_b33a_ec55f9ceb9c8row18_col0\" class=\"data row18 col0\" >bad-hofgastein</td> \n",
       "        <td id=\"T_992eff64_7975_11ed_b33a_ec55f9ceb9c8row18_col1\" class=\"data row18 col1\" >austria</td> \n",
       "        <td id=\"T_992eff64_7975_11ed_b33a_ec55f9ceb9c8row18_col2\" class=\"data row18 col2\" >870</td> \n",
       "        <td id=\"T_992eff64_7975_11ed_b33a_ec55f9ceb9c8row18_col3\" class=\"data row18 col3\" >249.5</td> \n",
       "        <td id=\"T_992eff64_7975_11ed_b33a_ec55f9ceb9c8row18_col4\" class=\"data row18 col4\" >208</td> \n",
       "    </tr>    <tr> \n",
       "        <th id=\"T_992eff64_7975_11ed_b33a_ec55f9ceb9c8level0_row19\" class=\"row_heading level0 row19\" >19</th> \n",
       "        <td id=\"T_992eff64_7975_11ed_b33a_ec55f9ceb9c8row19_col0\" class=\"data row19 col0\" >kronplatz</td> \n",
       "        <td id=\"T_992eff64_7975_11ed_b33a_ec55f9ceb9c8row19_col1\" class=\"data row19 col1\" >italy</td> \n",
       "        <td id=\"T_992eff64_7975_11ed_b33a_ec55f9ceb9c8row19_col2\" class=\"data row19 col2\" >900</td> \n",
       "        <td id=\"T_992eff64_7975_11ed_b33a_ec55f9ceb9c8row19_col3\" class=\"data row19 col3\" >177</td> \n",
       "        <td id=\"T_992eff64_7975_11ed_b33a_ec55f9ceb9c8row19_col4\" class=\"data row19 col4\" >103</td> \n",
       "    </tr></tbody> \n",
       "</table> "
      ]
     },
     "metadata": {},
     "output_type": "display_data"
    }
   ],
   "source": [
    "max_hights = round(df.groupby(['resort', 'country']).agg({'altitude_m':'mean', \\\n",
    "                   'meters_from_lift':'mean', 'total_piste_km':'mean'}).\\\n",
    "                   sort_values(by='altitude_m', ascending=False).reset_index(), 2).head(20)\n",
    "\n",
    "min_hights = round(df.groupby(['resort', 'country']).agg({'altitude_m':'mean', \\\n",
    "                   'meters_from_lift':'mean', 'total_piste_km':'mean'}).\\\n",
    "                   sort_values(by='altitude_m', ascending=True).reset_index(), 2).head(20)\n",
    "\n",
    "two_sets_beside(max_hights, min_hights, 'Курорты с максимальной высотой', 'Курорты с минимальной высотой')"
   ]
  },
  {
   "cell_type": "markdown",
   "metadata": {},
   "source": [
    "Картина получается очень интересная - **многие курорты предлагают сотни километров трасс** - так получается, вероятнее всего, из-за множества разных конфигураций. На паре курортов указана протяжённость \"0\" - скорее всего это ошибка в данных, но мы ещё не смотрели столбец с протяжённостью трасс. В целом, сложно заметить какую-либо зависимость между высотой отеля и расстоянием до подъёмников. Проверим **коэффициент корреляции Пирсона**:"
   ]
  },
  {
   "cell_type": "code",
   "execution_count": 51,
   "metadata": {},
   "outputs": [
    {
     "name": "stdout",
     "output_type": "stream",
     "text": [
      "-0.11581913628287732\n"
     ]
    }
   ],
   "source": [
    "print(df['altitude_m'].corr(df['meters_from_lift']))"
   ]
  },
  {
   "cell_type": "markdown",
   "metadata": {},
   "source": [
    "Коэффициент низкий, **корреляция между высотой отеля и расстоянием до подъёмников незначительная**. Оценим средние и медианные высоты по странам:"
   ]
  },
  {
   "cell_type": "code",
   "execution_count": 52,
   "metadata": {},
   "outputs": [
    {
     "data": {
      "text/html": [
       "<style  type=\"text/css\" >\n",
       "</style>  \n",
       "<table id=\"T_99382746_7975_11ed_be68_ec55f9ceb9c8\" style='display:inline'><caption>Средняя высота расположения курортов по странам</caption> \n",
       "<thead>    <tr> \n",
       "        <th class=\"blank level0\" ></th> \n",
       "        <th class=\"col_heading level0 col0\" >country</th> \n",
       "        <th class=\"col_heading level0 col1\" >altitude_m</th> \n",
       "    </tr></thead> \n",
       "<tbody>    <tr> \n",
       "        <th id=\"T_99382746_7975_11ed_be68_ec55f9ceb9c8level0_row0\" class=\"row_heading level0 row0\" >0</th> \n",
       "        <td id=\"T_99382746_7975_11ed_be68_ec55f9ceb9c8row0_col0\" class=\"data row0 col0\" >andorra</td> \n",
       "        <td id=\"T_99382746_7975_11ed_be68_ec55f9ceb9c8row0_col1\" class=\"data row0 col1\" >1834.48</td> \n",
       "    </tr>    <tr> \n",
       "        <th id=\"T_99382746_7975_11ed_be68_ec55f9ceb9c8level0_row1\" class=\"row_heading level0 row1\" >1</th> \n",
       "        <td id=\"T_99382746_7975_11ed_be68_ec55f9ceb9c8row1_col0\" class=\"data row1 col0\" >france</td> \n",
       "        <td id=\"T_99382746_7975_11ed_be68_ec55f9ceb9c8row1_col1\" class=\"data row1 col1\" >1733.25</td> \n",
       "    </tr>    <tr> \n",
       "        <th id=\"T_99382746_7975_11ed_be68_ec55f9ceb9c8level0_row2\" class=\"row_heading level0 row2\" >2</th> \n",
       "        <td id=\"T_99382746_7975_11ed_be68_ec55f9ceb9c8row2_col0\" class=\"data row2 col0\" >italy</td> \n",
       "        <td id=\"T_99382746_7975_11ed_be68_ec55f9ceb9c8row2_col1\" class=\"data row2 col1\" >1574.56</td> \n",
       "    </tr>    <tr> \n",
       "        <th id=\"T_99382746_7975_11ed_be68_ec55f9ceb9c8level0_row3\" class=\"row_heading level0 row3\" >3</th> \n",
       "        <td id=\"T_99382746_7975_11ed_be68_ec55f9ceb9c8row3_col0\" class=\"data row3 col0\" >bulgaria</td> \n",
       "        <td id=\"T_99382746_7975_11ed_be68_ec55f9ceb9c8row3_col1\" class=\"data row3 col1\" >1167.14</td> \n",
       "    </tr>    <tr> \n",
       "        <th id=\"T_99382746_7975_11ed_be68_ec55f9ceb9c8level0_row4\" class=\"row_heading level0 row4\" >4</th> \n",
       "        <td id=\"T_99382746_7975_11ed_be68_ec55f9ceb9c8row4_col0\" class=\"data row4 col0\" >austria</td> \n",
       "        <td id=\"T_99382746_7975_11ed_be68_ec55f9ceb9c8row4_col1\" class=\"data row4 col1\" >1066.12</td> \n",
       "    </tr>    <tr> \n",
       "        <th id=\"T_99382746_7975_11ed_be68_ec55f9ceb9c8level0_row5\" class=\"row_heading level0 row5\" >5</th> \n",
       "        <td id=\"T_99382746_7975_11ed_be68_ec55f9ceb9c8row5_col0\" class=\"data row5 col0\" >finland</td> \n",
       "        <td id=\"T_99382746_7975_11ed_be68_ec55f9ceb9c8row5_col1\" class=\"data row5 col1\" >317.71</td> \n",
       "    </tr></tbody> \n",
       "</table>       <style  type=\"text/css\" >\n",
       "</style>  \n",
       "<table id=\"T_99387566_7975_11ed_9d32_ec55f9ceb9c8\" style='display:inline'><caption>Медианы высот расположения курортов по странам</caption> \n",
       "<thead>    <tr> \n",
       "        <th class=\"blank level0\" ></th> \n",
       "        <th class=\"col_heading level0 col0\" >country</th> \n",
       "        <th class=\"col_heading level0 col1\" >altitude_m</th> \n",
       "    </tr></thead> \n",
       "<tbody>    <tr> \n",
       "        <th id=\"T_99387566_7975_11ed_9d32_ec55f9ceb9c8level0_row0\" class=\"row_heading level0 row0\" >0</th> \n",
       "        <td id=\"T_99387566_7975_11ed_9d32_ec55f9ceb9c8row0_col0\" class=\"data row0 col0\" >france</td> \n",
       "        <td id=\"T_99387566_7975_11ed_9d32_ec55f9ceb9c8row0_col1\" class=\"data row0 col1\" >1850</td> \n",
       "    </tr>    <tr> \n",
       "        <th id=\"T_99387566_7975_11ed_9d32_ec55f9ceb9c8level0_row1\" class=\"row_heading level0 row1\" >1</th> \n",
       "        <td id=\"T_99387566_7975_11ed_9d32_ec55f9ceb9c8row1_col0\" class=\"data row1 col0\" >andorra</td> \n",
       "        <td id=\"T_99387566_7975_11ed_9d32_ec55f9ceb9c8row1_col1\" class=\"data row1 col1\" >1800</td> \n",
       "    </tr>    <tr> \n",
       "        <th id=\"T_99387566_7975_11ed_9d32_ec55f9ceb9c8level0_row2\" class=\"row_heading level0 row2\" >2</th> \n",
       "        <td id=\"T_99387566_7975_11ed_9d32_ec55f9ceb9c8row2_col0\" class=\"data row2 col0\" >italy</td> \n",
       "        <td id=\"T_99387566_7975_11ed_9d32_ec55f9ceb9c8row2_col1\" class=\"data row2 col1\" >1550</td> \n",
       "    </tr>    <tr> \n",
       "        <th id=\"T_99387566_7975_11ed_9d32_ec55f9ceb9c8level0_row3\" class=\"row_heading level0 row3\" >3</th> \n",
       "        <td id=\"T_99387566_7975_11ed_9d32_ec55f9ceb9c8row3_col0\" class=\"data row3 col0\" >bulgaria</td> \n",
       "        <td id=\"T_99387566_7975_11ed_9d32_ec55f9ceb9c8row3_col1\" class=\"data row3 col1\" >935</td> \n",
       "    </tr>    <tr> \n",
       "        <th id=\"T_99387566_7975_11ed_9d32_ec55f9ceb9c8level0_row4\" class=\"row_heading level0 row4\" >4</th> \n",
       "        <td id=\"T_99387566_7975_11ed_9d32_ec55f9ceb9c8row4_col0\" class=\"data row4 col0\" >austria</td> \n",
       "        <td id=\"T_99387566_7975_11ed_9d32_ec55f9ceb9c8row4_col1\" class=\"data row4 col1\" >870</td> \n",
       "    </tr>    <tr> \n",
       "        <th id=\"T_99387566_7975_11ed_9d32_ec55f9ceb9c8level0_row5\" class=\"row_heading level0 row5\" >5</th> \n",
       "        <td id=\"T_99387566_7975_11ed_9d32_ec55f9ceb9c8row5_col0\" class=\"data row5 col0\" >finland</td> \n",
       "        <td id=\"T_99387566_7975_11ed_9d32_ec55f9ceb9c8row5_col1\" class=\"data row5 col1\" >200</td> \n",
       "    </tr></tbody> \n",
       "</table> "
      ]
     },
     "metadata": {},
     "output_type": "display_data"
    }
   ],
   "source": [
    "mean_hights = round(df.groupby('country').agg({'altitude_m':'mean'}).\\\n",
    "                   sort_values(by='altitude_m', ascending=False).reset_index(), 2).head(20)\n",
    "\n",
    "median_hights = round(df.groupby('country').agg({'altitude_m':'median'}).\\\n",
    "                   sort_values(by='altitude_m', ascending=False).reset_index(), 2).head(20)\n",
    "\n",
    "two_sets_beside(mean_hights, median_hights, 'Средняя высота расположения курортов по странам', \\\n",
    "                'Медианы высот расположения курортов по странам')"
   ]
  },
  {
   "cell_type": "markdown",
   "metadata": {},
   "source": [
    "Очевидны **значительные различия между средними и медианами**, например, для Финляндии разница составляет почти 50%. Теперь применим describe и построим гистограмму:"
   ]
  },
  {
   "cell_type": "code",
   "execution_count": 53,
   "metadata": {},
   "outputs": [
    {
     "data": {
      "text/plain": [
       "count     384.00\n",
       "mean     1363.23\n",
       "std       504.99\n",
       "min       180.00\n",
       "25%       900.00\n",
       "50%      1448.00\n",
       "75%      1800.00\n",
       "max      2300.00\n",
       "Name: altitude_m, dtype: float64"
      ]
     },
     "metadata": {},
     "output_type": "display_data"
    }
   ],
   "source": [
    "d(df.altitude_m)"
   ]
  },
  {
   "cell_type": "code",
   "execution_count": 54,
   "metadata": {},
   "outputs": [
    {
     "data": {
      "image/png": "[encoded data removed]",
      "text/plain": [
       "<Figure size 1080x432 with 1 Axes>"
      ]
     },
     "metadata": {
      "needs_background": "light"
     },
     "output_type": "display_data"
    }
   ],
   "source": [
    "perfect_hist(df['altitude_m'], 50, '#ddddff', 'Распределение значений в столбце altitude_m', \\\n",
    "             'Высота расположения отелей, метры', 'Частота встречаемости высоты')"
   ]
  },
  {
   "cell_type": "markdown",
   "metadata": {},
   "source": [
    "Сложно заметить какие-либо значимые особенности. Оценим боксплот:"
   ]
  },
  {
   "cell_type": "code",
   "execution_count": 55,
   "metadata": {},
   "outputs": [
    {
     "data": {
      "image/png": "[encoded data removed]",
      "text/plain": [
       "<Figure size 1080x360 with 1 Axes>"
      ]
     },
     "metadata": {
      "needs_background": "light"
     },
     "output_type": "display_data"
    }
   ],
   "source": [
    "amazing_boxplot(df['altitude_m'], 'Распределение значений в столбце altitude_m', \\\n",
    "                '#ddddff', 'Высота расположения отелей, метры')"
   ]
  },
  {
   "cell_type": "markdown",
   "metadata": {},
   "source": [
    "Замечательно, ни одного выброса."
   ]
  },
  {
   "cell_type": "markdown",
   "metadata": {},
   "source": [
    "<a id='eda_total_piste_km'> </a>\n",
    "\n",
    "---\n",
    "> ### 2.6 total_piste_km\n",
    "\n",
    "Изучим длину горнолыжных трасс на курортах:"
   ]
  },
  {
   "cell_type": "code",
   "execution_count": 56,
   "metadata": {},
   "outputs": [
    {
     "data": {
      "text/plain": [
       "count     384.00\n",
       "mean      221.99\n",
       "std       163.67\n",
       "min         0.00\n",
       "25%       110.00\n",
       "50%       193.00\n",
       "75%       300.00\n",
       "max      1220.00\n",
       "Name: total_piste_km, dtype: float64"
      ]
     },
     "metadata": {},
     "output_type": "display_data"
    }
   ],
   "source": [
    "d(df.total_piste_km)"
   ]
  },
  {
   "cell_type": "markdown",
   "metadata": {},
   "source": [
    "В среднем - 220 километров, должно хватить всем. Но нам стоит выяснить, сколько курортов с нулевым расстоянием - и убрать их:"
   ]
  },
  {
   "cell_type": "code",
   "execution_count": 57,
   "metadata": {},
   "outputs": [
    {
     "data": {
      "text/plain": [
       "68      0\n",
       "140     0\n",
       "31      0\n",
       "375     0\n",
       "108    12\n",
       "Name: total_piste_km, dtype: int64"
      ]
     },
     "execution_count": 57,
     "metadata": {},
     "output_type": "execute_result"
    }
   ],
   "source": [
    "df.total_piste_km.sort_values().head()"
   ]
  },
  {
   "cell_type": "markdown",
   "metadata": {},
   "source": [
    "Всего 4 - продолжим без них."
   ]
  },
  {
   "cell_type": "code",
   "execution_count": 58,
   "metadata": {},
   "outputs": [],
   "source": [
    "df = df[df['total_piste_km'] != 0].reset_index(drop=True)"
   ]
  },
  {
   "cell_type": "markdown",
   "metadata": {},
   "source": [
    "Посмотрим на распределение величин:"
   ]
  },
  {
   "cell_type": "code",
   "execution_count": 59,
   "metadata": {},
   "outputs": [
    {
     "data": {
      "image/png": "[encoded data removed]",
      "text/plain": [
       "<Figure size 1080x432 with 1 Axes>"
      ]
     },
     "metadata": {
      "needs_background": "light"
     },
     "output_type": "display_data"
    }
   ],
   "source": [
    "perfect_hist(df['total_piste_km'], 50, '#e4eff6', 'Распределение значений в столбце total_piste_km', \\\n",
    "             'Общая длина трасс, километры', 'Частота встречаемости длины')"
   ]
  },
  {
   "cell_type": "markdown",
   "metadata": {},
   "source": [
    "В общем-то мы видим то же, что и в describe - 75% значений это длина трасс примерно до 300 километров, но так же видим, что нередки трассы с общим километражом 400 и 600. Очевидны выбросы - посмотрим на боксплот и уберём выбросы из нашего очищенного датасета:"
   ]
  },
  {
   "cell_type": "code",
   "execution_count": 60,
   "metadata": {},
   "outputs": [
    {
     "data": {
      "image/png": "[encoded data removed]",
      "text/plain": [
       "<Figure size 1080x360 with 1 Axes>"
      ]
     },
     "metadata": {
      "needs_background": "light"
     },
     "output_type": "display_data"
    }
   ],
   "source": [
    "amazing_boxplot(df['total_piste_km'], 'Распределение значений в столбце total_piste_km', \\\n",
    "                 '#e4eff6', 'Общая длина трасс, километры')"
   ]
  },
  {
   "cell_type": "code",
   "execution_count": 61,
   "metadata": {},
   "outputs": [],
   "source": [
    "df = df[df['total_piste_km'] < 500].reset_index(drop=True)"
   ]
  },
  {
   "cell_type": "markdown",
   "metadata": {},
   "source": [
    "Интересное наблюдение для строительства отеля на одном из курортов можно сделать при **соотношении минимального количества отелей на курортах к максимальной длине трасс**:"
   ]
  },
  {
   "cell_type": "code",
   "execution_count": 62,
   "metadata": {},
   "outputs": [
    {
     "data": {
      "text/html": [
       "<div>\n",
       "<style scoped>\n",
       "    .dataframe tbody tr th:only-of-type {\n",
       "        vertical-align: middle;\n",
       "    }\n",
       "\n",
       "    .dataframe tbody tr th {\n",
       "        vertical-align: top;\n",
       "    }\n",
       "\n",
       "    .dataframe thead th {\n",
       "        text-align: right;\n",
       "    }\n",
       "</style>\n",
       "<table border=\"1\" class=\"dataframe\">\n",
       "  <thead>\n",
       "    <tr style=\"text-align: right;\">\n",
       "      <th></th>\n",
       "      <th>resort</th>\n",
       "      <th>country</th>\n",
       "      <th>hotel</th>\n",
       "      <th>total_piste_km</th>\n",
       "      <th>hotels_to_piste_ratio</th>\n",
       "    </tr>\n",
       "  </thead>\n",
       "  <tbody>\n",
       "    <tr>\n",
       "      <th>0</th>\n",
       "      <td>belle-plagne</td>\n",
       "      <td>france</td>\n",
       "      <td>4</td>\n",
       "      <td>1700</td>\n",
       "      <td>425</td>\n",
       "    </tr>\n",
       "    <tr>\n",
       "      <th>1</th>\n",
       "      <td>bourg-st-maurice</td>\n",
       "      <td>france</td>\n",
       "      <td>1</td>\n",
       "      <td>425</td>\n",
       "      <td>425</td>\n",
       "    </tr>\n",
       "    <tr>\n",
       "      <th>2</th>\n",
       "      <td>sauze-d-oulx</td>\n",
       "      <td>italy</td>\n",
       "      <td>10</td>\n",
       "      <td>4000</td>\n",
       "      <td>400</td>\n",
       "    </tr>\n",
       "    <tr>\n",
       "      <th>3</th>\n",
       "      <td>sestriere</td>\n",
       "      <td>italy</td>\n",
       "      <td>5</td>\n",
       "      <td>2000</td>\n",
       "      <td>400</td>\n",
       "    </tr>\n",
       "    <tr>\n",
       "      <th>4</th>\n",
       "      <td>montgenevre</td>\n",
       "      <td>france</td>\n",
       "      <td>2</td>\n",
       "      <td>800</td>\n",
       "      <td>400</td>\n",
       "    </tr>\n",
       "    <tr>\n",
       "      <th>5</th>\n",
       "      <td>cervinia</td>\n",
       "      <td>italy</td>\n",
       "      <td>8</td>\n",
       "      <td>2800</td>\n",
       "      <td>350</td>\n",
       "    </tr>\n",
       "    <tr>\n",
       "      <th>6</th>\n",
       "      <td>st-christoph</td>\n",
       "      <td>austria</td>\n",
       "      <td>2</td>\n",
       "      <td>696</td>\n",
       "      <td>348</td>\n",
       "    </tr>\n",
       "    <tr>\n",
       "      <th>7</th>\n",
       "      <td>lech</td>\n",
       "      <td>austria</td>\n",
       "      <td>4</td>\n",
       "      <td>1220</td>\n",
       "      <td>305</td>\n",
       "    </tr>\n",
       "    <tr>\n",
       "      <th>8</th>\n",
       "      <td>st-anton</td>\n",
       "      <td>austria</td>\n",
       "      <td>12</td>\n",
       "      <td>3660</td>\n",
       "      <td>305</td>\n",
       "    </tr>\n",
       "    <tr>\n",
       "      <th>9</th>\n",
       "      <td>tignes-val-claret</td>\n",
       "      <td>france</td>\n",
       "      <td>2</td>\n",
       "      <td>600</td>\n",
       "      <td>300</td>\n",
       "    </tr>\n",
       "  </tbody>\n",
       "</table>\n",
       "</div>"
      ],
      "text/plain": [
       "              resort  country  hotel  total_piste_km  hotels_to_piste_ratio\n",
       "0       belle-plagne   france      4            1700                    425\n",
       "1   bourg-st-maurice   france      1             425                    425\n",
       "2       sauze-d-oulx    italy     10            4000                    400\n",
       "3          sestriere    italy      5            2000                    400\n",
       "4        montgenevre   france      2             800                    400\n",
       "5           cervinia    italy      8            2800                    350\n",
       "6       st-christoph  austria      2             696                    348\n",
       "7               lech  austria      4            1220                    305\n",
       "8           st-anton  austria     12            3660                    305\n",
       "9  tignes-val-claret   france      2             600                    300"
      ]
     },
     "execution_count": 62,
     "metadata": {},
     "output_type": "execute_result"
    }
   ],
   "source": [
    "resorts_piste = df.groupby(['resort', 'country']).agg({'hotel':'count','total_piste_km':'sum'}).\\\n",
    "                sort_values(by='total_piste_km', ascending=False).reset_index()\n",
    "\n",
    "resorts_piste['hotels_to_piste_ratio'] = (resorts_piste['total_piste_km'] / resorts_piste['hotel']).astype('int64')\n",
    "\n",
    "resorts_piste.sort_values(by='hotels_to_piste_ratio', ascending=False).reset_index(drop=True).head(10)"
   ]
  },
  {
   "cell_type": "markdown",
   "metadata": {},
   "source": [
    "Для тех, кто любит, когда нет толкучки на трассах, здесь есть что предложить - на пяти курортах более **400 километров трасс на один отель**. На самом деле - **интересный инсайт**, отметим его. В топе - французские, итальянские и австрийские курорты, к сожалению у нас нет информации о пересечении трасс на курортах. Посмотрим на длины трасс:"
   ]
  },
  {
   "cell_type": "code",
   "execution_count": 63,
   "metadata": {},
   "outputs": [
    {
     "data": {
      "text/html": [
       "<style  type=\"text/css\" >\n",
       "</style>  \n",
       "<table id=\"T_9a144fe8_7975_11ed_9a9e_ec55f9ceb9c8\" style='display:inline'><caption>Курорты с максимальной длиной трасс</caption> \n",
       "<thead>    <tr> \n",
       "        <th class=\"blank level0\" ></th> \n",
       "        <th class=\"col_heading level0 col0\" >resort</th> \n",
       "        <th class=\"col_heading level0 col1\" >country</th> \n",
       "        <th class=\"col_heading level0 col2\" >hotel</th> \n",
       "        <th class=\"col_heading level0 col3\" >total_piste_km</th> \n",
       "        <th class=\"col_heading level0 col4\" >hotels_to_piste_ratio</th> \n",
       "    </tr></thead> \n",
       "<tbody>    <tr> \n",
       "        <th id=\"T_9a144fe8_7975_11ed_9a9e_ec55f9ceb9c8level0_row0\" class=\"row_heading level0 row0\" >0</th> \n",
       "        <td id=\"T_9a144fe8_7975_11ed_9a9e_ec55f9ceb9c8row0_col0\" class=\"data row0 col0\" >sauze-d-oulx</td> \n",
       "        <td id=\"T_9a144fe8_7975_11ed_9a9e_ec55f9ceb9c8row0_col1\" class=\"data row0 col1\" >italy</td> \n",
       "        <td id=\"T_9a144fe8_7975_11ed_9a9e_ec55f9ceb9c8row0_col2\" class=\"data row0 col2\" >10</td> \n",
       "        <td id=\"T_9a144fe8_7975_11ed_9a9e_ec55f9ceb9c8row0_col3\" class=\"data row0 col3\" >4000</td> \n",
       "        <td id=\"T_9a144fe8_7975_11ed_9a9e_ec55f9ceb9c8row0_col4\" class=\"data row0 col4\" >400</td> \n",
       "    </tr>    <tr> \n",
       "        <th id=\"T_9a144fe8_7975_11ed_9a9e_ec55f9ceb9c8level0_row1\" class=\"row_heading level0 row1\" >1</th> \n",
       "        <td id=\"T_9a144fe8_7975_11ed_9a9e_ec55f9ceb9c8row1_col0\" class=\"data row1 col0\" >st-anton</td> \n",
       "        <td id=\"T_9a144fe8_7975_11ed_9a9e_ec55f9ceb9c8row1_col1\" class=\"data row1 col1\" >austria</td> \n",
       "        <td id=\"T_9a144fe8_7975_11ed_9a9e_ec55f9ceb9c8row1_col2\" class=\"data row1 col2\" >12</td> \n",
       "        <td id=\"T_9a144fe8_7975_11ed_9a9e_ec55f9ceb9c8row1_col3\" class=\"data row1 col3\" >3660</td> \n",
       "        <td id=\"T_9a144fe8_7975_11ed_9a9e_ec55f9ceb9c8row1_col4\" class=\"data row1 col4\" >305</td> \n",
       "    </tr>    <tr> \n",
       "        <th id=\"T_9a144fe8_7975_11ed_9a9e_ec55f9ceb9c8level0_row2\" class=\"row_heading level0 row2\" >2</th> \n",
       "        <td id=\"T_9a144fe8_7975_11ed_9a9e_ec55f9ceb9c8row2_col0\" class=\"data row2 col0\" >cervinia</td> \n",
       "        <td id=\"T_9a144fe8_7975_11ed_9a9e_ec55f9ceb9c8row2_col1\" class=\"data row2 col1\" >italy</td> \n",
       "        <td id=\"T_9a144fe8_7975_11ed_9a9e_ec55f9ceb9c8row2_col2\" class=\"data row2 col2\" >8</td> \n",
       "        <td id=\"T_9a144fe8_7975_11ed_9a9e_ec55f9ceb9c8row2_col3\" class=\"data row2 col3\" >2800</td> \n",
       "        <td id=\"T_9a144fe8_7975_11ed_9a9e_ec55f9ceb9c8row2_col4\" class=\"data row2 col4\" >350</td> \n",
       "    </tr>    <tr> \n",
       "        <th id=\"T_9a144fe8_7975_11ed_9a9e_ec55f9ceb9c8level0_row3\" class=\"row_heading level0 row3\" >3</th> \n",
       "        <td id=\"T_9a144fe8_7975_11ed_9a9e_ec55f9ceb9c8row3_col0\" class=\"data row3 col0\" >saalbach</td> \n",
       "        <td id=\"T_9a144fe8_7975_11ed_9a9e_ec55f9ceb9c8row3_col1\" class=\"data row3 col1\" >austria</td> \n",
       "        <td id=\"T_9a144fe8_7975_11ed_9a9e_ec55f9ceb9c8row3_col2\" class=\"data row3 col2\" >10</td> \n",
       "        <td id=\"T_9a144fe8_7975_11ed_9a9e_ec55f9ceb9c8row3_col3\" class=\"data row3 col3\" >2700</td> \n",
       "        <td id=\"T_9a144fe8_7975_11ed_9a9e_ec55f9ceb9c8row3_col4\" class=\"data row3 col4\" >270</td> \n",
       "    </tr>    <tr> \n",
       "        <th id=\"T_9a144fe8_7975_11ed_9a9e_ec55f9ceb9c8level0_row4\" class=\"row_heading level0 row4\" >4</th> \n",
       "        <td id=\"T_9a144fe8_7975_11ed_9a9e_ec55f9ceb9c8row4_col0\" class=\"data row4 col0\" >val-d-isere</td> \n",
       "        <td id=\"T_9a144fe8_7975_11ed_9a9e_ec55f9ceb9c8row4_col1\" class=\"data row4 col1\" >france</td> \n",
       "        <td id=\"T_9a144fe8_7975_11ed_9a9e_ec55f9ceb9c8row4_col2\" class=\"data row4 col2\" >9</td> \n",
       "        <td id=\"T_9a144fe8_7975_11ed_9a9e_ec55f9ceb9c8row4_col3\" class=\"data row4 col3\" >2700</td> \n",
       "        <td id=\"T_9a144fe8_7975_11ed_9a9e_ec55f9ceb9c8row4_col4\" class=\"data row4 col4\" >300</td> \n",
       "    </tr>    <tr> \n",
       "        <th id=\"T_9a144fe8_7975_11ed_9a9e_ec55f9ceb9c8level0_row5\" class=\"row_heading level0 row5\" >5</th> \n",
       "        <td id=\"T_9a144fe8_7975_11ed_9a9e_ec55f9ceb9c8row5_col0\" class=\"data row5 col0\" >soldeu</td> \n",
       "        <td id=\"T_9a144fe8_7975_11ed_9a9e_ec55f9ceb9c8row5_col1\" class=\"data row5 col1\" >andorra</td> \n",
       "        <td id=\"T_9a144fe8_7975_11ed_9a9e_ec55f9ceb9c8row5_col2\" class=\"data row5 col2\" >11</td> \n",
       "        <td id=\"T_9a144fe8_7975_11ed_9a9e_ec55f9ceb9c8row5_col3\" class=\"data row5 col3\" >2310</td> \n",
       "        <td id=\"T_9a144fe8_7975_11ed_9a9e_ec55f9ceb9c8row5_col4\" class=\"data row5 col4\" >210</td> \n",
       "    </tr>    <tr> \n",
       "        <th id=\"T_9a144fe8_7975_11ed_9a9e_ec55f9ceb9c8level0_row6\" class=\"row_heading level0 row6\" >6</th> \n",
       "        <td id=\"T_9a144fe8_7975_11ed_9a9e_ec55f9ceb9c8row6_col0\" class=\"data row6 col0\" >soll</td> \n",
       "        <td id=\"T_9a144fe8_7975_11ed_9a9e_ec55f9ceb9c8row6_col1\" class=\"data row6 col1\" >austria</td> \n",
       "        <td id=\"T_9a144fe8_7975_11ed_9a9e_ec55f9ceb9c8row6_col2\" class=\"data row6 col2\" >9</td> \n",
       "        <td id=\"T_9a144fe8_7975_11ed_9a9e_ec55f9ceb9c8row6_col3\" class=\"data row6 col3\" >2250</td> \n",
       "        <td id=\"T_9a144fe8_7975_11ed_9a9e_ec55f9ceb9c8row6_col4\" class=\"data row6 col4\" >250</td> \n",
       "    </tr>    <tr> \n",
       "        <th id=\"T_9a144fe8_7975_11ed_9a9e_ec55f9ceb9c8level0_row7\" class=\"row_heading level0 row7\" >7</th> \n",
       "        <td id=\"T_9a144fe8_7975_11ed_9a9e_ec55f9ceb9c8row7_col0\" class=\"data row7 col0\" >pas-de-la-casa</td> \n",
       "        <td id=\"T_9a144fe8_7975_11ed_9a9e_ec55f9ceb9c8row7_col1\" class=\"data row7 col1\" >andorra</td> \n",
       "        <td id=\"T_9a144fe8_7975_11ed_9a9e_ec55f9ceb9c8row7_col2\" class=\"data row7 col2\" >11</td> \n",
       "        <td id=\"T_9a144fe8_7975_11ed_9a9e_ec55f9ceb9c8row7_col3\" class=\"data row7 col3\" >2123</td> \n",
       "        <td id=\"T_9a144fe8_7975_11ed_9a9e_ec55f9ceb9c8row7_col4\" class=\"data row7 col4\" >193</td> \n",
       "    </tr>    <tr> \n",
       "        <th id=\"T_9a144fe8_7975_11ed_9a9e_ec55f9ceb9c8level0_row8\" class=\"row_heading level0 row8\" >8</th> \n",
       "        <td id=\"T_9a144fe8_7975_11ed_9a9e_ec55f9ceb9c8row8_col0\" class=\"data row8 col0\" >selva-val-gardena</td> \n",
       "        <td id=\"T_9a144fe8_7975_11ed_9a9e_ec55f9ceb9c8row8_col1\" class=\"data row8 col1\" >italy</td> \n",
       "        <td id=\"T_9a144fe8_7975_11ed_9a9e_ec55f9ceb9c8row8_col2\" class=\"data row8 col2\" >12</td> \n",
       "        <td id=\"T_9a144fe8_7975_11ed_9a9e_ec55f9ceb9c8row8_col3\" class=\"data row8 col3\" >2100</td> \n",
       "        <td id=\"T_9a144fe8_7975_11ed_9a9e_ec55f9ceb9c8row8_col4\" class=\"data row8 col4\" >175</td> \n",
       "    </tr>    <tr> \n",
       "        <th id=\"T_9a144fe8_7975_11ed_9a9e_ec55f9ceb9c8level0_row9\" class=\"row_heading level0 row9\" >9</th> \n",
       "        <td id=\"T_9a144fe8_7975_11ed_9a9e_ec55f9ceb9c8row9_col0\" class=\"data row9 col0\" >bad-hofgastein</td> \n",
       "        <td id=\"T_9a144fe8_7975_11ed_9a9e_ec55f9ceb9c8row9_col1\" class=\"data row9 col1\" >austria</td> \n",
       "        <td id=\"T_9a144fe8_7975_11ed_9a9e_ec55f9ceb9c8row9_col2\" class=\"data row9 col2\" >10</td> \n",
       "        <td id=\"T_9a144fe8_7975_11ed_9a9e_ec55f9ceb9c8row9_col3\" class=\"data row9 col3\" >2080</td> \n",
       "        <td id=\"T_9a144fe8_7975_11ed_9a9e_ec55f9ceb9c8row9_col4\" class=\"data row9 col4\" >208</td> \n",
       "    </tr>    <tr> \n",
       "        <th id=\"T_9a144fe8_7975_11ed_9a9e_ec55f9ceb9c8level0_row10\" class=\"row_heading level0 row10\" >10</th> \n",
       "        <td id=\"T_9a144fe8_7975_11ed_9a9e_ec55f9ceb9c8row10_col0\" class=\"data row10 col0\" >zell-am-see</td> \n",
       "        <td id=\"T_9a144fe8_7975_11ed_9a9e_ec55f9ceb9c8row10_col1\" class=\"data row10 col1\" >austria</td> \n",
       "        <td id=\"T_9a144fe8_7975_11ed_9a9e_ec55f9ceb9c8row10_col2\" class=\"data row10 col2\" >15</td> \n",
       "        <td id=\"T_9a144fe8_7975_11ed_9a9e_ec55f9ceb9c8row10_col3\" class=\"data row10 col3\" >2040</td> \n",
       "        <td id=\"T_9a144fe8_7975_11ed_9a9e_ec55f9ceb9c8row10_col4\" class=\"data row10 col4\" >136</td> \n",
       "    </tr>    <tr> \n",
       "        <th id=\"T_9a144fe8_7975_11ed_9a9e_ec55f9ceb9c8level0_row11\" class=\"row_heading level0 row11\" >11</th> \n",
       "        <td id=\"T_9a144fe8_7975_11ed_9a9e_ec55f9ceb9c8row11_col0\" class=\"data row11 col0\" >sestriere</td> \n",
       "        <td id=\"T_9a144fe8_7975_11ed_9a9e_ec55f9ceb9c8row11_col1\" class=\"data row11 col1\" >italy</td> \n",
       "        <td id=\"T_9a144fe8_7975_11ed_9a9e_ec55f9ceb9c8row11_col2\" class=\"data row11 col2\" >5</td> \n",
       "        <td id=\"T_9a144fe8_7975_11ed_9a9e_ec55f9ceb9c8row11_col3\" class=\"data row11 col3\" >2000</td> \n",
       "        <td id=\"T_9a144fe8_7975_11ed_9a9e_ec55f9ceb9c8row11_col4\" class=\"data row11 col4\" >400</td> \n",
       "    </tr>    <tr> \n",
       "        <th id=\"T_9a144fe8_7975_11ed_9a9e_ec55f9ceb9c8level0_row12\" class=\"row_heading level0 row12\" >12</th> \n",
       "        <td id=\"T_9a144fe8_7975_11ed_9a9e_ec55f9ceb9c8row12_col0\" class=\"data row12 col0\" >alpe-d-huez</td> \n",
       "        <td id=\"T_9a144fe8_7975_11ed_9a9e_ec55f9ceb9c8row12_col1\" class=\"data row12 col1\" >france</td> \n",
       "        <td id=\"T_9a144fe8_7975_11ed_9a9e_ec55f9ceb9c8row12_col2\" class=\"data row12 col2\" >8</td> \n",
       "        <td id=\"T_9a144fe8_7975_11ed_9a9e_ec55f9ceb9c8row12_col3\" class=\"data row12 col3\" >1992</td> \n",
       "        <td id=\"T_9a144fe8_7975_11ed_9a9e_ec55f9ceb9c8row12_col4\" class=\"data row12 col4\" >249</td> \n",
       "    </tr>    <tr> \n",
       "        <th id=\"T_9a144fe8_7975_11ed_9a9e_ec55f9ceb9c8level0_row13\" class=\"row_heading level0 row13\" >13</th> \n",
       "        <td id=\"T_9a144fe8_7975_11ed_9a9e_ec55f9ceb9c8row13_col0\" class=\"data row13 col0\" >belle-plagne</td> \n",
       "        <td id=\"T_9a144fe8_7975_11ed_9a9e_ec55f9ceb9c8row13_col1\" class=\"data row13 col1\" >france</td> \n",
       "        <td id=\"T_9a144fe8_7975_11ed_9a9e_ec55f9ceb9c8row13_col2\" class=\"data row13 col2\" >4</td> \n",
       "        <td id=\"T_9a144fe8_7975_11ed_9a9e_ec55f9ceb9c8row13_col3\" class=\"data row13 col3\" >1700</td> \n",
       "        <td id=\"T_9a144fe8_7975_11ed_9a9e_ec55f9ceb9c8row13_col4\" class=\"data row13 col4\" >425</td> \n",
       "    </tr>    <tr> \n",
       "        <th id=\"T_9a144fe8_7975_11ed_9a9e_ec55f9ceb9c8level0_row14\" class=\"row_heading level0 row14\" >14</th> \n",
       "        <td id=\"T_9a144fe8_7975_11ed_9a9e_ec55f9ceb9c8row14_col0\" class=\"data row14 col0\" >ischgl</td> \n",
       "        <td id=\"T_9a144fe8_7975_11ed_9a9e_ec55f9ceb9c8row14_col1\" class=\"data row14 col1\" >austria</td> \n",
       "        <td id=\"T_9a144fe8_7975_11ed_9a9e_ec55f9ceb9c8row14_col2\" class=\"data row14 col2\" >7</td> \n",
       "        <td id=\"T_9a144fe8_7975_11ed_9a9e_ec55f9ceb9c8row14_col3\" class=\"data row14 col3\" >1610</td> \n",
       "        <td id=\"T_9a144fe8_7975_11ed_9a9e_ec55f9ceb9c8row14_col4\" class=\"data row14 col4\" >230</td> \n",
       "    </tr>    <tr> \n",
       "        <th id=\"T_9a144fe8_7975_11ed_9a9e_ec55f9ceb9c8level0_row15\" class=\"row_heading level0 row15\" >15</th> \n",
       "        <td id=\"T_9a144fe8_7975_11ed_9a9e_ec55f9ceb9c8row15_col0\" class=\"data row15 col0\" >obergurgl</td> \n",
       "        <td id=\"T_9a144fe8_7975_11ed_9a9e_ec55f9ceb9c8row15_col1\" class=\"data row15 col1\" >austria</td> \n",
       "        <td id=\"T_9a144fe8_7975_11ed_9a9e_ec55f9ceb9c8row15_col2\" class=\"data row15 col2\" >14</td> \n",
       "        <td id=\"T_9a144fe8_7975_11ed_9a9e_ec55f9ceb9c8row15_col3\" class=\"data row15 col3\" >1540</td> \n",
       "        <td id=\"T_9a144fe8_7975_11ed_9a9e_ec55f9ceb9c8row15_col4\" class=\"data row15 col4\" >110</td> \n",
       "    </tr>    <tr> \n",
       "        <th id=\"T_9a144fe8_7975_11ed_9a9e_ec55f9ceb9c8level0_row16\" class=\"row_heading level0 row16\" >16</th> \n",
       "        <td id=\"T_9a144fe8_7975_11ed_9a9e_ec55f9ceb9c8row16_col0\" class=\"data row16 col0\" >les-deux-alpes</td> \n",
       "        <td id=\"T_9a144fe8_7975_11ed_9a9e_ec55f9ceb9c8row16_col1\" class=\"data row16 col1\" >france</td> \n",
       "        <td id=\"T_9a144fe8_7975_11ed_9a9e_ec55f9ceb9c8row16_col2\" class=\"data row16 col2\" >7</td> \n",
       "        <td id=\"T_9a144fe8_7975_11ed_9a9e_ec55f9ceb9c8row16_col3\" class=\"data row16 col3\" >1540</td> \n",
       "        <td id=\"T_9a144fe8_7975_11ed_9a9e_ec55f9ceb9c8row16_col4\" class=\"data row16 col4\" >220</td> \n",
       "    </tr>    <tr> \n",
       "        <th id=\"T_9a144fe8_7975_11ed_9a9e_ec55f9ceb9c8level0_row17\" class=\"row_heading level0 row17\" >17</th> \n",
       "        <td id=\"T_9a144fe8_7975_11ed_9a9e_ec55f9ceb9c8row17_col0\" class=\"data row17 col0\" >lech</td> \n",
       "        <td id=\"T_9a144fe8_7975_11ed_9a9e_ec55f9ceb9c8row17_col1\" class=\"data row17 col1\" >austria</td> \n",
       "        <td id=\"T_9a144fe8_7975_11ed_9a9e_ec55f9ceb9c8row17_col2\" class=\"data row17 col2\" >4</td> \n",
       "        <td id=\"T_9a144fe8_7975_11ed_9a9e_ec55f9ceb9c8row17_col3\" class=\"data row17 col3\" >1220</td> \n",
       "        <td id=\"T_9a144fe8_7975_11ed_9a9e_ec55f9ceb9c8row17_col4\" class=\"data row17 col4\" >305</td> \n",
       "    </tr>    <tr> \n",
       "        <th id=\"T_9a144fe8_7975_11ed_9a9e_ec55f9ceb9c8level0_row18\" class=\"row_heading level0 row18\" >18</th> \n",
       "        <td id=\"T_9a144fe8_7975_11ed_9a9e_ec55f9ceb9c8row18_col0\" class=\"data row18 col0\" >passo-tonale</td> \n",
       "        <td id=\"T_9a144fe8_7975_11ed_9a9e_ec55f9ceb9c8row18_col1\" class=\"data row18 col1\" >italy</td> \n",
       "        <td id=\"T_9a144fe8_7975_11ed_9a9e_ec55f9ceb9c8row18_col2\" class=\"data row18 col2\" >11</td> \n",
       "        <td id=\"T_9a144fe8_7975_11ed_9a9e_ec55f9ceb9c8row18_col3\" class=\"data row18 col3\" >1100</td> \n",
       "        <td id=\"T_9a144fe8_7975_11ed_9a9e_ec55f9ceb9c8row18_col4\" class=\"data row18 col4\" >100</td> \n",
       "    </tr>    <tr> \n",
       "        <th id=\"T_9a144fe8_7975_11ed_9a9e_ec55f9ceb9c8level0_row19\" class=\"row_heading level0 row19\" >19</th> \n",
       "        <td id=\"T_9a144fe8_7975_11ed_9a9e_ec55f9ceb9c8row19_col0\" class=\"data row19 col0\" >serre-chevalier</td> \n",
       "        <td id=\"T_9a144fe8_7975_11ed_9a9e_ec55f9ceb9c8row19_col1\" class=\"data row19 col1\" >france</td> \n",
       "        <td id=\"T_9a144fe8_7975_11ed_9a9e_ec55f9ceb9c8row19_col2\" class=\"data row19 col2\" >4</td> \n",
       "        <td id=\"T_9a144fe8_7975_11ed_9a9e_ec55f9ceb9c8row19_col3\" class=\"data row19 col3\" >1000</td> \n",
       "        <td id=\"T_9a144fe8_7975_11ed_9a9e_ec55f9ceb9c8row19_col4\" class=\"data row19 col4\" >250</td> \n",
       "    </tr></tbody> \n",
       "</table>       <style  type=\"text/css\" >\n",
       "</style>  \n",
       "<table id=\"T_9a208518_7975_11ed_b79e_ec55f9ceb9c8\" style='display:inline'><caption>Курорты с минимальной длиной трасс</caption> \n",
       "<thead>    <tr> \n",
       "        <th class=\"blank level0\" ></th> \n",
       "        <th class=\"col_heading level0 col0\" >resort</th> \n",
       "        <th class=\"col_heading level0 col1\" >country</th> \n",
       "        <th class=\"col_heading level0 col2\" >hotel</th> \n",
       "        <th class=\"col_heading level0 col3\" >total_piste_km</th> \n",
       "        <th class=\"col_heading level0 col4\" >hotels_to_piste_ratio</th> \n",
       "    </tr></thead> \n",
       "<tbody>    <tr> \n",
       "        <th id=\"T_9a208518_7975_11ed_b79e_ec55f9ceb9c8level0_row0\" class=\"row_heading level0 row0\" >0</th> \n",
       "        <td id=\"T_9a208518_7975_11ed_b79e_ec55f9ceb9c8row0_col0\" class=\"data row0 col0\" >igls</td> \n",
       "        <td id=\"T_9a208518_7975_11ed_b79e_ec55f9ceb9c8row0_col1\" class=\"data row0 col1\" >austria</td> \n",
       "        <td id=\"T_9a208518_7975_11ed_b79e_ec55f9ceb9c8row0_col2\" class=\"data row0 col2\" >1</td> \n",
       "        <td id=\"T_9a208518_7975_11ed_b79e_ec55f9ceb9c8row0_col3\" class=\"data row0 col3\" >12</td> \n",
       "        <td id=\"T_9a208518_7975_11ed_b79e_ec55f9ceb9c8row0_col4\" class=\"data row0 col4\" >12</td> \n",
       "    </tr>    <tr> \n",
       "        <th id=\"T_9a208518_7975_11ed_b79e_ec55f9ceb9c8level0_row1\" class=\"row_heading level0 row1\" >1</th> \n",
       "        <td id=\"T_9a208518_7975_11ed_b79e_ec55f9ceb9c8row1_col0\" class=\"data row1 col0\" >pamporovo</td> \n",
       "        <td id=\"T_9a208518_7975_11ed_b79e_ec55f9ceb9c8row1_col1\" class=\"data row1 col1\" >bulgaria</td> \n",
       "        <td id=\"T_9a208518_7975_11ed_b79e_ec55f9ceb9c8row1_col2\" class=\"data row1 col2\" >1</td> \n",
       "        <td id=\"T_9a208518_7975_11ed_b79e_ec55f9ceb9c8row1_col3\" class=\"data row1 col3\" >18</td> \n",
       "        <td id=\"T_9a208518_7975_11ed_b79e_ec55f9ceb9c8row1_col4\" class=\"data row1 col4\" >18</td> \n",
       "    </tr>    <tr> \n",
       "        <th id=\"T_9a208518_7975_11ed_b79e_ec55f9ceb9c8level0_row2\" class=\"row_heading level0 row2\" >2</th> \n",
       "        <td id=\"T_9a208518_7975_11ed_b79e_ec55f9ceb9c8row2_col0\" class=\"data row2 col0\" >ruka</td> \n",
       "        <td id=\"T_9a208518_7975_11ed_b79e_ec55f9ceb9c8row2_col1\" class=\"data row2 col1\" >finland</td> \n",
       "        <td id=\"T_9a208518_7975_11ed_b79e_ec55f9ceb9c8row2_col2\" class=\"data row2 col2\" >1</td> \n",
       "        <td id=\"T_9a208518_7975_11ed_b79e_ec55f9ceb9c8row2_col3\" class=\"data row2 col3\" >24</td> \n",
       "        <td id=\"T_9a208518_7975_11ed_b79e_ec55f9ceb9c8row2_col4\" class=\"data row2 col4\" >24</td> \n",
       "    </tr>    <tr> \n",
       "        <th id=\"T_9a208518_7975_11ed_b79e_ec55f9ceb9c8level0_row3\" class=\"row_heading level0 row3\" >3</th> \n",
       "        <td id=\"T_9a208518_7975_11ed_b79e_ec55f9ceb9c8row3_col0\" class=\"data row3 col0\" >campitello</td> \n",
       "        <td id=\"T_9a208518_7975_11ed_b79e_ec55f9ceb9c8row3_col1\" class=\"data row3 col1\" >italy</td> \n",
       "        <td id=\"T_9a208518_7975_11ed_b79e_ec55f9ceb9c8row3_col2\" class=\"data row3 col2\" >4</td> \n",
       "        <td id=\"T_9a208518_7975_11ed_b79e_ec55f9ceb9c8row3_col3\" class=\"data row3 col3\" >68</td> \n",
       "        <td id=\"T_9a208518_7975_11ed_b79e_ec55f9ceb9c8row3_col4\" class=\"data row3 col4\" >17</td> \n",
       "    </tr>    <tr> \n",
       "        <th id=\"T_9a208518_7975_11ed_b79e_ec55f9ceb9c8level0_row4\" class=\"row_heading level0 row4\" >4</th> \n",
       "        <td id=\"T_9a208518_7975_11ed_b79e_ec55f9ceb9c8row4_col0\" class=\"data row4 col0\" >rauris</td> \n",
       "        <td id=\"T_9a208518_7975_11ed_b79e_ec55f9ceb9c8row4_col1\" class=\"data row4 col1\" >austria</td> \n",
       "        <td id=\"T_9a208518_7975_11ed_b79e_ec55f9ceb9c8row4_col2\" class=\"data row4 col2\" >3</td> \n",
       "        <td id=\"T_9a208518_7975_11ed_b79e_ec55f9ceb9c8row4_col3\" class=\"data row4 col3\" >75</td> \n",
       "        <td id=\"T_9a208518_7975_11ed_b79e_ec55f9ceb9c8row4_col4\" class=\"data row4 col4\" >25</td> \n",
       "    </tr>    <tr> \n",
       "        <th id=\"T_9a208518_7975_11ed_b79e_ec55f9ceb9c8level0_row5\" class=\"row_heading level0 row5\" >5</th> \n",
       "        <td id=\"T_9a208518_7975_11ed_b79e_ec55f9ceb9c8row5_col0\" class=\"data row5 col0\" >pyha</td> \n",
       "        <td id=\"T_9a208518_7975_11ed_b79e_ec55f9ceb9c8row5_col1\" class=\"data row5 col1\" >finland</td> \n",
       "        <td id=\"T_9a208518_7975_11ed_b79e_ec55f9ceb9c8row5_col2\" class=\"data row5 col2\" >1</td> \n",
       "        <td id=\"T_9a208518_7975_11ed_b79e_ec55f9ceb9c8row5_col3\" class=\"data row5 col3\" >80</td> \n",
       "        <td id=\"T_9a208518_7975_11ed_b79e_ec55f9ceb9c8row5_col4\" class=\"data row5 col4\" >80</td> \n",
       "    </tr>    <tr> \n",
       "        <th id=\"T_9a208518_7975_11ed_b79e_ec55f9ceb9c8level0_row6\" class=\"row_heading level0 row6\" >6</th> \n",
       "        <td id=\"T_9a208518_7975_11ed_b79e_ec55f9ceb9c8row6_col0\" class=\"data row6 col0\" >saariselka</td> \n",
       "        <td id=\"T_9a208518_7975_11ed_b79e_ec55f9ceb9c8row6_col1\" class=\"data row6 col1\" >finland</td> \n",
       "        <td id=\"T_9a208518_7975_11ed_b79e_ec55f9ceb9c8row6_col2\" class=\"data row6 col2\" >4</td> \n",
       "        <td id=\"T_9a208518_7975_11ed_b79e_ec55f9ceb9c8row6_col3\" class=\"data row6 col3\" >80</td> \n",
       "        <td id=\"T_9a208518_7975_11ed_b79e_ec55f9ceb9c8row6_col4\" class=\"data row6 col4\" >20</td> \n",
       "    </tr>    <tr> \n",
       "        <th id=\"T_9a208518_7975_11ed_b79e_ec55f9ceb9c8level0_row7\" class=\"row_heading level0 row7\" >7</th> \n",
       "        <td id=\"T_9a208518_7975_11ed_b79e_ec55f9ceb9c8row7_col0\" class=\"data row7 col0\" >obertauern</td> \n",
       "        <td id=\"T_9a208518_7975_11ed_b79e_ec55f9ceb9c8row7_col1\" class=\"data row7 col1\" >austria</td> \n",
       "        <td id=\"T_9a208518_7975_11ed_b79e_ec55f9ceb9c8row7_col2\" class=\"data row7 col2\" >1</td> \n",
       "        <td id=\"T_9a208518_7975_11ed_b79e_ec55f9ceb9c8row7_col3\" class=\"data row7 col3\" >95</td> \n",
       "        <td id=\"T_9a208518_7975_11ed_b79e_ec55f9ceb9c8row7_col4\" class=\"data row7 col4\" >95</td> \n",
       "    </tr>    <tr> \n",
       "        <th id=\"T_9a208518_7975_11ed_b79e_ec55f9ceb9c8level0_row8\" class=\"row_heading level0 row8\" >8</th> \n",
       "        <td id=\"T_9a208518_7975_11ed_b79e_ec55f9ceb9c8row8_col0\" class=\"data row8 col0\" >folgarida</td> \n",
       "        <td id=\"T_9a208518_7975_11ed_b79e_ec55f9ceb9c8row8_col1\" class=\"data row8 col1\" >italy</td> \n",
       "        <td id=\"T_9a208518_7975_11ed_b79e_ec55f9ceb9c8row8_col2\" class=\"data row8 col2\" >2</td> \n",
       "        <td id=\"T_9a208518_7975_11ed_b79e_ec55f9ceb9c8row8_col3\" class=\"data row8 col3\" >100</td> \n",
       "        <td id=\"T_9a208518_7975_11ed_b79e_ec55f9ceb9c8row8_col4\" class=\"data row8 col4\" >50</td> \n",
       "    </tr>    <tr> \n",
       "        <th id=\"T_9a208518_7975_11ed_b79e_ec55f9ceb9c8level0_row9\" class=\"row_heading level0 row9\" >9</th> \n",
       "        <td id=\"T_9a208518_7975_11ed_b79e_ec55f9ceb9c8row9_col0\" class=\"data row9 col0\" >borovets</td> \n",
       "        <td id=\"T_9a208518_7975_11ed_b79e_ec55f9ceb9c8row9_col1\" class=\"data row9 col1\" >bulgaria</td> \n",
       "        <td id=\"T_9a208518_7975_11ed_b79e_ec55f9ceb9c8row9_col2\" class=\"data row9 col2\" >2</td> \n",
       "        <td id=\"T_9a208518_7975_11ed_b79e_ec55f9ceb9c8row9_col3\" class=\"data row9 col3\" >116</td> \n",
       "        <td id=\"T_9a208518_7975_11ed_b79e_ec55f9ceb9c8row9_col4\" class=\"data row9 col4\" >58</td> \n",
       "    </tr>    <tr> \n",
       "        <th id=\"T_9a208518_7975_11ed_b79e_ec55f9ceb9c8level0_row10\" class=\"row_heading level0 row10\" >10</th> \n",
       "        <td id=\"T_9a208518_7975_11ed_b79e_ec55f9ceb9c8row10_col0\" class=\"data row10 col0\" >galtur</td> \n",
       "        <td id=\"T_9a208518_7975_11ed_b79e_ec55f9ceb9c8row10_col1\" class=\"data row10 col1\" >austria</td> \n",
       "        <td id=\"T_9a208518_7975_11ed_b79e_ec55f9ceb9c8row10_col2\" class=\"data row10 col2\" >3</td> \n",
       "        <td id=\"T_9a208518_7975_11ed_b79e_ec55f9ceb9c8row10_col3\" class=\"data row10 col3\" >120</td> \n",
       "        <td id=\"T_9a208518_7975_11ed_b79e_ec55f9ceb9c8row10_col4\" class=\"data row10 col4\" >40</td> \n",
       "    </tr>    <tr> \n",
       "        <th id=\"T_9a208518_7975_11ed_b79e_ec55f9ceb9c8level0_row11\" class=\"row_heading level0 row11\" >11</th> \n",
       "        <td id=\"T_9a208518_7975_11ed_b79e_ec55f9ceb9c8row11_col0\" class=\"data row11 col0\" >cortina</td> \n",
       "        <td id=\"T_9a208518_7975_11ed_b79e_ec55f9ceb9c8row11_col1\" class=\"data row11 col1\" >italy</td> \n",
       "        <td id=\"T_9a208518_7975_11ed_b79e_ec55f9ceb9c8row11_col2\" class=\"data row11 col2\" >1</td> \n",
       "        <td id=\"T_9a208518_7975_11ed_b79e_ec55f9ceb9c8row11_col3\" class=\"data row11 col3\" >140</td> \n",
       "        <td id=\"T_9a208518_7975_11ed_b79e_ec55f9ceb9c8row11_col4\" class=\"data row11 col4\" >140</td> \n",
       "    </tr>    <tr> \n",
       "        <th id=\"T_9a208518_7975_11ed_b79e_ec55f9ceb9c8level0_row12\" class=\"row_heading level0 row12\" >12</th> \n",
       "        <td id=\"T_9a208518_7975_11ed_b79e_ec55f9ceb9c8row12_col0\" class=\"data row12 col0\" >hochsolden</td> \n",
       "        <td id=\"T_9a208518_7975_11ed_b79e_ec55f9ceb9c8row12_col1\" class=\"data row12 col1\" >austria</td> \n",
       "        <td id=\"T_9a208518_7975_11ed_b79e_ec55f9ceb9c8row12_col2\" class=\"data row12 col2\" >1</td> \n",
       "        <td id=\"T_9a208518_7975_11ed_b79e_ec55f9ceb9c8row12_col3\" class=\"data row12 col3\" >146</td> \n",
       "        <td id=\"T_9a208518_7975_11ed_b79e_ec55f9ceb9c8row12_col4\" class=\"data row12 col4\" >146</td> \n",
       "    </tr>    <tr> \n",
       "        <th id=\"T_9a208518_7975_11ed_b79e_ec55f9ceb9c8level0_row13\" class=\"row_heading level0 row13\" >13</th> \n",
       "        <td id=\"T_9a208518_7975_11ed_b79e_ec55f9ceb9c8row13_col0\" class=\"data row13 col0\" >courchevel-1650</td> \n",
       "        <td id=\"T_9a208518_7975_11ed_b79e_ec55f9ceb9c8row13_col1\" class=\"data row13 col1\" >france</td> \n",
       "        <td id=\"T_9a208518_7975_11ed_b79e_ec55f9ceb9c8row13_col2\" class=\"data row13 col2\" >1</td> \n",
       "        <td id=\"T_9a208518_7975_11ed_b79e_ec55f9ceb9c8row13_col3\" class=\"data row13 col3\" >150</td> \n",
       "        <td id=\"T_9a208518_7975_11ed_b79e_ec55f9ceb9c8row13_col4\" class=\"data row13 col4\" >150</td> \n",
       "    </tr>    <tr> \n",
       "        <th id=\"T_9a208518_7975_11ed_b79e_ec55f9ceb9c8level0_row14\" class=\"row_heading level0 row14\" >14</th> \n",
       "        <td id=\"T_9a208518_7975_11ed_b79e_ec55f9ceb9c8row14_col0\" class=\"data row14 col0\" >courchevel-1850</td> \n",
       "        <td id=\"T_9a208518_7975_11ed_b79e_ec55f9ceb9c8row14_col1\" class=\"data row14 col1\" >france</td> \n",
       "        <td id=\"T_9a208518_7975_11ed_b79e_ec55f9ceb9c8row14_col2\" class=\"data row14 col2\" >1</td> \n",
       "        <td id=\"T_9a208518_7975_11ed_b79e_ec55f9ceb9c8row14_col3\" class=\"data row14 col3\" >150</td> \n",
       "        <td id=\"T_9a208518_7975_11ed_b79e_ec55f9ceb9c8row14_col4\" class=\"data row14 col4\" >150</td> \n",
       "    </tr>    <tr> \n",
       "        <th id=\"T_9a208518_7975_11ed_b79e_ec55f9ceb9c8level0_row15\" class=\"row_heading level0 row15\" >15</th> \n",
       "        <td id=\"T_9a208518_7975_11ed_b79e_ec55f9ceb9c8row15_col0\" class=\"data row15 col0\" >seefeld</td> \n",
       "        <td id=\"T_9a208518_7975_11ed_b79e_ec55f9ceb9c8row15_col1\" class=\"data row15 col1\" >austria</td> \n",
       "        <td id=\"T_9a208518_7975_11ed_b79e_ec55f9ceb9c8row15_col2\" class=\"data row15 col2\" >3</td> \n",
       "        <td id=\"T_9a208518_7975_11ed_b79e_ec55f9ceb9c8row15_col3\" class=\"data row15 col3\" >150</td> \n",
       "        <td id=\"T_9a208518_7975_11ed_b79e_ec55f9ceb9c8row15_col4\" class=\"data row15 col4\" >50</td> \n",
       "    </tr>    <tr> \n",
       "        <th id=\"T_9a208518_7975_11ed_b79e_ec55f9ceb9c8level0_row16\" class=\"row_heading level0 row16\" >16</th> \n",
       "        <td id=\"T_9a208518_7975_11ed_b79e_ec55f9ceb9c8row16_col0\" class=\"data row16 col0\" >la-rosiere</td> \n",
       "        <td id=\"T_9a208518_7975_11ed_b79e_ec55f9ceb9c8row16_col1\" class=\"data row16 col1\" >france</td> \n",
       "        <td id=\"T_9a208518_7975_11ed_b79e_ec55f9ceb9c8row16_col2\" class=\"data row16 col2\" >1</td> \n",
       "        <td id=\"T_9a208518_7975_11ed_b79e_ec55f9ceb9c8row16_col3\" class=\"data row16 col3\" >160</td> \n",
       "        <td id=\"T_9a208518_7975_11ed_b79e_ec55f9ceb9c8row16_col4\" class=\"data row16 col4\" >160</td> \n",
       "    </tr>    <tr> \n",
       "        <th id=\"T_9a208518_7975_11ed_b79e_ec55f9ceb9c8level0_row17\" class=\"row_heading level0 row17\" >17</th> \n",
       "        <td id=\"T_9a208518_7975_11ed_b79e_ec55f9ceb9c8row17_col0\" class=\"data row17 col0\" >les-arcs-1600</td> \n",
       "        <td id=\"T_9a208518_7975_11ed_b79e_ec55f9ceb9c8row17_col1\" class=\"data row17 col1\" >france</td> \n",
       "        <td id=\"T_9a208518_7975_11ed_b79e_ec55f9ceb9c8row17_col2\" class=\"data row17 col2\" >1</td> \n",
       "        <td id=\"T_9a208518_7975_11ed_b79e_ec55f9ceb9c8row17_col3\" class=\"data row17 col3\" >200</td> \n",
       "        <td id=\"T_9a208518_7975_11ed_b79e_ec55f9ceb9c8row17_col4\" class=\"data row17 col4\" >200</td> \n",
       "    </tr>    <tr> \n",
       "        <th id=\"T_9a208518_7975_11ed_b79e_ec55f9ceb9c8level0_row18\" class=\"row_heading level0 row18\" >18</th> \n",
       "        <td id=\"T_9a208518_7975_11ed_b79e_ec55f9ceb9c8row18_col0\" class=\"data row18 col0\" >les-arcs-2000</td> \n",
       "        <td id=\"T_9a208518_7975_11ed_b79e_ec55f9ceb9c8row18_col1\" class=\"data row18 col1\" >france</td> \n",
       "        <td id=\"T_9a208518_7975_11ed_b79e_ec55f9ceb9c8row18_col2\" class=\"data row18 col2\" >1</td> \n",
       "        <td id=\"T_9a208518_7975_11ed_b79e_ec55f9ceb9c8row18_col3\" class=\"data row18 col3\" >200</td> \n",
       "        <td id=\"T_9a208518_7975_11ed_b79e_ec55f9ceb9c8row18_col4\" class=\"data row18 col4\" >200</td> \n",
       "    </tr>    <tr> \n",
       "        <th id=\"T_9a208518_7975_11ed_b79e_ec55f9ceb9c8level0_row19\" class=\"row_heading level0 row19\" >19</th> \n",
       "        <td id=\"T_9a208518_7975_11ed_b79e_ec55f9ceb9c8row19_col0\" class=\"data row19 col0\" >levi</td> \n",
       "        <td id=\"T_9a208518_7975_11ed_b79e_ec55f9ceb9c8row19_col1\" class=\"data row19 col1\" >finland</td> \n",
       "        <td id=\"T_9a208518_7975_11ed_b79e_ec55f9ceb9c8row19_col2\" class=\"data row19 col2\" >5</td> \n",
       "        <td id=\"T_9a208518_7975_11ed_b79e_ec55f9ceb9c8row19_col3\" class=\"data row19 col3\" >220</td> \n",
       "        <td id=\"T_9a208518_7975_11ed_b79e_ec55f9ceb9c8row19_col4\" class=\"data row19 col4\" >44</td> \n",
       "    </tr></tbody> \n",
       "</table> "
      ]
     },
     "metadata": {},
     "output_type": "display_data"
    }
   ],
   "source": [
    "max_piste = round(resorts_piste.sort_values(by='total_piste_km', ascending=False).reset_index(drop=True)).head(20)\n",
    "min_piste = round(resorts_piste.sort_values(by='total_piste_km', ascending=True).reset_index(drop=True)).head(20)\n",
    "\n",
    "two_sets_beside(max_piste, min_piste, 'Курорты с максимальной длиной трасс', 'Курорты с минимальной длиной трасс')"
   ]
  },
  {
   "cell_type": "markdown",
   "metadata": {},
   "source": [
    "Мы видим, что в группу с минимальной длиной склонов попали французские **courchevel-1650 и courchevel-1850** - а они одни из самых дорогих, что наталкивает нас на мысль об отсутствии связи между ценой и длиной трасс - проверим:"
   ]
  },
  {
   "cell_type": "code",
   "execution_count": 64,
   "metadata": {},
   "outputs": [
    {
     "name": "stdout",
     "output_type": "stream",
     "text": [
      "0.2428999245493489\n"
     ]
    }
   ],
   "source": [
    "print(df['total_piste_km'].corr(df['price_per_week']))"
   ]
  },
  {
   "cell_type": "markdown",
   "metadata": {},
   "source": [
    "Действительно, показатель довольно низкий, что говорит об **отсутствии корреляции между ценой отеля и длиной трасс**. Вероятно, влияют другие факторы - например сам по себе престиж курорта, или просто уровень отеля и сервиса, но более детально мы проверим корреляции на одном из следующих шагов. Изучим средние и медианы протяжённости трасс по странам:"
   ]
  },
  {
   "cell_type": "code",
   "execution_count": 65,
   "metadata": {
    "scrolled": true
   },
   "outputs": [
    {
     "data": {
      "text/html": [
       "<style  type=\"text/css\" >\n",
       "</style>  \n",
       "<table id=\"T_9a2a29e8_7975_11ed_b246_ec55f9ceb9c8\" style='display:inline'><caption>Средняя длина трасс в странах</caption> \n",
       "<thead>    <tr> \n",
       "        <th class=\"blank level0\" ></th> \n",
       "        <th class=\"col_heading level0 col0\" >country</th> \n",
       "        <th class=\"col_heading level0 col1\" >total_piste_km</th> \n",
       "    </tr></thead> \n",
       "<tbody>    <tr> \n",
       "        <th id=\"T_9a2a29e8_7975_11ed_b246_ec55f9ceb9c8level0_row0\" class=\"row_heading level0 row0\" >0</th> \n",
       "        <td id=\"T_9a2a29e8_7975_11ed_b246_ec55f9ceb9c8row0_col0\" class=\"data row0 col0\" >france</td> \n",
       "        <td id=\"T_9a2a29e8_7975_11ed_b246_ec55f9ceb9c8row0_col1\" class=\"data row0 col1\" >273.13</td> \n",
       "    </tr>    <tr> \n",
       "        <th id=\"T_9a2a29e8_7975_11ed_b246_ec55f9ceb9c8level0_row1\" class=\"row_heading level0 row1\" >1</th> \n",
       "        <td id=\"T_9a2a29e8_7975_11ed_b246_ec55f9ceb9c8row1_col0\" class=\"data row1 col0\" >austria</td> \n",
       "        <td id=\"T_9a2a29e8_7975_11ed_b246_ec55f9ceb9c8row1_col1\" class=\"data row1 col1\" >179.24</td> \n",
       "    </tr>    <tr> \n",
       "        <th id=\"T_9a2a29e8_7975_11ed_b246_ec55f9ceb9c8level0_row2\" class=\"row_heading level0 row2\" >2</th> \n",
       "        <td id=\"T_9a2a29e8_7975_11ed_b246_ec55f9ceb9c8row2_col0\" class=\"data row2 col0\" >italy</td> \n",
       "        <td id=\"T_9a2a29e8_7975_11ed_b246_ec55f9ceb9c8row2_col1\" class=\"data row2 col1\" >178.56</td> \n",
       "    </tr>    <tr> \n",
       "        <th id=\"T_9a2a29e8_7975_11ed_b246_ec55f9ceb9c8level0_row3\" class=\"row_heading level0 row3\" >3</th> \n",
       "        <td id=\"T_9a2a29e8_7975_11ed_b246_ec55f9ceb9c8row3_col0\" class=\"data row3 col0\" >andorra</td> \n",
       "        <td id=\"T_9a2a29e8_7975_11ed_b246_ec55f9ceb9c8row3_col1\" class=\"data row3 col1\" >168.07</td> \n",
       "    </tr>    <tr> \n",
       "        <th id=\"T_9a2a29e8_7975_11ed_b246_ec55f9ceb9c8level0_row4\" class=\"row_heading level0 row4\" >4</th> \n",
       "        <td id=\"T_9a2a29e8_7975_11ed_b246_ec55f9ceb9c8row4_col0\" class=\"data row4 col0\" >bulgaria</td> \n",
       "        <td id=\"T_9a2a29e8_7975_11ed_b246_ec55f9ceb9c8row4_col1\" class=\"data row4 col1\" >59.14</td> \n",
       "    </tr>    <tr> \n",
       "        <th id=\"T_9a2a29e8_7975_11ed_b246_ec55f9ceb9c8level0_row5\" class=\"row_heading level0 row5\" >5</th> \n",
       "        <td id=\"T_9a2a29e8_7975_11ed_b246_ec55f9ceb9c8row5_col0\" class=\"data row5 col0\" >finland</td> \n",
       "        <td id=\"T_9a2a29e8_7975_11ed_b246_ec55f9ceb9c8row5_col1\" class=\"data row5 col1\" >36.73</td> \n",
       "    </tr></tbody> \n",
       "</table>       <style  type=\"text/css\" >\n",
       "</style>  \n",
       "<table id=\"T_9a2a780a_7975_11ed_a3cd_ec55f9ceb9c8\" style='display:inline'><caption>Медианы длинн трасс в странах</caption> \n",
       "<thead>    <tr> \n",
       "        <th class=\"blank level0\" ></th> \n",
       "        <th class=\"col_heading level0 col0\" >country</th> \n",
       "        <th class=\"col_heading level0 col1\" >total_piste_km</th> \n",
       "    </tr></thead> \n",
       "<tbody>    <tr> \n",
       "        <th id=\"T_9a2a780a_7975_11ed_a3cd_ec55f9ceb9c8level0_row0\" class=\"row_heading level0 row0\" >0</th> \n",
       "        <td id=\"T_9a2a780a_7975_11ed_a3cd_ec55f9ceb9c8row0_col0\" class=\"data row0 col0\" >france</td> \n",
       "        <td id=\"T_9a2a780a_7975_11ed_a3cd_ec55f9ceb9c8row0_col1\" class=\"data row0 col1\" >250</td> \n",
       "    </tr>    <tr> \n",
       "        <th id=\"T_9a2a780a_7975_11ed_a3cd_ec55f9ceb9c8level0_row1\" class=\"row_heading level0 row1\" >1</th> \n",
       "        <td id=\"T_9a2a780a_7975_11ed_a3cd_ec55f9ceb9c8row1_col0\" class=\"data row1 col0\" >andorra</td> \n",
       "        <td id=\"T_9a2a780a_7975_11ed_a3cd_ec55f9ceb9c8row1_col1\" class=\"data row1 col1\" >193</td> \n",
       "    </tr>    <tr> \n",
       "        <th id=\"T_9a2a780a_7975_11ed_a3cd_ec55f9ceb9c8level0_row2\" class=\"row_heading level0 row2\" >2</th> \n",
       "        <td id=\"T_9a2a780a_7975_11ed_a3cd_ec55f9ceb9c8row2_col0\" class=\"data row2 col0\" >austria</td> \n",
       "        <td id=\"T_9a2a780a_7975_11ed_a3cd_ec55f9ceb9c8row2_col1\" class=\"data row2 col1\" >175</td> \n",
       "    </tr>    <tr> \n",
       "        <th id=\"T_9a2a780a_7975_11ed_a3cd_ec55f9ceb9c8level0_row3\" class=\"row_heading level0 row3\" >3</th> \n",
       "        <td id=\"T_9a2a780a_7975_11ed_a3cd_ec55f9ceb9c8row3_col0\" class=\"data row3 col0\" >italy</td> \n",
       "        <td id=\"T_9a2a780a_7975_11ed_a3cd_ec55f9ceb9c8row3_col1\" class=\"data row3 col1\" >140</td> \n",
       "    </tr>    <tr> \n",
       "        <th id=\"T_9a2a780a_7975_11ed_a3cd_ec55f9ceb9c8level0_row4\" class=\"row_heading level0 row4\" >4</th> \n",
       "        <td id=\"T_9a2a780a_7975_11ed_a3cd_ec55f9ceb9c8row4_col0\" class=\"data row4 col0\" >bulgaria</td> \n",
       "        <td id=\"T_9a2a780a_7975_11ed_a3cd_ec55f9ceb9c8row4_col1\" class=\"data row4 col1\" >70</td> \n",
       "    </tr>    <tr> \n",
       "        <th id=\"T_9a2a780a_7975_11ed_a3cd_ec55f9ceb9c8level0_row5\" class=\"row_heading level0 row5\" >5</th> \n",
       "        <td id=\"T_9a2a780a_7975_11ed_a3cd_ec55f9ceb9c8row5_col0\" class=\"data row5 col0\" >finland</td> \n",
       "        <td id=\"T_9a2a780a_7975_11ed_a3cd_ec55f9ceb9c8row5_col1\" class=\"data row5 col1\" >44</td> \n",
       "    </tr></tbody> \n",
       "</table> "
      ]
     },
     "metadata": {},
     "output_type": "display_data"
    }
   ],
   "source": [
    "mean_hights = round(df.groupby('country').agg({'total_piste_km':'mean'}).\\\n",
    "                   sort_values(by='total_piste_km', ascending=False).reset_index(), 2).head(20)\n",
    "\n",
    "median_hights = round(df.groupby('country').agg({'total_piste_km':'median'}).\\\n",
    "                   sort_values(by='total_piste_km', ascending=False).reset_index(), 2).head(20)\n",
    "\n",
    "two_sets_beside(mean_hights, median_hights, 'Средняя длина трасс в странах', 'Медианы длинн трасс в странах')"
   ]
  },
  {
   "cell_type": "markdown",
   "metadata": {},
   "source": [
    "Посмотрим на разницу нагляднее:"
   ]
  },
  {
   "cell_type": "code",
   "execution_count": 66,
   "metadata": {
    "scrolled": false
   },
   "outputs": [
    {
     "data": {
      "image/png": "[encoded data removed]",
      "text/plain": [
       "<Figure size 1080x432 with 1 Axes>"
      ]
     },
     "metadata": {
      "needs_background": "light"
     },
     "output_type": "display_data"
    }
   ],
   "source": [
    "plt.figure(figsize=(15,6))\n",
    "sns.barplot(data=mean_hights, x='total_piste_km', y='country', edgecolor='#bbbbbb', color='#e4eff6')\n",
    "for a, b in enumerate(mean_hights['total_piste_km'].values):\n",
    "    plt.text(b, a, int(b), horizontalalignment='right', va='baseline', fontdict={'size':12})\n",
    "plt.title('Средняя длина трасс в странах', fontsize=20, pad=15)\n",
    "plt.xlabel('Средняя длина трасс, км', fontsize=15, color='#888888')\n",
    "plt.ylabel('Страна', fontsize=15, color='#888888')\n",
    "plt.tick_params(axis='both', labelsize=12)\n",
    "plt.grid(axis='x', alpha=0.4);"
   ]
  },
  {
   "cell_type": "markdown",
   "metadata": {},
   "source": [
    "**Франция - абсолютный лидер по длине трасс** - во много раз превосходя, например, Финляндию."
   ]
  },
  {
   "cell_type": "markdown",
   "metadata": {},
   "source": [
    "<a id='eda_total_lifts'> </a>\n",
    "\n",
    "---\n",
    "> ### 2.7 total_lifts\n",
    "\n",
    "Посмотрим на количество подъёмников на курортах:"
   ]
  },
  {
   "cell_type": "code",
   "execution_count": 67,
   "metadata": {},
   "outputs": [
    {
     "data": {
      "text/plain": [
       "count    348.00\n",
       "mean      56.05\n",
       "std       29.10\n",
       "min        0.00\n",
       "25%       30.00\n",
       "50%       56.00\n",
       "75%       81.25\n",
       "max      171.00\n",
       "Name: total_lifts, dtype: float64"
      ]
     },
     "metadata": {},
     "output_type": "display_data"
    }
   ],
   "source": [
    "d(df.total_lifts)"
   ]
  },
  {
   "cell_type": "code",
   "execution_count": 68,
   "metadata": {},
   "outputs": [],
   "source": [
    "max_lifts = round(df.groupby(['resort', 'country']).agg({'total_lifts':'mean', 'total_piste_km':'mean'}).\\\n",
    "                   sort_values(by='total_lifts', ascending=False).reset_index(), 2).head(20)\n",
    "\n",
    "min_lifts = round(df.groupby(['resort', 'country']).agg({'total_lifts':'mean', 'total_piste_km':'mean'}).\\\n",
    "                   sort_values(by='total_lifts', ascending=True).reset_index(), 2).head(20)"
   ]
  },
  {
   "cell_type": "code",
   "execution_count": 69,
   "metadata": {},
   "outputs": [
    {
     "data": {
      "text/html": [
       "<style  type=\"text/css\" >\n",
       "</style>  \n",
       "<table id=\"T_9a6a86fa_7975_11ed_8f38_ec55f9ceb9c8\" style='display:inline'><caption>Курорты с максимальным средним количеством подъёмников</caption> \n",
       "<thead>    <tr> \n",
       "        <th class=\"blank level0\" ></th> \n",
       "        <th class=\"col_heading level0 col0\" >resort</th> \n",
       "        <th class=\"col_heading level0 col1\" >country</th> \n",
       "        <th class=\"col_heading level0 col2\" >total_lifts</th> \n",
       "        <th class=\"col_heading level0 col3\" >total_piste_km</th> \n",
       "    </tr></thead> \n",
       "<tbody>    <tr> \n",
       "        <th id=\"T_9a6a86fa_7975_11ed_8f38_ec55f9ceb9c8level0_row0\" class=\"row_heading level0 row0\" >0</th> \n",
       "        <td id=\"T_9a6a86fa_7975_11ed_8f38_ec55f9ceb9c8row0_col0\" class=\"data row0 col0\" >bourg-st-maurice</td> \n",
       "        <td id=\"T_9a6a86fa_7975_11ed_8f38_ec55f9ceb9c8row0_col1\" class=\"data row0 col1\" >france</td> \n",
       "        <td id=\"T_9a6a86fa_7975_11ed_8f38_ec55f9ceb9c8row0_col2\" class=\"data row0 col2\" >171</td> \n",
       "        <td id=\"T_9a6a86fa_7975_11ed_8f38_ec55f9ceb9c8row0_col3\" class=\"data row0 col3\" >425</td> \n",
       "    </tr>    <tr> \n",
       "        <th id=\"T_9a6a86fa_7975_11ed_8f38_ec55f9ceb9c8level0_row1\" class=\"row_heading level0 row1\" >1</th> \n",
       "        <td id=\"T_9a6a86fa_7975_11ed_8f38_ec55f9ceb9c8row1_col0\" class=\"data row1 col0\" >aime-la-plagne</td> \n",
       "        <td id=\"T_9a6a86fa_7975_11ed_8f38_ec55f9ceb9c8row1_col1\" class=\"data row1 col1\" >france</td> \n",
       "        <td id=\"T_9a6a86fa_7975_11ed_8f38_ec55f9ceb9c8row1_col2\" class=\"data row1 col2\" >139</td> \n",
       "        <td id=\"T_9a6a86fa_7975_11ed_8f38_ec55f9ceb9c8row1_col3\" class=\"data row1 col3\" >225</td> \n",
       "    </tr>    <tr> \n",
       "        <th id=\"T_9a6a86fa_7975_11ed_8f38_ec55f9ceb9c8level0_row2\" class=\"row_heading level0 row2\" >2</th> \n",
       "        <td id=\"T_9a6a86fa_7975_11ed_8f38_ec55f9ceb9c8row2_col0\" class=\"data row2 col0\" >belle-plagne</td> \n",
       "        <td id=\"T_9a6a86fa_7975_11ed_8f38_ec55f9ceb9c8row2_col1\" class=\"data row2 col1\" >france</td> \n",
       "        <td id=\"T_9a6a86fa_7975_11ed_8f38_ec55f9ceb9c8row2_col2\" class=\"data row2 col2\" >139</td> \n",
       "        <td id=\"T_9a6a86fa_7975_11ed_8f38_ec55f9ceb9c8row2_col3\" class=\"data row2 col3\" >425</td> \n",
       "    </tr>    <tr> \n",
       "        <th id=\"T_9a6a86fa_7975_11ed_8f38_ec55f9ceb9c8level0_row3\" class=\"row_heading level0 row3\" >3</th> \n",
       "        <td id=\"T_9a6a86fa_7975_11ed_8f38_ec55f9ceb9c8row3_col0\" class=\"data row3 col0\" >plagne-centre</td> \n",
       "        <td id=\"T_9a6a86fa_7975_11ed_8f38_ec55f9ceb9c8row3_col1\" class=\"data row3 col1\" >france</td> \n",
       "        <td id=\"T_9a6a86fa_7975_11ed_8f38_ec55f9ceb9c8row3_col2\" class=\"data row3 col2\" >105</td> \n",
       "        <td id=\"T_9a6a86fa_7975_11ed_8f38_ec55f9ceb9c8row3_col3\" class=\"data row3 col3\" >225</td> \n",
       "    </tr>    <tr> \n",
       "        <th id=\"T_9a6a86fa_7975_11ed_8f38_ec55f9ceb9c8level0_row4\" class=\"row_heading level0 row4\" >4</th> \n",
       "        <td id=\"T_9a6a86fa_7975_11ed_8f38_ec55f9ceb9c8row4_col0\" class=\"data row4 col0\" >plagne-soleil</td> \n",
       "        <td id=\"T_9a6a86fa_7975_11ed_8f38_ec55f9ceb9c8row4_col1\" class=\"data row4 col1\" >france</td> \n",
       "        <td id=\"T_9a6a86fa_7975_11ed_8f38_ec55f9ceb9c8row4_col2\" class=\"data row4 col2\" >105</td> \n",
       "        <td id=\"T_9a6a86fa_7975_11ed_8f38_ec55f9ceb9c8row4_col3\" class=\"data row4 col3\" >225</td> \n",
       "    </tr>    <tr> \n",
       "        <th id=\"T_9a6a86fa_7975_11ed_8f38_ec55f9ceb9c8level0_row5\" class=\"row_heading level0 row5\" >5</th> \n",
       "        <td id=\"T_9a6a86fa_7975_11ed_8f38_ec55f9ceb9c8row5_col0\" class=\"data row5 col0\" >st-christoph</td> \n",
       "        <td id=\"T_9a6a86fa_7975_11ed_8f38_ec55f9ceb9c8row5_col1\" class=\"data row5 col1\" >austria</td> \n",
       "        <td id=\"T_9a6a86fa_7975_11ed_8f38_ec55f9ceb9c8row5_col2\" class=\"data row5 col2\" >97</td> \n",
       "        <td id=\"T_9a6a86fa_7975_11ed_8f38_ec55f9ceb9c8row5_col3\" class=\"data row5 col3\" >348</td> \n",
       "    </tr>    <tr> \n",
       "        <th id=\"T_9a6a86fa_7975_11ed_8f38_ec55f9ceb9c8level0_row6\" class=\"row_heading level0 row6\" >6</th> \n",
       "        <td id=\"T_9a6a86fa_7975_11ed_8f38_ec55f9ceb9c8row6_col0\" class=\"data row6 col0\" >ellmau</td> \n",
       "        <td id=\"T_9a6a86fa_7975_11ed_8f38_ec55f9ceb9c8row6_col1\" class=\"data row6 col1\" >austria</td> \n",
       "        <td id=\"T_9a6a86fa_7975_11ed_8f38_ec55f9ceb9c8row6_col2\" class=\"data row6 col2\" >95</td> \n",
       "        <td id=\"T_9a6a86fa_7975_11ed_8f38_ec55f9ceb9c8row6_col3\" class=\"data row6 col3\" >280</td> \n",
       "    </tr>    <tr> \n",
       "        <th id=\"T_9a6a86fa_7975_11ed_8f38_ec55f9ceb9c8level0_row7\" class=\"row_heading level0 row7\" >7</th> \n",
       "        <td id=\"T_9a6a86fa_7975_11ed_8f38_ec55f9ceb9c8row7_col0\" class=\"data row7 col0\" >soll</td> \n",
       "        <td id=\"T_9a6a86fa_7975_11ed_8f38_ec55f9ceb9c8row7_col1\" class=\"data row7 col1\" >austria</td> \n",
       "        <td id=\"T_9a6a86fa_7975_11ed_8f38_ec55f9ceb9c8row7_col2\" class=\"data row7 col2\" >94</td> \n",
       "        <td id=\"T_9a6a86fa_7975_11ed_8f38_ec55f9ceb9c8row7_col3\" class=\"data row7 col3\" >250</td> \n",
       "    </tr>    <tr> \n",
       "        <th id=\"T_9a6a86fa_7975_11ed_8f38_ec55f9ceb9c8level0_row8\" class=\"row_heading level0 row8\" >8</th> \n",
       "        <td id=\"T_9a6a86fa_7975_11ed_8f38_ec55f9ceb9c8row8_col0\" class=\"data row8 col0\" >sestriere</td> \n",
       "        <td id=\"T_9a6a86fa_7975_11ed_8f38_ec55f9ceb9c8row8_col1\" class=\"data row8 col1\" >italy</td> \n",
       "        <td id=\"T_9a6a86fa_7975_11ed_8f38_ec55f9ceb9c8row8_col2\" class=\"data row8 col2\" >94</td> \n",
       "        <td id=\"T_9a6a86fa_7975_11ed_8f38_ec55f9ceb9c8row8_col3\" class=\"data row8 col3\" >400</td> \n",
       "    </tr>    <tr> \n",
       "        <th id=\"T_9a6a86fa_7975_11ed_8f38_ec55f9ceb9c8level0_row9\" class=\"row_heading level0 row9\" >9</th> \n",
       "        <td id=\"T_9a6a86fa_7975_11ed_8f38_ec55f9ceb9c8row9_col0\" class=\"data row9 col0\" >schladming</td> \n",
       "        <td id=\"T_9a6a86fa_7975_11ed_8f38_ec55f9ceb9c8row9_col1\" class=\"data row9 col1\" >austria</td> \n",
       "        <td id=\"T_9a6a86fa_7975_11ed_8f38_ec55f9ceb9c8row9_col2\" class=\"data row9 col2\" >93</td> \n",
       "        <td id=\"T_9a6a86fa_7975_11ed_8f38_ec55f9ceb9c8row9_col3\" class=\"data row9 col3\" >175</td> \n",
       "    </tr>    <tr> \n",
       "        <th id=\"T_9a6a86fa_7975_11ed_8f38_ec55f9ceb9c8level0_row10\" class=\"row_heading level0 row10\" >10</th> \n",
       "        <td id=\"T_9a6a86fa_7975_11ed_8f38_ec55f9ceb9c8row10_col0\" class=\"data row10 col0\" >westendorf</td> \n",
       "        <td id=\"T_9a6a86fa_7975_11ed_8f38_ec55f9ceb9c8row10_col1\" class=\"data row10 col1\" >austria</td> \n",
       "        <td id=\"T_9a6a86fa_7975_11ed_8f38_ec55f9ceb9c8row10_col2\" class=\"data row10 col2\" >90</td> \n",
       "        <td id=\"T_9a6a86fa_7975_11ed_8f38_ec55f9ceb9c8row10_col3\" class=\"data row10 col3\" >284</td> \n",
       "    </tr>    <tr> \n",
       "        <th id=\"T_9a6a86fa_7975_11ed_8f38_ec55f9ceb9c8level0_row11\" class=\"row_heading level0 row11\" >11</th> \n",
       "        <td id=\"T_9a6a86fa_7975_11ed_8f38_ec55f9ceb9c8row11_col0\" class=\"data row11 col0\" >tignes-le-lac</td> \n",
       "        <td id=\"T_9a6a86fa_7975_11ed_8f38_ec55f9ceb9c8row11_col1\" class=\"data row11 col1\" >france</td> \n",
       "        <td id=\"T_9a6a86fa_7975_11ed_8f38_ec55f9ceb9c8row11_col2\" class=\"data row11 col2\" >89</td> \n",
       "        <td id=\"T_9a6a86fa_7975_11ed_8f38_ec55f9ceb9c8row11_col3\" class=\"data row11 col3\" >300</td> \n",
       "    </tr>    <tr> \n",
       "        <th id=\"T_9a6a86fa_7975_11ed_8f38_ec55f9ceb9c8level0_row12\" class=\"row_heading level0 row12\" >12</th> \n",
       "        <td id=\"T_9a6a86fa_7975_11ed_8f38_ec55f9ceb9c8row12_col0\" class=\"data row12 col0\" >tignes</td> \n",
       "        <td id=\"T_9a6a86fa_7975_11ed_8f38_ec55f9ceb9c8row12_col1\" class=\"data row12 col1\" >france</td> \n",
       "        <td id=\"T_9a6a86fa_7975_11ed_8f38_ec55f9ceb9c8row12_col2\" class=\"data row12 col2\" >89</td> \n",
       "        <td id=\"T_9a6a86fa_7975_11ed_8f38_ec55f9ceb9c8row12_col3\" class=\"data row12 col3\" >300</td> \n",
       "    </tr>    <tr> \n",
       "        <th id=\"T_9a6a86fa_7975_11ed_8f38_ec55f9ceb9c8level0_row13\" class=\"row_heading level0 row13\" >13</th> \n",
       "        <td id=\"T_9a6a86fa_7975_11ed_8f38_ec55f9ceb9c8row13_col0\" class=\"data row13 col0\" >tignes-les-brevieres</td> \n",
       "        <td id=\"T_9a6a86fa_7975_11ed_8f38_ec55f9ceb9c8row13_col1\" class=\"data row13 col1\" >france</td> \n",
       "        <td id=\"T_9a6a86fa_7975_11ed_8f38_ec55f9ceb9c8row13_col2\" class=\"data row13 col2\" >89</td> \n",
       "        <td id=\"T_9a6a86fa_7975_11ed_8f38_ec55f9ceb9c8row13_col3\" class=\"data row13 col3\" >300</td> \n",
       "    </tr>    <tr> \n",
       "        <th id=\"T_9a6a86fa_7975_11ed_8f38_ec55f9ceb9c8level0_row14\" class=\"row_heading level0 row14\" >14</th> \n",
       "        <td id=\"T_9a6a86fa_7975_11ed_8f38_ec55f9ceb9c8row14_col0\" class=\"data row14 col0\" >tignes-val-claret</td> \n",
       "        <td id=\"T_9a6a86fa_7975_11ed_8f38_ec55f9ceb9c8row14_col1\" class=\"data row14 col1\" >france</td> \n",
       "        <td id=\"T_9a6a86fa_7975_11ed_8f38_ec55f9ceb9c8row14_col2\" class=\"data row14 col2\" >89</td> \n",
       "        <td id=\"T_9a6a86fa_7975_11ed_8f38_ec55f9ceb9c8row14_col3\" class=\"data row14 col3\" >300</td> \n",
       "    </tr>    <tr> \n",
       "        <th id=\"T_9a6a86fa_7975_11ed_8f38_ec55f9ceb9c8level0_row15\" class=\"row_heading level0 row15\" >15</th> \n",
       "        <td id=\"T_9a6a86fa_7975_11ed_8f38_ec55f9ceb9c8row15_col0\" class=\"data row15 col0\" >sauze-d-oulx</td> \n",
       "        <td id=\"T_9a6a86fa_7975_11ed_8f38_ec55f9ceb9c8row15_col1\" class=\"data row15 col1\" >italy</td> \n",
       "        <td id=\"T_9a6a86fa_7975_11ed_8f38_ec55f9ceb9c8row15_col2\" class=\"data row15 col2\" >89</td> \n",
       "        <td id=\"T_9a6a86fa_7975_11ed_8f38_ec55f9ceb9c8row15_col3\" class=\"data row15 col3\" >400</td> \n",
       "    </tr>    <tr> \n",
       "        <th id=\"T_9a6a86fa_7975_11ed_8f38_ec55f9ceb9c8level0_row16\" class=\"row_heading level0 row16\" >16</th> \n",
       "        <td id=\"T_9a6a86fa_7975_11ed_8f38_ec55f9ceb9c8row16_col0\" class=\"data row16 col0\" >val-d-isere</td> \n",
       "        <td id=\"T_9a6a86fa_7975_11ed_8f38_ec55f9ceb9c8row16_col1\" class=\"data row16 col1\" >france</td> \n",
       "        <td id=\"T_9a6a86fa_7975_11ed_8f38_ec55f9ceb9c8row16_col2\" class=\"data row16 col2\" >89</td> \n",
       "        <td id=\"T_9a6a86fa_7975_11ed_8f38_ec55f9ceb9c8row16_col3\" class=\"data row16 col3\" >300</td> \n",
       "    </tr>    <tr> \n",
       "        <th id=\"T_9a6a86fa_7975_11ed_8f38_ec55f9ceb9c8level0_row17\" class=\"row_heading level0 row17\" >17</th> \n",
       "        <td id=\"T_9a6a86fa_7975_11ed_8f38_ec55f9ceb9c8row17_col0\" class=\"data row17 col0\" >st-anton</td> \n",
       "        <td id=\"T_9a6a86fa_7975_11ed_8f38_ec55f9ceb9c8row17_col1\" class=\"data row17 col1\" >austria</td> \n",
       "        <td id=\"T_9a6a86fa_7975_11ed_8f38_ec55f9ceb9c8row17_col2\" class=\"data row17 col2\" >88</td> \n",
       "        <td id=\"T_9a6a86fa_7975_11ed_8f38_ec55f9ceb9c8row17_col3\" class=\"data row17 col3\" >305</td> \n",
       "    </tr>    <tr> \n",
       "        <th id=\"T_9a6a86fa_7975_11ed_8f38_ec55f9ceb9c8level0_row18\" class=\"row_heading level0 row18\" >18</th> \n",
       "        <td id=\"T_9a6a86fa_7975_11ed_8f38_ec55f9ceb9c8row18_col0\" class=\"data row18 col0\" >lech</td> \n",
       "        <td id=\"T_9a6a86fa_7975_11ed_8f38_ec55f9ceb9c8row18_col1\" class=\"data row18 col1\" >austria</td> \n",
       "        <td id=\"T_9a6a86fa_7975_11ed_8f38_ec55f9ceb9c8row18_col2\" class=\"data row18 col2\" >85</td> \n",
       "        <td id=\"T_9a6a86fa_7975_11ed_8f38_ec55f9ceb9c8row18_col3\" class=\"data row18 col3\" >305</td> \n",
       "    </tr>    <tr> \n",
       "        <th id=\"T_9a6a86fa_7975_11ed_8f38_ec55f9ceb9c8level0_row19\" class=\"row_heading level0 row19\" >19</th> \n",
       "        <td id=\"T_9a6a86fa_7975_11ed_8f38_ec55f9ceb9c8row19_col0\" class=\"data row19 col0\" >zurs-am-arlberg</td> \n",
       "        <td id=\"T_9a6a86fa_7975_11ed_8f38_ec55f9ceb9c8row19_col1\" class=\"data row19 col1\" >austria</td> \n",
       "        <td id=\"T_9a6a86fa_7975_11ed_8f38_ec55f9ceb9c8row19_col2\" class=\"data row19 col2\" >85</td> \n",
       "        <td id=\"T_9a6a86fa_7975_11ed_8f38_ec55f9ceb9c8row19_col3\" class=\"data row19 col3\" >276</td> \n",
       "    </tr></tbody> \n",
       "</table>       <style  type=\"text/css\" >\n",
       "</style>  \n",
       "<table id=\"T_9a6b986e_7975_11ed_ab16_ec55f9ceb9c8\" style='display:inline'><caption>Курорты с минимальным средним количеством подъёмников</caption> \n",
       "<thead>    <tr> \n",
       "        <th class=\"blank level0\" ></th> \n",
       "        <th class=\"col_heading level0 col0\" >resort</th> \n",
       "        <th class=\"col_heading level0 col1\" >country</th> \n",
       "        <th class=\"col_heading level0 col2\" >total_lifts</th> \n",
       "        <th class=\"col_heading level0 col3\" >total_piste_km</th> \n",
       "    </tr></thead> \n",
       "<tbody>    <tr> \n",
       "        <th id=\"T_9a6b986e_7975_11ed_ab16_ec55f9ceb9c8level0_row0\" class=\"row_heading level0 row0\" >0</th> \n",
       "        <td id=\"T_9a6b986e_7975_11ed_ab16_ec55f9ceb9c8row0_col0\" class=\"data row0 col0\" >galtur</td> \n",
       "        <td id=\"T_9a6b986e_7975_11ed_ab16_ec55f9ceb9c8row0_col1\" class=\"data row0 col1\" >austria</td> \n",
       "        <td id=\"T_9a6b986e_7975_11ed_ab16_ec55f9ceb9c8row0_col2\" class=\"data row0 col2\" >0</td> \n",
       "        <td id=\"T_9a6b986e_7975_11ed_ab16_ec55f9ceb9c8row0_col3\" class=\"data row0 col3\" >40</td> \n",
       "    </tr>    <tr> \n",
       "        <th id=\"T_9a6b986e_7975_11ed_ab16_ec55f9ceb9c8level0_row1\" class=\"row_heading level0 row1\" >1</th> \n",
       "        <td id=\"T_9a6b986e_7975_11ed_ab16_ec55f9ceb9c8row1_col0\" class=\"data row1 col0\" >ortisei-st-ulrich</td> \n",
       "        <td id=\"T_9a6b986e_7975_11ed_ab16_ec55f9ceb9c8row1_col1\" class=\"data row1 col1\" >italy</td> \n",
       "        <td id=\"T_9a6b986e_7975_11ed_ab16_ec55f9ceb9c8row1_col2\" class=\"data row1 col2\" >0</td> \n",
       "        <td id=\"T_9a6b986e_7975_11ed_ab16_ec55f9ceb9c8row1_col3\" class=\"data row1 col3\" >176</td> \n",
       "    </tr>    <tr> \n",
       "        <th id=\"T_9a6b986e_7975_11ed_ab16_ec55f9ceb9c8level0_row2\" class=\"row_heading level0 row2\" >2</th> \n",
       "        <td id=\"T_9a6b986e_7975_11ed_ab16_ec55f9ceb9c8row2_col0\" class=\"data row2 col0\" >saariselka</td> \n",
       "        <td id=\"T_9a6b986e_7975_11ed_ab16_ec55f9ceb9c8row2_col1\" class=\"data row2 col1\" >finland</td> \n",
       "        <td id=\"T_9a6b986e_7975_11ed_ab16_ec55f9ceb9c8row2_col2\" class=\"data row2 col2\" >5</td> \n",
       "        <td id=\"T_9a6b986e_7975_11ed_ab16_ec55f9ceb9c8row2_col3\" class=\"data row2 col3\" >20</td> \n",
       "    </tr>    <tr> \n",
       "        <th id=\"T_9a6b986e_7975_11ed_ab16_ec55f9ceb9c8level0_row3\" class=\"row_heading level0 row3\" >3</th> \n",
       "        <td id=\"T_9a6b986e_7975_11ed_ab16_ec55f9ceb9c8row3_col0\" class=\"data row3 col0\" >igls</td> \n",
       "        <td id=\"T_9a6b986e_7975_11ed_ab16_ec55f9ceb9c8row3_col1\" class=\"data row3 col1\" >austria</td> \n",
       "        <td id=\"T_9a6b986e_7975_11ed_ab16_ec55f9ceb9c8row3_col2\" class=\"data row3 col2\" >8</td> \n",
       "        <td id=\"T_9a6b986e_7975_11ed_ab16_ec55f9ceb9c8row3_col3\" class=\"data row3 col3\" >12</td> \n",
       "    </tr>    <tr> \n",
       "        <th id=\"T_9a6b986e_7975_11ed_ab16_ec55f9ceb9c8level0_row4\" class=\"row_heading level0 row4\" >4</th> \n",
       "        <td id=\"T_9a6b986e_7975_11ed_ab16_ec55f9ceb9c8row4_col0\" class=\"data row4 col0\" >campitello</td> \n",
       "        <td id=\"T_9a6b986e_7975_11ed_ab16_ec55f9ceb9c8row4_col1\" class=\"data row4 col1\" >italy</td> \n",
       "        <td id=\"T_9a6b986e_7975_11ed_ab16_ec55f9ceb9c8row4_col2\" class=\"data row4 col2\" >9</td> \n",
       "        <td id=\"T_9a6b986e_7975_11ed_ab16_ec55f9ceb9c8row4_col3\" class=\"data row4 col3\" >17</td> \n",
       "    </tr>    <tr> \n",
       "        <th id=\"T_9a6b986e_7975_11ed_ab16_ec55f9ceb9c8level0_row5\" class=\"row_heading level0 row5\" >5</th> \n",
       "        <td id=\"T_9a6b986e_7975_11ed_ab16_ec55f9ceb9c8row5_col0\" class=\"data row5 col0\" >pyha</td> \n",
       "        <td id=\"T_9a6b986e_7975_11ed_ab16_ec55f9ceb9c8row5_col1\" class=\"data row5 col1\" >finland</td> \n",
       "        <td id=\"T_9a6b986e_7975_11ed_ab16_ec55f9ceb9c8row5_col2\" class=\"data row5 col2\" >9</td> \n",
       "        <td id=\"T_9a6b986e_7975_11ed_ab16_ec55f9ceb9c8row5_col3\" class=\"data row5 col3\" >80</td> \n",
       "    </tr>    <tr> \n",
       "        <th id=\"T_9a6b986e_7975_11ed_ab16_ec55f9ceb9c8level0_row6\" class=\"row_heading level0 row6\" >6</th> \n",
       "        <td id=\"T_9a6b986e_7975_11ed_ab16_ec55f9ceb9c8row6_col0\" class=\"data row6 col0\" >rauris</td> \n",
       "        <td id=\"T_9a6b986e_7975_11ed_ab16_ec55f9ceb9c8row6_col1\" class=\"data row6 col1\" >austria</td> \n",
       "        <td id=\"T_9a6b986e_7975_11ed_ab16_ec55f9ceb9c8row6_col2\" class=\"data row6 col2\" >10</td> \n",
       "        <td id=\"T_9a6b986e_7975_11ed_ab16_ec55f9ceb9c8row6_col3\" class=\"data row6 col3\" >25</td> \n",
       "    </tr>    <tr> \n",
       "        <th id=\"T_9a6b986e_7975_11ed_ab16_ec55f9ceb9c8level0_row7\" class=\"row_heading level0 row7\" >7</th> \n",
       "        <td id=\"T_9a6b986e_7975_11ed_ab16_ec55f9ceb9c8row7_col0\" class=\"data row7 col0\" >pila</td> \n",
       "        <td id=\"T_9a6b986e_7975_11ed_ab16_ec55f9ceb9c8row7_col1\" class=\"data row7 col1\" >italy</td> \n",
       "        <td id=\"T_9a6b986e_7975_11ed_ab16_ec55f9ceb9c8row7_col2\" class=\"data row7 col2\" >12</td> \n",
       "        <td id=\"T_9a6b986e_7975_11ed_ab16_ec55f9ceb9c8row7_col3\" class=\"data row7 col3\" >70</td> \n",
       "    </tr>    <tr> \n",
       "        <th id=\"T_9a6b986e_7975_11ed_ab16_ec55f9ceb9c8level0_row8\" class=\"row_heading level0 row8\" >8</th> \n",
       "        <td id=\"T_9a6b986e_7975_11ed_ab16_ec55f9ceb9c8row8_col0\" class=\"data row8 col0\" >gressoney</td> \n",
       "        <td id=\"T_9a6b986e_7975_11ed_ab16_ec55f9ceb9c8row8_col1\" class=\"data row8 col1\" >italy</td> \n",
       "        <td id=\"T_9a6b986e_7975_11ed_ab16_ec55f9ceb9c8row8_col2\" class=\"data row8 col2\" >13</td> \n",
       "        <td id=\"T_9a6b986e_7975_11ed_ab16_ec55f9ceb9c8row8_col3\" class=\"data row8 col3\" >150</td> \n",
       "    </tr>    <tr> \n",
       "        <th id=\"T_9a6b986e_7975_11ed_ab16_ec55f9ceb9c8level0_row9\" class=\"row_heading level0 row9\" >9</th> \n",
       "        <td id=\"T_9a6b986e_7975_11ed_ab16_ec55f9ceb9c8row9_col0\" class=\"data row9 col0\" >courmayeur</td> \n",
       "        <td id=\"T_9a6b986e_7975_11ed_ab16_ec55f9ceb9c8row9_col1\" class=\"data row9 col1\" >italy</td> \n",
       "        <td id=\"T_9a6b986e_7975_11ed_ab16_ec55f9ceb9c8row9_col2\" class=\"data row9 col2\" >16</td> \n",
       "        <td id=\"T_9a6b986e_7975_11ed_ab16_ec55f9ceb9c8row9_col3\" class=\"data row9 col3\" >100</td> \n",
       "    </tr>    <tr> \n",
       "        <th id=\"T_9a6b986e_7975_11ed_ab16_ec55f9ceb9c8level0_row10\" class=\"row_heading level0 row10\" >10</th> \n",
       "        <td id=\"T_9a6b986e_7975_11ed_ab16_ec55f9ceb9c8row10_col0\" class=\"data row10 col0\" >st-johann-in-tirol</td> \n",
       "        <td id=\"T_9a6b986e_7975_11ed_ab16_ec55f9ceb9c8row10_col1\" class=\"data row10 col1\" >austria</td> \n",
       "        <td id=\"T_9a6b986e_7975_11ed_ab16_ec55f9ceb9c8row10_col2\" class=\"data row10 col2\" >17</td> \n",
       "        <td id=\"T_9a6b986e_7975_11ed_ab16_ec55f9ceb9c8row10_col3\" class=\"data row10 col3\" >60</td> \n",
       "    </tr>    <tr> \n",
       "        <th id=\"T_9a6b986e_7975_11ed_ab16_ec55f9ceb9c8level0_row11\" class=\"row_heading level0 row11\" >11</th> \n",
       "        <td id=\"T_9a6b986e_7975_11ed_ab16_ec55f9ceb9c8row11_col0\" class=\"data row11 col0\" >borovets</td> \n",
       "        <td id=\"T_9a6b986e_7975_11ed_ab16_ec55f9ceb9c8row11_col1\" class=\"data row11 col1\" >bulgaria</td> \n",
       "        <td id=\"T_9a6b986e_7975_11ed_ab16_ec55f9ceb9c8row11_col2\" class=\"data row11 col2\" >18</td> \n",
       "        <td id=\"T_9a6b986e_7975_11ed_ab16_ec55f9ceb9c8row11_col3\" class=\"data row11 col3\" >58</td> \n",
       "    </tr>    <tr> \n",
       "        <th id=\"T_9a6b986e_7975_11ed_ab16_ec55f9ceb9c8level0_row12\" class=\"row_heading level0 row12\" >12</th> \n",
       "        <td id=\"T_9a6b986e_7975_11ed_ab16_ec55f9ceb9c8row12_col0\" class=\"data row12 col0\" >pamporovo</td> \n",
       "        <td id=\"T_9a6b986e_7975_11ed_ab16_ec55f9ceb9c8row12_col1\" class=\"data row12 col1\" >bulgaria</td> \n",
       "        <td id=\"T_9a6b986e_7975_11ed_ab16_ec55f9ceb9c8row12_col2\" class=\"data row12 col2\" >19</td> \n",
       "        <td id=\"T_9a6b986e_7975_11ed_ab16_ec55f9ceb9c8row12_col3\" class=\"data row12 col3\" >18</td> \n",
       "    </tr>    <tr> \n",
       "        <th id=\"T_9a6b986e_7975_11ed_ab16_ec55f9ceb9c8level0_row13\" class=\"row_heading level0 row13\" >13</th> \n",
       "        <td id=\"T_9a6b986e_7975_11ed_ab16_ec55f9ceb9c8row13_col0\" class=\"data row13 col0\" >bardonecchia</td> \n",
       "        <td id=\"T_9a6b986e_7975_11ed_ab16_ec55f9ceb9c8row13_col1\" class=\"data row13 col1\" >italy</td> \n",
       "        <td id=\"T_9a6b986e_7975_11ed_ab16_ec55f9ceb9c8row13_col2\" class=\"data row13 col2\" >23</td> \n",
       "        <td id=\"T_9a6b986e_7975_11ed_ab16_ec55f9ceb9c8row13_col3\" class=\"data row13 col3\" >140</td> \n",
       "    </tr>    <tr> \n",
       "        <th id=\"T_9a6b986e_7975_11ed_ab16_ec55f9ceb9c8level0_row14\" class=\"row_heading level0 row14\" >14</th> \n",
       "        <td id=\"T_9a6b986e_7975_11ed_ab16_ec55f9ceb9c8row14_col0\" class=\"data row14 col0\" >bansko</td> \n",
       "        <td id=\"T_9a6b986e_7975_11ed_ab16_ec55f9ceb9c8row14_col1\" class=\"data row14 col1\" >bulgaria</td> \n",
       "        <td id=\"T_9a6b986e_7975_11ed_ab16_ec55f9ceb9c8row14_col2\" class=\"data row14 col2\" >24</td> \n",
       "        <td id=\"T_9a6b986e_7975_11ed_ab16_ec55f9ceb9c8row14_col3\" class=\"data row14 col3\" >70</td> \n",
       "    </tr>    <tr> \n",
       "        <th id=\"T_9a6b986e_7975_11ed_ab16_ec55f9ceb9c8level0_row15\" class=\"row_heading level0 row15\" >15</th> \n",
       "        <td id=\"T_9a6b986e_7975_11ed_ab16_ec55f9ceb9c8row15_col0\" class=\"data row15 col0\" >obergurgl</td> \n",
       "        <td id=\"T_9a6b986e_7975_11ed_ab16_ec55f9ceb9c8row15_col1\" class=\"data row15 col1\" >austria</td> \n",
       "        <td id=\"T_9a6b986e_7975_11ed_ab16_ec55f9ceb9c8row15_col2\" class=\"data row15 col2\" >24</td> \n",
       "        <td id=\"T_9a6b986e_7975_11ed_ab16_ec55f9ceb9c8row15_col3\" class=\"data row15 col3\" >110</td> \n",
       "    </tr>    <tr> \n",
       "        <th id=\"T_9a6b986e_7975_11ed_ab16_ec55f9ceb9c8level0_row16\" class=\"row_heading level0 row16\" >16</th> \n",
       "        <td id=\"T_9a6b986e_7975_11ed_ab16_ec55f9ceb9c8row16_col0\" class=\"data row16 col0\" >folgarida</td> \n",
       "        <td id=\"T_9a6b986e_7975_11ed_ab16_ec55f9ceb9c8row16_col1\" class=\"data row16 col1\" >italy</td> \n",
       "        <td id=\"T_9a6b986e_7975_11ed_ab16_ec55f9ceb9c8row16_col2\" class=\"data row16 col2\" >25</td> \n",
       "        <td id=\"T_9a6b986e_7975_11ed_ab16_ec55f9ceb9c8row16_col3\" class=\"data row16 col3\" >50</td> \n",
       "    </tr>    <tr> \n",
       "        <th id=\"T_9a6b986e_7975_11ed_ab16_ec55f9ceb9c8level0_row17\" class=\"row_heading level0 row17\" >17</th> \n",
       "        <td id=\"T_9a6b986e_7975_11ed_ab16_ec55f9ceb9c8row17_col0\" class=\"data row17 col0\" >obertauern</td> \n",
       "        <td id=\"T_9a6b986e_7975_11ed_ab16_ec55f9ceb9c8row17_col1\" class=\"data row17 col1\" >austria</td> \n",
       "        <td id=\"T_9a6b986e_7975_11ed_ab16_ec55f9ceb9c8row17_col2\" class=\"data row17 col2\" >26</td> \n",
       "        <td id=\"T_9a6b986e_7975_11ed_ab16_ec55f9ceb9c8row17_col3\" class=\"data row17 col3\" >95</td> \n",
       "    </tr>    <tr> \n",
       "        <th id=\"T_9a6b986e_7975_11ed_ab16_ec55f9ceb9c8level0_row18\" class=\"row_heading level0 row18\" >18</th> \n",
       "        <td id=\"T_9a6b986e_7975_11ed_ab16_ec55f9ceb9c8row18_col0\" class=\"data row18 col0\" >ruka</td> \n",
       "        <td id=\"T_9a6b986e_7975_11ed_ab16_ec55f9ceb9c8row18_col1\" class=\"data row18 col1\" >finland</td> \n",
       "        <td id=\"T_9a6b986e_7975_11ed_ab16_ec55f9ceb9c8row18_col2\" class=\"data row18 col2\" >26</td> \n",
       "        <td id=\"T_9a6b986e_7975_11ed_ab16_ec55f9ceb9c8row18_col3\" class=\"data row18 col3\" >24</td> \n",
       "    </tr>    <tr> \n",
       "        <th id=\"T_9a6b986e_7975_11ed_ab16_ec55f9ceb9c8level0_row19\" class=\"row_heading level0 row19\" >19</th> \n",
       "        <td id=\"T_9a6b986e_7975_11ed_ab16_ec55f9ceb9c8row19_col0\" class=\"data row19 col0\" >levi</td> \n",
       "        <td id=\"T_9a6b986e_7975_11ed_ab16_ec55f9ceb9c8row19_col1\" class=\"data row19 col1\" >finland</td> \n",
       "        <td id=\"T_9a6b986e_7975_11ed_ab16_ec55f9ceb9c8row19_col2\" class=\"data row19 col2\" >27</td> \n",
       "        <td id=\"T_9a6b986e_7975_11ed_ab16_ec55f9ceb9c8row19_col3\" class=\"data row19 col3\" >44</td> \n",
       "    </tr></tbody> \n",
       "</table> "
      ]
     },
     "metadata": {},
     "output_type": "display_data"
    }
   ],
   "source": [
    "two_sets_beside(max_lifts, min_lifts, 'Курорты с максимальным средним количеством подъёмников',\\\n",
    "                'Курорты с минимальным средним количеством подъёмников')"
   ]
  },
  {
   "cell_type": "markdown",
   "metadata": {},
   "source": [
    "Во Франции явно не любят стоять в очередях - это единственная страна, в которой в среднем больше ста подъёмников на курорт. Посмотрим, коррелирует ли количество подъёмников с длиной трасс:"
   ]
  },
  {
   "cell_type": "code",
   "execution_count": 70,
   "metadata": {},
   "outputs": [
    {
     "name": "stdout",
     "output_type": "stream",
     "text": [
      "0.8068959277022747\n"
     ]
    }
   ],
   "source": [
    "print(df['total_lifts'].corr(df['total_piste_km']))"
   ]
  },
  {
   "cell_type": "markdown",
   "metadata": {},
   "source": [
    "**Корреляция количества подъёмников с длиной трасс сильная** - это логично, но тем не менее, это тоже важный инсайт. Посмотрим на гистограмму:"
   ]
  },
  {
   "cell_type": "code",
   "execution_count": 71,
   "metadata": {},
   "outputs": [
    {
     "data": {
      "image/png": "[encoded data removed]",
      "text/plain": [
       "<Figure size 1080x432 with 1 Axes>"
      ]
     },
     "metadata": {
      "needs_background": "light"
     },
     "output_type": "display_data"
    }
   ],
   "source": [
    "perfect_hist(df['total_lifts'], 50, '#efeff6', 'Распределение значений в столбце total_lifts', \\\n",
    "             'Количество подъёмников', 'Частота встречаемости количества')"
   ]
  },
  {
   "cell_type": "markdown",
   "metadata": {},
   "source": [
    "Больше ста подъёмников на курорт - редкость. Построим боксплот:"
   ]
  },
  {
   "cell_type": "code",
   "execution_count": 72,
   "metadata": {},
   "outputs": [
    {
     "data": {
      "image/png": "[encoded data removed]",
      "text/plain": [
       "<Figure size 1080x360 with 1 Axes>"
      ]
     },
     "metadata": {
      "needs_background": "light"
     },
     "output_type": "display_data"
    }
   ],
   "source": [
    "amazing_boxplot(df['total_lifts'], 'Распределение значений в столбце total_lifts', '#efeff6', 'Количество подъёмников')"
   ]
  },
  {
   "cell_type": "markdown",
   "metadata": {},
   "source": [
    "Выброс одинокий отправим в компанию к остальным выбросам:"
   ]
  },
  {
   "cell_type": "code",
   "execution_count": 73,
   "metadata": {},
   "outputs": [],
   "source": [
    "df = df[df['total_lifts'] < 150].reset_index(drop=True)"
   ]
  },
  {
   "cell_type": "markdown",
   "metadata": {},
   "source": [
    "<a id='eda_gondolas'> </a>\n",
    "\n",
    "---\n",
    "> ### 2.8 Столбцы с типами подъёмников (gondolas, chairlifts, draglifts)\n",
    "\n",
    "Здесь не будем останавливаться надолго, потому что для исследования эти столбцы нам не принесут много пользы. Изучим числовые описания:"
   ]
  },
  {
   "cell_type": "code",
   "execution_count": 74,
   "metadata": {},
   "outputs": [
    {
     "data": {
      "text/html": [
       "<div>\n",
       "<style scoped>\n",
       "    .dataframe tbody tr th:only-of-type {\n",
       "        vertical-align: middle;\n",
       "    }\n",
       "\n",
       "    .dataframe tbody tr th {\n",
       "        vertical-align: top;\n",
       "    }\n",
       "\n",
       "    .dataframe thead th {\n",
       "        text-align: right;\n",
       "    }\n",
       "</style>\n",
       "<table border=\"1\" class=\"dataframe\">\n",
       "  <thead>\n",
       "    <tr style=\"text-align: right;\">\n",
       "      <th></th>\n",
       "      <th>gondolas</th>\n",
       "      <th>chairlifts</th>\n",
       "      <th>draglifts</th>\n",
       "    </tr>\n",
       "  </thead>\n",
       "  <tbody>\n",
       "    <tr>\n",
       "      <th>count</th>\n",
       "      <td>347.00</td>\n",
       "      <td>347.00</td>\n",
       "      <td>347.00</td>\n",
       "    </tr>\n",
       "    <tr>\n",
       "      <th>mean</th>\n",
       "      <td>8.09</td>\n",
       "      <td>23.03</td>\n",
       "      <td>23.35</td>\n",
       "    </tr>\n",
       "    <tr>\n",
       "      <th>std</th>\n",
       "      <td>6.17</td>\n",
       "      <td>13.95</td>\n",
       "      <td>14.83</td>\n",
       "    </tr>\n",
       "    <tr>\n",
       "      <th>min</th>\n",
       "      <td>0.00</td>\n",
       "      <td>0.00</td>\n",
       "      <td>0.00</td>\n",
       "    </tr>\n",
       "    <tr>\n",
       "      <th>25%</th>\n",
       "      <td>3.00</td>\n",
       "      <td>12.00</td>\n",
       "      <td>12.00</td>\n",
       "    </tr>\n",
       "    <tr>\n",
       "      <th>50%</th>\n",
       "      <td>8.00</td>\n",
       "      <td>21.00</td>\n",
       "      <td>21.00</td>\n",
       "    </tr>\n",
       "    <tr>\n",
       "      <th>75%</th>\n",
       "      <td>11.00</td>\n",
       "      <td>33.00</td>\n",
       "      <td>31.00</td>\n",
       "    </tr>\n",
       "    <tr>\n",
       "      <th>max</th>\n",
       "      <td>28.00</td>\n",
       "      <td>66.00</td>\n",
       "      <td>62.00</td>\n",
       "    </tr>\n",
       "  </tbody>\n",
       "</table>\n",
       "</div>"
      ],
      "text/plain": [
       "       gondolas  chairlifts  draglifts\n",
       "count    347.00      347.00     347.00\n",
       "mean       8.09       23.03      23.35\n",
       "std        6.17       13.95      14.83\n",
       "min        0.00        0.00       0.00\n",
       "25%        3.00       12.00      12.00\n",
       "50%        8.00       21.00      21.00\n",
       "75%       11.00       33.00      31.00\n",
       "max       28.00       66.00      62.00"
      ]
     },
     "metadata": {},
     "output_type": "display_data"
    }
   ],
   "source": [
    "lift_types = [['gondolas', 'chairlifts', 'draglifts']]\n",
    "for i in lift_types:\n",
    "    d(df[i])"
   ]
  },
  {
   "cell_type": "markdown",
   "metadata": {},
   "source": [
    "Очевидно, **кресельные и канатные подъёмники более распространены**, причём их средние и медианы сопоставимы. Гондоллы встречаются значительно реже."
   ]
  },
  {
   "cell_type": "markdown",
   "metadata": {},
   "source": [
    "<a id='eda_blues'> </a>\n",
    "\n",
    "---\n",
    "> ### 2.9 Столбцы с типами трасс (blues, reds, blacks)\n",
    "\n",
    "На этих столбцах также не будем заострять внимание, сами типы означают опасность спуска, где blue - безопасный, red - средний, а black - очень опасный:"
   ]
  },
  {
   "cell_type": "code",
   "execution_count": 75,
   "metadata": {},
   "outputs": [
    {
     "data": {
      "text/html": [
       "<div>\n",
       "<style scoped>\n",
       "    .dataframe tbody tr th:only-of-type {\n",
       "        vertical-align: middle;\n",
       "    }\n",
       "\n",
       "    .dataframe tbody tr th {\n",
       "        vertical-align: top;\n",
       "    }\n",
       "\n",
       "    .dataframe thead th {\n",
       "        text-align: right;\n",
       "    }\n",
       "</style>\n",
       "<table border=\"1\" class=\"dataframe\">\n",
       "  <thead>\n",
       "    <tr style=\"text-align: right;\">\n",
       "      <th></th>\n",
       "      <th>blues</th>\n",
       "      <th>reds</th>\n",
       "      <th>blacks</th>\n",
       "    </tr>\n",
       "  </thead>\n",
       "  <tbody>\n",
       "    <tr>\n",
       "      <th>count</th>\n",
       "      <td>347.00</td>\n",
       "      <td>347.00</td>\n",
       "      <td>347.00</td>\n",
       "    </tr>\n",
       "    <tr>\n",
       "      <th>mean</th>\n",
       "      <td>36.82</td>\n",
       "      <td>40.05</td>\n",
       "      <td>13.49</td>\n",
       "    </tr>\n",
       "    <tr>\n",
       "      <th>std</th>\n",
       "      <td>33.29</td>\n",
       "      <td>30.90</td>\n",
       "      <td>12.19</td>\n",
       "    </tr>\n",
       "    <tr>\n",
       "      <th>min</th>\n",
       "      <td>0.00</td>\n",
       "      <td>0.00</td>\n",
       "      <td>0.00</td>\n",
       "    </tr>\n",
       "    <tr>\n",
       "      <th>25%</th>\n",
       "      <td>16.00</td>\n",
       "      <td>18.00</td>\n",
       "      <td>4.00</td>\n",
       "    </tr>\n",
       "    <tr>\n",
       "      <th>50%</th>\n",
       "      <td>29.00</td>\n",
       "      <td>34.00</td>\n",
       "      <td>9.00</td>\n",
       "    </tr>\n",
       "    <tr>\n",
       "      <th>75%</th>\n",
       "      <td>42.00</td>\n",
       "      <td>49.00</td>\n",
       "      <td>22.00</td>\n",
       "    </tr>\n",
       "    <tr>\n",
       "      <th>max</th>\n",
       "      <td>140.00</td>\n",
       "      <td>129.00</td>\n",
       "      <td>51.00</td>\n",
       "    </tr>\n",
       "  </tbody>\n",
       "</table>\n",
       "</div>"
      ],
      "text/plain": [
       "        blues    reds  blacks\n",
       "count  347.00  347.00  347.00\n",
       "mean    36.82   40.05   13.49\n",
       "std     33.29   30.90   12.19\n",
       "min      0.00    0.00    0.00\n",
       "25%     16.00   18.00    4.00\n",
       "50%     29.00   34.00    9.00\n",
       "75%     42.00   49.00   22.00\n",
       "max    140.00  129.00   51.00"
      ]
     },
     "metadata": {},
     "output_type": "display_data"
    }
   ],
   "source": [
    "lift_types = [['blues', 'reds', 'blacks']]\n",
    "for i in lift_types:\n",
    "    d(df[i])"
   ]
  },
  {
   "cell_type": "markdown",
   "metadata": {},
   "source": [
    "**Трассы низкой (blues) и средней (reds) опасности встречаются значительно чаще**, чем максимально опасные спуски (blacks)."
   ]
  },
  {
   "cell_type": "markdown",
   "metadata": {},
   "source": [
    "<a id='eda_sleeps'> </a>\n",
    "\n",
    "---\n",
    "> ### 2.10 sleeps\n",
    "\n",
    "Посмотрим на количество спальных мест в отелях. Сгруппируем данные по отелям, курортам и странам и посчитаем среднее для каждого курорта:"
   ]
  },
  {
   "cell_type": "code",
   "execution_count": 76,
   "metadata": {},
   "outputs": [],
   "source": [
    "max_sleeps = df[['hotel', 'resort', 'country', 'sleeps']].sort_values(by='sleeps', ascending=False).\\\n",
    "             head(20).reset_index(drop=True)\n",
    "\n",
    "min_sleeps = df[['hotel', 'resort', 'country', 'sleeps']].sort_values(by='sleeps', ascending=True).\\\n",
    "             head(20).reset_index(drop=True)"
   ]
  },
  {
   "cell_type": "markdown",
   "metadata": {},
   "source": [
    "Выведем рядом два датасета:"
   ]
  },
  {
   "cell_type": "code",
   "execution_count": 77,
   "metadata": {},
   "outputs": [
    {
     "data": {
      "text/html": [
       "<style  type=\"text/css\" >\n",
       "</style>  \n",
       "<table id=\"T_9aeb0278_7975_11ed_8677_ec55f9ceb9c8\" style='display:inline'><caption>Отели с максимальным количеством спальных мест</caption> \n",
       "<thead>    <tr> \n",
       "        <th class=\"blank level0\" ></th> \n",
       "        <th class=\"col_heading level0 col0\" >hotel</th> \n",
       "        <th class=\"col_heading level0 col1\" >resort</th> \n",
       "        <th class=\"col_heading level0 col2\" >country</th> \n",
       "        <th class=\"col_heading level0 col3\" >sleeps</th> \n",
       "    </tr></thead> \n",
       "<tbody>    <tr> \n",
       "        <th id=\"T_9aeb0278_7975_11ed_8677_ec55f9ceb9c8level0_row0\" class=\"row_heading level0 row0\" >0</th> \n",
       "        <td id=\"T_9aeb0278_7975_11ed_8677_ec55f9ceb9c8row0_col0\" class=\"data row0 col0\" >hotel-rila</td> \n",
       "        <td id=\"T_9aeb0278_7975_11ed_8677_ec55f9ceb9c8row0_col1\" class=\"data row0 col1\" >borovets</td> \n",
       "        <td id=\"T_9aeb0278_7975_11ed_8677_ec55f9ceb9c8row0_col2\" class=\"data row0 col2\" >bulgaria</td> \n",
       "        <td id=\"T_9aeb0278_7975_11ed_8677_ec55f9ceb9c8row0_col3\" class=\"data row0 col3\" >1200</td> \n",
       "    </tr>    <tr> \n",
       "        <th id=\"T_9aeb0278_7975_11ed_8677_ec55f9ceb9c8level0_row1\" class=\"row_heading level0 row1\" >1</th> \n",
       "        <td id=\"T_9aeb0278_7975_11ed_8677_ec55f9ceb9c8row1_col0\" class=\"data row1 col0\" >hotel-planibel</td> \n",
       "        <td id=\"T_9aeb0278_7975_11ed_8677_ec55f9ceb9c8row1_col1\" class=\"data row1 col1\" >la-thuile</td> \n",
       "        <td id=\"T_9aeb0278_7975_11ed_8677_ec55f9ceb9c8row1_col2\" class=\"data row1 col2\" >italy</td> \n",
       "        <td id=\"T_9aeb0278_7975_11ed_8677_ec55f9ceb9c8row1_col3\" class=\"data row1 col3\" >762</td> \n",
       "    </tr>    <tr> \n",
       "        <th id=\"T_9aeb0278_7975_11ed_8677_ec55f9ceb9c8level0_row2\" class=\"row_heading level0 row2\" >2</th> \n",
       "        <td id=\"T_9aeb0278_7975_11ed_8677_ec55f9ceb9c8row2_col0\" class=\"data row2 col0\" >chamois-lodge</td> \n",
       "        <td id=\"T_9aeb0278_7975_11ed_8677_ec55f9ceb9c8row2_col1\" class=\"data row2 col1\" >les-deux-alpes</td> \n",
       "        <td id=\"T_9aeb0278_7975_11ed_8677_ec55f9ceb9c8row2_col2\" class=\"data row2 col2\" >france</td> \n",
       "        <td id=\"T_9aeb0278_7975_11ed_8677_ec55f9ceb9c8row2_col3\" class=\"data row2 col3\" >600</td> \n",
       "    </tr>    <tr> \n",
       "        <th id=\"T_9aeb0278_7975_11ed_8677_ec55f9ceb9c8level0_row3\" class=\"row_heading level0 row3\" >3</th> \n",
       "        <td id=\"T_9aeb0278_7975_11ed_8677_ec55f9ceb9c8row3_col0\" class=\"data row3 col0\" >hotel-samokov</td> \n",
       "        <td id=\"T_9aeb0278_7975_11ed_8677_ec55f9ceb9c8row3_col1\" class=\"data row3 col1\" >borovets</td> \n",
       "        <td id=\"T_9aeb0278_7975_11ed_8677_ec55f9ceb9c8row3_col2\" class=\"data row3 col2\" >bulgaria</td> \n",
       "        <td id=\"T_9aeb0278_7975_11ed_8677_ec55f9ceb9c8row3_col3\" class=\"data row3 col3\" >590</td> \n",
       "    </tr>    <tr> \n",
       "        <th id=\"T_9aeb0278_7975_11ed_8677_ec55f9ceb9c8level0_row4\" class=\"row_heading level0 row4\" >4</th> \n",
       "        <td id=\"T_9aeb0278_7975_11ed_8677_ec55f9ceb9c8row4_col0\" class=\"data row4 col0\" >hotel-val-claret</td> \n",
       "        <td id=\"T_9aeb0278_7975_11ed_8677_ec55f9ceb9c8row4_col1\" class=\"data row4 col1\" >tignes-val-claret</td> \n",
       "        <td id=\"T_9aeb0278_7975_11ed_8677_ec55f9ceb9c8row4_col2\" class=\"data row4 col2\" >france</td> \n",
       "        <td id=\"T_9aeb0278_7975_11ed_8677_ec55f9ceb9c8row4_col3\" class=\"data row4 col3\" >514</td> \n",
       "    </tr>    <tr> \n",
       "        <th id=\"T_9aeb0278_7975_11ed_8677_ec55f9ceb9c8level0_row5\" class=\"row_heading level0 row5\" >5</th> \n",
       "        <td id=\"T_9aeb0278_7975_11ed_8677_ec55f9ceb9c8row5_col0\" class=\"data row5 col0\" >hotel-princesa-parc</td> \n",
       "        <td id=\"T_9aeb0278_7975_11ed_8677_ec55f9ceb9c8row5_col1\" class=\"data row5 col1\" >arinsal</td> \n",
       "        <td id=\"T_9aeb0278_7975_11ed_8677_ec55f9ceb9c8row5_col2\" class=\"data row5 col2\" >andorra</td> \n",
       "        <td id=\"T_9aeb0278_7975_11ed_8677_ec55f9ceb9c8row5_col3\" class=\"data row5 col3\" >500</td> \n",
       "    </tr>    <tr> \n",
       "        <th id=\"T_9aeb0278_7975_11ed_8677_ec55f9ceb9c8level0_row6\" class=\"row_heading level0 row6\" >6</th> \n",
       "        <td id=\"T_9aeb0278_7975_11ed_8677_ec55f9ceb9c8row6_col0\" class=\"data row6 col0\" >hotel-du-golf</td> \n",
       "        <td id=\"T_9aeb0278_7975_11ed_8677_ec55f9ceb9c8row6_col1\" class=\"data row6 col1\" >les-arcs-1800</td> \n",
       "        <td id=\"T_9aeb0278_7975_11ed_8677_ec55f9ceb9c8row6_col2\" class=\"data row6 col2\" >france</td> \n",
       "        <td id=\"T_9aeb0278_7975_11ed_8677_ec55f9ceb9c8row6_col3\" class=\"data row6 col3\" >492</td> \n",
       "    </tr>    <tr> \n",
       "        <th id=\"T_9aeb0278_7975_11ed_8677_ec55f9ceb9c8level0_row7\" class=\"row_heading level0 row7\" >7</th> \n",
       "        <td id=\"T_9aeb0278_7975_11ed_8677_ec55f9ceb9c8row7_col0\" class=\"data row7 col0\" >levi-hotel-spa</td> \n",
       "        <td id=\"T_9aeb0278_7975_11ed_8677_ec55f9ceb9c8row7_col1\" class=\"data row7 col1\" >levi</td> \n",
       "        <td id=\"T_9aeb0278_7975_11ed_8677_ec55f9ceb9c8row7_col2\" class=\"data row7 col2\" >finland</td> \n",
       "        <td id=\"T_9aeb0278_7975_11ed_8677_ec55f9ceb9c8row7_col3\" class=\"data row7 col3\" >440</td> \n",
       "    </tr>    <tr> \n",
       "        <th id=\"T_9aeb0278_7975_11ed_8677_ec55f9ceb9c8level0_row8\" class=\"row_heading level0 row8\" >8</th> \n",
       "        <td id=\"T_9aeb0278_7975_11ed_8677_ec55f9ceb9c8row8_col0\" class=\"data row8 col0\" >hotel-perelik</td> \n",
       "        <td id=\"T_9aeb0278_7975_11ed_8677_ec55f9ceb9c8row8_col1\" class=\"data row8 col1\" >pamporovo</td> \n",
       "        <td id=\"T_9aeb0278_7975_11ed_8677_ec55f9ceb9c8row8_col2\" class=\"data row8 col2\" >bulgaria</td> \n",
       "        <td id=\"T_9aeb0278_7975_11ed_8677_ec55f9ceb9c8row8_col3\" class=\"data row8 col3\" >424</td> \n",
       "    </tr>    <tr> \n",
       "        <th id=\"T_9aeb0278_7975_11ed_8677_ec55f9ceb9c8level0_row9\" class=\"row_heading level0 row9\" >9</th> \n",
       "        <td id=\"T_9aeb0278_7975_11ed_8677_ec55f9ceb9c8row9_col0\" class=\"data row9 col0\" >hotel-palace</td> \n",
       "        <td id=\"T_9aeb0278_7975_11ed_8677_ec55f9ceb9c8row9_col1\" class=\"data row9 col1\" >bad-hofgastein</td> \n",
       "        <td id=\"T_9aeb0278_7975_11ed_8677_ec55f9ceb9c8row9_col2\" class=\"data row9 col2\" >austria</td> \n",
       "        <td id=\"T_9aeb0278_7975_11ed_8677_ec55f9ceb9c8row9_col3\" class=\"data row9 col3\" >396</td> \n",
       "    </tr>    <tr> \n",
       "        <th id=\"T_9aeb0278_7975_11ed_8677_ec55f9ceb9c8level0_row10\" class=\"row_heading level0 row10\" >10</th> \n",
       "        <td id=\"T_9aeb0278_7975_11ed_8677_ec55f9ceb9c8row10_col0\" class=\"data row10 col0\" >hotel-club-mmv-altitude</td> \n",
       "        <td id=\"T_9aeb0278_7975_11ed_8677_ec55f9ceb9c8row10_col1\" class=\"data row10 col1\" >les-arcs-2000</td> \n",
       "        <td id=\"T_9aeb0278_7975_11ed_8677_ec55f9ceb9c8row10_col2\" class=\"data row10 col2\" >france</td> \n",
       "        <td id=\"T_9aeb0278_7975_11ed_8677_ec55f9ceb9c8row10_col3\" class=\"data row10 col3\" >390</td> \n",
       "    </tr>    <tr> \n",
       "        <th id=\"T_9aeb0278_7975_11ed_8677_ec55f9ceb9c8level0_row11\" class=\"row_heading level0 row11\" >11</th> \n",
       "        <td id=\"T_9aeb0278_7975_11ed_8677_ec55f9ceb9c8row11_col0\" class=\"data row11 col0\" >hotel-lion---bansko</td> \n",
       "        <td id=\"T_9aeb0278_7975_11ed_8677_ec55f9ceb9c8row11_col1\" class=\"data row11 col1\" >bansko</td> \n",
       "        <td id=\"T_9aeb0278_7975_11ed_8677_ec55f9ceb9c8row11_col2\" class=\"data row11 col2\" >bulgaria</td> \n",
       "        <td id=\"T_9aeb0278_7975_11ed_8677_ec55f9ceb9c8row11_col3\" class=\"data row11 col3\" >386</td> \n",
       "    </tr>    <tr> \n",
       "        <th id=\"T_9aeb0278_7975_11ed_8677_ec55f9ceb9c8level0_row12\" class=\"row_heading level0 row12\" >12</th> \n",
       "        <td id=\"T_9aeb0278_7975_11ed_8677_ec55f9ceb9c8row12_col0\" class=\"data row12 col0\" >falkensteiner-hotel--spa-carinzia</td> \n",
       "        <td id=\"T_9aeb0278_7975_11ed_8677_ec55f9ceb9c8row12_col1\" class=\"data row12 col1\" >nassfeld</td> \n",
       "        <td id=\"T_9aeb0278_7975_11ed_8677_ec55f9ceb9c8row12_col2\" class=\"data row12 col2\" >austria</td> \n",
       "        <td id=\"T_9aeb0278_7975_11ed_8677_ec55f9ceb9c8row12_col3\" class=\"data row12 col3\" >350</td> \n",
       "    </tr>    <tr> \n",
       "        <th id=\"T_9aeb0278_7975_11ed_8677_ec55f9ceb9c8level0_row13\" class=\"row_heading level0 row13\" >13</th> \n",
       "        <td id=\"T_9aeb0278_7975_11ed_8677_ec55f9ceb9c8row13_col0\" class=\"data row13 col0\" >hotel-levi-panorama</td> \n",
       "        <td id=\"T_9aeb0278_7975_11ed_8677_ec55f9ceb9c8row13_col1\" class=\"data row13 col1\" >levi</td> \n",
       "        <td id=\"T_9aeb0278_7975_11ed_8677_ec55f9ceb9c8row13_col2\" class=\"data row13 col2\" >finland</td> \n",
       "        <td id=\"T_9aeb0278_7975_11ed_8677_ec55f9ceb9c8row13_col3\" class=\"data row13 col3\" >340</td> \n",
       "    </tr>    <tr> \n",
       "        <th id=\"T_9aeb0278_7975_11ed_8677_ec55f9ceb9c8level0_row14\" class=\"row_heading level0 row14\" >14</th> \n",
       "        <td id=\"T_9aeb0278_7975_11ed_8677_ec55f9ceb9c8row14_col0\" class=\"data row14 col0\" >sporthotel</td> \n",
       "        <td id=\"T_9aeb0278_7975_11ed_8677_ec55f9ceb9c8row14_col1\" class=\"data row14 col1\" >soldeu</td> \n",
       "        <td id=\"T_9aeb0278_7975_11ed_8677_ec55f9ceb9c8row14_col2\" class=\"data row14 col2\" >andorra</td> \n",
       "        <td id=\"T_9aeb0278_7975_11ed_8677_ec55f9ceb9c8row14_col3\" class=\"data row14 col3\" >330</td> \n",
       "    </tr>    <tr> \n",
       "        <th id=\"T_9aeb0278_7975_11ed_8677_ec55f9ceb9c8level0_row15\" class=\"row_heading level0 row15\" >15</th> \n",
       "        <td id=\"T_9aeb0278_7975_11ed_8677_ec55f9ceb9c8row15_col0\" class=\"data row15 col0\" >hotel-rukahovi</td> \n",
       "        <td id=\"T_9aeb0278_7975_11ed_8677_ec55f9ceb9c8row15_col1\" class=\"data row15 col1\" >ruka</td> \n",
       "        <td id=\"T_9aeb0278_7975_11ed_8677_ec55f9ceb9c8row15_col2\" class=\"data row15 col2\" >finland</td> \n",
       "        <td id=\"T_9aeb0278_7975_11ed_8677_ec55f9ceb9c8row15_col3\" class=\"data row15 col3\" >326</td> \n",
       "    </tr>    <tr> \n",
       "        <th id=\"T_9aeb0278_7975_11ed_8677_ec55f9ceb9c8level0_row16\" class=\"row_heading level0 row16\" >16</th> \n",
       "        <td id=\"T_9aeb0278_7975_11ed_8677_ec55f9ceb9c8row16_col0\" class=\"data row16 col0\" >tauern-spa-hotel</td> \n",
       "        <td id=\"T_9aeb0278_7975_11ed_8677_ec55f9ceb9c8row16_col1\" class=\"data row16 col1\" >kaprun</td> \n",
       "        <td id=\"T_9aeb0278_7975_11ed_8677_ec55f9ceb9c8row16_col2\" class=\"data row16 col2\" >austria</td> \n",
       "        <td id=\"T_9aeb0278_7975_11ed_8677_ec55f9ceb9c8row16_col3\" class=\"data row16 col3\" >320</td> \n",
       "    </tr>    <tr> \n",
       "        <th id=\"T_9aeb0278_7975_11ed_8677_ec55f9ceb9c8level0_row17\" class=\"row_heading level0 row17\" >17</th> \n",
       "        <td id=\"T_9aeb0278_7975_11ed_8677_ec55f9ceb9c8row17_col0\" class=\"data row17 col0\" >hotel-crazy-reindeer</td> \n",
       "        <td id=\"T_9aeb0278_7975_11ed_8677_ec55f9ceb9c8row17_col1\" class=\"data row17 col1\" >levi</td> \n",
       "        <td id=\"T_9aeb0278_7975_11ed_8677_ec55f9ceb9c8row17_col2\" class=\"data row17 col2\" >finland</td> \n",
       "        <td id=\"T_9aeb0278_7975_11ed_8677_ec55f9ceb9c8row17_col3\" class=\"data row17 col3\" >314</td> \n",
       "    </tr>    <tr> \n",
       "        <th id=\"T_9aeb0278_7975_11ed_8677_ec55f9ceb9c8level0_row18\" class=\"row_heading level0 row18\" >18</th> \n",
       "        <td id=\"T_9aeb0278_7975_11ed_8677_ec55f9ceb9c8row18_col0\" class=\"data row18 col0\" >boutique-hotel-amira</td> \n",
       "        <td id=\"T_9aeb0278_7975_11ed_8677_ec55f9ceb9c8row18_col1\" class=\"data row18 col1\" >bansko</td> \n",
       "        <td id=\"T_9aeb0278_7975_11ed_8677_ec55f9ceb9c8row18_col2\" class=\"data row18 col2\" >bulgaria</td> \n",
       "        <td id=\"T_9aeb0278_7975_11ed_8677_ec55f9ceb9c8row18_col3\" class=\"data row18 col3\" >304</td> \n",
       "    </tr>    <tr> \n",
       "        <th id=\"T_9aeb0278_7975_11ed_8677_ec55f9ceb9c8level0_row19\" class=\"row_heading level0 row19\" >19</th> \n",
       "        <td id=\"T_9aeb0278_7975_11ed_8677_ec55f9ceb9c8row19_col0\" class=\"data row19 col0\" >hotel-strazhite</td> \n",
       "        <td id=\"T_9aeb0278_7975_11ed_8677_ec55f9ceb9c8row19_col1\" class=\"data row19 col1\" >bansko</td> \n",
       "        <td id=\"T_9aeb0278_7975_11ed_8677_ec55f9ceb9c8row19_col2\" class=\"data row19 col2\" >bulgaria</td> \n",
       "        <td id=\"T_9aeb0278_7975_11ed_8677_ec55f9ceb9c8row19_col3\" class=\"data row19 col3\" >304</td> \n",
       "    </tr></tbody> \n",
       "</table>       <style  type=\"text/css\" >\n",
       "</style>  \n",
       "<table id=\"T_9aecfe50_7975_11ed_942c_ec55f9ceb9c8\" style='display:inline'><caption>Отели с минимальным количеством спальных мест</caption> \n",
       "<thead>    <tr> \n",
       "        <th class=\"blank level0\" ></th> \n",
       "        <th class=\"col_heading level0 col0\" >hotel</th> \n",
       "        <th class=\"col_heading level0 col1\" >resort</th> \n",
       "        <th class=\"col_heading level0 col2\" >country</th> \n",
       "        <th class=\"col_heading level0 col3\" >sleeps</th> \n",
       "    </tr></thead> \n",
       "<tbody>    <tr> \n",
       "        <th id=\"T_9aecfe50_7975_11ed_942c_ec55f9ceb9c8level0_row0\" class=\"row_heading level0 row0\" >0</th> \n",
       "        <td id=\"T_9aecfe50_7975_11ed_942c_ec55f9ceb9c8row0_col0\" class=\"data row0 col0\" >hotel-luna-mondschein</td> \n",
       "        <td id=\"T_9aecfe50_7975_11ed_942c_ec55f9ceb9c8row0_col1\" class=\"data row0 col1\" >ortisei-st-ulrich</td> \n",
       "        <td id=\"T_9aecfe50_7975_11ed_942c_ec55f9ceb9c8row0_col2\" class=\"data row0 col2\" >italy</td> \n",
       "        <td id=\"T_9aecfe50_7975_11ed_942c_ec55f9ceb9c8row0_col3\" class=\"data row0 col3\" >2</td> \n",
       "    </tr>    <tr> \n",
       "        <th id=\"T_9aecfe50_7975_11ed_942c_ec55f9ceb9c8level0_row1\" class=\"row_heading level0 row1\" >1</th> \n",
       "        <td id=\"T_9aecfe50_7975_11ed_942c_ec55f9ceb9c8row1_col0\" class=\"data row1 col0\" >pyha-suites</td> \n",
       "        <td id=\"T_9aecfe50_7975_11ed_942c_ec55f9ceb9c8row1_col1\" class=\"data row1 col1\" >pyha</td> \n",
       "        <td id=\"T_9aecfe50_7975_11ed_942c_ec55f9ceb9c8row1_col2\" class=\"data row1 col2\" >finland</td> \n",
       "        <td id=\"T_9aecfe50_7975_11ed_942c_ec55f9ceb9c8row1_col3\" class=\"data row1 col3\" >4</td> \n",
       "    </tr>    <tr> \n",
       "        <th id=\"T_9aecfe50_7975_11ed_942c_ec55f9ceb9c8level0_row2\" class=\"row_heading level0 row2\" >2</th> \n",
       "        <td id=\"T_9aecfe50_7975_11ed_942c_ec55f9ceb9c8row2_col0\" class=\"data row2 col0\" >guesthouse-erhart</td> \n",
       "        <td id=\"T_9aecfe50_7975_11ed_942c_ec55f9ceb9c8row2_col1\" class=\"data row2 col1\" >soll</td> \n",
       "        <td id=\"T_9aecfe50_7975_11ed_942c_ec55f9ceb9c8row2_col2\" class=\"data row2 col2\" >austria</td> \n",
       "        <td id=\"T_9aecfe50_7975_11ed_942c_ec55f9ceb9c8row2_col3\" class=\"data row2 col3\" >12</td> \n",
       "    </tr>    <tr> \n",
       "        <th id=\"T_9aecfe50_7975_11ed_942c_ec55f9ceb9c8level0_row3\" class=\"row_heading level0 row3\" >3</th> \n",
       "        <td id=\"T_9aecfe50_7975_11ed_942c_ec55f9ceb9c8row3_col0\" class=\"data row3 col0\" >landhotel-martha</td> \n",
       "        <td id=\"T_9aecfe50_7975_11ed_942c_ec55f9ceb9c8row3_col1\" class=\"data row3 col1\" >zell-am-see</td> \n",
       "        <td id=\"T_9aecfe50_7975_11ed_942c_ec55f9ceb9c8row3_col2\" class=\"data row3 col2\" >austria</td> \n",
       "        <td id=\"T_9aecfe50_7975_11ed_942c_ec55f9ceb9c8row3_col3\" class=\"data row3 col3\" >20</td> \n",
       "    </tr>    <tr> \n",
       "        <th id=\"T_9aecfe50_7975_11ed_942c_ec55f9ceb9c8level0_row4\" class=\"row_heading level0 row4\" >4</th> \n",
       "        <td id=\"T_9aecfe50_7975_11ed_942c_ec55f9ceb9c8row4_col0\" class=\"data row4 col0\" >hotel-garni-sonnenhof</td> \n",
       "        <td id=\"T_9aecfe50_7975_11ed_942c_ec55f9ceb9c8row4_col1\" class=\"data row4 col1\" >soll</td> \n",
       "        <td id=\"T_9aecfe50_7975_11ed_942c_ec55f9ceb9c8row4_col2\" class=\"data row4 col2\" >austria</td> \n",
       "        <td id=\"T_9aecfe50_7975_11ed_942c_ec55f9ceb9c8row4_col3\" class=\"data row4 col3\" >24</td> \n",
       "    </tr>    <tr> \n",
       "        <th id=\"T_9aecfe50_7975_11ed_942c_ec55f9ceb9c8level0_row5\" class=\"row_heading level0 row5\" >5</th> \n",
       "        <td id=\"T_9aecfe50_7975_11ed_942c_ec55f9ceb9c8row5_col0\" class=\"data row5 col0\" >hotel-cesa-rotic</td> \n",
       "        <td id=\"T_9aecfe50_7975_11ed_942c_ec55f9ceb9c8row5_col1\" class=\"data row5 col1\" >canazei</td> \n",
       "        <td id=\"T_9aecfe50_7975_11ed_942c_ec55f9ceb9c8row5_col2\" class=\"data row5 col2\" >italy</td> \n",
       "        <td id=\"T_9aecfe50_7975_11ed_942c_ec55f9ceb9c8row5_col3\" class=\"data row5 col3\" >24</td> \n",
       "    </tr>    <tr> \n",
       "        <th id=\"T_9aecfe50_7975_11ed_942c_ec55f9ceb9c8level0_row6\" class=\"row_heading level0 row6\" >6</th> \n",
       "        <td id=\"T_9aecfe50_7975_11ed_942c_ec55f9ceb9c8row6_col0\" class=\"data row6 col0\" >pension-furstenhof</td> \n",
       "        <td id=\"T_9aecfe50_7975_11ed_942c_ec55f9ceb9c8row6_col1\" class=\"data row6 col1\" >alpbach</td> \n",
       "        <td id=\"T_9aecfe50_7975_11ed_942c_ec55f9ceb9c8row6_col2\" class=\"data row6 col2\" >austria</td> \n",
       "        <td id=\"T_9aecfe50_7975_11ed_942c_ec55f9ceb9c8row6_col3\" class=\"data row6 col3\" >24</td> \n",
       "    </tr>    <tr> \n",
       "        <th id=\"T_9aecfe50_7975_11ed_942c_ec55f9ceb9c8level0_row7\" class=\"row_heading level0 row7\" >7</th> \n",
       "        <td id=\"T_9aecfe50_7975_11ed_942c_ec55f9ceb9c8row7_col0\" class=\"data row7 col0\" >hotel-alpina</td> \n",
       "        <td id=\"T_9aecfe50_7975_11ed_942c_ec55f9ceb9c8row7_col1\" class=\"data row7 col1\" >ischgl</td> \n",
       "        <td id=\"T_9aecfe50_7975_11ed_942c_ec55f9ceb9c8row7_col2\" class=\"data row7 col2\" >austria</td> \n",
       "        <td id=\"T_9aecfe50_7975_11ed_942c_ec55f9ceb9c8row7_col3\" class=\"data row7 col3\" >30</td> \n",
       "    </tr>    <tr> \n",
       "        <th id=\"T_9aecfe50_7975_11ed_942c_ec55f9ceb9c8level0_row8\" class=\"row_heading level0 row8\" >8</th> \n",
       "        <td id=\"T_9aecfe50_7975_11ed_942c_ec55f9ceb9c8row8_col0\" class=\"data row8 col0\" >hotel-kirchenwirt</td> \n",
       "        <td id=\"T_9aecfe50_7975_11ed_942c_ec55f9ceb9c8row8_col1\" class=\"data row8 col1\" >schladming</td> \n",
       "        <td id=\"T_9aecfe50_7975_11ed_942c_ec55f9ceb9c8row8_col2\" class=\"data row8 col2\" >austria</td> \n",
       "        <td id=\"T_9aecfe50_7975_11ed_942c_ec55f9ceb9c8row8_col3\" class=\"data row8 col3\" >30</td> \n",
       "    </tr>    <tr> \n",
       "        <th id=\"T_9aecfe50_7975_11ed_942c_ec55f9ceb9c8level0_row9\" class=\"row_heading level0 row9\" >9</th> \n",
       "        <td id=\"T_9aecfe50_7975_11ed_942c_ec55f9ceb9c8row9_col0\" class=\"data row9 col0\" >hotel-scoiattolo</td> \n",
       "        <td id=\"T_9aecfe50_7975_11ed_942c_ec55f9ceb9c8row9_col1\" class=\"data row9 col1\" >gressoney</td> \n",
       "        <td id=\"T_9aecfe50_7975_11ed_942c_ec55f9ceb9c8row9_col2\" class=\"data row9 col2\" >italy</td> \n",
       "        <td id=\"T_9aecfe50_7975_11ed_942c_ec55f9ceb9c8row9_col3\" class=\"data row9 col3\" >30</td> \n",
       "    </tr>    <tr> \n",
       "        <th id=\"T_9aecfe50_7975_11ed_942c_ec55f9ceb9c8level0_row10\" class=\"row_heading level0 row10\" >10</th> \n",
       "        <td id=\"T_9aecfe50_7975_11ed_942c_ec55f9ceb9c8row10_col0\" class=\"data row10 col0\" >hotel-biancaneve</td> \n",
       "        <td id=\"T_9aecfe50_7975_11ed_942c_ec55f9ceb9c8row10_col1\" class=\"data row10 col1\" >sauze-d-oulx</td> \n",
       "        <td id=\"T_9aecfe50_7975_11ed_942c_ec55f9ceb9c8row10_col2\" class=\"data row10 col2\" >italy</td> \n",
       "        <td id=\"T_9aecfe50_7975_11ed_942c_ec55f9ceb9c8row10_col3\" class=\"data row10 col3\" >32</td> \n",
       "    </tr>    <tr> \n",
       "        <th id=\"T_9aecfe50_7975_11ed_942c_ec55f9ceb9c8level0_row11\" class=\"row_heading level0 row11\" >11</th> \n",
       "        <td id=\"T_9aecfe50_7975_11ed_942c_ec55f9ceb9c8row11_col0\" class=\"data row11 col0\" >enzian-guesthouse</td> \n",
       "        <td id=\"T_9aecfe50_7975_11ed_942c_ec55f9ceb9c8row11_col1\" class=\"data row11 col1\" >niederau-oberau</td> \n",
       "        <td id=\"T_9aecfe50_7975_11ed_942c_ec55f9ceb9c8row11_col2\" class=\"data row11 col2\" >austria</td> \n",
       "        <td id=\"T_9aecfe50_7975_11ed_942c_ec55f9ceb9c8row11_col3\" class=\"data row11 col3\" >32</td> \n",
       "    </tr>    <tr> \n",
       "        <th id=\"T_9aecfe50_7975_11ed_942c_ec55f9ceb9c8level0_row12\" class=\"row_heading level0 row12\" >12</th> \n",
       "        <td id=\"T_9aecfe50_7975_11ed_942c_ec55f9ceb9c8row12_col0\" class=\"data row12 col0\" >hotel-martin</td> \n",
       "        <td id=\"T_9aecfe50_7975_11ed_942c_ec55f9ceb9c8row12_col1\" class=\"data row12 col1\" >sauze-d-oulx</td> \n",
       "        <td id=\"T_9aecfe50_7975_11ed_942c_ec55f9ceb9c8row12_col2\" class=\"data row12 col2\" >italy</td> \n",
       "        <td id=\"T_9aecfe50_7975_11ed_942c_ec55f9ceb9c8row12_col3\" class=\"data row12 col3\" >35</td> \n",
       "    </tr>    <tr> \n",
       "        <th id=\"T_9aecfe50_7975_11ed_942c_ec55f9ceb9c8level0_row13\" class=\"row_heading level0 row13\" >13</th> \n",
       "        <td id=\"T_9aecfe50_7975_11ed_942c_ec55f9ceb9c8row13_col0\" class=\"data row13 col0\" >hotel-du-glacier</td> \n",
       "        <td id=\"T_9aecfe50_7975_11ed_942c_ec55f9ceb9c8row13_col1\" class=\"data row13 col1\" >la-thuile</td> \n",
       "        <td id=\"T_9aecfe50_7975_11ed_942c_ec55f9ceb9c8row13_col2\" class=\"data row13 col2\" >italy</td> \n",
       "        <td id=\"T_9aecfe50_7975_11ed_942c_ec55f9ceb9c8row13_col3\" class=\"data row13 col3\" >38</td> \n",
       "    </tr>    <tr> \n",
       "        <th id=\"T_9aecfe50_7975_11ed_942c_ec55f9ceb9c8level0_row14\" class=\"row_heading level0 row14\" >14</th> \n",
       "        <td id=\"T_9aecfe50_7975_11ed_942c_ec55f9ceb9c8row14_col0\" class=\"data row14 col0\" >hotel-bruxelles</td> \n",
       "        <td id=\"T_9aecfe50_7975_11ed_942c_ec55f9ceb9c8row14_col1\" class=\"data row14 col1\" >soldeu</td> \n",
       "        <td id=\"T_9aecfe50_7975_11ed_942c_ec55f9ceb9c8row14_col2\" class=\"data row14 col2\" >andorra</td> \n",
       "        <td id=\"T_9aecfe50_7975_11ed_942c_ec55f9ceb9c8row14_col3\" class=\"data row14 col3\" >38</td> \n",
       "    </tr>    <tr> \n",
       "        <th id=\"T_9aecfe50_7975_11ed_942c_ec55f9ceb9c8level0_row15\" class=\"row_heading level0 row15\" >15</th> \n",
       "        <td id=\"T_9aecfe50_7975_11ed_942c_ec55f9ceb9c8row15_col0\" class=\"data row15 col0\" >feichter-guesthouse</td> \n",
       "        <td id=\"T_9aecfe50_7975_11ed_942c_ec55f9ceb9c8row15_col1\" class=\"data row15 col1\" >soll</td> \n",
       "        <td id=\"T_9aecfe50_7975_11ed_942c_ec55f9ceb9c8row15_col2\" class=\"data row15 col2\" >austria</td> \n",
       "        <td id=\"T_9aecfe50_7975_11ed_942c_ec55f9ceb9c8row15_col3\" class=\"data row15 col3\" >38</td> \n",
       "    </tr>    <tr> \n",
       "        <th id=\"T_9aecfe50_7975_11ed_942c_ec55f9ceb9c8level0_row16\" class=\"row_heading level0 row16\" >16</th> \n",
       "        <td id=\"T_9aecfe50_7975_11ed_942c_ec55f9ceb9c8row16_col0\" class=\"data row16 col0\" >hotel-eva-garden</td> \n",
       "        <td id=\"T_9aecfe50_7975_11ed_942c_ec55f9ceb9c8row16_col1\" class=\"data row16 col1\" >saalbach</td> \n",
       "        <td id=\"T_9aecfe50_7975_11ed_942c_ec55f9ceb9c8row16_col2\" class=\"data row16 col2\" >austria</td> \n",
       "        <td id=\"T_9aecfe50_7975_11ed_942c_ec55f9ceb9c8row16_col3\" class=\"data row16 col3\" >38</td> \n",
       "    </tr>    <tr> \n",
       "        <th id=\"T_9aecfe50_7975_11ed_942c_ec55f9ceb9c8level0_row17\" class=\"row_heading level0 row17\" >17</th> \n",
       "        <td id=\"T_9aecfe50_7975_11ed_942c_ec55f9ceb9c8row17_col0\" class=\"data row17 col0\" >hotel-flora</td> \n",
       "        <td id=\"T_9aecfe50_7975_11ed_942c_ec55f9ceb9c8row17_col1\" class=\"data row17 col1\" >selva-val-gardena</td> \n",
       "        <td id=\"T_9aecfe50_7975_11ed_942c_ec55f9ceb9c8row17_col2\" class=\"data row17 col2\" >italy</td> \n",
       "        <td id=\"T_9aecfe50_7975_11ed_942c_ec55f9ceb9c8row17_col3\" class=\"data row17 col3\" >38</td> \n",
       "    </tr>    <tr> \n",
       "        <th id=\"T_9aecfe50_7975_11ed_942c_ec55f9ceb9c8level0_row18\" class=\"row_heading level0 row18\" >18</th> \n",
       "        <td id=\"T_9aecfe50_7975_11ed_942c_ec55f9ceb9c8row18_col0\" class=\"data row18 col0\" >hotel-le-kern</td> \n",
       "        <td id=\"T_9aecfe50_7975_11ed_942c_ec55f9ceb9c8row18_col1\" class=\"data row18 col1\" >val-d-isere</td> \n",
       "        <td id=\"T_9aecfe50_7975_11ed_942c_ec55f9ceb9c8row18_col2\" class=\"data row18 col2\" >france</td> \n",
       "        <td id=\"T_9aecfe50_7975_11ed_942c_ec55f9ceb9c8row18_col3\" class=\"data row18 col3\" >40</td> \n",
       "    </tr>    <tr> \n",
       "        <th id=\"T_9aecfe50_7975_11ed_942c_ec55f9ceb9c8level0_row19\" class=\"row_heading level0 row19\" >19</th> \n",
       "        <td id=\"T_9aecfe50_7975_11ed_942c_ec55f9ceb9c8row19_col0\" class=\"data row19 col0\" >hotel-rendlhof</td> \n",
       "        <td id=\"T_9aecfe50_7975_11ed_942c_ec55f9ceb9c8row19_col1\" class=\"data row19 col1\" >st-anton</td> \n",
       "        <td id=\"T_9aecfe50_7975_11ed_942c_ec55f9ceb9c8row19_col2\" class=\"data row19 col2\" >austria</td> \n",
       "        <td id=\"T_9aecfe50_7975_11ed_942c_ec55f9ceb9c8row19_col3\" class=\"data row19 col3\" >40</td> \n",
       "    </tr></tbody> \n",
       "</table> "
      ]
     },
     "metadata": {},
     "output_type": "display_data"
    }
   ],
   "source": [
    "two_sets_beside(max_sleeps, min_sleeps, 'Отели с максимальным количеством спальных мест', \\\n",
    "                                        'Отели с минимальным количеством спальных мест')"
   ]
  },
  {
   "cell_type": "markdown",
   "metadata": {},
   "source": [
    "Интересно - отели на 2 и 4 места, похоже на гостеприимство. Такие, пожалуй, заказчику рекомендовать не будем. Посмотрим, что покажет describe и гистограмма:"
   ]
  },
  {
   "cell_type": "code",
   "execution_count": 78,
   "metadata": {},
   "outputs": [
    {
     "data": {
      "text/plain": [
       "count     347.00\n",
       "mean      124.73\n",
       "std       112.76\n",
       "min         2.00\n",
       "25%        70.00\n",
       "50%        84.00\n",
       "75%       146.00\n",
       "max      1200.00\n",
       "Name: sleeps, dtype: float64"
      ]
     },
     "metadata": {},
     "output_type": "display_data"
    }
   ],
   "source": [
    "d(df.sleeps)"
   ]
  },
  {
   "cell_type": "markdown",
   "metadata": {},
   "source": [
    "Тот самый \"средний\" отель содержит 124 места (при медиане 84) - но, как известно, на среднее сильно влияют выбросы. Ознакомимся с ними:"
   ]
  },
  {
   "cell_type": "code",
   "execution_count": 79,
   "metadata": {},
   "outputs": [
    {
     "data": {
      "image/png": "[encoded data removed]",
      "text/plain": [
       "<Figure size 1080x360 with 1 Axes>"
      ]
     },
     "metadata": {
      "needs_background": "light"
     },
     "output_type": "display_data"
    }
   ],
   "source": [
    "amazing_boxplot(df['sleeps'], 'Распределение значений в столбце sleeps', '#efefff', 'Количество спальных мест')"
   ]
  },
  {
   "cell_type": "markdown",
   "metadata": {},
   "source": [
    "Те самые отели по 2-4 места даже не посчитались выбросами. Похоже, что верхняя планка - 230 мест, а все отели из нашего топа - выбросы. Посмотрим, сколько их: "
   ]
  },
  {
   "cell_type": "code",
   "execution_count": 80,
   "metadata": {},
   "outputs": [
    {
     "data": {
      "text/plain": [
       "38"
      ]
     },
     "execution_count": 80,
     "metadata": {},
     "output_type": "execute_result"
    }
   ],
   "source": [
    "len(df[df['sleeps'] > 230])"
   ]
  },
  {
   "cell_type": "markdown",
   "metadata": {},
   "source": [
    "Более 10% данных. Ознакомимся и с гистограммой:"
   ]
  },
  {
   "cell_type": "code",
   "execution_count": 81,
   "metadata": {},
   "outputs": [
    {
     "data": {
      "image/png": "[encoded data removed]",
      "text/plain": [
       "<Figure size 1080x432 with 1 Axes>"
      ]
     },
     "metadata": {
      "needs_background": "light"
     },
     "output_type": "display_data"
    }
   ],
   "source": [
    "perfect_hist(df['sleeps'], 50, '#efefff', 'Распределение значений в столбце sleeps', \\\n",
    "             'Количество спальных мест', 'Частота встречаемости количества')"
   ]
  },
  {
   "cell_type": "markdown",
   "metadata": {},
   "source": [
    "Вполне ожидаемо после боксплота. Чтобы не терять большой объём данных, уберём только те отели, в которых более 300 мест. Не будем же медлить:"
   ]
  },
  {
   "cell_type": "code",
   "execution_count": 82,
   "metadata": {},
   "outputs": [],
   "source": [
    "df = df[df['sleeps'] < 301].reset_index(drop=True)"
   ]
  },
  {
   "cell_type": "markdown",
   "metadata": {},
   "source": [
    "<a id='eda_snow'> </a>\n",
    "\n",
    "---\n",
    "> ### 2.11 столбцы с количеством осадков на курортах\n",
    "\n",
    "Остаётся последняя группа столбцов - в них указано сколько сантиметров снега выпадает на нижних и на верхних склонах в декабре, январе и феврале. Эта информация нам не пригодится, но с данными мы бегло ознакомимся:"
   ]
  },
  {
   "cell_type": "code",
   "execution_count": 83,
   "metadata": {},
   "outputs": [
    {
     "data": {
      "text/html": [
       "<div>\n",
       "<style scoped>\n",
       "    .dataframe tbody tr th:only-of-type {\n",
       "        vertical-align: middle;\n",
       "    }\n",
       "\n",
       "    .dataframe tbody tr th {\n",
       "        vertical-align: top;\n",
       "    }\n",
       "\n",
       "    .dataframe thead th {\n",
       "        text-align: right;\n",
       "    }\n",
       "</style>\n",
       "<table border=\"1\" class=\"dataframe\">\n",
       "  <thead>\n",
       "    <tr style=\"text-align: right;\">\n",
       "      <th></th>\n",
       "      <th>dec_snow_low_cm</th>\n",
       "      <th>dec_snow_high_cm</th>\n",
       "      <th>jan_snow_low_cm</th>\n",
       "      <th>jan_snow_high_cm</th>\n",
       "      <th>feb_snow_low_cm</th>\n",
       "      <th>feb_snow_high_cm</th>\n",
       "    </tr>\n",
       "  </thead>\n",
       "  <tbody>\n",
       "    <tr>\n",
       "      <th>count</th>\n",
       "      <td>327.00</td>\n",
       "      <td>327.00</td>\n",
       "      <td>327.00</td>\n",
       "      <td>327.00</td>\n",
       "      <td>327.00</td>\n",
       "      <td>327.00</td>\n",
       "    </tr>\n",
       "    <tr>\n",
       "      <th>mean</th>\n",
       "      <td>42.72</td>\n",
       "      <td>117.16</td>\n",
       "      <td>65.25</td>\n",
       "      <td>168.16</td>\n",
       "      <td>66.25</td>\n",
       "      <td>173.35</td>\n",
       "    </tr>\n",
       "    <tr>\n",
       "      <th>std</th>\n",
       "      <td>35.41</td>\n",
       "      <td>79.61</td>\n",
       "      <td>37.66</td>\n",
       "      <td>72.08</td>\n",
       "      <td>36.15</td>\n",
       "      <td>70.40</td>\n",
       "    </tr>\n",
       "    <tr>\n",
       "      <th>min</th>\n",
       "      <td>0.00</td>\n",
       "      <td>25.00</td>\n",
       "      <td>5.00</td>\n",
       "      <td>53.44</td>\n",
       "      <td>5.00</td>\n",
       "      <td>69.06</td>\n",
       "    </tr>\n",
       "    <tr>\n",
       "      <th>25%</th>\n",
       "      <td>16.24</td>\n",
       "      <td>58.00</td>\n",
       "      <td>43.00</td>\n",
       "      <td>126.79</td>\n",
       "      <td>46.00</td>\n",
       "      <td>132.00</td>\n",
       "    </tr>\n",
       "    <tr>\n",
       "      <th>50%</th>\n",
       "      <td>30.00</td>\n",
       "      <td>100.00</td>\n",
       "      <td>50.00</td>\n",
       "      <td>150.00</td>\n",
       "      <td>51.37</td>\n",
       "      <td>150.00</td>\n",
       "    </tr>\n",
       "    <tr>\n",
       "      <th>75%</th>\n",
       "      <td>60.00</td>\n",
       "      <td>165.00</td>\n",
       "      <td>70.00</td>\n",
       "      <td>180.00</td>\n",
       "      <td>89.00</td>\n",
       "      <td>188.91</td>\n",
       "    </tr>\n",
       "    <tr>\n",
       "      <th>max</th>\n",
       "      <td>150.00</td>\n",
       "      <td>400.00</td>\n",
       "      <td>190.00</td>\n",
       "      <td>400.00</td>\n",
       "      <td>191.00</td>\n",
       "      <td>400.00</td>\n",
       "    </tr>\n",
       "  </tbody>\n",
       "</table>\n",
       "</div>"
      ],
      "text/plain": [
       "       dec_snow_low_cm  dec_snow_high_cm  jan_snow_low_cm  jan_snow_high_cm  \\\n",
       "count           327.00            327.00           327.00            327.00   \n",
       "mean             42.72            117.16            65.25            168.16   \n",
       "std              35.41             79.61            37.66             72.08   \n",
       "min               0.00             25.00             5.00             53.44   \n",
       "25%              16.24             58.00            43.00            126.79   \n",
       "50%              30.00            100.00            50.00            150.00   \n",
       "75%              60.00            165.00            70.00            180.00   \n",
       "max             150.00            400.00           190.00            400.00   \n",
       "\n",
       "       feb_snow_low_cm  feb_snow_high_cm  \n",
       "count           327.00            327.00  \n",
       "mean             66.25            173.35  \n",
       "std              36.15             70.40  \n",
       "min               5.00             69.06  \n",
       "25%              46.00            132.00  \n",
       "50%              51.37            150.00  \n",
       "75%              89.00            188.91  \n",
       "max             191.00            400.00  "
      ]
     },
     "metadata": {},
     "output_type": "display_data"
    }
   ],
   "source": [
    "df_last_six = [df_last_six]\n",
    "for i in df_last_six:\n",
    "    d(df[i])"
   ]
  },
  {
   "cell_type": "markdown",
   "metadata": {},
   "source": [
    "На верхних склонах снега выпадает гораздо больше."
   ]
  },
  {
   "cell_type": "markdown",
   "metadata": {},
   "source": [
    "<a id='eda_corr'> </a>\n",
    "\n",
    "---\n",
    "> ### 2.12 Построение матрицы корреляций\n",
    "\n",
    "Мы построим матрицу корреляций для очищенного от выбросов датасета. Вычислим корреляции:"
   ]
  },
  {
   "cell_type": "code",
   "execution_count": 84,
   "metadata": {},
   "outputs": [],
   "source": [
    "corr_m = round(df.corr(), 2)"
   ]
  },
  {
   "cell_type": "markdown",
   "metadata": {},
   "source": [
    "Взглянем непосредственно на график:"
   ]
  },
  {
   "cell_type": "code",
   "execution_count": 85,
   "metadata": {},
   "outputs": [
    {
     "data": {
      "image/png": "[encoded data removed]",
      "text/plain": [
       "<Figure size 1008x576 with 1 Axes>"
      ]
     },
     "metadata": {
      "needs_background": "light"
     },
     "output_type": "display_data"
    }
   ],
   "source": [
    "plt.figure(figsize=(14, 8))\n",
    "sns.heatmap(data=corr_m, annot=True, fmt='.2g', cmap='Blues', linewidths=.1, linecolor='white', cbar=False);\n",
    "plt.title('Матрица корреляций всех имеющихся данных', fontsize=20, pad=15)\n",
    "plt.tick_params(axis='both', labelsize=12);"
   ]
  },
  {
   "cell_type": "markdown",
   "metadata": {},
   "source": [
    "Матрица довольно насыщенная - но если её изучить, то, увы, ничего важного для бизнеса она не показывает. **Явно видна корреляция склонов и подъёмников, а также осадков**, сильно коррелирует длина трасс с количеством подъёмников, что ожидаемо. Стоимость проживания в некоторой степени связна с подъёмниками типа \"гондолла\", что логично - выше уровень сервиса. "
   ]
  },
  {
   "cell_type": "markdown",
   "metadata": {},
   "source": [
    "<a id='eda_conclusion'> </a>\n",
    "\n",
    "---\n",
    "> **Выводы исследовательского анализа данных**\n",
    "\n",
    "Мы детально просмотрели содержимое датасета, а именно:\n",
    "- изучили числовые описания столбцов;\n",
    "- ознакомились с распределенями;\n",
    "- проверили выбросы и пропуски там, где это не удалось сделать на этапе предобработки;\n",
    "- изучили корреляции данных.\n",
    "\n",
    "**Выводы** этапа таковы:\n",
    "- **Количество отелей в странах** распределено таким образом: Австрия 169, Италия 104, Франция 77, Андорра 29, Финляндия 16, Болгария 11;\n",
    "- **Среднее количество отелей на курорт** в странах: Андорра 9.6, Италия 4.9, Австрия 5.6, Болгария 3.6, Финляндия 3.2, Франция 2.5;\n",
    "- **Самые дорогие курорты**: courchevel-1650, Франция, 1775 фунтов за неделю проживания; hochgurgl, Австрия, 1755; les-menuires, Франция, 1636;\n",
    "- **Самые недорогие курорты**: bansko, Болгария, 662 фунтов за неделю; bardonecchia, Италия, 664; borovets, Болгария, 682;\n",
    "- **Медианы цен по странам**: Франция 1182 фунта за неделю; Австрия 1170; Финляндия 890; Италия 873.5; Андорра 814; Болгария 677;\n",
    "- Чаще всего **подъёмники расположены на расстоянии 1 километра от отеля**, в среднем - 277 метров, медиана - 200 метров;\n",
    "- Многие курорты предлагают **сотни километров трасс**; \n",
    "- **Средняя высота расположения курортов по странам**: Андорра 1834.48 метров; Франция 1733.25; Италия 1574.56; Болгария 1167.14; Австрия 1066.12; Финляндия 317.71;\n",
    "- **Медианы высот расположения курортов по странам**: Франция 1850; Андорра 1800; Италия 1550; Болгария 935; Австрия 870; Финляндия 200;\n",
    "- Средняя высота расположения курортов: 1363.23; медиана: 1448 метров;\n",
    "- **Средняя длина трасс в странах**: Франция 273.13 километра; Австрия 179.24; Италия 178.56; Андорра 168.07; Болгария 59.14; Финляндия 36.73;\n",
    "- **Медианы длинн трасс в странах**: Франция 250; Андорра 193; Австрия 175; Италия 140; Болгария 70; Финляндия 44;\n",
    "- Средняя длина трасс в датасете: 221.99 километров; медиана: 193;\n",
    "- Среднее количество подъёмников на курортах: 56; медиана: 56; больше всего подъёмников - на фрацузских bourg-st-maurice (171) и aime-la-plagne и belle-plagne (по 139); **на двух курортах нет подъёмников** - это ortisei-st-ulrich в Италии, hochgurgl и galtur в Австрии;\n",
    "- **Кресельные и канатные подъёмники наиболее распространены**, причём их средние (23.03 и 23.35) и медианы (по 21.00) сопоставимы. Гондоллы встречаются значительно реже - в среднем 8 гондолл на курорт;\n",
    "- Трассы низкой (blues) и средней (reds) опасности встречаются значительно чаще, чем максимально опасные спуски (blacks).\n",
    "- **Средний отель содержит 124 места** (медиана 84);\n",
    "- Матрица корреляций показала корреляцию склонов и подъёмников, а также осадков. \n",
    "\n",
    "Продолжим работу."
   ]
  },
  {
   "cell_type": "markdown",
   "metadata": {},
   "source": [
    "<a id='portraits'> </a>\n",
    "\n",
    "<hr style='border: 2px solid #eeeeee'>\n",
    "\n",
    "## <center> 3. Составление портретов отелей </center>\n",
    "\n",
    "На этом этапе нам предстоит определить параметры отелей, для чего мы **разделим отели на 3 ценовых категории**, и для каждой \n",
    "категории посмотрим картину в разных странах. Но сначала составим средний портрет по ценовым категориям и странам, и затем по портрету на каждую ценовую категорию.\n",
    "\n",
    "Не будем же терять ни минуты."
   ]
  },
  {
   "cell_type": "markdown",
   "metadata": {},
   "source": [
    "<a id='port_mean_hotel'> </a>\n",
    "\n",
    "---\n",
    "> ### 3.1 Параметры среднего горнолыжного отеля\n",
    "\n",
    "Начнём с главного - составление самого среднего отеля. Для дальнейшего удобства поменяем порядок столбцов, чтобы в первую очередь видеть самые информативные столбцы:"
   ]
  },
  {
   "cell_type": "code",
   "execution_count": 86,
   "metadata": {},
   "outputs": [],
   "source": [
    "df = df.reindex(columns=['country','resort','hotel','price_per_week','sleeps','altitude_m','meters_from_lift',\\\n",
    "                'total_piste_km','total_lifts','gondolas','chairlifts','draglifts','blues','reds','blacks','total_runs'])"
   ]
  },
  {
   "cell_type": "markdown",
   "metadata": {},
   "source": [
    "И ознакомимся с параметрами - для этого посмотрим среднее по всем колонкам:"
   ]
  },
  {
   "cell_type": "code",
   "execution_count": 87,
   "metadata": {},
   "outputs": [],
   "source": [
    "mean_hotel = round(df.mean(), 2).astype('float64').reset_index()\n",
    "mean_hotel = mean_hotel.set_index('index').T.drop({'country','resort','hotel'}, axis=1)"
   ]
  },
  {
   "cell_type": "code",
   "execution_count": 88,
   "metadata": {},
   "outputs": [
    {
     "data": {
      "text/html": [
       "<div>\n",
       "<style scoped>\n",
       "    .dataframe tbody tr th:only-of-type {\n",
       "        vertical-align: middle;\n",
       "    }\n",
       "\n",
       "    .dataframe tbody tr th {\n",
       "        vertical-align: top;\n",
       "    }\n",
       "\n",
       "    .dataframe thead th {\n",
       "        text-align: right;\n",
       "    }\n",
       "</style>\n",
       "<table border=\"1\" class=\"dataframe\">\n",
       "  <thead>\n",
       "    <tr style=\"text-align: right;\">\n",
       "      <th>index</th>\n",
       "      <th>price_per_week</th>\n",
       "      <th>sleeps</th>\n",
       "      <th>altitude_m</th>\n",
       "      <th>meters_from_lift</th>\n",
       "      <th>total_piste_km</th>\n",
       "      <th>total_lifts</th>\n",
       "      <th>gondolas</th>\n",
       "      <th>chairlifts</th>\n",
       "      <th>draglifts</th>\n",
       "      <th>blues</th>\n",
       "      <th>reds</th>\n",
       "      <th>blacks</th>\n",
       "      <th>total_runs</th>\n",
       "    </tr>\n",
       "  </thead>\n",
       "  <tbody>\n",
       "    <tr>\n",
       "      <th>0</th>\n",
       "      <td>1069.73</td>\n",
       "      <td>103.98</td>\n",
       "      <td>1401.19</td>\n",
       "      <td>245.43</td>\n",
       "      <td>189.66</td>\n",
       "      <td>56.69</td>\n",
       "      <td>8.35</td>\n",
       "      <td>23.6</td>\n",
       "      <td>23.61</td>\n",
       "      <td>37.68</td>\n",
       "      <td>41.15</td>\n",
       "      <td>13.84</td>\n",
       "      <td>92.68</td>\n",
       "    </tr>\n",
       "  </tbody>\n",
       "</table>\n",
       "</div>"
      ],
      "text/plain": [
       "index  price_per_week  sleeps  altitude_m  meters_from_lift  total_piste_km  \\\n",
       "0             1069.73  103.98     1401.19            245.43          189.66   \n",
       "\n",
       "index  total_lifts  gondolas  chairlifts  draglifts  blues   reds  blacks  \\\n",
       "0            56.69      8.35        23.6      23.61  37.68  41.15   13.84   \n",
       "\n",
       "index  total_runs  \n",
       "0           92.68  "
      ]
     },
     "metadata": {},
     "output_type": "display_data"
    }
   ],
   "source": [
    "display(mean_hotel)"
   ]
  },
  {
   "cell_type": "markdown",
   "metadata": {},
   "source": [
    "Вот и **параметры среднего отеля**:\n",
    "- цена 1069.73 фунта за неделю проживания;\n",
    "- 103 спальных места;\n",
    "- высота над уровнем моря - 1401.19 метров;\n",
    "- расстояние от отеля до подъёмника - 245.43 метра;\n",
    "\n",
    "Дополнительно параметры среднего курорта:\n",
    "- 189 километров трасс;\n",
    "- 92 конфигурации трасс;\n",
    "- 56 подъёмников;"
   ]
  },
  {
   "cell_type": "markdown",
   "metadata": {},
   "source": [
    "<a id='port_mean_diff_classes'> </a>\n",
    "\n",
    "---\n",
    "> ### 3.2 Параметры отелей бюджетного, среднего и премиум классов без разделения по странам\n",
    "\n",
    "Проведём категоризацию по стоимости проживания в неделю. Для этого взглянем на разброс цен, чтобы иметь ориентиры для разделения ценовых сегментов:"
   ]
  },
  {
   "cell_type": "code",
   "execution_count": 89,
   "metadata": {},
   "outputs": [
    {
     "data": {
      "text/plain": [
       "count     327.00\n",
       "mean     1069.73\n",
       "std       287.26\n",
       "min       550.00\n",
       "25%       839.00\n",
       "50%      1016.00\n",
       "75%      1265.50\n",
       "max      1866.00\n",
       "Name: price_per_week, dtype: float64"
      ]
     },
     "metadata": {},
     "output_type": "display_data"
    }
   ],
   "source": [
    "d(df.price_per_week)"
   ]
  },
  {
   "cell_type": "markdown",
   "metadata": {},
   "source": [
    "Представляется логичным сделать следующее разделение: **до 900 фунтов в неделю - бюджетный класс; от 900 до 1300 - средний класс; более 1200 - премиум-класс**. Установим категории:"
   ]
  },
  {
   "cell_type": "code",
   "execution_count": 90,
   "metadata": {},
   "outputs": [],
   "source": [
    "price_classes = []\n",
    "\n",
    "for i in df.price_per_week:\n",
    "    if i < 900:\n",
    "        price_classes.append('бюджетный')\n",
    "    elif i < 1200:\n",
    "        price_classes.append('средний')\n",
    "    else:\n",
    "        price_classes.append('премиум')\n",
    "        \n",
    "df.insert(4, 'class', price_classes, allow_duplicates = False)"
   ]
  },
  {
   "cell_type": "markdown",
   "metadata": {},
   "source": [
    "Проверим, как сработал код:"
   ]
  },
  {
   "cell_type": "code",
   "execution_count": 91,
   "metadata": {},
   "outputs": [
    {
     "data": {
      "text/plain": [
       "средний      116\n",
       "бюджетный    114\n",
       "премиум       97\n",
       "Name: class, dtype: int64"
      ]
     },
     "execution_count": 91,
     "metadata": {},
     "output_type": "execute_result"
    }
   ],
   "source": [
    "df['class'].value_counts()"
   ]
  },
  {
   "cell_type": "markdown",
   "metadata": {},
   "source": [
    "Чётко. **Посмотрим параметры по классам** - для этого нам хватит группировки:"
   ]
  },
  {
   "cell_type": "code",
   "execution_count": 92,
   "metadata": {},
   "outputs": [
    {
     "data": {
      "text/html": [
       "<div>\n",
       "<style scoped>\n",
       "    .dataframe tbody tr th:only-of-type {\n",
       "        vertical-align: middle;\n",
       "    }\n",
       "\n",
       "    .dataframe tbody tr th {\n",
       "        vertical-align: top;\n",
       "    }\n",
       "\n",
       "    .dataframe thead th {\n",
       "        text-align: right;\n",
       "    }\n",
       "</style>\n",
       "<table border=\"1\" class=\"dataframe\">\n",
       "  <thead>\n",
       "    <tr style=\"text-align: right;\">\n",
       "      <th></th>\n",
       "      <th>class</th>\n",
       "      <th>price_per_week</th>\n",
       "      <th>sleeps</th>\n",
       "      <th>altitude_m</th>\n",
       "      <th>meters_from_lift</th>\n",
       "      <th>total_piste_km</th>\n",
       "      <th>total_lifts</th>\n",
       "      <th>gondolas</th>\n",
       "      <th>chairlifts</th>\n",
       "      <th>draglifts</th>\n",
       "      <th>blues</th>\n",
       "      <th>reds</th>\n",
       "      <th>blacks</th>\n",
       "      <th>total_runs</th>\n",
       "    </tr>\n",
       "  </thead>\n",
       "  <tbody>\n",
       "    <tr>\n",
       "      <th>0</th>\n",
       "      <td>бюджетный</td>\n",
       "      <td>781.74</td>\n",
       "      <td>88.61</td>\n",
       "      <td>1366.18</td>\n",
       "      <td>279.82</td>\n",
       "      <td>158.91</td>\n",
       "      <td>48.71</td>\n",
       "      <td>5.46</td>\n",
       "      <td>19.52</td>\n",
       "      <td>22.59</td>\n",
       "      <td>25.07</td>\n",
       "      <td>34.39</td>\n",
       "      <td>10.77</td>\n",
       "      <td>70.24</td>\n",
       "    </tr>\n",
       "    <tr>\n",
       "      <th>1</th>\n",
       "      <td>средний</td>\n",
       "      <td>1049.72</td>\n",
       "      <td>109.03</td>\n",
       "      <td>1382.45</td>\n",
       "      <td>216.83</td>\n",
       "      <td>194.09</td>\n",
       "      <td>60.64</td>\n",
       "      <td>9.23</td>\n",
       "      <td>24.80</td>\n",
       "      <td>25.44</td>\n",
       "      <td>39.83</td>\n",
       "      <td>39.09</td>\n",
       "      <td>13.54</td>\n",
       "      <td>92.47</td>\n",
       "    </tr>\n",
       "    <tr>\n",
       "      <th>2</th>\n",
       "      <td>премиум</td>\n",
       "      <td>1432.12</td>\n",
       "      <td>116.00</td>\n",
       "      <td>1464.76</td>\n",
       "      <td>239.23</td>\n",
       "      <td>220.51</td>\n",
       "      <td>61.34</td>\n",
       "      <td>10.70</td>\n",
       "      <td>26.96</td>\n",
       "      <td>22.62</td>\n",
       "      <td>49.94</td>\n",
       "      <td>51.56</td>\n",
       "      <td>17.80</td>\n",
       "      <td>119.30</td>\n",
       "    </tr>\n",
       "  </tbody>\n",
       "</table>\n",
       "</div>"
      ],
      "text/plain": [
       "       class  price_per_week  sleeps  altitude_m  meters_from_lift  \\\n",
       "0  бюджетный          781.74   88.61     1366.18            279.82   \n",
       "1    средний         1049.72  109.03     1382.45            216.83   \n",
       "2    премиум         1432.12  116.00     1464.76            239.23   \n",
       "\n",
       "   total_piste_km  total_lifts  gondolas  chairlifts  draglifts  blues   reds  \\\n",
       "0          158.91        48.71      5.46       19.52      22.59  25.07  34.39   \n",
       "1          194.09        60.64      9.23       24.80      25.44  39.83  39.09   \n",
       "2          220.51        61.34     10.70       26.96      22.62  49.94  51.56   \n",
       "\n",
       "   blacks  total_runs  \n",
       "0   10.77       70.24  \n",
       "1   13.54       92.47  \n",
       "2   17.80      119.30  "
      ]
     },
     "execution_count": 92,
     "metadata": {},
     "output_type": "execute_result"
    }
   ],
   "source": [
    "df_classes = round(df.groupby('class').mean().sort_values(by='price_per_week'), 2).reset_index()\n",
    "df_classes"
   ]
  },
  {
   "cell_type": "markdown",
   "metadata": {},
   "source": [
    "Мы видим, **в отелях больших раличий нет**, кроме количества спальных мест в отелях - чем выше класс, тем больше мест, и средней дистанции до подъёмников (правда, этот показатель не коррелирует с ценой). Зато **есть значительные различия на курортах**:\n",
    "- **Длина трасс** короче на бюджетных - 158 км, на средних она выше - 194 км, и максимальна на премиальных курортах - 220;\n",
    "- **Количество подъёмников** минимально на бюджетных - 48, выше на средних - 60, и максимально на премиальных - 61:\n",
    "- **Типы подъёмников** различаются - на средних и премиальных курортах гондолл гораздо больше, чем на бюджетных, наличие кресельных подъёмников также коррелирует с классом отеля;\n",
    "- **Количество спусков** явно зависит от класса отеля - это касается как общего количества, так и каждого класса спуска.\n",
    "\n",
    "Теперь составим собственно портреты."
   ]
  },
  {
   "cell_type": "markdown",
   "metadata": {},
   "source": [
    "---\n",
    "#### 3.2.1 Параметры отеля бюджетного класса\n",
    "\n",
    "Ещё раз взглянем на цифры, для чего напишем функцию, ведь выводить одни и те же параметры понадобится три раза:"
   ]
  },
  {
   "cell_type": "code",
   "execution_count": 93,
   "metadata": {},
   "outputs": [],
   "source": [
    "def hotels_describer(hotel_class, class_name, week_price, sleep_places, sea_height, lift_dist,\\\n",
    "                     tracks_kms, tracks_configs, lifts_by_tracks):\n",
    "    price = week_price\n",
    "    places = sleep_places\n",
    "    height = sea_height\n",
    "    dist_fr_lift = lift_dist\n",
    "    kms = tracks_kms\n",
    "    configs = tracks_configs\n",
    "    lifts = lifts_by_tracks\n",
    "    \n",
    "    display(df_classes[df_classes['class'] == hotel_class])\n",
    "    \n",
    "    print('')\n",
    "    print('\\033[1m', 'Параметры отеля', class_name, 'класса:', '\\033[0m')\n",
    "    print(f'''- цена за неделю проживания: {price};\n",
    "- спальных мест: {sleep_places};\n",
    "- высота над уровнем моря: {sea_height};\n",
    "- расстояние от отеля до подъёмника: {lift_dist};\n",
    "''')\n",
    "    \n",
    "    print('')\n",
    "    print('\\033[1m', 'Параметры курорта', class_name, 'класса:', '\\033[0m')\n",
    "    print(f'''- километров трасс: {kms};\n",
    "- конфигураций трасс: {configs};\n",
    "- число подъёмников: {lifts}.\n",
    "''')"
   ]
  },
  {
   "cell_type": "code",
   "execution_count": 94,
   "metadata": {},
   "outputs": [
    {
     "data": {
      "text/html": [
       "<div>\n",
       "<style scoped>\n",
       "    .dataframe tbody tr th:only-of-type {\n",
       "        vertical-align: middle;\n",
       "    }\n",
       "\n",
       "    .dataframe tbody tr th {\n",
       "        vertical-align: top;\n",
       "    }\n",
       "\n",
       "    .dataframe thead th {\n",
       "        text-align: right;\n",
       "    }\n",
       "</style>\n",
       "<table border=\"1\" class=\"dataframe\">\n",
       "  <thead>\n",
       "    <tr style=\"text-align: right;\">\n",
       "      <th></th>\n",
       "      <th>class</th>\n",
       "      <th>price_per_week</th>\n",
       "      <th>sleeps</th>\n",
       "      <th>altitude_m</th>\n",
       "      <th>meters_from_lift</th>\n",
       "      <th>total_piste_km</th>\n",
       "      <th>total_lifts</th>\n",
       "      <th>gondolas</th>\n",
       "      <th>chairlifts</th>\n",
       "      <th>draglifts</th>\n",
       "      <th>blues</th>\n",
       "      <th>reds</th>\n",
       "      <th>blacks</th>\n",
       "      <th>total_runs</th>\n",
       "    </tr>\n",
       "  </thead>\n",
       "  <tbody>\n",
       "    <tr>\n",
       "      <th>0</th>\n",
       "      <td>бюджетный</td>\n",
       "      <td>781.74</td>\n",
       "      <td>88.61</td>\n",
       "      <td>1366.18</td>\n",
       "      <td>279.82</td>\n",
       "      <td>158.91</td>\n",
       "      <td>48.71</td>\n",
       "      <td>5.46</td>\n",
       "      <td>19.52</td>\n",
       "      <td>22.59</td>\n",
       "      <td>25.07</td>\n",
       "      <td>34.39</td>\n",
       "      <td>10.77</td>\n",
       "      <td>70.24</td>\n",
       "    </tr>\n",
       "  </tbody>\n",
       "</table>\n",
       "</div>"
      ],
      "text/plain": [
       "       class  price_per_week  sleeps  altitude_m  meters_from_lift  \\\n",
       "0  бюджетный          781.74   88.61     1366.18            279.82   \n",
       "\n",
       "   total_piste_km  total_lifts  gondolas  chairlifts  draglifts  blues   reds  \\\n",
       "0          158.91        48.71      5.46       19.52      22.59  25.07  34.39   \n",
       "\n",
       "   blacks  total_runs  \n",
       "0   10.77       70.24  "
      ]
     },
     "metadata": {},
     "output_type": "display_data"
    },
    {
     "name": "stdout",
     "output_type": "stream",
     "text": [
      "\n",
      "\u001b[1m Параметры отеля бюджетного класса: \u001b[0m\n",
      "- цена за неделю проживания: 781.74;\n",
      "- спальных мест: 88;\n",
      "- высота над уровнем моря: 1366.18;\n",
      "- расстояние от отеля до подъёмника: 279.82;\n",
      "\n",
      "\n",
      "\u001b[1m Параметры курорта бюджетного класса: \u001b[0m\n",
      "- километров трасс: 158.91;\n",
      "- конфигураций трасс: 70.24;\n",
      "- число подъёмников: 48.71.\n",
      "\n"
     ]
    }
   ],
   "source": [
    "hotels_describer('бюджетный', 'бюджетного', df_classes['price_per_week'][0], int(df_classes['sleeps'][0]),\\\n",
    "                df_classes['altitude_m'][0], df_classes['meters_from_lift'][0], \\\n",
    "                df_classes['total_piste_km'][0], df_classes['total_runs'][0], df_classes['total_lifts'][0])"
   ]
  },
  {
   "cell_type": "markdown",
   "metadata": {},
   "source": [
    "---\n",
    "#### 3.2.2 Параметры отеля среднего класса\n",
    "\n",
    "Передадим параметры отеля среднего класса функции и посмотрим результаты:"
   ]
  },
  {
   "cell_type": "code",
   "execution_count": 95,
   "metadata": {},
   "outputs": [
    {
     "data": {
      "text/html": [
       "<div>\n",
       "<style scoped>\n",
       "    .dataframe tbody tr th:only-of-type {\n",
       "        vertical-align: middle;\n",
       "    }\n",
       "\n",
       "    .dataframe tbody tr th {\n",
       "        vertical-align: top;\n",
       "    }\n",
       "\n",
       "    .dataframe thead th {\n",
       "        text-align: right;\n",
       "    }\n",
       "</style>\n",
       "<table border=\"1\" class=\"dataframe\">\n",
       "  <thead>\n",
       "    <tr style=\"text-align: right;\">\n",
       "      <th></th>\n",
       "      <th>class</th>\n",
       "      <th>price_per_week</th>\n",
       "      <th>sleeps</th>\n",
       "      <th>altitude_m</th>\n",
       "      <th>meters_from_lift</th>\n",
       "      <th>total_piste_km</th>\n",
       "      <th>total_lifts</th>\n",
       "      <th>gondolas</th>\n",
       "      <th>chairlifts</th>\n",
       "      <th>draglifts</th>\n",
       "      <th>blues</th>\n",
       "      <th>reds</th>\n",
       "      <th>blacks</th>\n",
       "      <th>total_runs</th>\n",
       "    </tr>\n",
       "  </thead>\n",
       "  <tbody>\n",
       "    <tr>\n",
       "      <th>1</th>\n",
       "      <td>средний</td>\n",
       "      <td>1049.72</td>\n",
       "      <td>109.03</td>\n",
       "      <td>1382.45</td>\n",
       "      <td>216.83</td>\n",
       "      <td>194.09</td>\n",
       "      <td>60.64</td>\n",
       "      <td>9.23</td>\n",
       "      <td>24.8</td>\n",
       "      <td>25.44</td>\n",
       "      <td>39.83</td>\n",
       "      <td>39.09</td>\n",
       "      <td>13.54</td>\n",
       "      <td>92.47</td>\n",
       "    </tr>\n",
       "  </tbody>\n",
       "</table>\n",
       "</div>"
      ],
      "text/plain": [
       "     class  price_per_week  sleeps  altitude_m  meters_from_lift  \\\n",
       "1  средний         1049.72  109.03     1382.45            216.83   \n",
       "\n",
       "   total_piste_km  total_lifts  gondolas  chairlifts  draglifts  blues   reds  \\\n",
       "1          194.09        60.64      9.23        24.8      25.44  39.83  39.09   \n",
       "\n",
       "   blacks  total_runs  \n",
       "1   13.54       92.47  "
      ]
     },
     "metadata": {},
     "output_type": "display_data"
    },
    {
     "name": "stdout",
     "output_type": "stream",
     "text": [
      "\n",
      "\u001b[1m Параметры отеля среднего класса: \u001b[0m\n",
      "- цена за неделю проживания: 1049.72;\n",
      "- спальных мест: 109;\n",
      "- высота над уровнем моря: 1382.45;\n",
      "- расстояние от отеля до подъёмника: 216.83;\n",
      "\n",
      "\n",
      "\u001b[1m Параметры курорта среднего класса: \u001b[0m\n",
      "- километров трасс: 194.09;\n",
      "- конфигураций трасс: 92.47;\n",
      "- число подъёмников: 60.64.\n",
      "\n"
     ]
    }
   ],
   "source": [
    "hotels_describer('средний', 'среднего', df_classes['price_per_week'][1], int(df_classes['sleeps'][1]),\\\n",
    "                df_classes['altitude_m'][1], df_classes['meters_from_lift'][1], \\\n",
    "                df_classes['total_piste_km'][1], df_classes['total_runs'][1], df_classes['total_lifts'][1])"
   ]
  },
  {
   "cell_type": "markdown",
   "metadata": {},
   "source": [
    "---\n",
    "#### 3.2.3 Параметры отеля премиум-класса\n",
    "\n",
    "Ознакомимся с показателями."
   ]
  },
  {
   "cell_type": "code",
   "execution_count": 96,
   "metadata": {},
   "outputs": [
    {
     "data": {
      "text/html": [
       "<div>\n",
       "<style scoped>\n",
       "    .dataframe tbody tr th:only-of-type {\n",
       "        vertical-align: middle;\n",
       "    }\n",
       "\n",
       "    .dataframe tbody tr th {\n",
       "        vertical-align: top;\n",
       "    }\n",
       "\n",
       "    .dataframe thead th {\n",
       "        text-align: right;\n",
       "    }\n",
       "</style>\n",
       "<table border=\"1\" class=\"dataframe\">\n",
       "  <thead>\n",
       "    <tr style=\"text-align: right;\">\n",
       "      <th></th>\n",
       "      <th>class</th>\n",
       "      <th>price_per_week</th>\n",
       "      <th>sleeps</th>\n",
       "      <th>altitude_m</th>\n",
       "      <th>meters_from_lift</th>\n",
       "      <th>total_piste_km</th>\n",
       "      <th>total_lifts</th>\n",
       "      <th>gondolas</th>\n",
       "      <th>chairlifts</th>\n",
       "      <th>draglifts</th>\n",
       "      <th>blues</th>\n",
       "      <th>reds</th>\n",
       "      <th>blacks</th>\n",
       "      <th>total_runs</th>\n",
       "    </tr>\n",
       "  </thead>\n",
       "  <tbody>\n",
       "    <tr>\n",
       "      <th>2</th>\n",
       "      <td>премиум</td>\n",
       "      <td>1432.12</td>\n",
       "      <td>116.0</td>\n",
       "      <td>1464.76</td>\n",
       "      <td>239.23</td>\n",
       "      <td>220.51</td>\n",
       "      <td>61.34</td>\n",
       "      <td>10.7</td>\n",
       "      <td>26.96</td>\n",
       "      <td>22.62</td>\n",
       "      <td>49.94</td>\n",
       "      <td>51.56</td>\n",
       "      <td>17.8</td>\n",
       "      <td>119.3</td>\n",
       "    </tr>\n",
       "  </tbody>\n",
       "</table>\n",
       "</div>"
      ],
      "text/plain": [
       "     class  price_per_week  sleeps  altitude_m  meters_from_lift  \\\n",
       "2  премиум         1432.12   116.0     1464.76            239.23   \n",
       "\n",
       "   total_piste_km  total_lifts  gondolas  chairlifts  draglifts  blues   reds  \\\n",
       "2          220.51        61.34      10.7       26.96      22.62  49.94  51.56   \n",
       "\n",
       "   blacks  total_runs  \n",
       "2    17.8       119.3  "
      ]
     },
     "metadata": {},
     "output_type": "display_data"
    },
    {
     "name": "stdout",
     "output_type": "stream",
     "text": [
      "\n",
      "\u001b[1m Параметры отеля премиального класса: \u001b[0m\n",
      "- цена за неделю проживания: 1432.12;\n",
      "- спальных мест: 116;\n",
      "- высота над уровнем моря: 1464.76;\n",
      "- расстояние от отеля до подъёмника: 239.23;\n",
      "\n",
      "\n",
      "\u001b[1m Параметры курорта премиального класса: \u001b[0m\n",
      "- километров трасс: 220.51;\n",
      "- конфигураций трасс: 119.3;\n",
      "- число подъёмников: 61.34.\n",
      "\n"
     ]
    }
   ],
   "source": [
    "hotels_describer('премиум', 'премиального', df_classes['price_per_week'][2], int(df_classes['sleeps'][2]),\\\n",
    "                df_classes['altitude_m'][2], df_classes['meters_from_lift'][2], \\\n",
    "                df_classes['total_piste_km'][2], df_classes['total_runs'][2], df_classes['total_lifts'][2])"
   ]
  },
  {
   "cell_type": "markdown",
   "metadata": {},
   "source": [
    "<a id='port_countries_cheap'> </a>\n",
    "\n",
    "---\n",
    "> ### 3.3 Параметры бюджетных отелей в разных странах\n",
    "\n",
    "Посмторим, насколько схожи или различны бюджетные отели:"
   ]
  },
  {
   "cell_type": "code",
   "execution_count": 97,
   "metadata": {
    "scrolled": true
   },
   "outputs": [
    {
     "data": {
      "text/html": [
       "<div>\n",
       "<style scoped>\n",
       "    .dataframe tbody tr th:only-of-type {\n",
       "        vertical-align: middle;\n",
       "    }\n",
       "\n",
       "    .dataframe tbody tr th {\n",
       "        vertical-align: top;\n",
       "    }\n",
       "\n",
       "    .dataframe thead th {\n",
       "        text-align: right;\n",
       "    }\n",
       "</style>\n",
       "<table border=\"1\" class=\"dataframe\">\n",
       "  <thead>\n",
       "    <tr style=\"text-align: right;\">\n",
       "      <th></th>\n",
       "      <th>country</th>\n",
       "      <th>price_per_week</th>\n",
       "      <th>sleeps</th>\n",
       "      <th>altitude_m</th>\n",
       "      <th>meters_from_lift</th>\n",
       "      <th>total_piste_km</th>\n",
       "      <th>total_lifts</th>\n",
       "      <th>gondolas</th>\n",
       "      <th>chairlifts</th>\n",
       "      <th>draglifts</th>\n",
       "      <th>blues</th>\n",
       "      <th>reds</th>\n",
       "      <th>blacks</th>\n",
       "      <th>total_runs</th>\n",
       "    </tr>\n",
       "  </thead>\n",
       "  <tbody>\n",
       "    <tr>\n",
       "      <th>0</th>\n",
       "      <td>andorra</td>\n",
       "      <td>731.44</td>\n",
       "      <td>105.56</td>\n",
       "      <td>1869.44</td>\n",
       "      <td>254.72</td>\n",
       "      <td>159.72</td>\n",
       "      <td>54.50</td>\n",
       "      <td>3.44</td>\n",
       "      <td>23.94</td>\n",
       "      <td>22.39</td>\n",
       "      <td>38.83</td>\n",
       "      <td>31.33</td>\n",
       "      <td>17.56</td>\n",
       "      <td>87.72</td>\n",
       "    </tr>\n",
       "    <tr>\n",
       "      <th>1</th>\n",
       "      <td>austria</td>\n",
       "      <td>801.28</td>\n",
       "      <td>81.86</td>\n",
       "      <td>822.76</td>\n",
       "      <td>269.48</td>\n",
       "      <td>127.10</td>\n",
       "      <td>51.34</td>\n",
       "      <td>8.52</td>\n",
       "      <td>15.17</td>\n",
       "      <td>26.97</td>\n",
       "      <td>26.86</td>\n",
       "      <td>30.34</td>\n",
       "      <td>7.79</td>\n",
       "      <td>65.00</td>\n",
       "    </tr>\n",
       "    <tr>\n",
       "      <th>2</th>\n",
       "      <td>bulgaria</td>\n",
       "      <td>677.00</td>\n",
       "      <td>70.00</td>\n",
       "      <td>935.00</td>\n",
       "      <td>600.00</td>\n",
       "      <td>70.00</td>\n",
       "      <td>24.00</td>\n",
       "      <td>1.00</td>\n",
       "      <td>7.00</td>\n",
       "      <td>16.00</td>\n",
       "      <td>5.00</td>\n",
       "      <td>8.00</td>\n",
       "      <td>1.00</td>\n",
       "      <td>14.00</td>\n",
       "    </tr>\n",
       "    <tr>\n",
       "      <th>3</th>\n",
       "      <td>finland</td>\n",
       "      <td>828.40</td>\n",
       "      <td>75.80</td>\n",
       "      <td>204.00</td>\n",
       "      <td>140.00</td>\n",
       "      <td>36.80</td>\n",
       "      <td>10.20</td>\n",
       "      <td>0.40</td>\n",
       "      <td>1.00</td>\n",
       "      <td>5.20</td>\n",
       "      <td>7.20</td>\n",
       "      <td>9.40</td>\n",
       "      <td>2.00</td>\n",
       "      <td>18.60</td>\n",
       "    </tr>\n",
       "    <tr>\n",
       "      <th>4</th>\n",
       "      <td>france</td>\n",
       "      <td>813.00</td>\n",
       "      <td>88.67</td>\n",
       "      <td>1516.67</td>\n",
       "      <td>300.00</td>\n",
       "      <td>249.67</td>\n",
       "      <td>76.67</td>\n",
       "      <td>11.00</td>\n",
       "      <td>20.33</td>\n",
       "      <td>44.33</td>\n",
       "      <td>43.00</td>\n",
       "      <td>53.33</td>\n",
       "      <td>22.67</td>\n",
       "      <td>119.00</td>\n",
       "    </tr>\n",
       "    <tr>\n",
       "      <th>5</th>\n",
       "      <td>italy</td>\n",
       "      <td>783.74</td>\n",
       "      <td>88.16</td>\n",
       "      <td>1581.53</td>\n",
       "      <td>298.28</td>\n",
       "      <td>181.93</td>\n",
       "      <td>47.90</td>\n",
       "      <td>4.79</td>\n",
       "      <td>22.09</td>\n",
       "      <td>20.95</td>\n",
       "      <td>20.86</td>\n",
       "      <td>39.00</td>\n",
       "      <td>10.47</td>\n",
       "      <td>70.33</td>\n",
       "    </tr>\n",
       "  </tbody>\n",
       "</table>\n",
       "</div>"
      ],
      "text/plain": [
       "    country  price_per_week  sleeps  altitude_m  meters_from_lift  \\\n",
       "0   andorra          731.44  105.56     1869.44            254.72   \n",
       "1   austria          801.28   81.86      822.76            269.48   \n",
       "2  bulgaria          677.00   70.00      935.00            600.00   \n",
       "3   finland          828.40   75.80      204.00            140.00   \n",
       "4    france          813.00   88.67     1516.67            300.00   \n",
       "5     italy          783.74   88.16     1581.53            298.28   \n",
       "\n",
       "   total_piste_km  total_lifts  gondolas  chairlifts  draglifts  blues   reds  \\\n",
       "0          159.72        54.50      3.44       23.94      22.39  38.83  31.33   \n",
       "1          127.10        51.34      8.52       15.17      26.97  26.86  30.34   \n",
       "2           70.00        24.00      1.00        7.00      16.00   5.00   8.00   \n",
       "3           36.80        10.20      0.40        1.00       5.20   7.20   9.40   \n",
       "4          249.67        76.67     11.00       20.33      44.33  43.00  53.33   \n",
       "5          181.93        47.90      4.79       22.09      20.95  20.86  39.00   \n",
       "\n",
       "   blacks  total_runs  \n",
       "0   17.56       87.72  \n",
       "1    7.79       65.00  \n",
       "2    1.00       14.00  \n",
       "3    2.00       18.60  \n",
       "4   22.67      119.00  \n",
       "5   10.47       70.33  "
      ]
     },
     "execution_count": 97,
     "metadata": {},
     "output_type": "execute_result"
    }
   ],
   "source": [
    "df_cheap_hotels = round(df[df['class'] == 'бюджетный'].groupby('country').mean(), 2).reset_index()\n",
    "df_cheap_hotels"
   ]
  },
  {
   "cell_type": "markdown",
   "metadata": {},
   "source": [
    "Мы видим **значительные различия во всех показателях**, например:\n",
    "- **средняя стоимость** в неделю в болгарских бюджетных отелях гораздо ниже, чем в остальных; \n",
    "- **высота над уровнем моря** в Финляндии почти в 9 раз меньше чем в Андорре;\n",
    "- различаются **расстояния до подъёмников**;\n",
    "- сильный разброс величин в **протяжённости трасс**;\n",
    "- разнятся количества подъёмников, типы спусков и общее количество трасс.\n",
    "\n",
    "Составим портрет бюджетного отеля для каждой страны."
   ]
  },
  {
   "cell_type": "markdown",
   "metadata": {},
   "source": [
    "---\n",
    "#### 3.3.1 Параметры бюджетного отеля, Андорра\n",
    "\n",
    "Ознакомимся с показателями. Для этого доработаем нашу функцию hotels_describer::"
   ]
  },
  {
   "cell_type": "code",
   "execution_count": 98,
   "metadata": {},
   "outputs": [],
   "source": [
    "def country_hotels_describer(hotel_data, hotel_country, class_name, country_name, week_price, sleep_places, sea_height, \\\n",
    "                             lift_dist, tracks_kms, tracks_configs, lifts_by_tracks):\n",
    "    price = week_price\n",
    "    places = sleep_places\n",
    "    height = sea_height\n",
    "    dist_fr_lift = lift_dist\n",
    "    kms = tracks_kms\n",
    "    configs = tracks_configs\n",
    "    lifts = lifts_by_tracks\n",
    "    \n",
    "    display(hotel_data[hotel_data['country'] == hotel_country])\n",
    "    \n",
    "    print('')\n",
    "    print('\\033[1m', 'Параметры отеля', class_name, 'класса,', country_name, '\\033[0m')\n",
    "    print(f'''- цена за неделю проживания: {price};\n",
    "- спальных мест: {sleep_places};\n",
    "- высота над уровнем моря: {sea_height};\n",
    "- расстояние от отеля до подъёмника: {lift_dist};\n",
    "''')\n",
    "    \n",
    "    print('')\n",
    "    print('\\033[1m', 'Параметры курорта', class_name, 'класса,', country_name, '\\033[0m')\n",
    "    print(f'''- километров трасс: {kms};\n",
    "- конфигураций трасс: {configs};\n",
    "- число подъёмников: {lifts}.\n",
    "''')"
   ]
  },
  {
   "cell_type": "code",
   "execution_count": 99,
   "metadata": {},
   "outputs": [
    {
     "data": {
      "text/html": [
       "<div>\n",
       "<style scoped>\n",
       "    .dataframe tbody tr th:only-of-type {\n",
       "        vertical-align: middle;\n",
       "    }\n",
       "\n",
       "    .dataframe tbody tr th {\n",
       "        vertical-align: top;\n",
       "    }\n",
       "\n",
       "    .dataframe thead th {\n",
       "        text-align: right;\n",
       "    }\n",
       "</style>\n",
       "<table border=\"1\" class=\"dataframe\">\n",
       "  <thead>\n",
       "    <tr style=\"text-align: right;\">\n",
       "      <th></th>\n",
       "      <th>country</th>\n",
       "      <th>price_per_week</th>\n",
       "      <th>sleeps</th>\n",
       "      <th>altitude_m</th>\n",
       "      <th>meters_from_lift</th>\n",
       "      <th>total_piste_km</th>\n",
       "      <th>total_lifts</th>\n",
       "      <th>gondolas</th>\n",
       "      <th>chairlifts</th>\n",
       "      <th>draglifts</th>\n",
       "      <th>blues</th>\n",
       "      <th>reds</th>\n",
       "      <th>blacks</th>\n",
       "      <th>total_runs</th>\n",
       "    </tr>\n",
       "  </thead>\n",
       "  <tbody>\n",
       "    <tr>\n",
       "      <th>0</th>\n",
       "      <td>andorra</td>\n",
       "      <td>731.44</td>\n",
       "      <td>105.56</td>\n",
       "      <td>1869.44</td>\n",
       "      <td>254.72</td>\n",
       "      <td>159.72</td>\n",
       "      <td>54.5</td>\n",
       "      <td>3.44</td>\n",
       "      <td>23.94</td>\n",
       "      <td>22.39</td>\n",
       "      <td>38.83</td>\n",
       "      <td>31.33</td>\n",
       "      <td>17.56</td>\n",
       "      <td>87.72</td>\n",
       "    </tr>\n",
       "  </tbody>\n",
       "</table>\n",
       "</div>"
      ],
      "text/plain": [
       "   country  price_per_week  sleeps  altitude_m  meters_from_lift  \\\n",
       "0  andorra          731.44  105.56     1869.44            254.72   \n",
       "\n",
       "   total_piste_km  total_lifts  gondolas  chairlifts  draglifts  blues   reds  \\\n",
       "0          159.72         54.5      3.44       23.94      22.39  38.83  31.33   \n",
       "\n",
       "   blacks  total_runs  \n",
       "0   17.56       87.72  "
      ]
     },
     "metadata": {},
     "output_type": "display_data"
    },
    {
     "name": "stdout",
     "output_type": "stream",
     "text": [
      "\n",
      "\u001b[1m Параметры отеля бюджетного класса, Андорра: \u001b[0m\n",
      "- цена за неделю проживания: 731.44;\n",
      "- спальных мест: 105;\n",
      "- высота над уровнем моря: 1869.44;\n",
      "- расстояние от отеля до подъёмника: 254.72;\n",
      "\n",
      "\n",
      "\u001b[1m Параметры курорта бюджетного класса, Андорра: \u001b[0m\n",
      "- километров трасс: 159.72;\n",
      "- конфигураций трасс: 87.72;\n",
      "- число подъёмников: 54.\n",
      "\n"
     ]
    }
   ],
   "source": [
    "country_hotels_describer(df_cheap_hotels, 'andorra', 'бюджетного', 'Андорра:', df_cheap_hotels['price_per_week'][0], \\\n",
    "                         int(df_cheap_hotels['sleeps'][0]), df_cheap_hotels['altitude_m'][0], \\\n",
    "                         df_cheap_hotels['meters_from_lift'][0], df_cheap_hotels['total_piste_km'][0], \\\n",
    "                         df_cheap_hotels['total_runs'][0], int(df_cheap_hotels['total_lifts'][0]))"
   ]
  },
  {
   "cell_type": "markdown",
   "metadata": {},
   "source": [
    "---\n",
    "#### 3.3.2 Параметры бюджетного отеля, Австрия\n",
    "\n",
    "На этом шаге мы можем сократить количество аргументов, передаваемых функции country_hotels_describer. Для этого упакуем её в другую функцию:"
   ]
  },
  {
   "cell_type": "code",
   "execution_count": 100,
   "metadata": {},
   "outputs": [],
   "source": [
    "def tricky_describer(tricky_data, tricky_country, tricky_class, tricky_c_name, tricky_index):\n",
    "    country_hotels_describer(tricky_data, tricky_country, tricky_class, tricky_c_name, \\\n",
    "                             tricky_data['price_per_week'][tricky_index], int(tricky_data['sleeps'][tricky_index]), \\\n",
    "                             tricky_data['altitude_m'][tricky_index], tricky_data['meters_from_lift'][tricky_index], \\\n",
    "                             tricky_data['total_piste_km'][tricky_index], tricky_data['total_runs'][tricky_index], \\\n",
    "                             int(tricky_data['total_lifts'][tricky_index]))"
   ]
  },
  {
   "cell_type": "markdown",
   "metadata": {},
   "source": [
    "Теперь нам достаточно передать всего 5 аргументов функции:"
   ]
  },
  {
   "cell_type": "code",
   "execution_count": 101,
   "metadata": {},
   "outputs": [
    {
     "data": {
      "text/html": [
       "<div>\n",
       "<style scoped>\n",
       "    .dataframe tbody tr th:only-of-type {\n",
       "        vertical-align: middle;\n",
       "    }\n",
       "\n",
       "    .dataframe tbody tr th {\n",
       "        vertical-align: top;\n",
       "    }\n",
       "\n",
       "    .dataframe thead th {\n",
       "        text-align: right;\n",
       "    }\n",
       "</style>\n",
       "<table border=\"1\" class=\"dataframe\">\n",
       "  <thead>\n",
       "    <tr style=\"text-align: right;\">\n",
       "      <th></th>\n",
       "      <th>country</th>\n",
       "      <th>price_per_week</th>\n",
       "      <th>sleeps</th>\n",
       "      <th>altitude_m</th>\n",
       "      <th>meters_from_lift</th>\n",
       "      <th>total_piste_km</th>\n",
       "      <th>total_lifts</th>\n",
       "      <th>gondolas</th>\n",
       "      <th>chairlifts</th>\n",
       "      <th>draglifts</th>\n",
       "      <th>blues</th>\n",
       "      <th>reds</th>\n",
       "      <th>blacks</th>\n",
       "      <th>total_runs</th>\n",
       "    </tr>\n",
       "  </thead>\n",
       "  <tbody>\n",
       "    <tr>\n",
       "      <th>1</th>\n",
       "      <td>austria</td>\n",
       "      <td>801.28</td>\n",
       "      <td>81.86</td>\n",
       "      <td>822.76</td>\n",
       "      <td>269.48</td>\n",
       "      <td>127.1</td>\n",
       "      <td>51.34</td>\n",
       "      <td>8.52</td>\n",
       "      <td>15.17</td>\n",
       "      <td>26.97</td>\n",
       "      <td>26.86</td>\n",
       "      <td>30.34</td>\n",
       "      <td>7.79</td>\n",
       "      <td>65.0</td>\n",
       "    </tr>\n",
       "  </tbody>\n",
       "</table>\n",
       "</div>"
      ],
      "text/plain": [
       "   country  price_per_week  sleeps  altitude_m  meters_from_lift  \\\n",
       "1  austria          801.28   81.86      822.76            269.48   \n",
       "\n",
       "   total_piste_km  total_lifts  gondolas  chairlifts  draglifts  blues   reds  \\\n",
       "1           127.1        51.34      8.52       15.17      26.97  26.86  30.34   \n",
       "\n",
       "   blacks  total_runs  \n",
       "1    7.79        65.0  "
      ]
     },
     "metadata": {},
     "output_type": "display_data"
    },
    {
     "name": "stdout",
     "output_type": "stream",
     "text": [
      "\n",
      "\u001b[1m Параметры отеля бюджетного класса, Австрия: \u001b[0m\n",
      "- цена за неделю проживания: 801.28;\n",
      "- спальных мест: 81;\n",
      "- высота над уровнем моря: 822.76;\n",
      "- расстояние от отеля до подъёмника: 269.48;\n",
      "\n",
      "\n",
      "\u001b[1m Параметры курорта бюджетного класса, Австрия: \u001b[0m\n",
      "- километров трасс: 127.1;\n",
      "- конфигураций трасс: 65.0;\n",
      "- число подъёмников: 51.\n",
      "\n"
     ]
    }
   ],
   "source": [
    "tricky_describer(df_cheap_hotels, 'austria', 'бюджетного', 'Австрия:', 1)"
   ]
  },
  {
   "cell_type": "markdown",
   "metadata": {},
   "source": [
    "---\n",
    "#### 3.3.3 Параметры бюджетного отеля, Болгария"
   ]
  },
  {
   "cell_type": "code",
   "execution_count": 102,
   "metadata": {},
   "outputs": [
    {
     "data": {
      "text/html": [
       "<div>\n",
       "<style scoped>\n",
       "    .dataframe tbody tr th:only-of-type {\n",
       "        vertical-align: middle;\n",
       "    }\n",
       "\n",
       "    .dataframe tbody tr th {\n",
       "        vertical-align: top;\n",
       "    }\n",
       "\n",
       "    .dataframe thead th {\n",
       "        text-align: right;\n",
       "    }\n",
       "</style>\n",
       "<table border=\"1\" class=\"dataframe\">\n",
       "  <thead>\n",
       "    <tr style=\"text-align: right;\">\n",
       "      <th></th>\n",
       "      <th>country</th>\n",
       "      <th>price_per_week</th>\n",
       "      <th>sleeps</th>\n",
       "      <th>altitude_m</th>\n",
       "      <th>meters_from_lift</th>\n",
       "      <th>total_piste_km</th>\n",
       "      <th>total_lifts</th>\n",
       "      <th>gondolas</th>\n",
       "      <th>chairlifts</th>\n",
       "      <th>draglifts</th>\n",
       "      <th>blues</th>\n",
       "      <th>reds</th>\n",
       "      <th>blacks</th>\n",
       "      <th>total_runs</th>\n",
       "    </tr>\n",
       "  </thead>\n",
       "  <tbody>\n",
       "    <tr>\n",
       "      <th>2</th>\n",
       "      <td>bulgaria</td>\n",
       "      <td>677.0</td>\n",
       "      <td>70.0</td>\n",
       "      <td>935.0</td>\n",
       "      <td>600.0</td>\n",
       "      <td>70.0</td>\n",
       "      <td>24.0</td>\n",
       "      <td>1.0</td>\n",
       "      <td>7.0</td>\n",
       "      <td>16.0</td>\n",
       "      <td>5.0</td>\n",
       "      <td>8.0</td>\n",
       "      <td>1.0</td>\n",
       "      <td>14.0</td>\n",
       "    </tr>\n",
       "  </tbody>\n",
       "</table>\n",
       "</div>"
      ],
      "text/plain": [
       "    country  price_per_week  sleeps  altitude_m  meters_from_lift  \\\n",
       "2  bulgaria           677.0    70.0       935.0             600.0   \n",
       "\n",
       "   total_piste_km  total_lifts  gondolas  chairlifts  draglifts  blues  reds  \\\n",
       "2            70.0         24.0       1.0         7.0       16.0    5.0   8.0   \n",
       "\n",
       "   blacks  total_runs  \n",
       "2     1.0        14.0  "
      ]
     },
     "metadata": {},
     "output_type": "display_data"
    },
    {
     "name": "stdout",
     "output_type": "stream",
     "text": [
      "\n",
      "\u001b[1m Параметры отеля бюджетного класса, Болгария: \u001b[0m\n",
      "- цена за неделю проживания: 677.0;\n",
      "- спальных мест: 70;\n",
      "- высота над уровнем моря: 935.0;\n",
      "- расстояние от отеля до подъёмника: 600.0;\n",
      "\n",
      "\n",
      "\u001b[1m Параметры курорта бюджетного класса, Болгария: \u001b[0m\n",
      "- километров трасс: 70.0;\n",
      "- конфигураций трасс: 14.0;\n",
      "- число подъёмников: 24.\n",
      "\n"
     ]
    }
   ],
   "source": [
    "tricky_describer(df_cheap_hotels, 'bulgaria', 'бюджетного', 'Болгария:', 2)"
   ]
  },
  {
   "cell_type": "markdown",
   "metadata": {},
   "source": [
    "---\n",
    "#### 3.3.4 Параметры бюджетного отеля, Финляндия"
   ]
  },
  {
   "cell_type": "code",
   "execution_count": 103,
   "metadata": {},
   "outputs": [
    {
     "data": {
      "text/html": [
       "<div>\n",
       "<style scoped>\n",
       "    .dataframe tbody tr th:only-of-type {\n",
       "        vertical-align: middle;\n",
       "    }\n",
       "\n",
       "    .dataframe tbody tr th {\n",
       "        vertical-align: top;\n",
       "    }\n",
       "\n",
       "    .dataframe thead th {\n",
       "        text-align: right;\n",
       "    }\n",
       "</style>\n",
       "<table border=\"1\" class=\"dataframe\">\n",
       "  <thead>\n",
       "    <tr style=\"text-align: right;\">\n",
       "      <th></th>\n",
       "      <th>country</th>\n",
       "      <th>price_per_week</th>\n",
       "      <th>sleeps</th>\n",
       "      <th>altitude_m</th>\n",
       "      <th>meters_from_lift</th>\n",
       "      <th>total_piste_km</th>\n",
       "      <th>total_lifts</th>\n",
       "      <th>gondolas</th>\n",
       "      <th>chairlifts</th>\n",
       "      <th>draglifts</th>\n",
       "      <th>blues</th>\n",
       "      <th>reds</th>\n",
       "      <th>blacks</th>\n",
       "      <th>total_runs</th>\n",
       "    </tr>\n",
       "  </thead>\n",
       "  <tbody>\n",
       "    <tr>\n",
       "      <th>3</th>\n",
       "      <td>finland</td>\n",
       "      <td>828.4</td>\n",
       "      <td>75.8</td>\n",
       "      <td>204.0</td>\n",
       "      <td>140.0</td>\n",
       "      <td>36.8</td>\n",
       "      <td>10.2</td>\n",
       "      <td>0.4</td>\n",
       "      <td>1.0</td>\n",
       "      <td>5.2</td>\n",
       "      <td>7.2</td>\n",
       "      <td>9.4</td>\n",
       "      <td>2.0</td>\n",
       "      <td>18.6</td>\n",
       "    </tr>\n",
       "  </tbody>\n",
       "</table>\n",
       "</div>"
      ],
      "text/plain": [
       "   country  price_per_week  sleeps  altitude_m  meters_from_lift  \\\n",
       "3  finland           828.4    75.8       204.0             140.0   \n",
       "\n",
       "   total_piste_km  total_lifts  gondolas  chairlifts  draglifts  blues  reds  \\\n",
       "3            36.8         10.2       0.4         1.0        5.2    7.2   9.4   \n",
       "\n",
       "   blacks  total_runs  \n",
       "3     2.0        18.6  "
      ]
     },
     "metadata": {},
     "output_type": "display_data"
    },
    {
     "name": "stdout",
     "output_type": "stream",
     "text": [
      "\n",
      "\u001b[1m Параметры отеля бюджетного класса, Финляндия: \u001b[0m\n",
      "- цена за неделю проживания: 828.4;\n",
      "- спальных мест: 75;\n",
      "- высота над уровнем моря: 204.0;\n",
      "- расстояние от отеля до подъёмника: 140.0;\n",
      "\n",
      "\n",
      "\u001b[1m Параметры курорта бюджетного класса, Финляндия: \u001b[0m\n",
      "- километров трасс: 36.8;\n",
      "- конфигураций трасс: 18.6;\n",
      "- число подъёмников: 10.\n",
      "\n"
     ]
    }
   ],
   "source": [
    "tricky_describer(df_cheap_hotels, 'finland', 'бюджетного', 'Финляндия:', 3)"
   ]
  },
  {
   "cell_type": "markdown",
   "metadata": {},
   "source": [
    "---\n",
    "#### 3.3.5 Параметры бюджетного отеля, Франция"
   ]
  },
  {
   "cell_type": "code",
   "execution_count": 104,
   "metadata": {},
   "outputs": [
    {
     "data": {
      "text/html": [
       "<div>\n",
       "<style scoped>\n",
       "    .dataframe tbody tr th:only-of-type {\n",
       "        vertical-align: middle;\n",
       "    }\n",
       "\n",
       "    .dataframe tbody tr th {\n",
       "        vertical-align: top;\n",
       "    }\n",
       "\n",
       "    .dataframe thead th {\n",
       "        text-align: right;\n",
       "    }\n",
       "</style>\n",
       "<table border=\"1\" class=\"dataframe\">\n",
       "  <thead>\n",
       "    <tr style=\"text-align: right;\">\n",
       "      <th></th>\n",
       "      <th>country</th>\n",
       "      <th>price_per_week</th>\n",
       "      <th>sleeps</th>\n",
       "      <th>altitude_m</th>\n",
       "      <th>meters_from_lift</th>\n",
       "      <th>total_piste_km</th>\n",
       "      <th>total_lifts</th>\n",
       "      <th>gondolas</th>\n",
       "      <th>chairlifts</th>\n",
       "      <th>draglifts</th>\n",
       "      <th>blues</th>\n",
       "      <th>reds</th>\n",
       "      <th>blacks</th>\n",
       "      <th>total_runs</th>\n",
       "    </tr>\n",
       "  </thead>\n",
       "  <tbody>\n",
       "    <tr>\n",
       "      <th>4</th>\n",
       "      <td>france</td>\n",
       "      <td>813.0</td>\n",
       "      <td>88.67</td>\n",
       "      <td>1516.67</td>\n",
       "      <td>300.0</td>\n",
       "      <td>249.67</td>\n",
       "      <td>76.67</td>\n",
       "      <td>11.0</td>\n",
       "      <td>20.33</td>\n",
       "      <td>44.33</td>\n",
       "      <td>43.0</td>\n",
       "      <td>53.33</td>\n",
       "      <td>22.67</td>\n",
       "      <td>119.0</td>\n",
       "    </tr>\n",
       "  </tbody>\n",
       "</table>\n",
       "</div>"
      ],
      "text/plain": [
       "  country  price_per_week  sleeps  altitude_m  meters_from_lift  \\\n",
       "4  france           813.0   88.67     1516.67             300.0   \n",
       "\n",
       "   total_piste_km  total_lifts  gondolas  chairlifts  draglifts  blues   reds  \\\n",
       "4          249.67        76.67      11.0       20.33      44.33   43.0  53.33   \n",
       "\n",
       "   blacks  total_runs  \n",
       "4   22.67       119.0  "
      ]
     },
     "metadata": {},
     "output_type": "display_data"
    },
    {
     "name": "stdout",
     "output_type": "stream",
     "text": [
      "\n",
      "\u001b[1m Параметры отеля бюджетного класса, Франция: \u001b[0m\n",
      "- цена за неделю проживания: 813.0;\n",
      "- спальных мест: 88;\n",
      "- высота над уровнем моря: 1516.67;\n",
      "- расстояние от отеля до подъёмника: 300.0;\n",
      "\n",
      "\n",
      "\u001b[1m Параметры курорта бюджетного класса, Франция: \u001b[0m\n",
      "- километров трасс: 249.67;\n",
      "- конфигураций трасс: 119.0;\n",
      "- число подъёмников: 76.\n",
      "\n"
     ]
    }
   ],
   "source": [
    "tricky_describer(df_cheap_hotels, 'france', 'бюджетного', 'Франция:', 4)"
   ]
  },
  {
   "cell_type": "markdown",
   "metadata": {},
   "source": [
    "---\n",
    "#### 3.3.6 Параметры бюджетного отеля, Италия"
   ]
  },
  {
   "cell_type": "code",
   "execution_count": 105,
   "metadata": {},
   "outputs": [
    {
     "data": {
      "text/html": [
       "<div>\n",
       "<style scoped>\n",
       "    .dataframe tbody tr th:only-of-type {\n",
       "        vertical-align: middle;\n",
       "    }\n",
       "\n",
       "    .dataframe tbody tr th {\n",
       "        vertical-align: top;\n",
       "    }\n",
       "\n",
       "    .dataframe thead th {\n",
       "        text-align: right;\n",
       "    }\n",
       "</style>\n",
       "<table border=\"1\" class=\"dataframe\">\n",
       "  <thead>\n",
       "    <tr style=\"text-align: right;\">\n",
       "      <th></th>\n",
       "      <th>country</th>\n",
       "      <th>price_per_week</th>\n",
       "      <th>sleeps</th>\n",
       "      <th>altitude_m</th>\n",
       "      <th>meters_from_lift</th>\n",
       "      <th>total_piste_km</th>\n",
       "      <th>total_lifts</th>\n",
       "      <th>gondolas</th>\n",
       "      <th>chairlifts</th>\n",
       "      <th>draglifts</th>\n",
       "      <th>blues</th>\n",
       "      <th>reds</th>\n",
       "      <th>blacks</th>\n",
       "      <th>total_runs</th>\n",
       "    </tr>\n",
       "  </thead>\n",
       "  <tbody>\n",
       "    <tr>\n",
       "      <th>5</th>\n",
       "      <td>italy</td>\n",
       "      <td>783.74</td>\n",
       "      <td>88.16</td>\n",
       "      <td>1581.53</td>\n",
       "      <td>298.28</td>\n",
       "      <td>181.93</td>\n",
       "      <td>47.9</td>\n",
       "      <td>4.79</td>\n",
       "      <td>22.09</td>\n",
       "      <td>20.95</td>\n",
       "      <td>20.86</td>\n",
       "      <td>39.0</td>\n",
       "      <td>10.47</td>\n",
       "      <td>70.33</td>\n",
       "    </tr>\n",
       "  </tbody>\n",
       "</table>\n",
       "</div>"
      ],
      "text/plain": [
       "  country  price_per_week  sleeps  altitude_m  meters_from_lift  \\\n",
       "5   italy          783.74   88.16     1581.53            298.28   \n",
       "\n",
       "   total_piste_km  total_lifts  gondolas  chairlifts  draglifts  blues  reds  \\\n",
       "5          181.93         47.9      4.79       22.09      20.95  20.86  39.0   \n",
       "\n",
       "   blacks  total_runs  \n",
       "5   10.47       70.33  "
      ]
     },
     "metadata": {},
     "output_type": "display_data"
    },
    {
     "name": "stdout",
     "output_type": "stream",
     "text": [
      "\n",
      "\u001b[1m Параметры отеля бюджетного класса, Италия: \u001b[0m\n",
      "- цена за неделю проживания: 783.74;\n",
      "- спальных мест: 88;\n",
      "- высота над уровнем моря: 1581.53;\n",
      "- расстояние от отеля до подъёмника: 298.28;\n",
      "\n",
      "\n",
      "\u001b[1m Параметры курорта бюджетного класса, Италия: \u001b[0m\n",
      "- километров трасс: 181.93;\n",
      "- конфигураций трасс: 70.33;\n",
      "- число подъёмников: 47.\n",
      "\n"
     ]
    }
   ],
   "source": [
    "tricky_describer(df_cheap_hotels, 'italy', 'бюджетного', 'Италия:', 5)"
   ]
  },
  {
   "cell_type": "markdown",
   "metadata": {},
   "source": [
    "<a id='port_countries_medium'> </a>\n",
    "\n",
    "---\n",
    "> ### 3.4 Параметры отелей среднего класса в разных странах\n",
    "\n",
    "Сгруппируем данные и взглянем на показатели:"
   ]
  },
  {
   "cell_type": "code",
   "execution_count": 106,
   "metadata": {},
   "outputs": [
    {
     "data": {
      "text/html": [
       "<div>\n",
       "<style scoped>\n",
       "    .dataframe tbody tr th:only-of-type {\n",
       "        vertical-align: middle;\n",
       "    }\n",
       "\n",
       "    .dataframe tbody tr th {\n",
       "        vertical-align: top;\n",
       "    }\n",
       "\n",
       "    .dataframe thead th {\n",
       "        text-align: right;\n",
       "    }\n",
       "</style>\n",
       "<table border=\"1\" class=\"dataframe\">\n",
       "  <thead>\n",
       "    <tr style=\"text-align: right;\">\n",
       "      <th></th>\n",
       "      <th>country</th>\n",
       "      <th>price_per_week</th>\n",
       "      <th>sleeps</th>\n",
       "      <th>altitude_m</th>\n",
       "      <th>meters_from_lift</th>\n",
       "      <th>total_piste_km</th>\n",
       "      <th>total_lifts</th>\n",
       "      <th>gondolas</th>\n",
       "      <th>chairlifts</th>\n",
       "      <th>draglifts</th>\n",
       "      <th>blues</th>\n",
       "      <th>reds</th>\n",
       "      <th>blacks</th>\n",
       "      <th>total_runs</th>\n",
       "    </tr>\n",
       "  </thead>\n",
       "  <tbody>\n",
       "    <tr>\n",
       "      <th>0</th>\n",
       "      <td>andorra</td>\n",
       "      <td>997.12</td>\n",
       "      <td>165.75</td>\n",
       "      <td>1800.00</td>\n",
       "      <td>153.75</td>\n",
       "      <td>189.50</td>\n",
       "      <td>61.88</td>\n",
       "      <td>3.75</td>\n",
       "      <td>28.88</td>\n",
       "      <td>24.38</td>\n",
       "      <td>55.00</td>\n",
       "      <td>35.12</td>\n",
       "      <td>19.88</td>\n",
       "      <td>110.00</td>\n",
       "    </tr>\n",
       "    <tr>\n",
       "      <th>1</th>\n",
       "      <td>austria</td>\n",
       "      <td>1073.22</td>\n",
       "      <td>102.73</td>\n",
       "      <td>987.00</td>\n",
       "      <td>222.24</td>\n",
       "      <td>178.84</td>\n",
       "      <td>55.73</td>\n",
       "      <td>10.90</td>\n",
       "      <td>20.24</td>\n",
       "      <td>24.08</td>\n",
       "      <td>40.41</td>\n",
       "      <td>41.59</td>\n",
       "      <td>10.02</td>\n",
       "      <td>92.02</td>\n",
       "    </tr>\n",
       "    <tr>\n",
       "      <th>2</th>\n",
       "      <td>finland</td>\n",
       "      <td>974.00</td>\n",
       "      <td>72.50</td>\n",
       "      <td>190.00</td>\n",
       "      <td>50.00</td>\n",
       "      <td>32.00</td>\n",
       "      <td>16.00</td>\n",
       "      <td>1.00</td>\n",
       "      <td>1.50</td>\n",
       "      <td>9.00</td>\n",
       "      <td>11.00</td>\n",
       "      <td>14.50</td>\n",
       "      <td>2.00</td>\n",
       "      <td>27.50</td>\n",
       "    </tr>\n",
       "    <tr>\n",
       "      <th>3</th>\n",
       "      <td>france</td>\n",
       "      <td>1073.56</td>\n",
       "      <td>112.32</td>\n",
       "      <td>1848.16</td>\n",
       "      <td>168.40</td>\n",
       "      <td>278.60</td>\n",
       "      <td>87.52</td>\n",
       "      <td>10.52</td>\n",
       "      <td>36.84</td>\n",
       "      <td>38.92</td>\n",
       "      <td>55.60</td>\n",
       "      <td>48.96</td>\n",
       "      <td>24.72</td>\n",
       "      <td>129.28</td>\n",
       "    </tr>\n",
       "    <tr>\n",
       "      <th>4</th>\n",
       "      <td>italy</td>\n",
       "      <td>1012.97</td>\n",
       "      <td>104.19</td>\n",
       "      <td>1594.28</td>\n",
       "      <td>272.56</td>\n",
       "      <td>162.72</td>\n",
       "      <td>49.62</td>\n",
       "      <td>7.56</td>\n",
       "      <td>22.81</td>\n",
       "      <td>18.28</td>\n",
       "      <td>24.62</td>\n",
       "      <td>30.09</td>\n",
       "      <td>9.34</td>\n",
       "      <td>64.06</td>\n",
       "    </tr>\n",
       "  </tbody>\n",
       "</table>\n",
       "</div>"
      ],
      "text/plain": [
       "   country  price_per_week  sleeps  altitude_m  meters_from_lift  \\\n",
       "0  andorra          997.12  165.75     1800.00            153.75   \n",
       "1  austria         1073.22  102.73      987.00            222.24   \n",
       "2  finland          974.00   72.50      190.00             50.00   \n",
       "3   france         1073.56  112.32     1848.16            168.40   \n",
       "4    italy         1012.97  104.19     1594.28            272.56   \n",
       "\n",
       "   total_piste_km  total_lifts  gondolas  chairlifts  draglifts  blues   reds  \\\n",
       "0          189.50        61.88      3.75       28.88      24.38  55.00  35.12   \n",
       "1          178.84        55.73     10.90       20.24      24.08  40.41  41.59   \n",
       "2           32.00        16.00      1.00        1.50       9.00  11.00  14.50   \n",
       "3          278.60        87.52     10.52       36.84      38.92  55.60  48.96   \n",
       "4          162.72        49.62      7.56       22.81      18.28  24.62  30.09   \n",
       "\n",
       "   blacks  total_runs  \n",
       "0   19.88      110.00  \n",
       "1   10.02       92.02  \n",
       "2    2.00       27.50  \n",
       "3   24.72      129.28  \n",
       "4    9.34       64.06  "
      ]
     },
     "execution_count": 106,
     "metadata": {},
     "output_type": "execute_result"
    }
   ],
   "source": [
    "df_medium_hotels = round(df[df['class'] == 'средний'].groupby('country').mean(), 2).reset_index()\n",
    "df_medium_hotels"
   ]
  },
  {
   "cell_type": "markdown",
   "metadata": {},
   "source": [
    "В среднем классе **цены сопоставимы**, но в остальном разбросы величин значительны:\n",
    "- **количество спальных мест** в отелях Андорры гораздо выше, чем отелях остальных стран, а в Финляндии - значительно ниже;\n",
    "- **велик разброс высот расположения отелей**;\n",
    "- сильные **различия в расстояниях до подъёмников**;\n",
    "- заметен большой **разброс значений в трассах** - длина, количество и типы спусков;\n",
    "- значительная разница и в количестве и типах подъёмников.\n",
    "\n",
    "Стоит обратить внимание, что отели Болгарии не представлены среди отелей среднего класса. Составим портрет для каждой страны."
   ]
  },
  {
   "cell_type": "markdown",
   "metadata": {},
   "source": [
    "---\n",
    "#### 3.4.1 Параметры отеля среднего класса, Андорра"
   ]
  },
  {
   "cell_type": "code",
   "execution_count": 107,
   "metadata": {},
   "outputs": [
    {
     "data": {
      "text/html": [
       "<div>\n",
       "<style scoped>\n",
       "    .dataframe tbody tr th:only-of-type {\n",
       "        vertical-align: middle;\n",
       "    }\n",
       "\n",
       "    .dataframe tbody tr th {\n",
       "        vertical-align: top;\n",
       "    }\n",
       "\n",
       "    .dataframe thead th {\n",
       "        text-align: right;\n",
       "    }\n",
       "</style>\n",
       "<table border=\"1\" class=\"dataframe\">\n",
       "  <thead>\n",
       "    <tr style=\"text-align: right;\">\n",
       "      <th></th>\n",
       "      <th>country</th>\n",
       "      <th>price_per_week</th>\n",
       "      <th>sleeps</th>\n",
       "      <th>altitude_m</th>\n",
       "      <th>meters_from_lift</th>\n",
       "      <th>total_piste_km</th>\n",
       "      <th>total_lifts</th>\n",
       "      <th>gondolas</th>\n",
       "      <th>chairlifts</th>\n",
       "      <th>draglifts</th>\n",
       "      <th>blues</th>\n",
       "      <th>reds</th>\n",
       "      <th>blacks</th>\n",
       "      <th>total_runs</th>\n",
       "    </tr>\n",
       "  </thead>\n",
       "  <tbody>\n",
       "    <tr>\n",
       "      <th>0</th>\n",
       "      <td>andorra</td>\n",
       "      <td>997.12</td>\n",
       "      <td>165.75</td>\n",
       "      <td>1800.0</td>\n",
       "      <td>153.75</td>\n",
       "      <td>189.5</td>\n",
       "      <td>61.88</td>\n",
       "      <td>3.75</td>\n",
       "      <td>28.88</td>\n",
       "      <td>24.38</td>\n",
       "      <td>55.0</td>\n",
       "      <td>35.12</td>\n",
       "      <td>19.88</td>\n",
       "      <td>110.0</td>\n",
       "    </tr>\n",
       "  </tbody>\n",
       "</table>\n",
       "</div>"
      ],
      "text/plain": [
       "   country  price_per_week  sleeps  altitude_m  meters_from_lift  \\\n",
       "0  andorra          997.12  165.75      1800.0            153.75   \n",
       "\n",
       "   total_piste_km  total_lifts  gondolas  chairlifts  draglifts  blues   reds  \\\n",
       "0           189.5        61.88      3.75       28.88      24.38   55.0  35.12   \n",
       "\n",
       "   blacks  total_runs  \n",
       "0   19.88       110.0  "
      ]
     },
     "metadata": {},
     "output_type": "display_data"
    },
    {
     "name": "stdout",
     "output_type": "stream",
     "text": [
      "\n",
      "\u001b[1m Параметры отеля среднего класса, Андорра: \u001b[0m\n",
      "- цена за неделю проживания: 997.12;\n",
      "- спальных мест: 165;\n",
      "- высота над уровнем моря: 1800.0;\n",
      "- расстояние от отеля до подъёмника: 153.75;\n",
      "\n",
      "\n",
      "\u001b[1m Параметры курорта среднего класса, Андорра: \u001b[0m\n",
      "- километров трасс: 189.5;\n",
      "- конфигураций трасс: 110.0;\n",
      "- число подъёмников: 61.\n",
      "\n"
     ]
    }
   ],
   "source": [
    "tricky_describer(df_medium_hotels, 'andorra', 'среднего', 'Андорра:', 0)"
   ]
  },
  {
   "cell_type": "markdown",
   "metadata": {},
   "source": [
    "---\n",
    "#### 3.4.2 Параметры отеля среднего класса, Австрия"
   ]
  },
  {
   "cell_type": "code",
   "execution_count": 108,
   "metadata": {},
   "outputs": [
    {
     "data": {
      "text/html": [
       "<div>\n",
       "<style scoped>\n",
       "    .dataframe tbody tr th:only-of-type {\n",
       "        vertical-align: middle;\n",
       "    }\n",
       "\n",
       "    .dataframe tbody tr th {\n",
       "        vertical-align: top;\n",
       "    }\n",
       "\n",
       "    .dataframe thead th {\n",
       "        text-align: right;\n",
       "    }\n",
       "</style>\n",
       "<table border=\"1\" class=\"dataframe\">\n",
       "  <thead>\n",
       "    <tr style=\"text-align: right;\">\n",
       "      <th></th>\n",
       "      <th>country</th>\n",
       "      <th>price_per_week</th>\n",
       "      <th>sleeps</th>\n",
       "      <th>altitude_m</th>\n",
       "      <th>meters_from_lift</th>\n",
       "      <th>total_piste_km</th>\n",
       "      <th>total_lifts</th>\n",
       "      <th>gondolas</th>\n",
       "      <th>chairlifts</th>\n",
       "      <th>draglifts</th>\n",
       "      <th>blues</th>\n",
       "      <th>reds</th>\n",
       "      <th>blacks</th>\n",
       "      <th>total_runs</th>\n",
       "    </tr>\n",
       "  </thead>\n",
       "  <tbody>\n",
       "    <tr>\n",
       "      <th>1</th>\n",
       "      <td>austria</td>\n",
       "      <td>1073.22</td>\n",
       "      <td>102.73</td>\n",
       "      <td>987.0</td>\n",
       "      <td>222.24</td>\n",
       "      <td>178.84</td>\n",
       "      <td>55.73</td>\n",
       "      <td>10.9</td>\n",
       "      <td>20.24</td>\n",
       "      <td>24.08</td>\n",
       "      <td>40.41</td>\n",
       "      <td>41.59</td>\n",
       "      <td>10.02</td>\n",
       "      <td>92.02</td>\n",
       "    </tr>\n",
       "  </tbody>\n",
       "</table>\n",
       "</div>"
      ],
      "text/plain": [
       "   country  price_per_week  sleeps  altitude_m  meters_from_lift  \\\n",
       "1  austria         1073.22  102.73       987.0            222.24   \n",
       "\n",
       "   total_piste_km  total_lifts  gondolas  chairlifts  draglifts  blues   reds  \\\n",
       "1          178.84        55.73      10.9       20.24      24.08  40.41  41.59   \n",
       "\n",
       "   blacks  total_runs  \n",
       "1   10.02       92.02  "
      ]
     },
     "metadata": {},
     "output_type": "display_data"
    },
    {
     "name": "stdout",
     "output_type": "stream",
     "text": [
      "\n",
      "\u001b[1m Параметры отеля среднего класса, Австрия: \u001b[0m\n",
      "- цена за неделю проживания: 1073.22;\n",
      "- спальных мест: 102;\n",
      "- высота над уровнем моря: 987.0;\n",
      "- расстояние от отеля до подъёмника: 222.24;\n",
      "\n",
      "\n",
      "\u001b[1m Параметры курорта среднего класса, Австрия: \u001b[0m\n",
      "- километров трасс: 178.84;\n",
      "- конфигураций трасс: 92.02;\n",
      "- число подъёмников: 55.\n",
      "\n"
     ]
    }
   ],
   "source": [
    "tricky_describer(df_medium_hotels, 'austria', 'среднего', 'Австрия:', 1)"
   ]
  },
  {
   "cell_type": "markdown",
   "metadata": {},
   "source": [
    "---\n",
    "#### 3.4.3 Параметры отеля среднего класса, Финляндия"
   ]
  },
  {
   "cell_type": "code",
   "execution_count": 109,
   "metadata": {},
   "outputs": [
    {
     "data": {
      "text/html": [
       "<div>\n",
       "<style scoped>\n",
       "    .dataframe tbody tr th:only-of-type {\n",
       "        vertical-align: middle;\n",
       "    }\n",
       "\n",
       "    .dataframe tbody tr th {\n",
       "        vertical-align: top;\n",
       "    }\n",
       "\n",
       "    .dataframe thead th {\n",
       "        text-align: right;\n",
       "    }\n",
       "</style>\n",
       "<table border=\"1\" class=\"dataframe\">\n",
       "  <thead>\n",
       "    <tr style=\"text-align: right;\">\n",
       "      <th></th>\n",
       "      <th>country</th>\n",
       "      <th>price_per_week</th>\n",
       "      <th>sleeps</th>\n",
       "      <th>altitude_m</th>\n",
       "      <th>meters_from_lift</th>\n",
       "      <th>total_piste_km</th>\n",
       "      <th>total_lifts</th>\n",
       "      <th>gondolas</th>\n",
       "      <th>chairlifts</th>\n",
       "      <th>draglifts</th>\n",
       "      <th>blues</th>\n",
       "      <th>reds</th>\n",
       "      <th>blacks</th>\n",
       "      <th>total_runs</th>\n",
       "    </tr>\n",
       "  </thead>\n",
       "  <tbody>\n",
       "    <tr>\n",
       "      <th>2</th>\n",
       "      <td>finland</td>\n",
       "      <td>974.0</td>\n",
       "      <td>72.5</td>\n",
       "      <td>190.0</td>\n",
       "      <td>50.0</td>\n",
       "      <td>32.0</td>\n",
       "      <td>16.0</td>\n",
       "      <td>1.0</td>\n",
       "      <td>1.5</td>\n",
       "      <td>9.0</td>\n",
       "      <td>11.0</td>\n",
       "      <td>14.5</td>\n",
       "      <td>2.0</td>\n",
       "      <td>27.5</td>\n",
       "    </tr>\n",
       "  </tbody>\n",
       "</table>\n",
       "</div>"
      ],
      "text/plain": [
       "   country  price_per_week  sleeps  altitude_m  meters_from_lift  \\\n",
       "2  finland           974.0    72.5       190.0              50.0   \n",
       "\n",
       "   total_piste_km  total_lifts  gondolas  chairlifts  draglifts  blues  reds  \\\n",
       "2            32.0         16.0       1.0         1.5        9.0   11.0  14.5   \n",
       "\n",
       "   blacks  total_runs  \n",
       "2     2.0        27.5  "
      ]
     },
     "metadata": {},
     "output_type": "display_data"
    },
    {
     "name": "stdout",
     "output_type": "stream",
     "text": [
      "\n",
      "\u001b[1m Параметры отеля среднего класса, Финляндия: \u001b[0m\n",
      "- цена за неделю проживания: 974.0;\n",
      "- спальных мест: 72;\n",
      "- высота над уровнем моря: 190.0;\n",
      "- расстояние от отеля до подъёмника: 50.0;\n",
      "\n",
      "\n",
      "\u001b[1m Параметры курорта среднего класса, Финляндия: \u001b[0m\n",
      "- километров трасс: 32.0;\n",
      "- конфигураций трасс: 27.5;\n",
      "- число подъёмников: 16.\n",
      "\n"
     ]
    }
   ],
   "source": [
    "tricky_describer(df_medium_hotels, 'finland', 'среднего', 'Финляндия:', 2)"
   ]
  },
  {
   "cell_type": "markdown",
   "metadata": {},
   "source": [
    "---\n",
    "#### 3.4.4 Параметры отеля среднего класса, Франция"
   ]
  },
  {
   "cell_type": "code",
   "execution_count": 110,
   "metadata": {},
   "outputs": [
    {
     "data": {
      "text/html": [
       "<div>\n",
       "<style scoped>\n",
       "    .dataframe tbody tr th:only-of-type {\n",
       "        vertical-align: middle;\n",
       "    }\n",
       "\n",
       "    .dataframe tbody tr th {\n",
       "        vertical-align: top;\n",
       "    }\n",
       "\n",
       "    .dataframe thead th {\n",
       "        text-align: right;\n",
       "    }\n",
       "</style>\n",
       "<table border=\"1\" class=\"dataframe\">\n",
       "  <thead>\n",
       "    <tr style=\"text-align: right;\">\n",
       "      <th></th>\n",
       "      <th>country</th>\n",
       "      <th>price_per_week</th>\n",
       "      <th>sleeps</th>\n",
       "      <th>altitude_m</th>\n",
       "      <th>meters_from_lift</th>\n",
       "      <th>total_piste_km</th>\n",
       "      <th>total_lifts</th>\n",
       "      <th>gondolas</th>\n",
       "      <th>chairlifts</th>\n",
       "      <th>draglifts</th>\n",
       "      <th>blues</th>\n",
       "      <th>reds</th>\n",
       "      <th>blacks</th>\n",
       "      <th>total_runs</th>\n",
       "    </tr>\n",
       "  </thead>\n",
       "  <tbody>\n",
       "    <tr>\n",
       "      <th>3</th>\n",
       "      <td>france</td>\n",
       "      <td>1073.56</td>\n",
       "      <td>112.32</td>\n",
       "      <td>1848.16</td>\n",
       "      <td>168.4</td>\n",
       "      <td>278.6</td>\n",
       "      <td>87.52</td>\n",
       "      <td>10.52</td>\n",
       "      <td>36.84</td>\n",
       "      <td>38.92</td>\n",
       "      <td>55.6</td>\n",
       "      <td>48.96</td>\n",
       "      <td>24.72</td>\n",
       "      <td>129.28</td>\n",
       "    </tr>\n",
       "  </tbody>\n",
       "</table>\n",
       "</div>"
      ],
      "text/plain": [
       "  country  price_per_week  sleeps  altitude_m  meters_from_lift  \\\n",
       "3  france         1073.56  112.32     1848.16             168.4   \n",
       "\n",
       "   total_piste_km  total_lifts  gondolas  chairlifts  draglifts  blues   reds  \\\n",
       "3           278.6        87.52     10.52       36.84      38.92   55.6  48.96   \n",
       "\n",
       "   blacks  total_runs  \n",
       "3   24.72      129.28  "
      ]
     },
     "metadata": {},
     "output_type": "display_data"
    },
    {
     "name": "stdout",
     "output_type": "stream",
     "text": [
      "\n",
      "\u001b[1m Параметры отеля среднего класса, Франция: \u001b[0m\n",
      "- цена за неделю проживания: 1073.56;\n",
      "- спальных мест: 112;\n",
      "- высота над уровнем моря: 1848.16;\n",
      "- расстояние от отеля до подъёмника: 168.4;\n",
      "\n",
      "\n",
      "\u001b[1m Параметры курорта среднего класса, Франция: \u001b[0m\n",
      "- километров трасс: 278.6;\n",
      "- конфигураций трасс: 129.28;\n",
      "- число подъёмников: 87.\n",
      "\n"
     ]
    }
   ],
   "source": [
    "tricky_describer(df_medium_hotels, 'france', 'среднего', 'Франция:', 3)"
   ]
  },
  {
   "cell_type": "markdown",
   "metadata": {},
   "source": [
    "---\n",
    "#### 3.4.5 Параметры отеля среднего класса, Италия"
   ]
  },
  {
   "cell_type": "code",
   "execution_count": 111,
   "metadata": {},
   "outputs": [
    {
     "data": {
      "text/html": [
       "<div>\n",
       "<style scoped>\n",
       "    .dataframe tbody tr th:only-of-type {\n",
       "        vertical-align: middle;\n",
       "    }\n",
       "\n",
       "    .dataframe tbody tr th {\n",
       "        vertical-align: top;\n",
       "    }\n",
       "\n",
       "    .dataframe thead th {\n",
       "        text-align: right;\n",
       "    }\n",
       "</style>\n",
       "<table border=\"1\" class=\"dataframe\">\n",
       "  <thead>\n",
       "    <tr style=\"text-align: right;\">\n",
       "      <th></th>\n",
       "      <th>country</th>\n",
       "      <th>price_per_week</th>\n",
       "      <th>sleeps</th>\n",
       "      <th>altitude_m</th>\n",
       "      <th>meters_from_lift</th>\n",
       "      <th>total_piste_km</th>\n",
       "      <th>total_lifts</th>\n",
       "      <th>gondolas</th>\n",
       "      <th>chairlifts</th>\n",
       "      <th>draglifts</th>\n",
       "      <th>blues</th>\n",
       "      <th>reds</th>\n",
       "      <th>blacks</th>\n",
       "      <th>total_runs</th>\n",
       "    </tr>\n",
       "  </thead>\n",
       "  <tbody>\n",
       "    <tr>\n",
       "      <th>4</th>\n",
       "      <td>italy</td>\n",
       "      <td>1012.97</td>\n",
       "      <td>104.19</td>\n",
       "      <td>1594.28</td>\n",
       "      <td>272.56</td>\n",
       "      <td>162.72</td>\n",
       "      <td>49.62</td>\n",
       "      <td>7.56</td>\n",
       "      <td>22.81</td>\n",
       "      <td>18.28</td>\n",
       "      <td>24.62</td>\n",
       "      <td>30.09</td>\n",
       "      <td>9.34</td>\n",
       "      <td>64.06</td>\n",
       "    </tr>\n",
       "  </tbody>\n",
       "</table>\n",
       "</div>"
      ],
      "text/plain": [
       "  country  price_per_week  sleeps  altitude_m  meters_from_lift  \\\n",
       "4   italy         1012.97  104.19     1594.28            272.56   \n",
       "\n",
       "   total_piste_km  total_lifts  gondolas  chairlifts  draglifts  blues   reds  \\\n",
       "4          162.72        49.62      7.56       22.81      18.28  24.62  30.09   \n",
       "\n",
       "   blacks  total_runs  \n",
       "4    9.34       64.06  "
      ]
     },
     "metadata": {},
     "output_type": "display_data"
    },
    {
     "name": "stdout",
     "output_type": "stream",
     "text": [
      "\n",
      "\u001b[1m Параметры отеля среднего класса, Италия: \u001b[0m\n",
      "- цена за неделю проживания: 1012.97;\n",
      "- спальных мест: 104;\n",
      "- высота над уровнем моря: 1594.28;\n",
      "- расстояние от отеля до подъёмника: 272.56;\n",
      "\n",
      "\n",
      "\u001b[1m Параметры курорта среднего класса, Италия: \u001b[0m\n",
      "- километров трасс: 162.72;\n",
      "- конфигураций трасс: 64.06;\n",
      "- число подъёмников: 49.\n",
      "\n"
     ]
    }
   ],
   "source": [
    "tricky_describer(df_medium_hotels, 'italy', 'среднего', 'Италия:', 4)"
   ]
  },
  {
   "cell_type": "markdown",
   "metadata": {},
   "source": [
    "<a id='port_countries_premium'> </a>\n",
    "\n",
    "---\n",
    "> ### 3.5 Параметры отелей премиум класса в разных странах\n",
    "\n",
    "Сгруппируем данные и взглянем на показатели:"
   ]
  },
  {
   "cell_type": "code",
   "execution_count": 112,
   "metadata": {
    "scrolled": true
   },
   "outputs": [
    {
     "data": {
      "text/html": [
       "<div>\n",
       "<style scoped>\n",
       "    .dataframe tbody tr th:only-of-type {\n",
       "        vertical-align: middle;\n",
       "    }\n",
       "\n",
       "    .dataframe tbody tr th {\n",
       "        vertical-align: top;\n",
       "    }\n",
       "\n",
       "    .dataframe thead th {\n",
       "        text-align: right;\n",
       "    }\n",
       "</style>\n",
       "<table border=\"1\" class=\"dataframe\">\n",
       "  <thead>\n",
       "    <tr style=\"text-align: right;\">\n",
       "      <th></th>\n",
       "      <th>country</th>\n",
       "      <th>price_per_week</th>\n",
       "      <th>sleeps</th>\n",
       "      <th>altitude_m</th>\n",
       "      <th>meters_from_lift</th>\n",
       "      <th>total_piste_km</th>\n",
       "      <th>total_lifts</th>\n",
       "      <th>gondolas</th>\n",
       "      <th>chairlifts</th>\n",
       "      <th>draglifts</th>\n",
       "      <th>blues</th>\n",
       "      <th>reds</th>\n",
       "      <th>blacks</th>\n",
       "      <th>total_runs</th>\n",
       "    </tr>\n",
       "  </thead>\n",
       "  <tbody>\n",
       "    <tr>\n",
       "      <th>0</th>\n",
       "      <td>andorra</td>\n",
       "      <td>1824.00</td>\n",
       "      <td>240.00</td>\n",
       "      <td>1800.00</td>\n",
       "      <td>200.00</td>\n",
       "      <td>210.00</td>\n",
       "      <td>67.00</td>\n",
       "      <td>4.00</td>\n",
       "      <td>32.00</td>\n",
       "      <td>26.00</td>\n",
       "      <td>63.00</td>\n",
       "      <td>38.00</td>\n",
       "      <td>22.00</td>\n",
       "      <td>123.00</td>\n",
       "    </tr>\n",
       "    <tr>\n",
       "      <th>1</th>\n",
       "      <td>austria</td>\n",
       "      <td>1439.61</td>\n",
       "      <td>109.71</td>\n",
       "      <td>1331.66</td>\n",
       "      <td>269.19</td>\n",
       "      <td>205.37</td>\n",
       "      <td>56.42</td>\n",
       "      <td>11.06</td>\n",
       "      <td>25.23</td>\n",
       "      <td>19.45</td>\n",
       "      <td>52.69</td>\n",
       "      <td>54.23</td>\n",
       "      <td>17.95</td>\n",
       "      <td>124.87</td>\n",
       "    </tr>\n",
       "    <tr>\n",
       "      <th>2</th>\n",
       "      <td>france</td>\n",
       "      <td>1429.23</td>\n",
       "      <td>139.14</td>\n",
       "      <td>1806.91</td>\n",
       "      <td>183.41</td>\n",
       "      <td>271.05</td>\n",
       "      <td>79.55</td>\n",
       "      <td>9.18</td>\n",
       "      <td>33.68</td>\n",
       "      <td>34.41</td>\n",
       "      <td>55.18</td>\n",
       "      <td>56.23</td>\n",
       "      <td>22.00</td>\n",
       "      <td>133.41</td>\n",
       "    </tr>\n",
       "    <tr>\n",
       "      <th>3</th>\n",
       "      <td>italy</td>\n",
       "      <td>1366.08</td>\n",
       "      <td>95.75</td>\n",
       "      <td>1497.25</td>\n",
       "      <td>190.00</td>\n",
       "      <td>206.92</td>\n",
       "      <td>52.92</td>\n",
       "      <td>12.17</td>\n",
       "      <td>23.17</td>\n",
       "      <td>17.08</td>\n",
       "      <td>25.00</td>\n",
       "      <td>30.33</td>\n",
       "      <td>9.00</td>\n",
       "      <td>64.33</td>\n",
       "    </tr>\n",
       "  </tbody>\n",
       "</table>\n",
       "</div>"
      ],
      "text/plain": [
       "   country  price_per_week  sleeps  altitude_m  meters_from_lift  \\\n",
       "0  andorra         1824.00  240.00     1800.00            200.00   \n",
       "1  austria         1439.61  109.71     1331.66            269.19   \n",
       "2   france         1429.23  139.14     1806.91            183.41   \n",
       "3    italy         1366.08   95.75     1497.25            190.00   \n",
       "\n",
       "   total_piste_km  total_lifts  gondolas  chairlifts  draglifts  blues   reds  \\\n",
       "0          210.00        67.00      4.00       32.00      26.00  63.00  38.00   \n",
       "1          205.37        56.42     11.06       25.23      19.45  52.69  54.23   \n",
       "2          271.05        79.55      9.18       33.68      34.41  55.18  56.23   \n",
       "3          206.92        52.92     12.17       23.17      17.08  25.00  30.33   \n",
       "\n",
       "   blacks  total_runs  \n",
       "0   22.00      123.00  \n",
       "1   17.95      124.87  \n",
       "2   22.00      133.41  \n",
       "3    9.00       64.33  "
      ]
     },
     "execution_count": 112,
     "metadata": {},
     "output_type": "execute_result"
    }
   ],
   "source": [
    "df_premium_hotels = round(df[df['class'] == 'премиум'].groupby('country').mean(), 2).reset_index()\n",
    "df_premium_hotels"
   ]
  },
  {
   "cell_type": "markdown",
   "metadata": {},
   "source": [
    "В премиальном классе мы снова видим **очень разные цифры по всем показателям**, особенно бросается в глаза количество спальных мест. У некоторых стран могут быть сопоставимы какие-то значения, например, стоимость за неделю проживания в отелях Австрии и Франции, или высота над уровнем моря отелей Андорры и Франции, но это никак не коррелирует между собой. Так же, следует указать, что отели Финляндии и Болгарии не представлены в этом сегменте.\n",
    "\n",
    "Выведем портреты премиальных отелей."
   ]
  },
  {
   "cell_type": "markdown",
   "metadata": {},
   "source": [
    "---\n",
    "#### 3.5.1 Параметры отеля премиум-класса, Андорра"
   ]
  },
  {
   "cell_type": "code",
   "execution_count": 113,
   "metadata": {},
   "outputs": [
    {
     "data": {
      "text/html": [
       "<div>\n",
       "<style scoped>\n",
       "    .dataframe tbody tr th:only-of-type {\n",
       "        vertical-align: middle;\n",
       "    }\n",
       "\n",
       "    .dataframe tbody tr th {\n",
       "        vertical-align: top;\n",
       "    }\n",
       "\n",
       "    .dataframe thead th {\n",
       "        text-align: right;\n",
       "    }\n",
       "</style>\n",
       "<table border=\"1\" class=\"dataframe\">\n",
       "  <thead>\n",
       "    <tr style=\"text-align: right;\">\n",
       "      <th></th>\n",
       "      <th>country</th>\n",
       "      <th>price_per_week</th>\n",
       "      <th>sleeps</th>\n",
       "      <th>altitude_m</th>\n",
       "      <th>meters_from_lift</th>\n",
       "      <th>total_piste_km</th>\n",
       "      <th>total_lifts</th>\n",
       "      <th>gondolas</th>\n",
       "      <th>chairlifts</th>\n",
       "      <th>draglifts</th>\n",
       "      <th>blues</th>\n",
       "      <th>reds</th>\n",
       "      <th>blacks</th>\n",
       "      <th>total_runs</th>\n",
       "    </tr>\n",
       "  </thead>\n",
       "  <tbody>\n",
       "    <tr>\n",
       "      <th>0</th>\n",
       "      <td>andorra</td>\n",
       "      <td>1824.0</td>\n",
       "      <td>240.0</td>\n",
       "      <td>1800.0</td>\n",
       "      <td>200.0</td>\n",
       "      <td>210.0</td>\n",
       "      <td>67.0</td>\n",
       "      <td>4.0</td>\n",
       "      <td>32.0</td>\n",
       "      <td>26.0</td>\n",
       "      <td>63.0</td>\n",
       "      <td>38.0</td>\n",
       "      <td>22.0</td>\n",
       "      <td>123.0</td>\n",
       "    </tr>\n",
       "  </tbody>\n",
       "</table>\n",
       "</div>"
      ],
      "text/plain": [
       "   country  price_per_week  sleeps  altitude_m  meters_from_lift  \\\n",
       "0  andorra          1824.0   240.0      1800.0             200.0   \n",
       "\n",
       "   total_piste_km  total_lifts  gondolas  chairlifts  draglifts  blues  reds  \\\n",
       "0           210.0         67.0       4.0        32.0       26.0   63.0  38.0   \n",
       "\n",
       "   blacks  total_runs  \n",
       "0    22.0       123.0  "
      ]
     },
     "metadata": {},
     "output_type": "display_data"
    },
    {
     "name": "stdout",
     "output_type": "stream",
     "text": [
      "\n",
      "\u001b[1m Параметры отеля премиального класса, Андорра: \u001b[0m\n",
      "- цена за неделю проживания: 1824.0;\n",
      "- спальных мест: 240;\n",
      "- высота над уровнем моря: 1800.0;\n",
      "- расстояние от отеля до подъёмника: 200.0;\n",
      "\n",
      "\n",
      "\u001b[1m Параметры курорта премиального класса, Андорра: \u001b[0m\n",
      "- километров трасс: 210.0;\n",
      "- конфигураций трасс: 123.0;\n",
      "- число подъёмников: 67.\n",
      "\n"
     ]
    }
   ],
   "source": [
    "tricky_describer(df_premium_hotels, 'andorra', 'премиального', 'Андорра:', 0)"
   ]
  },
  {
   "cell_type": "markdown",
   "metadata": {},
   "source": [
    "---\n",
    "#### 3.5.2 Параметры отеля премиум-класса, Австрия"
   ]
  },
  {
   "cell_type": "code",
   "execution_count": 114,
   "metadata": {},
   "outputs": [
    {
     "data": {
      "text/html": [
       "<div>\n",
       "<style scoped>\n",
       "    .dataframe tbody tr th:only-of-type {\n",
       "        vertical-align: middle;\n",
       "    }\n",
       "\n",
       "    .dataframe tbody tr th {\n",
       "        vertical-align: top;\n",
       "    }\n",
       "\n",
       "    .dataframe thead th {\n",
       "        text-align: right;\n",
       "    }\n",
       "</style>\n",
       "<table border=\"1\" class=\"dataframe\">\n",
       "  <thead>\n",
       "    <tr style=\"text-align: right;\">\n",
       "      <th></th>\n",
       "      <th>country</th>\n",
       "      <th>price_per_week</th>\n",
       "      <th>sleeps</th>\n",
       "      <th>altitude_m</th>\n",
       "      <th>meters_from_lift</th>\n",
       "      <th>total_piste_km</th>\n",
       "      <th>total_lifts</th>\n",
       "      <th>gondolas</th>\n",
       "      <th>chairlifts</th>\n",
       "      <th>draglifts</th>\n",
       "      <th>blues</th>\n",
       "      <th>reds</th>\n",
       "      <th>blacks</th>\n",
       "      <th>total_runs</th>\n",
       "    </tr>\n",
       "  </thead>\n",
       "  <tbody>\n",
       "    <tr>\n",
       "      <th>1</th>\n",
       "      <td>austria</td>\n",
       "      <td>1439.61</td>\n",
       "      <td>109.71</td>\n",
       "      <td>1331.66</td>\n",
       "      <td>269.19</td>\n",
       "      <td>205.37</td>\n",
       "      <td>56.42</td>\n",
       "      <td>11.06</td>\n",
       "      <td>25.23</td>\n",
       "      <td>19.45</td>\n",
       "      <td>52.69</td>\n",
       "      <td>54.23</td>\n",
       "      <td>17.95</td>\n",
       "      <td>124.87</td>\n",
       "    </tr>\n",
       "  </tbody>\n",
       "</table>\n",
       "</div>"
      ],
      "text/plain": [
       "   country  price_per_week  sleeps  altitude_m  meters_from_lift  \\\n",
       "1  austria         1439.61  109.71     1331.66            269.19   \n",
       "\n",
       "   total_piste_km  total_lifts  gondolas  chairlifts  draglifts  blues   reds  \\\n",
       "1          205.37        56.42     11.06       25.23      19.45  52.69  54.23   \n",
       "\n",
       "   blacks  total_runs  \n",
       "1   17.95      124.87  "
      ]
     },
     "metadata": {},
     "output_type": "display_data"
    },
    {
     "name": "stdout",
     "output_type": "stream",
     "text": [
      "\n",
      "\u001b[1m Параметры отеля премиального класса, Австрия: \u001b[0m\n",
      "- цена за неделю проживания: 1439.61;\n",
      "- спальных мест: 109;\n",
      "- высота над уровнем моря: 1331.66;\n",
      "- расстояние от отеля до подъёмника: 269.19;\n",
      "\n",
      "\n",
      "\u001b[1m Параметры курорта премиального класса, Австрия: \u001b[0m\n",
      "- километров трасс: 205.37;\n",
      "- конфигураций трасс: 124.87;\n",
      "- число подъёмников: 56.\n",
      "\n"
     ]
    }
   ],
   "source": [
    "tricky_describer(df_premium_hotels, 'austria', 'премиального', 'Австрия:', 1)"
   ]
  },
  {
   "cell_type": "markdown",
   "metadata": {},
   "source": [
    "---\n",
    "#### 3.5.3 Параметры отеля премиум-класса, Франция"
   ]
  },
  {
   "cell_type": "code",
   "execution_count": 115,
   "metadata": {},
   "outputs": [
    {
     "data": {
      "text/html": [
       "<div>\n",
       "<style scoped>\n",
       "    .dataframe tbody tr th:only-of-type {\n",
       "        vertical-align: middle;\n",
       "    }\n",
       "\n",
       "    .dataframe tbody tr th {\n",
       "        vertical-align: top;\n",
       "    }\n",
       "\n",
       "    .dataframe thead th {\n",
       "        text-align: right;\n",
       "    }\n",
       "</style>\n",
       "<table border=\"1\" class=\"dataframe\">\n",
       "  <thead>\n",
       "    <tr style=\"text-align: right;\">\n",
       "      <th></th>\n",
       "      <th>country</th>\n",
       "      <th>price_per_week</th>\n",
       "      <th>sleeps</th>\n",
       "      <th>altitude_m</th>\n",
       "      <th>meters_from_lift</th>\n",
       "      <th>total_piste_km</th>\n",
       "      <th>total_lifts</th>\n",
       "      <th>gondolas</th>\n",
       "      <th>chairlifts</th>\n",
       "      <th>draglifts</th>\n",
       "      <th>blues</th>\n",
       "      <th>reds</th>\n",
       "      <th>blacks</th>\n",
       "      <th>total_runs</th>\n",
       "    </tr>\n",
       "  </thead>\n",
       "  <tbody>\n",
       "    <tr>\n",
       "      <th>2</th>\n",
       "      <td>france</td>\n",
       "      <td>1429.23</td>\n",
       "      <td>139.14</td>\n",
       "      <td>1806.91</td>\n",
       "      <td>183.41</td>\n",
       "      <td>271.05</td>\n",
       "      <td>79.55</td>\n",
       "      <td>9.18</td>\n",
       "      <td>33.68</td>\n",
       "      <td>34.41</td>\n",
       "      <td>55.18</td>\n",
       "      <td>56.23</td>\n",
       "      <td>22.0</td>\n",
       "      <td>133.41</td>\n",
       "    </tr>\n",
       "  </tbody>\n",
       "</table>\n",
       "</div>"
      ],
      "text/plain": [
       "  country  price_per_week  sleeps  altitude_m  meters_from_lift  \\\n",
       "2  france         1429.23  139.14     1806.91            183.41   \n",
       "\n",
       "   total_piste_km  total_lifts  gondolas  chairlifts  draglifts  blues   reds  \\\n",
       "2          271.05        79.55      9.18       33.68      34.41  55.18  56.23   \n",
       "\n",
       "   blacks  total_runs  \n",
       "2    22.0      133.41  "
      ]
     },
     "metadata": {},
     "output_type": "display_data"
    },
    {
     "name": "stdout",
     "output_type": "stream",
     "text": [
      "\n",
      "\u001b[1m Параметры отеля премиального класса, Франция: \u001b[0m\n",
      "- цена за неделю проживания: 1429.23;\n",
      "- спальных мест: 139;\n",
      "- высота над уровнем моря: 1806.91;\n",
      "- расстояние от отеля до подъёмника: 183.41;\n",
      "\n",
      "\n",
      "\u001b[1m Параметры курорта премиального класса, Франция: \u001b[0m\n",
      "- километров трасс: 271.05;\n",
      "- конфигураций трасс: 133.41;\n",
      "- число подъёмников: 79.\n",
      "\n"
     ]
    }
   ],
   "source": [
    "tricky_describer(df_premium_hotels, 'france', 'премиального', 'Франция:', 2)"
   ]
  },
  {
   "cell_type": "markdown",
   "metadata": {},
   "source": [
    "---\n",
    "#### 3.5.4 Параметры отеля премиум-класса, Италия"
   ]
  },
  {
   "cell_type": "code",
   "execution_count": 116,
   "metadata": {},
   "outputs": [
    {
     "data": {
      "text/html": [
       "<div>\n",
       "<style scoped>\n",
       "    .dataframe tbody tr th:only-of-type {\n",
       "        vertical-align: middle;\n",
       "    }\n",
       "\n",
       "    .dataframe tbody tr th {\n",
       "        vertical-align: top;\n",
       "    }\n",
       "\n",
       "    .dataframe thead th {\n",
       "        text-align: right;\n",
       "    }\n",
       "</style>\n",
       "<table border=\"1\" class=\"dataframe\">\n",
       "  <thead>\n",
       "    <tr style=\"text-align: right;\">\n",
       "      <th></th>\n",
       "      <th>country</th>\n",
       "      <th>price_per_week</th>\n",
       "      <th>sleeps</th>\n",
       "      <th>altitude_m</th>\n",
       "      <th>meters_from_lift</th>\n",
       "      <th>total_piste_km</th>\n",
       "      <th>total_lifts</th>\n",
       "      <th>gondolas</th>\n",
       "      <th>chairlifts</th>\n",
       "      <th>draglifts</th>\n",
       "      <th>blues</th>\n",
       "      <th>reds</th>\n",
       "      <th>blacks</th>\n",
       "      <th>total_runs</th>\n",
       "    </tr>\n",
       "  </thead>\n",
       "  <tbody>\n",
       "    <tr>\n",
       "      <th>3</th>\n",
       "      <td>italy</td>\n",
       "      <td>1366.08</td>\n",
       "      <td>95.75</td>\n",
       "      <td>1497.25</td>\n",
       "      <td>190.0</td>\n",
       "      <td>206.92</td>\n",
       "      <td>52.92</td>\n",
       "      <td>12.17</td>\n",
       "      <td>23.17</td>\n",
       "      <td>17.08</td>\n",
       "      <td>25.0</td>\n",
       "      <td>30.33</td>\n",
       "      <td>9.0</td>\n",
       "      <td>64.33</td>\n",
       "    </tr>\n",
       "  </tbody>\n",
       "</table>\n",
       "</div>"
      ],
      "text/plain": [
       "  country  price_per_week  sleeps  altitude_m  meters_from_lift  \\\n",
       "3   italy         1366.08   95.75     1497.25             190.0   \n",
       "\n",
       "   total_piste_km  total_lifts  gondolas  chairlifts  draglifts  blues   reds  \\\n",
       "3          206.92        52.92     12.17       23.17      17.08   25.0  30.33   \n",
       "\n",
       "   blacks  total_runs  \n",
       "3     9.0       64.33  "
      ]
     },
     "metadata": {},
     "output_type": "display_data"
    },
    {
     "name": "stdout",
     "output_type": "stream",
     "text": [
      "\n",
      "\u001b[1m Параметры отеля премиального класса, Италия: \u001b[0m\n",
      "- цена за неделю проживания: 1366.08;\n",
      "- спальных мест: 95;\n",
      "- высота над уровнем моря: 1497.25;\n",
      "- расстояние от отеля до подъёмника: 190.0;\n",
      "\n",
      "\n",
      "\u001b[1m Параметры курорта премиального класса, Италия: \u001b[0m\n",
      "- километров трасс: 206.92;\n",
      "- конфигураций трасс: 64.33;\n",
      "- число подъёмников: 52.\n",
      "\n"
     ]
    }
   ],
   "source": [
    "tricky_describer(df_premium_hotels, 'italy', 'премиального', 'Италия:', 3)"
   ]
  },
  {
   "cell_type": "markdown",
   "metadata": {},
   "source": [
    "<a id='port_mean_medium_comparison'> </a>\n",
    "\n",
    "---\n",
    "> ### 3.6 Сравнение \"среднего отеля\" и \"отеля среднего класса\"\n",
    "\n",
    "Интересно взглянуть на различия в показателях этих двух категорий. Соедним их в один датафрейм:"
   ]
  },
  {
   "cell_type": "code",
   "execution_count": 117,
   "metadata": {},
   "outputs": [],
   "source": [
    "mean_hotel.insert(0, 'class', ['средний отель'])\n",
    "\n",
    "medium_hotel = df_classes[df_classes['class'] == 'средний']\n",
    "medium_hotel['class'] = medium_hotel['class'].replace('средний', 'отель среднего класса') \n",
    "\n",
    "df_mean_vs_medium = mean_hotel.append(medium_hotel)"
   ]
  },
  {
   "cell_type": "code",
   "execution_count": 118,
   "metadata": {},
   "outputs": [
    {
     "data": {
      "text/html": [
       "<style  type=\"text/css\" >\n",
       "    #T_9d5f8122_7975_11ed_afb3_ec55f9ceb9c8row0_col4 {\n",
       "            background-color:  #ffffbb;\n",
       "        }    #T_9d5f8122_7975_11ed_afb3_ec55f9ceb9c8row1_col4 {\n",
       "            background-color:  #ffffbb;\n",
       "        }</style>  \n",
       "<table id=\"T_9d5f8122_7975_11ed_afb3_ec55f9ceb9c8\" > \n",
       "<thead>    <tr> \n",
       "        <th class=\"index_name level0\" >index</th> \n",
       "        <th class=\"col_heading level0 col0\" >class</th> \n",
       "        <th class=\"col_heading level0 col1\" >price_per_week</th> \n",
       "        <th class=\"col_heading level0 col2\" >sleeps</th> \n",
       "        <th class=\"col_heading level0 col3\" >altitude_m</th> \n",
       "        <th class=\"col_heading level0 col4\" >meters_from_lift</th> \n",
       "        <th class=\"col_heading level0 col5\" >total_piste_km</th> \n",
       "        <th class=\"col_heading level0 col6\" >total_lifts</th> \n",
       "        <th class=\"col_heading level0 col7\" >gondolas</th> \n",
       "        <th class=\"col_heading level0 col8\" >chairlifts</th> \n",
       "        <th class=\"col_heading level0 col9\" >draglifts</th> \n",
       "        <th class=\"col_heading level0 col10\" >blues</th> \n",
       "        <th class=\"col_heading level0 col11\" >reds</th> \n",
       "        <th class=\"col_heading level0 col12\" >blacks</th> \n",
       "        <th class=\"col_heading level0 col13\" >total_runs</th> \n",
       "    </tr></thead> \n",
       "<tbody>    <tr> \n",
       "        <th id=\"T_9d5f8122_7975_11ed_afb3_ec55f9ceb9c8level0_row0\" class=\"row_heading level0 row0\" >0</th> \n",
       "        <td id=\"T_9d5f8122_7975_11ed_afb3_ec55f9ceb9c8row0_col0\" class=\"data row0 col0\" >средний отель</td> \n",
       "        <td id=\"T_9d5f8122_7975_11ed_afb3_ec55f9ceb9c8row0_col1\" class=\"data row0 col1\" >1069.73</td> \n",
       "        <td id=\"T_9d5f8122_7975_11ed_afb3_ec55f9ceb9c8row0_col2\" class=\"data row0 col2\" >103.98</td> \n",
       "        <td id=\"T_9d5f8122_7975_11ed_afb3_ec55f9ceb9c8row0_col3\" class=\"data row0 col3\" >1401.19</td> \n",
       "        <td id=\"T_9d5f8122_7975_11ed_afb3_ec55f9ceb9c8row0_col4\" class=\"data row0 col4\" >245.43</td> \n",
       "        <td id=\"T_9d5f8122_7975_11ed_afb3_ec55f9ceb9c8row0_col5\" class=\"data row0 col5\" >189.66</td> \n",
       "        <td id=\"T_9d5f8122_7975_11ed_afb3_ec55f9ceb9c8row0_col6\" class=\"data row0 col6\" >56.69</td> \n",
       "        <td id=\"T_9d5f8122_7975_11ed_afb3_ec55f9ceb9c8row0_col7\" class=\"data row0 col7\" >8.35</td> \n",
       "        <td id=\"T_9d5f8122_7975_11ed_afb3_ec55f9ceb9c8row0_col8\" class=\"data row0 col8\" >23.6</td> \n",
       "        <td id=\"T_9d5f8122_7975_11ed_afb3_ec55f9ceb9c8row0_col9\" class=\"data row0 col9\" >23.61</td> \n",
       "        <td id=\"T_9d5f8122_7975_11ed_afb3_ec55f9ceb9c8row0_col10\" class=\"data row0 col10\" >37.68</td> \n",
       "        <td id=\"T_9d5f8122_7975_11ed_afb3_ec55f9ceb9c8row0_col11\" class=\"data row0 col11\" >41.15</td> \n",
       "        <td id=\"T_9d5f8122_7975_11ed_afb3_ec55f9ceb9c8row0_col12\" class=\"data row0 col12\" >13.84</td> \n",
       "        <td id=\"T_9d5f8122_7975_11ed_afb3_ec55f9ceb9c8row0_col13\" class=\"data row0 col13\" >92.68</td> \n",
       "    </tr>    <tr> \n",
       "        <th id=\"T_9d5f8122_7975_11ed_afb3_ec55f9ceb9c8level0_row1\" class=\"row_heading level0 row1\" >1</th> \n",
       "        <td id=\"T_9d5f8122_7975_11ed_afb3_ec55f9ceb9c8row1_col0\" class=\"data row1 col0\" >отель среднего класса</td> \n",
       "        <td id=\"T_9d5f8122_7975_11ed_afb3_ec55f9ceb9c8row1_col1\" class=\"data row1 col1\" >1049.72</td> \n",
       "        <td id=\"T_9d5f8122_7975_11ed_afb3_ec55f9ceb9c8row1_col2\" class=\"data row1 col2\" >109.03</td> \n",
       "        <td id=\"T_9d5f8122_7975_11ed_afb3_ec55f9ceb9c8row1_col3\" class=\"data row1 col3\" >1382.45</td> \n",
       "        <td id=\"T_9d5f8122_7975_11ed_afb3_ec55f9ceb9c8row1_col4\" class=\"data row1 col4\" >216.83</td> \n",
       "        <td id=\"T_9d5f8122_7975_11ed_afb3_ec55f9ceb9c8row1_col5\" class=\"data row1 col5\" >194.09</td> \n",
       "        <td id=\"T_9d5f8122_7975_11ed_afb3_ec55f9ceb9c8row1_col6\" class=\"data row1 col6\" >60.64</td> \n",
       "        <td id=\"T_9d5f8122_7975_11ed_afb3_ec55f9ceb9c8row1_col7\" class=\"data row1 col7\" >9.23</td> \n",
       "        <td id=\"T_9d5f8122_7975_11ed_afb3_ec55f9ceb9c8row1_col8\" class=\"data row1 col8\" >24.8</td> \n",
       "        <td id=\"T_9d5f8122_7975_11ed_afb3_ec55f9ceb9c8row1_col9\" class=\"data row1 col9\" >25.44</td> \n",
       "        <td id=\"T_9d5f8122_7975_11ed_afb3_ec55f9ceb9c8row1_col10\" class=\"data row1 col10\" >39.83</td> \n",
       "        <td id=\"T_9d5f8122_7975_11ed_afb3_ec55f9ceb9c8row1_col11\" class=\"data row1 col11\" >39.09</td> \n",
       "        <td id=\"T_9d5f8122_7975_11ed_afb3_ec55f9ceb9c8row1_col12\" class=\"data row1 col12\" >13.54</td> \n",
       "        <td id=\"T_9d5f8122_7975_11ed_afb3_ec55f9ceb9c8row1_col13\" class=\"data row1 col13\" >92.47</td> \n",
       "    </tr></tbody> \n",
       "</table> "
      ],
      "text/plain": [
       "<pandas.io.formats.style.Styler at 0xb510908>"
      ]
     },
     "execution_count": 118,
     "metadata": {},
     "output_type": "execute_result"
    }
   ],
   "source": [
    "df_mean_vs_medium.style.set_properties(**{'background-color':'#ffffbb'}, subset=['meters_from_lift'])"
   ]
  },
  {
   "cell_type": "markdown",
   "metadata": {},
   "source": [
    "В целом, **показатели очень похожи**, более-менее значительно различаются лишь расстояния до подъёмников. Немного подготовим данные и посмотрим на график:"
   ]
  },
  {
   "cell_type": "code",
   "execution_count": 119,
   "metadata": {},
   "outputs": [],
   "source": [
    "df_mean_vs_medium_plot = df_mean_vs_medium[['price_per_week','sleeps','altitude_m','meters_from_lift',\n",
    "                                                 'total_piste_km','total_lifts','total_runs']].T.reset_index()\n",
    "df_mean_vs_medium_plot.columns = ['index', 'mean_hotel', 'medium_hotel']"
   ]
  },
  {
   "cell_type": "code",
   "execution_count": 120,
   "metadata": {
    "scrolled": false
   },
   "outputs": [
    {
     "data": {
      "image/png": "[encoded data removed]",
      "text/plain": [
       "<Figure size 1080x432 with 1 Axes>"
      ]
     },
     "metadata": {
      "needs_background": "light"
     },
     "output_type": "display_data"
    }
   ],
   "source": [
    "plt.figure(figsize=(15, 6))\n",
    "sns.lineplot(data=df_mean_vs_medium_plot, x='index', y='mean_hotel', \\\n",
    "             color='#7777bb', marker=\"o\", label='Средний отель')\n",
    "sns.lineplot(data=df_mean_vs_medium_plot, x='index', y='medium_hotel', \\\n",
    "             color='#eeaa44', marker=\"o\", label='Отель среднего класса')\n",
    "plt.title('Сравнение \"среднего отеля\" и \"отеля среднего класса\" по ключевым показателям', fontsize=20, pad=15)\n",
    "plt.xlabel('Показатель', fontsize=15, color='#888888')\n",
    "plt.ylabel('Уровень', fontsize=15, color='#888888')\n",
    "plt.tick_params(axis='both', labelsize=12)\n",
    "plt.legend(fontsize='x-large')\n",
    "plt.grid(axis='x', alpha=0.3);"
   ]
  },
  {
   "cell_type": "markdown",
   "metadata": {},
   "source": [
    "Графически разница совсем минимальна."
   ]
  },
  {
   "cell_type": "markdown",
   "metadata": {},
   "source": [
    "<a id='port_conclusion'> </a>\n",
    "\n",
    "---\n",
    "> **Выводы этапа определения параметров отелей**\n",
    "\n",
    "На этом этапе мы провели большую исследовательскую работу, изучив многие показатели. Выводы этапа таковы:\n",
    "\n",
    "**В бюджетном классе** есть значительные **различия во всех показателях**, например:\n",
    "- средняя стоимость в неделю в болгарских бюджетных отелях гораздо ниже, чем в остальных; \n",
    "- высота над уровнем моря в Финляндии почти в 9 раз меньше чем в Андорре;\n",
    "- различаются расстояния до подъёмников;\n",
    "- сильный разброс величин в протяжённости трасс;\n",
    "- разнятся количества подъёмников, типы спусков и общее количество трасс.\n",
    "\n",
    "**В среднем классе цены сопоставимы**, но в остальном разбросы величин значительны:\n",
    "- количество спальных мест в отелях Андорры гораздо выше, чем отелях остальных стран, а в Финляндии - значительно ниже;\n",
    "- велик разброс высот расположения отелей;\n",
    "- сильные различия в расстояниях до подъёмников;\n",
    "- заметен большой разброс значений в трассах - длина, количество и типы спусков;\n",
    "- значительная разница и в количестве и типах подъёмников.\n",
    "\n",
    "**В премиальном классе** мы снова увидели **очень разные цифры по всем показателям**, особенно количество спальных мест. У некоторых стран могут быть сопоставимы какие-то значения, например, стоимость за неделю проживания в отелях Австрии и Франции, или высота над уровнем моря отелей Андорры и Франции, но это никак не коррелирует между собой. Так же, следует указать, что отели Финляндии и Болгарии не представлены в этом сегменте.\n",
    "\n",
    "На последнем этапе мы провели **сравнение \"среднего отеля\" и \"отеля среднего класса\"**, где увидели, что их **портреты схожи**, значительная разница обнаружилась только в расстоянии до ближайшего подъёмника - 245.43 у \"среднего отеля\", и 216.83 - у \"отеля среднего класса\"."
   ]
  },
  {
   "cell_type": "markdown",
   "metadata": {},
   "source": [
    "<a id='hypothesis'> </a>\n",
    "\n",
    "<hr style='border: 2px solid #eeeeee'>\n",
    "\n",
    "## <center> 4. Проверка статистической гипотезы </center>\n",
    "\n",
    "Учитывая запрос заказчика на составление портрета \"среднего отеля\", и результаты нашего исследования, в котором мы дополнительно получили параметры \"отеля среднего класса\", **сформулируем гипотезу Но: \"Цены \"среднего отеля\" и \"отеля среднего класса\" не различаются\"**. Тогда альтернативная гипотеза: \"Цены \"среднего отеля\" и \"отеля среднего класса\" различаются\".\n",
    "\n",
    "Сгруппируем данные и **проведём тест Манна-Уитни** - он устойчивее к выбросам и к форме распределения, а также имеет большую мощность, чем t-test. Уровень статистической значимости установим классический, 0.05:"
   ]
  },
  {
   "cell_type": "code",
   "execution_count": 121,
   "metadata": {},
   "outputs": [],
   "source": [
    "mean_hotel_hypothetical = df['price_per_week']\n",
    "medium_hotel_hypothetical = df[df['class'] == 'средний']['price_per_week']"
   ]
  },
  {
   "cell_type": "code",
   "execution_count": 122,
   "metadata": {},
   "outputs": [
    {
     "name": "stdout",
     "output_type": "stream",
     "text": [
      "p-значение:  0.20273971539155727\n",
      "Не получилось отвергнуть нулевую гипотезу: нет статистически значимой разницы\n"
     ]
    }
   ],
   "source": [
    "alpha = 0.05\n",
    "results = st.mannwhitneyu(mean_hotel_hypothetical, medium_hotel_hypothetical)\n",
    "p_value = results.pvalue\n",
    "\n",
    "print('p-значение: ', p_value)\n",
    "if p_value < alpha:\n",
    "    print('Отвергаем нулевую гипотезу: разница статистически значима')\n",
    "else:\n",
    "    print('Не получилось отвергнуть нулевую гипотезу: нет статистически значимой разницы')"
   ]
  },
  {
   "cell_type": "markdown",
   "metadata": {},
   "source": [
    "Мы видим что p-value больше значения alpha, что позволяет сказать, что **данные не противоречат нулевой гипотезе - не отвергаем**."
   ]
  },
  {
   "cell_type": "markdown",
   "metadata": {},
   "source": [
    "<a id='conclusion'> </a>\n",
    "\n",
    "<hr style='border: 2px solid #eeeeee'>\n",
    "\n",
    "## <center> Выводы исследования </center>\n",
    "\n",
    "Перед нами стояло немало задач, которые мы смогли выполнить в процессе работы с предоставленными файлами.\n",
    "\n",
    "**1.** Мы получили данные и ознакомились с ними, выполнили **предобработку данных**, а именно: загрузили данные и ознакомились с ними, заполнили пропуски, убрали неявный дубликат, изменили регистр названий столбцов и переименовали некоторые из них, заменили тип значений в нескольких столбцах.\n",
    "\n",
    "---\n",
    "\n",
    "**2.** Затем мы провели **исследовательский анализ данных**, в ходе которого ознакомились с числовыми описаниями данных, графиками и распределениями, избавились от выбросов. Выводы, получение от изучения данных таковы:\n",
    "- **Количество отелей в странах** распределено таким образом: Австрия 169, Италия 104, Франция 77, Андорра 29, Финляндия 16, Болгария 11;\n",
    "- **Среднее количество отелей на курорт** в странах: Андорра 9.6, Италия 4.9, Австрия 5.6, Болгария 3.6, Финляндия 3.2, Франция 2.5;\n",
    "- **Самые дорогие курорты**: courchevel-1650, Франция, 1775 фунтов за неделю проживания; hochgurgl, Австрия, 1755; les-menuires, Франция, 1636;\n",
    "- **Самые недорогие курорты**: bansko, Болгария, 662 фунтов за неделю; bardonecchia, Италия, 664; borovets, Болгария, 682;\n",
    "- **Медианы цен по странам**: Франция 1182 фунта за неделю; Австрия 1170; Финляндия 890; Италия 873.5; Андорра 814; Болгария 677;\n",
    "- Чаще всего **подъёмники расположены на расстоянии 1 километра от отеля**, в среднем - 277 метров, медиана - 200 метров;\n",
    "- Многие курорты предлагают **сотни километров трасс**; \n",
    "- **Средняя высота расположения курортов по странам**: Андорра 1834.48 метров; Франция 1733.25; Италия 1574.56; Болгария 1167.14; Австрия 1066.12; Финляндия 317.71;\n",
    "- **Медианы высот расположения курортов по странам**: Франция 1850; Андорра 1800; Италия 1550; Болгария 935; Австрия 870; Финляндия 200;\n",
    "- Средняя высота расположения курортов: 1363.23; медиана: 1448 метров;\n",
    "- **Средняя длина трасс в странах**: Франция 273.13 километра; Австрия 179.24; Италия 178.56; Андорра 168.07; Болгария 59.14; Финляндия 36.73;\n",
    "- **Медианы длинн трасс в странах**: Франция 250; Андорра 193; Австрия 175; Италия 140; Болгария 70; Финляндия 44;\n",
    "- Средняя длина трасс в датасете: 221.99 километров; медиана: 193;\n",
    "- Среднее количество подъёмников на курортах: 56; медиана: 56; больше всего подъёмников - на фрацузских bourg-st-maurice (171) и aime-la-plagne и belle-plagne (по 139); **на двух курортах нет подъёмников** - это ortisei-st-ulrich в Италии, hochgurgl и galtur в Австрии;\n",
    "- **Кресельные и канатные подъёмники наиболее распространены**, причём их средние (23.03 и 23.35) и медианы (по 21.00) сопоставимы. Гондоллы встречаются значительно реже - в среднем 8 гондолл на курорт;\n",
    "- Трассы низкой (blues) и средней (reds) опасности встречаются значительно чаще, чем максимально опасные спуски (blacks).\n",
    "- **Средний отель содержит 124 места** (медиана 84);\n",
    "- Матрица корреляций показала корреляцию склонов и подъёмников, а также осадков. \n",
    "\n",
    "---\n",
    "\n",
    "**3.** Затем мы приступили к **составлению портретов отелей**, для чего разделили их на три категории: **бюджетный, средний и премиум класс**. Первым мы определили параметры **среднего горнолыжного отеля** - что было ключевым запросом заказчика. Показатели его таковы:\n",
    "- **цена 1069.73** фунта за неделю проживания;\n",
    "- **103 спальных места**;\n",
    "- **высота над уровнем моря** - 1401.19 метров;\n",
    "- расстояние от отеля до подъёмника - 245.43 метра;\n",
    "- 189 километров трасс;\n",
    "- 92 конфигурации трасс;\n",
    "- 56 подъёмников.\n",
    "\n",
    "После этого мы составили портреты отелей бюджетного, среднего и премиум классов **без разделения по странам**, и получили следующие резултаты:\n",
    "**в отелях больших раличий нет**, кроме количества спальных мест в отелях - чем выше класс, тем больше мест, и средней дистанции до подъёмников (правда, этот показатель не коррелирует с ценой). Зато **есть значительные различия на курортах**:\n",
    "- **Длина трасс** короче на бюджетных - 158 км, на средних она выше - 194 км, и максимальна на премиальных курортах - 220;\n",
    "- **Количество подъёмников** минимально на бюджетных - 48, выше на средних - 60, и максимально на премиальных - 61:\n",
    "- **Типы подъёмников** различаются - на средних и премиальных курортах гондолл гораздо больше, чем на бюджетных, наличие кресельных подъёмников также коррелирует с классом отеля;\n",
    "- **Количество спусков** явно зависит от класса отеля - это касается как общего количества, так и каждого класса спуска.\n",
    "\n",
    "Далее мы подготовили портреты отелей бюджетного, среднего и премиум классов **для каждой страны**. \n",
    "\n",
    "**В бюджетном классе** есть значительные различия во всех показателях, например:\n",
    "- **средняя стоимость** в неделю в болгарских бюджетных отелях гораздо ниже, чем в остальных; \n",
    "- **высота над уровнем моря** в Финляндии почти в 9 раз меньше чем в Андорре;\n",
    "- различаются **расстояния до подъёмников**;\n",
    "- сильный разброс величин в **протяжённости трасс**;\n",
    "- разнятся количества подъёмников, типы спусков и общее количество трасс.\n",
    "\n",
    "**В среднем классе цены сопоставимы**, но в остальном разбросы величин значительны:\n",
    "- **количество спальных мест** в отелях Андорры гораздо выше, чем отелях остальных стран, а в Финляндии - значительно ниже;\n",
    "- **велик разброс высот расположения отелей**;\n",
    "- сильные **различия в расстояниях до подъёмников**;\n",
    "- заметен большой **разброс значений в трассах** - длина, количество и типы спусков;\n",
    "- значительная разница и в количестве и типах подъёмников.\n",
    "\n",
    "**В премиальном классе** мы снова увидели **очень разные цифры по всем показателям**, особенно количество спальных мест. У некоторых стран могут быть сопоставимы какие-то значения, например, стоимость за неделю проживания в отелях Австрии и Франции, или высота над уровнем моря отелей Андорры и Франции, но это никак не коррелирует между собой. Так же, следует указать, что отели Финляндии и Болгарии не представлены в этом сегменте.\n",
    "\n",
    "На последнем этапе мы провели **сравнение \"среднего отеля\" и \"отеля среднего класса\"**, где увидели, что их портреты **весьма схожи**, значительная разница обнаружилась только в расстоянии до ближайшего подъёмника - 245.43 у \"среднего отеля\", и 216.83 - у \"отеля среднего класса\".\n",
    "\n",
    "---\n",
    "\n",
    "**4.** Последним шагом работы была **проверка статистической гипотезы** об отсутствии разницы в ценах у \"среднего отеля\" и \"отеля среднего класса\", для чего провели тест Манна-Уитни. В результате проверки мы выяснили, что **данные не противоречат гипотезе об отсутствии разницы в ценах**."
   ]
  },
  {
   "cell_type": "markdown",
   "metadata": {},
   "source": [
    "---\n",
    "\n",
    "#### <center> Найденные инсайты и особенности </center>\n",
    "\n",
    "Главная обнаруженная особенность вполне ожидаема - тот самый **\"средний отель\" - это скорее предположение, чем данность**, потому что **разница между отелями среднего класса в каждой стране очень большая** - это касается не только цен, а вообще всех параметров. Заказчику стоит определиться, либо с классом отеля - и затем выбирать в какой стране его строить, либо со страной - и затем выбрать класс.\n",
    "\n",
    "Кроме того, данные распределены очень неравномерно - для **каждой страны очень разное количество отелей и курортов**.\n",
    "\n",
    "Обозначим следующие моменты:\n",
    "- чаще всего на курортах расположены спуски классов blues и reds, а blacks - наиболее редки;\n",
    "- 41.63% отелей в датасете расположены в Австрии;\n",
    "- в Андорре максимальное среднее количество отелей на курорт (9.67), что вдвое больше, чем у Италии, расположенной по этому показателю на втором месте;\n",
    "- французские и австрийские курорты - самые дорогие;\n",
    "- на курортах Болгарии в декабре не выпадает снег;\n",
    "- в среднем, подъёмники расположены недалеко от отелей - в пределах 300 метров;\n",
    "- Финские отели в среднем расположены гораздо ниже над уровнем моря, чем отели остальных стран;\n",
    "- цена отеля и длина трасс, как правило, не связаны между собой:\n",
    "- подъёмники типа \"гондолла\" встречаются в среднем втрое реже, чем кресельные и канатные."
   ]
  },
  {
   "cell_type": "markdown",
   "metadata": {},
   "source": [
    "---\n",
    "\n",
    "#### <center> Наши предложения </center>\n",
    "\n",
    "**Во Франции минимальное число отелей на курорт** - вероятно это хорошая возможность занять эту нишу. Кроме того, на французских курортах максимальная средняя длина трасс, большое число подъёмников, и разнообразные классы отелей. **Наше предложение на основе проведённого исследования - собрать информацию о возможности строительства отеля среднего класса во Франции**."
   ]
  },
  {
   "cell_type": "markdown",
   "metadata": {},
   "source": [
    "---\n",
    "\n",
    "#### <center> Ссылки </center>\n",
    "\n",
    "Итоговая презентация PDF: <https://disk.yandex.ru/i/ghamuTgkt8I2Gw>\n",
    "\n",
    "Дашборд Tableau: <https://public.tableau.com/views/Europeanresorts/Dashboard1?:language=en-US&:display_count=n&:origin=viz_share_link>"
   ]
  },
  {
   "cell_type": "markdown",
   "metadata": {},
   "source": [
    "<hr style='border: 2px solid #eeeeee'>\n",
    "\n",
    "### <center> О данной работе </center>\n",
    "\n",
    "Работу выполнил Александр Зотов, декабрь 2022 г.\n",
    "\n",
    "На Github проект отображается с отличиями от оригинала, выполненного в Jupiter.\n",
    "\n",
    "Датасет взят (и минимально отредактирован) по адресу <https://www.kaggle.com/datasets/jacklacey/skiing-hotels>, где он находится в свободном доступе.\n",
    "\n",
    "Цель выполнения работы - демонстрация владения инструментами Python, PowerPoint, Tableau."
   ]
  }
 ],
 "metadata": {
  "kernelspec": {
   "display_name": "Python 3",
   "language": "python",
   "name": "python3"
  },
  "language_info": {
   "codemirror_mode": {
    "name": "ipython",
    "version": 3
   },
   "file_extension": ".py",
   "mimetype": "text/x-python",
   "name": "python",
   "nbconvert_exporter": "python",
   "pygments_lexer": "ipython3",
   "version": "3.7.0"
  }
 },
 "nbformat": 4,
 "nbformat_minor": 2
}
